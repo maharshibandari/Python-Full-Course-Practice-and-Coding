{
 "cells": [
  {
   "cell_type": "code",
   "execution_count": 3,
   "id": "c855d73e-8ab8-405a-a30e-eda573c2d65e",
   "metadata": {},
   "outputs": [
    {
     "name": "stdout",
     "output_type": "stream",
     "text": [
      "-3\n",
      "3\n"
     ]
    }
   ],
   "source": [
    "# Wrte a program to convert the given integer into a positive integer and print it\n",
    "\n",
    "a = int(input())\n",
    "\n",
    "if a < 0:\n",
    "    a = a*(-1)\n",
    "print(a)"
   ]
  },
  {
   "cell_type": "code",
   "execution_count": 2,
   "id": "fe66263b",
   "metadata": {},
   "outputs": [
    {
     "name": "stdout",
     "output_type": "stream",
     "text": [
      "13\n",
      "17\n",
      "17\n"
     ]
    }
   ],
   "source": [
    "#Write a program to print greater number from two lines of input\n",
    "\n",
    "a = int(input())\n",
    "b = int(input())\n",
    "\n",
    "if a > b:\n",
    "    print(a)\n",
    "else:\n",
    "    print(b)"
   ]
  },
  {
   "cell_type": "code",
   "execution_count": 13,
   "id": "9dc9eb64",
   "metadata": {},
   "outputs": [
    {
     "name": "stdout",
     "output_type": "stream",
     "text": [
      "MAHARSHI\n",
      "M******I\n"
     ]
    }
   ],
   "source": [
    "#Write a program that read a single line of input and prints the first and last charecter of the given input and points the anterisk charecter(*) in the place of the remaining charecters\n",
    "\n",
    "word = input()\n",
    "\n",
    "first_letter = word[0]\n",
    "last_letter = word[len(word)-1]\n",
    "stars = len(word)-2\n",
    "\n",
    "print(first_letter + \"*\"*stars + last_letter)"
   ]
  },
  {
   "cell_type": "code",
   "execution_count": 5,
   "id": "0afcfca8",
   "metadata": {},
   "outputs": [
    {
     "name": "stdout",
     "output_type": "stream",
     "text": [
      "73\n",
      "True\n"
     ]
    }
   ],
   "source": [
    "#Write a program to check if the given two digit number is greater than 25 and its first digit is greater than its second digit\n",
    "\n",
    "number = int(input())\n",
    "\n",
    "is_greater = number > 25\n",
    "\n",
    "number = str(number)\n",
    "first_digit = int(number[0])\n",
    "second_digit = int(number[1])\n",
    "\n",
    "is_first_digit_greater = number[0] > number[1]\n",
    "\n",
    "result = (is_greater and is_first_digit_greater)\n",
    "\n",
    "print(result)"
   ]
  },
  {
   "cell_type": "code",
   "execution_count": 2,
   "id": "a4615407",
   "metadata": {},
   "outputs": [
    {
     "data": {
      "text/plain": [
       "'1'"
      ]
     },
     "execution_count": 2,
     "metadata": {},
     "output_type": "execute_result"
    }
   ],
   "source": [
    "number = str(137)\n",
    "number[0]"
   ]
  },
  {
   "cell_type": "code",
   "execution_count": 1,
   "id": "5f5990ec",
   "metadata": {},
   "outputs": [
    {
     "name": "stdout",
     "output_type": "stream",
     "text": [
      "1\n"
     ]
    }
   ],
   "source": [
    "#Modules Operator\n",
    "print(7 % 3)"
   ]
  },
  {
   "cell_type": "code",
   "execution_count": 4,
   "id": "e4a6cd41",
   "metadata": {},
   "outputs": [
    {
     "name": "stdout",
     "output_type": "stream",
     "text": [
      "999998\n",
      "Even Number\n"
     ]
    }
   ],
   "source": [
    "#Write a program that determines if the given number is \"Even\" or \"Odd\" number\n",
    "\n",
    "a = int(input())\n",
    "\n",
    "reminder = (a % 2)\n",
    "\n",
    "if reminder == 0:\n",
    "    print(\"Even Number\")\n",
    "else:\n",
    "    print(\"Odd Number\")"
   ]
  },
  {
   "cell_type": "code",
   "execution_count": 9,
   "id": "bfdc418f",
   "metadata": {},
   "outputs": [
    {
     "name": "stdout",
     "output_type": "stream",
     "text": [
      "343\n"
     ]
    }
   ],
   "source": [
    "#Exponent Operator\n",
    "\n",
    "print(7 ** 3)"
   ]
  },
  {
   "cell_type": "code",
   "execution_count": 8,
   "id": "69f17732",
   "metadata": {},
   "outputs": [
    {
     "name": "stdout",
     "output_type": "stream",
     "text": [
      "7\n",
      "3\n",
      "2187\n"
     ]
    }
   ],
   "source": [
    "#Given two integers a and b find the greatest among (a power b) and (b power a) and print the value\n",
    "\n",
    "a = int(input())\n",
    "b = int(input())\n",
    "\n",
    "a_power_b = (a ** b)\n",
    "b_power_a = (b ** a)\n",
    "\n",
    "is_greater = (a_power_b > b_power_a)\n",
    "\n",
    "if is_greater:\n",
    "    print(a_power_b)\n",
    "else:\n",
    "    print(b_power_a)"
   ]
  },
  {
   "cell_type": "code",
   "execution_count": 14,
   "id": "34117746",
   "metadata": {},
   "outputs": [
    {
     "name": "stdout",
     "output_type": "stream",
     "text": [
      "79\n",
      "Lucky Number\n"
     ]
    }
   ],
   "source": [
    "#Given a two digit number print \"Lucky Number\" if any one of the following conditions are satisfied\n",
    "#    -The number is multiple of 9\n",
    "#    -one of the digit is 9\n",
    "#print \"Unlucky Number\" in all other cases\n",
    "\n",
    "a = int(input())\n",
    "\n",
    "is_multiple_of_9 = ((a % 9) == 0)\n",
    "\n",
    "a_str = str(a)\n",
    "\n",
    "is_first_digit_9 = int(a_str[0]) == 9\n",
    "is_second_digit_9 = int(a_str[1]) == 9\n",
    "\n",
    "is_any_digit_9 = (is_first_digit_9 or is_second_digit_9)\n",
    "lucky_number = (is_multiple_of_9 or is_any_digit_9)\n",
    "\n",
    "if lucky_number:\n",
    "    print(\"Lucky Number\")\n",
    "else:\n",
    "    print(\"Unlucky Number\")\n",
    "    "
   ]
  },
  {
   "cell_type": "code",
   "execution_count": 10,
   "id": "834ece65",
   "metadata": {},
   "outputs": [
    {
     "name": "stdout",
     "output_type": "stream",
     "text": [
      "Block 1\n",
      "Block 3\n",
      "Block 4\n"
     ]
    }
   ],
   "source": [
    "#Nested conditional statement\n",
    "#  -----------\"Try this out with changing true & flase values\"\n",
    "\n",
    "condition_a = True\n",
    "condition_b = False\n",
    "\n",
    "if condition_a:\n",
    "    print(\"Block 1\")\n",
    "    if condition_b:\n",
    "        print(\"Block 2\")\n",
    "    print(\"Block 3\")\n",
    "print(\"Block 4\")"
   ]
  },
  {
   "cell_type": "code",
   "execution_count": 25,
   "id": "1b200a00",
   "metadata": {},
   "outputs": [
    {
     "name": "stdout",
     "output_type": "stream",
     "text": [
      "7\n",
      "9\n",
      "3\n",
      "9\n"
     ]
    }
   ],
   "source": [
    "#Write a program to print the greatest among three numbers\n",
    "\n",
    "a = int(input())\n",
    "b = int(input())\n",
    "c = int(input())\n",
    "\n",
    "is_a_greatest = (a > b) and (a > c)\n",
    "\n",
    "if is_a_greatest:\n",
    "    print(a)\n",
    "else:\n",
    "    if b > c:\n",
    "        print(b)\n",
    "    else:\n",
    "        print(c)"
   ]
  },
  {
   "cell_type": "code",
   "execution_count": 27,
   "id": "105fff97",
   "metadata": {},
   "outputs": [
    {
     "name": "stdout",
     "output_type": "stream",
     "text": [
      "Block 1\n"
     ]
    }
   ],
   "source": [
    "#Elif statement\n",
    "#  -----------\"Try this out with changing true & flase values\"\n",
    "\n",
    "condition_a = True\n",
    "condition_b = True\n",
    "condition_c = True\n",
    "\n",
    "if condition_a:\n",
    "    print(\"Block 1\")\n",
    "elif condition_b:\n",
    "    print(\"Block 2\")\n",
    "elif condition_c:\n",
    "    print(\"Block 3\")\n",
    "else:\n",
    "    print(\"Block 4\")"
   ]
  },
  {
   "cell_type": "code",
   "execution_count": 31,
   "id": "2004c7c4",
   "metadata": {},
   "outputs": [
    {
     "name": "stdout",
     "output_type": "stream",
     "text": [
      "33\n",
      "Not divisible by 10 or 5\n"
     ]
    }
   ],
   "source": [
    "#Write a program that checks whether given number is diivsible by 10 or by 5 or neither\n",
    "\n",
    "\n",
    "a = int(input())\n",
    "\n",
    "is_divisible_by_10 = ((a % 10) == 0)\n",
    "is_divisible_by_5 = ((a % 5) == 0)\n",
    "\n",
    "if is_divisible_by_10:\n",
    "    print(\"Divisible by 10\")\n",
    "elif is_divisible_by_5:\n",
    "    print(\"Divisible by 5\")\n",
    "else:\n",
    "    print(\"Not divisible by 10 or 5\")"
   ]
  },
  {
   "cell_type": "code",
   "execution_count": null,
   "id": "0f63de9b",
   "metadata": {},
   "outputs": [],
   "source": [
    "#Write a code to print the next 3 consecutive numbers of the given integer input\n",
    "\n",
    "a = int(input())\n",
    "counter = 0\n",
    "print(counter)\n",
    "\n",
    "while counter < 3:\n",
    "    a = a + 1\n",
    "    print(a)\n",
    "    counter = counter + 1\n",
    "    print(counter)\n",
    "print(\"End\")"
   ]
  },
  {
   "cell_type": "code",
   "execution_count": 3,
   "id": "f43d50bb",
   "metadata": {},
   "outputs": [
    {
     "name": "stdout",
     "output_type": "stream",
     "text": [
      "7\n",
      "* * * * * * * \n",
      "* * * * * * * \n",
      "* * * * * * * \n",
      "* * * * * * * \n",
      "* * * * * * * \n",
      "* * * * * * * \n",
      "* * * * * * * \n"
     ]
    }
   ],
   "source": [
    "#Write a program to print stars in N rows and N columns, where integer N is given as an input\n",
    "\n",
    "a = int(input())\n",
    "counter = 0\n",
    "\n",
    "while counter < a:\n",
    "    print(\"* \" * a)\n",
    "    counter = counter + 1"
   ]
  },
  {
   "cell_type": "code",
   "execution_count": 2,
   "id": "c069ef75",
   "metadata": {},
   "outputs": [
    {
     "name": "stdout",
     "output_type": "stream",
     "text": [
      "MAHARSHI\n",
      "M\n",
      "A\n",
      "H\n",
      "A\n",
      "R\n",
      "S\n",
      "H\n",
      "I\n"
     ]
    }
   ],
   "source": [
    "#Write a program to print each character of a given string in separate line\n",
    "\n",
    "a = input()\n",
    "length_of_a = len(a)\n",
    "counter = 0\n",
    "\n",
    "while counter < length_of_a:\n",
    "    print(a[counter])\n",
    "    counter = counter + 1"
   ]
  },
  {
   "cell_type": "code",
   "execution_count": 15,
   "id": "6528f756",
   "metadata": {},
   "outputs": [
    {
     "name": "stdout",
     "output_type": "stream",
     "text": [
      "MAHARSHI\n",
      "M\n",
      "A\n",
      "H\n",
      "A\n",
      "R\n",
      "S\n",
      "H\n",
      "I\n"
     ]
    }
   ],
   "source": [
    "#Write a program to print each character of a given string in separate line\n",
    "\n",
    "word = input()\n",
    "\n",
    "for each_char in word:\n",
    "    print(each_char)"
   ]
  },
  {
   "cell_type": "code",
   "execution_count": 17,
   "id": "04ecb186",
   "metadata": {},
   "outputs": [
    {
     "name": "stdout",
     "output_type": "stream",
     "text": [
      "7\n",
      "* \n",
      "* * \n",
      "* * * \n",
      "* * * * \n",
      "* * * * * \n",
      "* * * * * * \n",
      "* * * * * * * \n"
     ]
    }
   ],
   "source": [
    "#Write a program to print right angle triangular pattern, where integer N is given as input\n",
    "\n",
    "n = int(input())\n",
    "\n",
    "for number in range(1, n+1):\n",
    "    print(\"* \" * number)"
   ]
  },
  {
   "cell_type": "code",
   "execution_count": 2,
   "id": "cb51eb4e",
   "metadata": {},
   "outputs": [
    {
     "name": "stdout",
     "output_type": "stream",
     "text": [
      "MAHARSHI\n",
      "M-A-H-A-R-S-H-I\n"
     ]
    }
   ],
   "source": [
    "#Problem identify\n",
    "\n",
    "a = input()\n",
    "len_of_a = len(a)\n",
    "b = a[0]\n",
    "for i in range(1, len_of_a):\n",
    "    b = b + \"-\" + a[i] \n",
    "print(b)"
   ]
  },
  {
   "cell_type": "code",
   "execution_count": 13,
   "id": "85dc5b68",
   "metadata": {},
   "outputs": [
    {
     "name": "stdout",
     "output_type": "stream",
     "text": [
      "MAHARSHI\n",
      "M-A\n",
      "M-A-H\n",
      "M-A-H-A\n",
      "M-A-H-A-R\n",
      "M-A-H-A-R-S\n",
      "M-A-H-A-R-S-H\n",
      "M-A-H-A-R-S-H-I\n",
      "M-A-H-A-R-S-H-I\n"
     ]
    }
   ],
   "source": [
    "#Diffenrece between print inside and outside the loop\n",
    "\n",
    "a = input()\n",
    "len_of_a = len(a)\n",
    "b = a[0]\n",
    "\n",
    "for m in range(1, len_of_a):\n",
    "    b = b + \"-\" + a[m]\n",
    "    print(b)\n",
    "print(b)"
   ]
  },
  {
   "cell_type": "code",
   "execution_count": 18,
   "id": "f0729a7c",
   "metadata": {},
   "outputs": [
    {
     "name": "stdout",
     "output_type": "stream",
     "text": [
      "True\n"
     ]
    }
   ],
   "source": [
    "##STRING METHODS\n",
    "\n",
    "#ISDIGIT()\n",
    "\n",
    "pin = \"1743\"\n",
    "is_digit = pin.isdigit()\n",
    "is_4_digit = (len(pin) == 4)\n",
    "is_valid = is_digit and is_4_digit\n",
    "print(is_valid)"
   ]
  },
  {
   "cell_type": "code",
   "execution_count": 19,
   "id": "34d5feed",
   "metadata": {},
   "outputs": [
    {
     "name": "stdout",
     "output_type": "stream",
     "text": [
      "8497910369\n"
     ]
    }
   ],
   "source": [
    "##STRING METHODS\n",
    "\n",
    "#STRIP()\n",
    "\n",
    "mobile = \" 8497910369 \"\n",
    "mobile = mobile.strip()\n",
    "print(mobile)"
   ]
  },
  {
   "cell_type": "code",
   "execution_count": 20,
   "id": "67ad8c83",
   "metadata": {},
   "outputs": [
    {
     "name": "stdout",
     "output_type": "stream",
     "text": [
      "the cat and the dog\n"
     ]
    }
   ],
   "source": [
    "##STRING METHODS\n",
    "\n",
    "#REPLACE()\n",
    "\n",
    "sentence = \"teh cat and teh dog\"\n",
    "sentence = sentence.replace(\"teh\",\"the\")\n",
    "print(sentence)"
   ]
  },
  {
   "cell_type": "code",
   "execution_count": 21,
   "id": "fe7e34da",
   "metadata": {},
   "outputs": [
    {
     "name": "stdout",
     "output_type": "stream",
     "text": [
      "True\n"
     ]
    }
   ],
   "source": [
    "##STRING METHODS\n",
    "\n",
    "#STARTSWITH()\n",
    "\n",
    "url = \"https://maharshi.bandari.com\"\n",
    "is_secure_url = url.startswith(\"https://\")\n",
    "print(is_secure_url)"
   ]
  },
  {
   "cell_type": "code",
   "execution_count": 22,
   "id": "1578d741",
   "metadata": {},
   "outputs": [
    {
     "name": "stdout",
     "output_type": "stream",
     "text": [
      "True\n"
     ]
    }
   ],
   "source": [
    "##STRING METHODS\n",
    "\n",
    "#ENDSWITH()\n",
    "\n",
    "gmail_id = \"maharshi13@gamil.com\"\n",
    "is_gmail = gmail_id.endswith(\"@gamil.com\")\n",
    "print(is_gmail)"
   ]
  },
  {
   "cell_type": "code",
   "execution_count": 23,
   "id": "6cbc447e",
   "metadata": {},
   "outputs": [
    {
     "name": "stdout",
     "output_type": "stream",
     "text": [
      "MAHARSHI BANDARI\n"
     ]
    }
   ],
   "source": [
    "##STRING METHODS\n",
    "\n",
    "#UPPER()\n",
    "\n",
    "name = \"maharshi bandari\"\n",
    "print(name.upper())"
   ]
  },
  {
   "cell_type": "code",
   "execution_count": 25,
   "id": "9f13c013",
   "metadata": {},
   "outputs": [
    {
     "name": "stdout",
     "output_type": "stream",
     "text": [
      "maharshi bandari\n"
     ]
    }
   ],
   "source": [
    "##STRING METHODS\n",
    "\n",
    "#LOWER()\n",
    "\n",
    "name = \"MAHARSHI BANDARI\"\n",
    "print(name.lower())"
   ]
  },
  {
   "cell_type": "code",
   "execution_count": 1,
   "id": "d7bdee86",
   "metadata": {
    "scrolled": true
   },
   "outputs": [
    {
     "name": "stdout",
     "output_type": "stream",
     "text": [
      "M\n",
      "MA\n",
      "MAH\n",
      "MAHA\n",
      "MAHAR\n",
      "MAHARS\n",
      "MAHARSH\n",
      "MAHARSHI\n"
     ]
    }
   ],
   "source": [
    "#Write a program to print substrings in expected pattern of N rows, where N is the length of the string\n",
    "\n",
    "name = \"MAHARSHI\"\n",
    "len_of_name = len(name)\n",
    "\n",
    "for i in range(1, len_of_name + 1):\n",
    "    print(name[ :i])"
   ]
  },
  {
   "cell_type": "code",
   "execution_count": 2,
   "id": "87f13866",
   "metadata": {},
   "outputs": [
    {
     "name": "stdout",
     "output_type": "stream",
     "text": [
      "GOINDC\n",
      "5\n",
      "1\n",
      "4\n",
      "2\n",
      "3\n",
      "0\n",
      "CODING\n"
     ]
    }
   ],
   "source": [
    "#Given a string S and N integers, where N is the length of the string S, print the string after shuffling the characters as per the order of the integers given\n",
    "\n",
    "s = input()\n",
    "len_s = len(s)\n",
    "shuffle_s = \"\"\n",
    "\n",
    "for i in range(len_s):\n",
    "    index = int(input())\n",
    "    shuffle_s = shuffle_s + s[index]\n",
    "\n",
    "print(shuffle_s)\n"
   ]
  },
  {
   "cell_type": "code",
   "execution_count": 4,
   "id": "154a4e69",
   "metadata": {},
   "outputs": [
    {
     "name": "stdout",
     "output_type": "stream",
     "text": [
      "2\n",
      "Prime Number\n"
     ]
    }
   ],
   "source": [
    "#Write a program to print if the given number is a prime number\n",
    "# note: A prime number only divisible by itself and 1\n",
    "\n",
    "n = int(input())\n",
    "\n",
    "factors = 0\n",
    "\n",
    "for i in range(2, n):\n",
    "    if (n % i) == 0:\n",
    "        factors = factors + 1\n",
    "\n",
    "if factors == 0:\n",
    "    print(\"Prime Number\")\n",
    "else:\n",
    "    print(\"Not Prime Number\")"
   ]
  },
  {
   "cell_type": "code",
   "execution_count": 2,
   "id": "14abd142",
   "metadata": {},
   "outputs": [
    {
     "name": "stdout",
     "output_type": "stream",
     "text": [
      "7\n",
      "      * \n",
      "     * * \n",
      "    * * * \n",
      "   * * * * \n",
      "  * * * * * \n",
      " * * * * * * \n",
      "* * * * * * * \n"
     ]
    }
   ],
   "source": [
    "#Identify the mistake\n",
    "\n",
    "n = int(input())\n",
    "k = n - 1\n",
    "\n",
    "for i in range(1, n + 1):\n",
    "    spaces = \" \" * k\n",
    "    stars = \"* \" * i\n",
    "    print(spaces + stars)\n",
    "    k = k - 1"
   ]
  },
  {
   "cell_type": "code",
   "execution_count": 2,
   "id": "47d51e78",
   "metadata": {},
   "outputs": [
    {
     "name": "stdout",
     "output_type": "stream",
     "text": [
      "outer: 0\n",
      "  inner:7\n",
      "  inner:8\n",
      "outer: 1\n",
      "  inner:7\n",
      "  inner:8\n",
      "outer: 2\n",
      "  inner:7\n",
      "  inner:8\n",
      "END\n"
     ]
    }
   ],
   "source": [
    "### NESTED LOOP\n",
    "\n",
    "for a in range(3):\n",
    "    print(\"outer: \" + str(a))\n",
    "    for b in range(7, 9):\n",
    "        print(\"  inner:\" + str(b))\n",
    "print(\"END\")"
   ]
  },
  {
   "cell_type": "code",
   "execution_count": 7,
   "id": "eed6d2c3",
   "metadata": {},
   "outputs": [
    {
     "name": "stdout",
     "output_type": "stream",
     "text": [
      "10\n",
      "1 \n",
      "1 2 \n",
      "1 2 3 \n",
      "1 2 3 4 \n",
      "1 2 3 4 5 \n",
      "1 2 3 4 5 6 \n",
      "1 2 3 4 5 6 7 \n",
      "1 2 3 4 5 6 7 8 \n",
      "1 2 3 4 5 6 7 8 9 \n",
      "1 2 3 4 5 6 7 8 9 10 \n"
     ]
    }
   ],
   "source": [
    "#Write a program to print a triangular pattern  with number is N rows where integer N is given as input\n",
    "\n",
    "n = int(input())\n",
    "traingle_p = \"\"\n",
    "\n",
    "for i in range(1, n+1):\n",
    "    traingle_p = traingle_p + str(i) + \" \" \n",
    "    print(traingle_p)"
   ]
  },
  {
   "cell_type": "code",
   "execution_count": 2,
   "id": "00232bd0",
   "metadata": {},
   "outputs": [
    {
     "name": "stdout",
     "output_type": "stream",
     "text": [
      "7\n",
      "1 \n",
      "1 2 \n",
      "1 2 3 \n",
      "1 2 3 4 \n",
      "1 2 3 4 5 \n",
      "1 2 3 4 5 6 \n",
      "1 2 3 4 5 6 7 \n"
     ]
    }
   ],
   "source": [
    "# ANOTHER SOLUTION\n",
    "\n",
    "n = int(input())\n",
    "\n",
    "for num in range(1, n + 1):\n",
    "    traingle_p = \"\"\n",
    "    for i in range(1, num + 1):\n",
    "        traingle_p = traingle_p + str(i) + \" \"\n",
    "    print(traingle_p)"
   ]
  },
  {
   "cell_type": "code",
   "execution_count": 1,
   "id": "2370df0f",
   "metadata": {},
   "outputs": [
    {
     "name": "stdout",
     "output_type": "stream",
     "text": [
      "3\n",
      "321\n",
      "21\n",
      "1\n"
     ]
    }
   ],
   "source": [
    "#IDENTIFY THE MISTAKE\n",
    "\n",
    "\n",
    "n = int(input())\n",
    "\n",
    "for row_num in range(0, n):\n",
    "    row_output = \"\"\n",
    "    seq_num = n - row_num\n",
    "    while seq_num > 0:\n",
    "        row_output = row_output + str(seq_num)\n",
    "        seq_num = seq_num - 1\n",
    "    print(row_output)"
   ]
  },
  {
   "cell_type": "code",
   "execution_count": 1,
   "id": "2176108c",
   "metadata": {},
   "outputs": [
    {
     "name": "stdout",
     "output_type": "stream",
     "text": [
      "0\n",
      "1\n",
      "2\n",
      "3\n",
      "4\n",
      "5\n",
      "6\n",
      "END\n"
     ]
    }
   ],
   "source": [
    "#BREAK WITH FOR LOOP\n",
    "\n",
    "for i in range(13):\n",
    "    if i == 7:\n",
    "        break\n",
    "    print(i)\n",
    "print(\"END\")"
   ]
  },
  {
   "cell_type": "code",
   "execution_count": 2,
   "id": "fc3f280b",
   "metadata": {},
   "outputs": [
    {
     "name": "stdout",
     "output_type": "stream",
     "text": [
      "0\n",
      "1\n",
      "2\n",
      "3\n",
      "4\n",
      "5\n",
      "6\n",
      "END\n"
     ]
    }
   ],
   "source": [
    "#BREAK WITH WHILE LOOP\n",
    "\n",
    "i = 0\n",
    "while i < 13:\n",
    "    if i == 7:\n",
    "        break\n",
    "    print(i)\n",
    "    i = i + 1\n",
    "print(\"END\")"
   ]
  },
  {
   "cell_type": "code",
   "execution_count": 7,
   "id": "2e0a423f",
   "metadata": {},
   "outputs": [
    {
     "name": "stdout",
     "output_type": "stream",
     "text": [
      "outer : 0\n",
      " inner : 0\n",
      " inner : 1\n",
      " inner : 2\n",
      "outer : 1\n",
      " inner : 0\n",
      " inner : 1\n",
      " inner : 2\n",
      "outer : 2\n",
      " inner : 0\n",
      " inner : 1\n",
      " inner : 2\n",
      "outer : 3\n",
      " inner : 0\n",
      " inner : 1\n",
      " inner : 2\n",
      "outer : 4\n",
      " inner : 0\n",
      " inner : 1\n",
      " inner : 2\n"
     ]
    }
   ],
   "source": [
    "#BREAK IN NESTED LOOP\n",
    "\n",
    "for a in range(5):\n",
    "    print(\"outer : \" + str(a))\n",
    "    for b in range(7):\n",
    "        if b == 3:\n",
    "            break\n",
    "        print(\" inner : \" + str(b))"
   ]
  },
  {
   "cell_type": "code",
   "execution_count": 18,
   "id": "d14b87f2",
   "metadata": {},
   "outputs": [
    {
     "name": "stdout",
     "output_type": "stream",
     "text": [
      "maharshi bandari\n",
      "MAHARSHI bandari\n"
     ]
    }
   ],
   "source": [
    "#print a new sentence with the first in upper case\n",
    "\n",
    "sentence = input()\n",
    "\n",
    "first_word_end_index = 0\n",
    "\n",
    "for each_char in sentence:\n",
    "    if each_char == \" \":\n",
    "        break\n",
    "    else:\n",
    "        first_word_end_index = first_word_end_index + 1\n",
    "        \n",
    "first_word = sentence[ :first_word_end_index]\n",
    "upper_case = first_word.upper()\n",
    "remaining_sentence = sentence[first_word_end_index : ] \n",
    "sentence_updated = upper_case + remaining_sentence\n",
    "\n",
    "print(sentence_updated)"
   ]
  },
  {
   "cell_type": "code",
   "execution_count": 19,
   "id": "543b2dab",
   "metadata": {},
   "outputs": [
    {
     "name": "stdout",
     "output_type": "stream",
     "text": [
      "0\n",
      "2\n",
      "END\n"
     ]
    }
   ],
   "source": [
    "#CONTINUE\n",
    "\n",
    "for a in range(3):\n",
    "    if a == 1:\n",
    "        continue\n",
    "    print(a)\n",
    "print(\"END\")"
   ]
  },
  {
   "cell_type": "code",
   "execution_count": 21,
   "id": "5de21d54",
   "metadata": {},
   "outputs": [
    {
     "name": "stdout",
     "output_type": "stream",
     "text": [
      "7\n",
      "0\n",
      "1\n",
      "2\n",
      "3\n",
      "4\n",
      "5\n",
      "6\n"
     ]
    }
   ],
   "source": [
    "#PASS\n",
    "\n",
    "n = int(input())\n",
    "\n",
    "for i in range(n):\n",
    "    pass\n",
    "    print(i)"
   ]
  },
  {
   "cell_type": "code",
   "execution_count": 24,
   "id": "5be04c1f",
   "metadata": {},
   "outputs": [
    {
     "name": "stdout",
     "output_type": "stream",
     "text": [
      "21\n",
      "False\n"
     ]
    }
   ],
   "source": [
    "#IDENTIFY THE MISTAKE\n",
    "\n",
    "n = int(input())\n",
    "\n",
    "is_prime = True\n",
    "\n",
    "for i in range(2, n):\n",
    "    if (n % i) == 0:\n",
    "        is_prime = False\n",
    "        break\n",
    "print(is_prime)"
   ]
  },
  {
   "cell_type": "code",
   "execution_count": 25,
   "id": "108ce233",
   "metadata": {},
   "outputs": [
    {
     "name": "stdout",
     "output_type": "stream",
     "text": [
      "A\n",
      "B\n",
      "C\n",
      "D\n",
      "E\n",
      "F\n",
      "G\n",
      "H\n",
      "I\n",
      "J\n",
      "K\n",
      "L\n",
      "M\n",
      "N\n",
      "O\n",
      "P\n",
      "Q\n",
      "R\n",
      "S\n",
      "T\n",
      "U\n",
      "V\n",
      "W\n",
      "X\n",
      "Y\n",
      "Z\n"
     ]
    }
   ],
   "source": [
    "#Print alphabets using unicode values\n",
    "\n",
    "for unicode_value in range(65, 91):\n",
    "    print(chr(unicode_value))"
   ]
  },
  {
   "cell_type": "code",
   "execution_count": 2,
   "id": "7c559f78",
   "metadata": {},
   "outputs": [
    {
     "name": "stdout",
     "output_type": "stream",
     "text": [
      "65\n"
     ]
    }
   ],
   "source": [
    "#ord()\n",
    "\n",
    "print(ord(\"A\"))"
   ]
  },
  {
   "cell_type": "code",
   "execution_count": 27,
   "id": "21ab03f2",
   "metadata": {},
   "outputs": [
    {
     "name": "stdout",
     "output_type": "stream",
     "text": [
      "True\n",
      "True\n",
      "True\n"
     ]
    }
   ],
   "source": [
    "#Comparing strings using unicode values\n",
    "\n",
    "print(\"A\" < \"B\")\n",
    "print(\"a\" > \"A\")\n",
    "print(\"9\" > \"5\")"
   ]
  },
  {
   "cell_type": "code",
   "execution_count": 35,
   "id": "8bb3f334",
   "metadata": {},
   "outputs": [
    {
     "name": "stdout",
     "output_type": "stream",
     "text": [
      "False\n",
      "False\n",
      "True\n"
     ]
    }
   ],
   "source": [
    "print(\"AAB\" >= \"BAA\")\n",
    "print(\"97\" < \"197\")\n",
    "print(\"97\" < \"973\")"
   ]
  },
  {
   "cell_type": "code",
   "execution_count": 3,
   "id": "21d474ab",
   "metadata": {},
   "outputs": [
    {
     "name": "stdout",
     "output_type": "stream",
     "text": [
      "\n",
      "Here is a list of the Python keywords.  Enter any keyword to get more help.\n",
      "\n",
      "False               class               from                or\n",
      "None                continue            global              pass\n",
      "True                def                 if                  raise\n",
      "and                 del                 import              return\n",
      "as                  elif                in                  try\n",
      "assert              else                is                  while\n",
      "async               except              lambda              with\n",
      "await               finally             nonlocal            yield\n",
      "break               for                 not                 \n",
      "\n"
     ]
    }
   ],
   "source": [
    "###RESERVED KEY WORD\n",
    "\n",
    "help(\"keywords\")"
   ]
  },
  {
   "cell_type": "code",
   "execution_count": 3,
   "id": "ce286d12",
   "metadata": {},
   "outputs": [
    {
     "name": "stdout",
     "output_type": "stream",
     "text": [
      "7.13\n"
     ]
    }
   ],
   "source": [
    "#ROUND()\n",
    "\n",
    "a = 7.135\n",
    "print(round(a, 2))"
   ]
  },
  {
   "cell_type": "code",
   "execution_count": 4,
   "id": "96c70312",
   "metadata": {},
   "outputs": [
    {
     "name": "stdout",
     "output_type": "stream",
     "text": [
      "False\n"
     ]
    }
   ],
   "source": [
    "print((0.1 + 0.2) == 0.3)"
   ]
  },
  {
   "cell_type": "code",
   "execution_count": 6,
   "id": "62407f85",
   "metadata": {},
   "outputs": [
    {
     "name": "stdout",
     "output_type": "stream",
     "text": [
      "True\n"
     ]
    }
   ],
   "source": [
    "a = (1.3 + 3.7)\n",
    "a = round(a, 1)\n",
    "\n",
    "print(a == 5)"
   ]
  },
  {
   "cell_type": "code",
   "execution_count": 2,
   "id": "fa19d827",
   "metadata": {},
   "outputs": [
    {
     "name": "stdout",
     "output_type": "stream",
     "text": [
      "7\n",
      "      *\n",
      "     * *\n",
      "    *   *\n",
      "   *     *\n",
      "  *       *\n",
      " *         *\n",
      "*           *\n",
      " *         *\n",
      "  *       *\n",
      "   *     *\n",
      "    *   *\n",
      "     * *\n",
      "      *\n"
     ]
    }
   ],
   "source": [
    "#Write a program to print hollow diamond pattern of size N(2*N-1rows). Where integer N is given as an input\n",
    "\n",
    "n = int(input())\n",
    "\n",
    "left_space_count = n-1\n",
    "left_space = \" \" * left_space_count\n",
    "row_output = left_space + \"*\"\n",
    "print(row_output)\n",
    "\n",
    "hollow_space_count = -1\n",
    "\n",
    "for i in range(2, n+1):\n",
    "    left_space_count = n-i\n",
    "    left_space = \" \" * left_space_count\n",
    "    hollow_space_count = hollow_space_count + 2\n",
    "    hollow_space = \" \" * hollow_space_count\n",
    "    row_output = left_space + \"*\" + hollow_space + \"*\"\n",
    "    print(row_output)\n",
    "\n",
    "for i in range(1, n-1):\n",
    "    left_space_count = i\n",
    "    left_space = \" \" * left_space_count\n",
    "    hollow_space_count = hollow_space_count - 2\n",
    "    hollow_space = \" \" * hollow_space_count\n",
    "    row_output = left_space + \"*\" + hollow_space + \"*\"\n",
    "    print(row_output)\n",
    "    \n",
    "left_space_count = n-1\n",
    "left_space = \" \" * left_space_count\n",
    "row_output = left_space + \"*\"\n",
    "print(row_output)"
   ]
  },
  {
   "cell_type": "code",
   "execution_count": 42,
   "id": "23fc6fca",
   "metadata": {},
   "outputs": [
    {
     "name": "stdout",
     "output_type": "stream",
     "text": [
      "5\n",
      "    $$$$$\n",
      "   $$$$$\n",
      "  $$$$$\n",
      " $$$$$\n",
      "$$$$$\n"
     ]
    }
   ],
   "source": [
    "#Identify the mistake\n",
    "\n",
    "n = int(input())\n",
    "\n",
    "for i in range(1, n+1):\n",
    "    row_out = n-i\n",
    "    row_out = \" \" * row_out\n",
    "    row_out = row_out + \"$\" * n\n",
    "    print(row_out)"
   ]
  },
  {
   "cell_type": "code",
   "execution_count": 45,
   "id": "c63126c9",
   "metadata": {},
   "outputs": [
    {
     "name": "stdout",
     "output_type": "stream",
     "text": [
      "13\n",
      "4\n",
      "1.2857142857142858\n",
      "42\n",
      "6\n"
     ]
    }
   ],
   "source": [
    "#Compound Assignment Operator\n",
    "\n",
    "a = 6\n",
    "a += 7\n",
    "print(a)\n",
    "\n",
    "b = 9\n",
    "b -=5\n",
    "print(b)\n",
    "\n",
    "a = 9\n",
    "a /= 7\n",
    "print(a)\n",
    "\n",
    "a = 6\n",
    "a *= 7\n",
    "print(a)\n",
    "\n",
    "a = 6\n",
    "a %= 7\n",
    "print(a)\n"
   ]
  },
  {
   "cell_type": "code",
   "execution_count": 46,
   "id": "813d1fba",
   "metadata": {},
   "outputs": [
    {
     "name": "stdout",
     "output_type": "stream",
     "text": [
      "3\n"
     ]
    }
   ],
   "source": [
    "#Floor Division\n",
    "\n",
    "print(7//2)"
   ]
  },
  {
   "cell_type": "code",
   "execution_count": 49,
   "id": "66c50c43",
   "metadata": {},
   "outputs": [
    {
     "name": "stdout",
     "output_type": "stream",
     "text": [
      "Hello\n",
      "World\n",
      "Hello\tWorld\n",
      "Hello\\World\n",
      "Hello'World\n",
      "Hello\"World\n"
     ]
    }
   ],
   "source": [
    "#Escape Characters\n",
    "\n",
    "print(\"Hello\\nWorld\")\n",
    "print(\"Hello\\tWorld\")\n",
    "print(\"Hello\\\\World\")\n",
    "print(\"Hello\\'World\")\n",
    "print(\"Hello\\\"World\")"
   ]
  },
  {
   "cell_type": "code",
   "execution_count": 54,
   "id": "dfd9dc53",
   "metadata": {},
   "outputs": [
    {
     "name": "stdout",
     "output_type": "stream",
     "text": [
      "abcdefg\n",
      "ace\n",
      "YES\n"
     ]
    }
   ],
   "source": [
    "#Given two strings print YES if the second string is a subsequence of first string. otherwise, print NO\n",
    "#Expected inputs are abcdefg & ace\n",
    "#Expected out is YES\n",
    "\n",
    "full_string = input()\n",
    "substring = input()\n",
    "substring_index = 0\n",
    "substring_len = len(substring)\n",
    "\n",
    "for each_char in full_string:\n",
    "    if each_char == substring[substring_index]:\n",
    "        substring_index += 1\n",
    "        if substring_\n",
    "        index == substring_len:\n",
    "            break\n",
    "                \n",
    "if substring_index == substring_len:\n",
    "    print(\"YES\")\n",
    "else:\n",
    "    print(\"NO\")"
   ]
  },
  {
   "cell_type": "code",
   "execution_count": 8,
   "id": "643b0603",
   "metadata": {},
   "outputs": [
    {
     "name": "stdout",
     "output_type": "stream",
     "text": [
      "5\n",
      "    1\n",
      "   212\n",
      "  32123\n",
      " 4321234\n",
      "543212345\n"
     ]
    }
   ],
   "source": [
    "#Identify the mistake\n",
    "\n",
    "n = int(input())\n",
    "\n",
    "for i in range(1, n+1):\n",
    "    spaces = \" \" * (n-i)\n",
    "    left_num = \"\"\n",
    "    right_num = \"\"\n",
    "    for j in range(1, i+1):\n",
    "        left_num = str(j) + left_num\n",
    "        right_num += str(j)\n",
    "    print(spaces + left_num + right_num[1:])\n",
    "        "
   ]
  },
  {
   "cell_type": "code",
   "execution_count": 25,
   "id": "40baf1c4",
   "metadata": {},
   "outputs": [
    {
     "name": "stdout",
     "output_type": "stream",
     "text": [
      "[7, [1, 13, 1.37, 'maharshi']]\n",
      "4\n",
      "2\n",
      "maharshi\n",
      "1\n",
      "13\n",
      "1.37\n",
      "maharshi\n",
      "[1, 13, 1.37, 'maharshi', 7, [1, 13, 1.37, 'maharshi']]\n",
      "[]\n",
      "[1, 2, 3, 4, 5, 6]\n",
      "[1, 2, 3, 4, 5, 6, 1, 2, 3, 4, 5, 6, 1, 2, 3, 4, 5, 6]\n",
      "[1, 2, 3]\n",
      "[1, 4]\n",
      "['M', 'A', 'H', 'A', 'R', 'S', 'H', 'I']\n",
      "[0, 1, 2, 3, 4, 5, 6]\n",
      "[1, 2, 3, 5]\n",
      "[1, 2, 3, 4]\n"
     ]
    }
   ],
   "source": [
    "#List\n",
    "\n",
    "list_a = [1, 13, 1.37, \"maharshi\"] #list creation\n",
    "list_b = [7, list_a] #List of lists\n",
    "\n",
    "print(list_b)\n",
    "\n",
    "print(len(list_a)) #List length\n",
    "print(len(list_b)) #List length\n",
    "\n",
    "print(list_a[3]) #List index accessing\n",
    "\n",
    "for item in list_a: #List iteration\n",
    "    print(item)\n",
    "    \n",
    "list_c = list_a + list_b #List concatinate\n",
    "print(list_c)\n",
    "\n",
    "list_a = [] #Creating an empty list\n",
    "print(list_a)\n",
    "\n",
    "#Adding elements to list\n",
    "for i in range(1, 7):\n",
    "    list_a += [i]\n",
    "print(list_a)\n",
    "\n",
    "list_b = list_a * 3 #List repetation\n",
    "print(list_b)\n",
    "\n",
    "list_c = list_a[:3] #List slicing\n",
    "print(list_c)\n",
    "\n",
    "list_c = list_a[0:7:3] #Extended slicing\n",
    "print(list_c)\n",
    "\n",
    "#converting to list\n",
    "a = \"MAHARSHI\"\n",
    "list_a = list(a)\n",
    "print(list_a)\n",
    "\n",
    "#Range()\n",
    "list_a = list(range(7))\n",
    "print(list_a)\n",
    "\n",
    "#Lists are Mutable\n",
    "list_a = [1, 2, 3, 5]\n",
    "print(list_a)\n",
    "list_a[3] = 4\n",
    "print(list_a)"
   ]
  },
  {
   "cell_type": "code",
   "execution_count": 27,
   "id": "0a30a91a",
   "metadata": {},
   "outputs": [
    {
     "name": "stdout",
     "output_type": "stream",
     "text": [
      "[1, 2, 3, [4, 5, 6, 7]]\n"
     ]
    }
   ],
   "source": [
    "#Identify the mistake\n",
    "\n",
    "list_a = [1, 2, 3]\n",
    "list_b = [4, 5, 6, 7]\n",
    "list_a += [list_b]\n",
    "print(list_a)"
   ]
  },
  {
   "cell_type": "code",
   "execution_count": 37,
   "id": "a08a90fb",
   "metadata": {},
   "outputs": [
    {
     "name": "stdout",
     "output_type": "stream",
     "text": [
      "1992385414128\n",
      "1992385464768\n",
      "1992385392000\n",
      "1992385431360\n",
      "1992385431360\n"
     ]
    }
   ],
   "source": [
    "#Object unique id\n",
    "\n",
    "a = \"MAHARSHI\"\n",
    "print(id(a))\n",
    "\n",
    "#Same lists but different unique id\n",
    "list_a = [1, 2, 3]\n",
    "list_b = [1, 2, 3]\n",
    "print(id(list_a))\n",
    "print(id(list_b))\n",
    "\n",
    "#same uinque id\n",
    "list_a = [1, 2, 3]\n",
    "list_b = list_a\n",
    "print(id(list_a))\n",
    "print(id(list_b))"
   ]
  },
  {
   "cell_type": "code",
   "execution_count": 39,
   "id": "5d7369ba",
   "metadata": {},
   "outputs": [
    {
     "name": "stdout",
     "output_type": "stream",
     "text": [
      "list_a :[1, 2, 3, 4]\n",
      "list_b :[1, 2, 3, 4]\n"
     ]
    }
   ],
   "source": [
    "#Modifying list\n",
    "\n",
    "list_a = [1, 2, 3, 5]\n",
    "list_b = list_a\n",
    "list_b[3] = 4\n",
    "print(\"list_a :\" + str(list_a))\n",
    "print(\"list_b :\" + str(list_b))"
   ]
  },
  {
   "cell_type": "code",
   "execution_count": 40,
   "id": "a44d97aa",
   "metadata": {},
   "outputs": [
    {
     "name": "stdout",
     "output_type": "stream",
     "text": [
      "list_a :[6, 7]\n",
      "list_b :[1, 2, 3, 5]\n"
     ]
    }
   ],
   "source": [
    "list_a = [1, 2, 3, 5]\n",
    "list_b = list_a\n",
    "list_a = [6, 7]\n",
    "print(\"list_a :\" + str(list_a))\n",
    "print(\"list_b :\" + str(list_b))"
   ]
  },
  {
   "cell_type": "code",
   "execution_count": 41,
   "id": "51f68df6",
   "metadata": {},
   "outputs": [
    {
     "name": "stdout",
     "output_type": "stream",
     "text": [
      "list_a :[1, 2, 3, 5, 6, 7]\n",
      "list_b :[1, 2, 3, 5]\n"
     ]
    }
   ],
   "source": [
    "list_a = [1, 2, 3, 5]\n",
    "list_b = list_a\n",
    "list_a = list_a + [6, 7]\n",
    "print(\"list_a :\" + str(list_a))\n",
    "print(\"list_b :\" + str(list_b))"
   ]
  },
  {
   "cell_type": "code",
   "execution_count": 42,
   "id": "45464615",
   "metadata": {},
   "outputs": [
    {
     "name": "stdout",
     "output_type": "stream",
     "text": [
      "list_a :[1, 2, 3, 5, 6, 7]\n",
      "list_b :[1, 2, 3, 5, 6, 7]\n"
     ]
    }
   ],
   "source": [
    "#same problem with compound assignment operator\n",
    "\n",
    "list_a = [1, 2, 3, 5]\n",
    "list_b = list_a\n",
    "list_a += [6, 7]\n",
    "print(\"list_a :\" + str(list_a))\n",
    "print(\"list_b :\" + str(list_b))"
   ]
  },
  {
   "cell_type": "code",
   "execution_count": 43,
   "id": "a7df10f7",
   "metadata": {},
   "outputs": [
    {
     "name": "stdout",
     "output_type": "stream",
     "text": [
      "list_a :[1, 2, 3, 4]\n",
      "list_b :[6, 7, [1, 2, 3, 4]]\n"
     ]
    }
   ],
   "source": [
    "list_a = [1, 2, 3, 5]\n",
    "list_b = [6, 7, list_a]\n",
    "list_a[3] = 4\n",
    "print(\"list_a :\" + str(list_a))\n",
    "print(\"list_b :\" + str(list_b))"
   ]
  },
  {
   "cell_type": "code",
   "execution_count": 44,
   "id": "68450f69",
   "metadata": {},
   "outputs": [
    {
     "name": "stdout",
     "output_type": "stream",
     "text": [
      "[1, 3]\n",
      "[1, 3]\n"
     ]
    }
   ],
   "source": [
    "a = 3\n",
    "list_a = [1, a]\n",
    "print(list_a)\n",
    "a = 7\n",
    "print(list_a) #before creating a list A is refering 3 so it is not mutable\n",
    "\n"
   ]
  },
  {
   "cell_type": "code",
   "execution_count": 9,
   "id": "6b20b8de",
   "metadata": {},
   "outputs": [
    {
     "name": "stdout",
     "output_type": "stream",
     "text": [
      "['1', '2', '3', '4', '5']\n",
      "['1', '2', '3', '4', '5']\n",
      "['1', '2', '3', '4', '5']\n",
      "['1', '2', '3', '4', '5']\n",
      "['1', '2', '3', '', '4', '5', '']\n",
      "['1', '', '', '2', '3', '', '4', '5', '']\n",
      "['Python is ', ' progr', 'mming l', 'ngu', 'ge']\n",
      "['', '-by-', ' execution of code']\n"
     ]
    }
   ],
   "source": [
    "##Splitting a string\n",
    "\n",
    "#Example\n",
    "num = \"1 2 3 4 5\"\n",
    "num_list = num.split( )\n",
    "print(num_list)\n",
    "\n",
    "#Multiple spaces\n",
    "num = \"1   2 3 4 5\"\n",
    "num_list = num.split( )\n",
    "print(num_list)\n",
    "\n",
    "#New line(\\n) and Tab space(\\t)\n",
    "num = \"1\\n2 3 \\t4 5\"\n",
    "num_list = num.split( )\n",
    "print(num_list)\n",
    "\n",
    "#Using Diffenrent separaters\n",
    "num = \"1,2,3,4,5\"\n",
    "num_list = num.split(\",\")\n",
    "print(num_list)\n",
    "\n",
    "#Empty string created when we give double spaces\n",
    "num = \"1,2,3,,4,5,\"\n",
    "num_list = num.split(\",\")\n",
    "print(num_list)\n",
    "\n",
    "#When we provide single space\n",
    "num = \"1   2 3  4 5 \"\n",
    "num_list = num.split(\" \")\n",
    "print(num_list)\n",
    "\n",
    "#Example-1 Using single character\n",
    "string_a = \"Python is a programming language\"\n",
    "list_a = string_a.split(\"a\")\n",
    "print(list_a)\n",
    "\n",
    "#Example-2 Using multiple characters\n",
    "string_a = \"step-by-step execution of code\"\n",
    "list_a = string_a.split(\"step\")\n",
    "print(list_a)"
   ]
  },
  {
   "cell_type": "code",
   "execution_count": 10,
   "id": "0a62ea62",
   "metadata": {},
   "outputs": [
    {
     "name": "stdout",
     "output_type": "stream",
     "text": [
      "['Python is ', ' progr', 'mming l', 'ngu', 'ge']\n",
      "Python is a programming language\n"
     ]
    }
   ],
   "source": [
    "##Joining strings\n",
    "\n",
    "string_a = \"Python is a programming language\"\n",
    "list_a = string_a.split(\"a\")\n",
    "print(list_a)\n",
    "joined_string = \"a\".join(list_a)\n",
    "print(joined_string)"
   ]
  },
  {
   "cell_type": "code",
   "execution_count": 37,
   "id": "9cd9813b",
   "metadata": {},
   "outputs": [
    {
     "name": "stdout",
     "output_type": "stream",
     "text": [
      "5\n",
      "[1, 2, 3]\n",
      "[5, 3]\n",
      "[1, 2, 3, 4, 5]\n",
      "[5, 4, 3, 2, 1]\n",
      "I\n",
      "MAHA\n",
      "ISAA\n",
      "IHSRAHAM\n"
     ]
    }
   ],
   "source": [
    "### Negative indexing\n",
    "\n",
    "list_a = [1, 2, 3, 4, 5]\n",
    "print(list_a[-1])\n",
    "\n",
    "#Slicing\n",
    "list_a = [1, 2, 3, 4, 5]\n",
    "print(list_a[-6:-2])\n",
    "\n",
    "#Negative step size\n",
    "list_a = [1, 2, 3, 4, 5]\n",
    "print(list_a[4:0:-2]) #start index should be greater than end index\n",
    "\n",
    "#Without values\n",
    "list_a = [1, 2, 3, 4, 5]\n",
    "print(list_a[::])\n",
    "\n",
    "#Only giving negative step size\n",
    "list_a = [1, 2, 3, 4, 5]\n",
    "print(list_a[::-1])\n",
    "\n",
    "### Negative indexing for Strings\n",
    "string_a = \"MAHARSHI\"\n",
    "print(string_a[-1])\n",
    "print(string_a[-8:-4])\n",
    "print(string_a[7:0:-2])\n",
    "print(string_a[::-1])"
   ]
  },
  {
   "cell_type": "code",
   "execution_count": 4,
   "id": "99c92ea6",
   "metadata": {},
   "outputs": [
    {
     "name": "stdout",
     "output_type": "stream",
     "text": [
      "1 2 3\n",
      "4,5,6\n",
      "1 6\n",
      "2 5\n",
      "3 4\n"
     ]
    }
   ],
   "source": [
    "#Identify the mistake\n",
    "\n",
    "list_a = input().split(\" \")\n",
    "list_b = input().split(\",\")\n",
    "len_of_list_a = len(list_a)\n",
    "n = len_of_list_a - 1\n",
    "for i in range(len_of_list_a):\n",
    "    num_1 = list_a[i]\n",
    "    num_2 = list_b[n-i]\n",
    "    result = str(num_1) + \" \" + str(num_2)\n",
    "    print(result)"
   ]
  },
  {
   "cell_type": "code",
   "execution_count": 5,
   "id": "675f2016",
   "metadata": {},
   "outputs": [
    {
     "name": "stdout",
     "output_type": "stream",
     "text": [
      "MAHARSHI\n",
      "MAHARSHI\n"
     ]
    }
   ],
   "source": [
    "###Fuction\n",
    "\n",
    "def greet():\n",
    "    word = \"Hello \"\n",
    "    \n",
    "name = input()\n",
    "greet()\n",
    "print(name)"
   ]
  },
  {
   "cell_type": "code",
   "execution_count": 7,
   "id": "1ce02912",
   "metadata": {},
   "outputs": [
    {
     "name": "stdout",
     "output_type": "stream",
     "text": [
      "MAHARSHI\n",
      "HELLO MAHARSHI\n"
     ]
    }
   ],
   "source": [
    "#Function with Argument\n",
    "\n",
    "def msg(word): #passing an argument\n",
    "    msg = \"HELLO \" + word\n",
    "    print(msg)\n",
    "    \n",
    "name = input()\n",
    "msg(word=name)"
   ]
  },
  {
   "cell_type": "code",
   "execution_count": 10,
   "id": "61b39b37",
   "metadata": {},
   "outputs": [
    {
     "name": "stdout",
     "output_type": "stream",
     "text": [
      "MAHARSHI\n",
      "HELLO MAHARSHI\n",
      "HELLO MADHAVI\n"
     ]
    }
   ],
   "source": [
    "#Using Return value in fuction\n",
    "\n",
    "def greet(word): \n",
    "    msg = \"HELLO \" + word\n",
    "    return msg\n",
    "    \n",
    "name = input()\n",
    "greeting = greet(word=name)\n",
    "print(greeting)\n",
    "greeting = greet(word=\"MADHAVI\")\n",
    "print(greeting)"
   ]
  },
  {
   "cell_type": "code",
   "execution_count": 15,
   "id": "7830b560",
   "metadata": {},
   "outputs": [
    {
     "name": "stdout",
     "output_type": "stream",
     "text": [
      "1,2,3,4\n",
      "[1, 4, 9, 16]\n"
     ]
    }
   ],
   "source": [
    "#Identify the mistake \n",
    "\n",
    "def get_list(string_a):\n",
    "    list_a = string_a.split(\",\")\n",
    "    len_list_a = len(list_a)\n",
    "    for i in range (len_list_a):\n",
    "        list_a[i] = int(list_a[i])**2\n",
    "    return list_a\n",
    "\n",
    "string_a = input()\n",
    "numbers_list = get_list(string_a)\n",
    "print(numbers_list)"
   ]
  },
  {
   "cell_type": "code",
   "execution_count": 17,
   "id": "757dc11e",
   "metadata": {},
   "outputs": [
    {
     "name": "stdout",
     "output_type": "stream",
     "text": [
      "GOOD MORNING\n",
      "MAHARSHI\n",
      "GOOD MORNING MAHARSHI\n",
      "GOOD MORNING MAHARSHI\n"
     ]
    }
   ],
   "source": [
    "#Multiple argumrnts\n",
    "\n",
    "def greet(arg_1, arg_2): #Arguments\n",
    "    print(arg_1 + \" \" + arg_2)\n",
    "\n",
    "greeting = input()\n",
    "name = input()\n",
    "greet(arg_1 = greeting, arg_2 = name) #Passing values by their names\n",
    "greet(arg_2 = name, arg_1 = greeting) #Order of arguments does not matter"
   ]
  },
  {
   "cell_type": "code",
   "execution_count": 21,
   "id": "1057e683",
   "metadata": {},
   "outputs": [
    {
     "name": "stdout",
     "output_type": "stream",
     "text": [
      "GOOD MORNING\n",
      "MAHARSHI\n",
      "GOOD MORNING MAHARSHI\n",
      "MAHARSHI GOOD MORNING\n"
     ]
    }
   ],
   "source": [
    "#Positional arguments\n",
    "\n",
    "def greet(arg_1, arg_2): #Arguments\n",
    "    print(arg_1 + \" \" + arg_2)\n",
    "\n",
    "greeting = input()\n",
    "name = input()\n",
    "greet(greeting, name) #These values get assigned according to their positions\n",
    "greet(name, greeting)"
   ]
  },
  {
   "cell_type": "code",
   "execution_count": 20,
   "id": "8dd2b990",
   "metadata": {},
   "outputs": [
    {
     "name": "stdout",
     "output_type": "stream",
     "text": [
      "Hi Maharshi\n",
      "Hello Maharshi\n",
      "Hello Nithin\n",
      "Hi Nithin\n"
     ]
    }
   ],
   "source": [
    "#Default arguments\n",
    "\n",
    "def greet(arg_1 = \"Hi\", arg_2 = \"Maharshi\"): #Arguments\n",
    "    print(arg_1 + \" \" + arg_2)\n",
    "\n",
    "greet() #default values assigned\n",
    "greet(\"Hello\") #first positional argument modified\n",
    "greet(\"Hello\", \"Nithin\") #both positional arguments modified\n",
    "greet(arg_2 = \"Nithin\") #second positional arguments modified"
   ]
  },
  {
   "cell_type": "code",
   "execution_count": 2,
   "id": "bd561b1f",
   "metadata": {},
   "outputs": [
    {
     "name": "stdout",
     "output_type": "stream",
     "text": [
      "5\n",
      "5\n"
     ]
    }
   ],
   "source": [
    "#Immutable objects(Integer, Float, String)\n",
    "\n",
    "def increment(a):\n",
    "    a += 1\n",
    "    \n",
    "a = int(input())\n",
    "increment(a)\n",
    "print(a)"
   ]
  },
  {
   "cell_type": "code",
   "execution_count": 6,
   "id": "0a5e3579",
   "metadata": {},
   "outputs": [
    {
     "name": "stdout",
     "output_type": "stream",
     "text": [
      "[1, 2, 3]\n",
      "[1, 2]\n"
     ]
    }
   ],
   "source": [
    "#Mutable objects(Lists)\n",
    "\n",
    "#Using compound operator\n",
    "def add_item(list_x):\n",
    "    list_x += [3]\n",
    "    \n",
    "list_a = [1, 2]\n",
    "add_item(list_a)\n",
    "print(list_a)\n",
    "\n",
    "#Not using compound operator\n",
    "def add_item(list_x):\n",
    "    list_x = list_x + [3]\n",
    "    \n",
    "list_a = [1, 2]\n",
    "add_item(list_a)\n",
    "print(list_a)"
   ]
  },
  {
   "cell_type": "code",
   "execution_count": 5,
   "id": "0ca51315",
   "metadata": {},
   "outputs": [
    {
     "name": "stdout",
     "output_type": "stream",
     "text": [
      "[3]\n",
      "[1, 2, 3]\n",
      "[3]\n"
     ]
    }
   ],
   "source": [
    "###Without compound operator\n",
    "\n",
    "def add_item(list_x = []):\n",
    "    list_x = list_x + [3]\n",
    "    print(list_x)\n",
    "    \n",
    "add_item()\n",
    "add_item([1, 2])\n",
    "add_item()"
   ]
  },
  {
   "cell_type": "code",
   "execution_count": 12,
   "id": "4231e815",
   "metadata": {},
   "outputs": [
    {
     "name": "stdout",
     "output_type": "stream",
     "text": [
      "[3]\n",
      "[1, 2, 3]\n",
      "[3, 3]\n",
      "[3, 3, 3]\n"
     ]
    }
   ],
   "source": [
    "###Using compound operator\n",
    "def add_item(list_x = []):\n",
    "    list_x += [3]\n",
    "    print(list_x)\n",
    "    \n",
    "add_item()\n",
    "add_item([1, 2])\n",
    "add_item()\n",
    "add_item()"
   ]
  },
  {
   "cell_type": "code",
   "execution_count": 12,
   "id": "d7a538af",
   "metadata": {},
   "outputs": [
    {
     "name": "stdout",
     "output_type": "stream",
     "text": [
      "5\n",
      "-3\n",
      "java\n"
     ]
    }
   ],
   "source": [
    "#min()\n",
    "\n",
    "print(min(7,13,5))\n",
    "print(min([9, -3, 1]))\n",
    "print(min(\"python\", \"java\"))"
   ]
  },
  {
   "cell_type": "code",
   "execution_count": 13,
   "id": "72bad631",
   "metadata": {},
   "outputs": [
    {
     "name": "stdout",
     "output_type": "stream",
     "text": [
      "13\n",
      "9\n",
      "python\n"
     ]
    }
   ],
   "source": [
    "#max()\n",
    "\n",
    "print(max(7,13,5))\n",
    "print(max([9, -3, 1]))\n",
    "print(max(\"python\", \"java\"))"
   ]
  },
  {
   "cell_type": "code",
   "execution_count": 23,
   "id": "d1a15b9f",
   "metadata": {},
   "outputs": [
    {
     "name": "stdout",
     "output_type": "stream",
     "text": [
      "7\n",
      "37\n"
     ]
    }
   ],
   "source": [
    "#sum()\n",
    "\n",
    "print(sum([9, -3, 1]))\n",
    "print(sum([7,13,17]))"
   ]
  },
  {
   "cell_type": "code",
   "execution_count": 3,
   "id": "afe9c53c",
   "metadata": {},
   "outputs": [
    {
     "name": "stdout",
     "output_type": "stream",
     "text": [
      "[-7, -3, 1, 9, 13, 17, 37]\n",
      "[1, 2, 3, 4, 5, 6, 7]\n",
      "[-7, -3, 1, 9, 13, 17, 37]\n"
     ]
    }
   ],
   "source": [
    "##Sorted\n",
    "#Increasig order\n",
    "\n",
    "print(sorted([9, -3, 1, -7, 13, 37, 17]))\n",
    "print(sorted([3, 1, 2, 5, 7, 6, 4]))\n",
    "\n",
    "#another solution\n",
    "list_a = [9, -3, 1, -7, 13, 37, 17]\n",
    "list_x = sorted(list_a, reverse=False)\n",
    "print(list_x)"
   ]
  },
  {
   "cell_type": "code",
   "execution_count": 1,
   "id": "5b42003d",
   "metadata": {},
   "outputs": [
    {
     "name": "stdout",
     "output_type": "stream",
     "text": [
      "[37, 17, 13, 9, 1, -3, -7]\n"
     ]
    }
   ],
   "source": [
    "#Decreasing order\n",
    "\n",
    "list_a = [9, -3, 1, -7, 13, 37, 17]\n",
    "list_x = sorted(list_a, reverse=True)\n",
    "print(list_x)"
   ]
  },
  {
   "cell_type": "code",
   "execution_count": 8,
   "id": "36e079b1",
   "metadata": {},
   "outputs": [
    {
     "name": "stdout",
     "output_type": "stream",
     "text": [
      "c0d1n8\n",
      "9\n",
      "0\n",
      "8\n"
     ]
    }
   ],
   "source": [
    "#Wriite a program to extract the numbers in a given string and print the sum, minmum and maximum of those numbers\n",
    "\n",
    "def num_list(str_a):\n",
    "    num_list = []\n",
    "    for char in str_a:\n",
    "        if char.isdigit():\n",
    "            num_list += [int(char)]\n",
    "    return num_list\n",
    "            \n",
    "str_a = input()\n",
    "nums = num_list(str_a)\n",
    "     \n",
    "sum_numbers = sum(nums)\n",
    "print(sum_numbers)\n",
    "min_numbers = min(nums)\n",
    "print(min_numbers)\n",
    "max_numbers = max(nums)\n",
    "print(max_numbers)"
   ]
  },
  {
   "cell_type": "code",
   "execution_count": 11,
   "id": "7664153d",
   "metadata": {},
   "outputs": [
    {
     "name": "stdout",
     "output_type": "stream",
     "text": [
      "[1, 4, 9, 16, 25]\n"
     ]
    }
   ],
   "source": [
    "#Identify the mistake\n",
    "#Expected output [1, 4, 9, 16, 25]\n",
    "\n",
    "list_a = [2, 4, 1, 3, 5]\n",
    "list_x = []\n",
    "list_a = sorted(list_a)\n",
    "\n",
    "for item in list_a:\n",
    "    list_x += [item*item]\n",
    "print(list_x)"
   ]
  },
  {
   "cell_type": "code",
   "execution_count": 15,
   "id": "3e0fcdad",
   "metadata": {},
   "outputs": [
    {
     "name": "stdout",
     "output_type": "stream",
     "text": [
      "9\n"
     ]
    }
   ],
   "source": [
    "##Function call stack\n",
    "#Get largest square value\n",
    "\n",
    "def get_largest_sqr(list_x):\n",
    "    len_list = len(list_x)\n",
    "    for i in range(len_list):\n",
    "        x = list_x[i]\n",
    "        list_x[i] = x * x\n",
    "    largest = max(list_x)\n",
    "    return largest\n",
    "\n",
    "list_a = [1, -3, 2]\n",
    "result = get_largest_sqr(list_a)\n",
    "print(result)"
   ]
  },
  {
   "cell_type": "code",
   "execution_count": 23,
   "id": "ac2de6fb",
   "metadata": {},
   "outputs": [
    {
     "name": "stdout",
     "output_type": "stream",
     "text": [
      "205\n"
     ]
    }
   ],
   "source": [
    "##Function call stack\n",
    "#Get sum of squares\n",
    "\n",
    "def get_sqrd_value(x):\n",
    "    return (x * x)\n",
    "    \n",
    "def get_sum_sqrd_values(list_x):\n",
    "    sqrs_sum = 0\n",
    "    for i in list_x:\n",
    "        sqrs_sum += get_sqrd_value(i) #calling a fuction inside another fuction\n",
    "    return sqrs_sum\n",
    "        \n",
    "list_a = [7, 5, 3, 9, 1, 2, 6]\n",
    "result = get_sum_sqrd_values(list_a)\n",
    "print(result)"
   ]
  },
  {
   "cell_type": "code",
   "execution_count": 25,
   "id": "36ef89ca",
   "metadata": {},
   "outputs": [
    {
     "name": "stdout",
     "output_type": "stream",
     "text": [
      "5\n",
      "120\n"
     ]
    }
   ],
   "source": [
    "#Recursion function\n",
    "\n",
    "def multiply(x): #Recursive funtion\n",
    "    if x == 1:\n",
    "        return 1\n",
    "    return (x * multiply(x - 1)) #calling fuction itself inside the function ###Recursion\n",
    "\n",
    "n = int(input())\n",
    "result = multiply(n)\n",
    "print(result)"
   ]
  },
  {
   "cell_type": "code",
   "execution_count": 29,
   "id": "a722e250",
   "metadata": {},
   "outputs": [
    {
     "name": "stdout",
     "output_type": "stream",
     "text": [
      "5\n",
      "15\n"
     ]
    }
   ],
   "source": [
    "#Identify the mistake\n",
    "\n",
    "def get_sum_nums(x):\n",
    "    if (x == 0):\n",
    "        return 0\n",
    "    return (x + get_sum_nums(x - 1))\n",
    "    \n",
    "n = int(input())\n",
    "result = get_sum_nums(n)\n",
    "print(result)"
   ]
  },
  {
   "cell_type": "code",
   "execution_count": 35,
   "id": "e602b8c6",
   "metadata": {},
   "outputs": [
    {
     "name": "stdout",
     "output_type": "stream",
     "text": [
      "[1, 2, 3]\n",
      "[1, 2, 3, 4, [5, 6, 7]]\n"
     ]
    }
   ],
   "source": [
    "#List methods\n",
    "\n",
    "#append()\n",
    "\n",
    "list_a = []\n",
    "\n",
    "for x in range(1, 4):\n",
    "    list_a.append(x)\n",
    "print(list_a)\n",
    "\n",
    "#another solution\n",
    "list_a = [1, 2, 3, 4]\n",
    "list_b = [5, 6, 7]\n",
    "list_a.append(list_b)\n",
    "print(list_a)"
   ]
  },
  {
   "cell_type": "code",
   "execution_count": 36,
   "id": "76eb9791",
   "metadata": {},
   "outputs": [
    {
     "name": "stdout",
     "output_type": "stream",
     "text": [
      "[1, 2, 3, 4, 5, 6, 7]\n"
     ]
    }
   ],
   "source": [
    "#extend()\n",
    "\n",
    "list_a = [1, 2, 3, 4]\n",
    "list_b = [5, 6, 7]\n",
    "list_a.extend(list_b)\n",
    "print(list_a)"
   ]
  },
  {
   "cell_type": "code",
   "execution_count": 38,
   "id": "7521e213",
   "metadata": {},
   "outputs": [
    {
     "name": "stdout",
     "output_type": "stream",
     "text": [
      "[1, 2, 3, 4]\n"
     ]
    }
   ],
   "source": [
    "#insert()\n",
    "\n",
    "list_a = [1, 2, 3]\n",
    "list_a.insert(3, 4) #index, value\n",
    "print(list_a)"
   ]
  },
  {
   "cell_type": "code",
   "execution_count": 40,
   "id": "bf4a390c",
   "metadata": {},
   "outputs": [
    {
     "name": "stdout",
     "output_type": "stream",
     "text": [
      "[1, 2, 3, 4]\n",
      "[1, 3, 4]\n"
     ]
    }
   ],
   "source": [
    "#pop()\n",
    "\n",
    "list_a = [1, 2, 3, 4, 5]\n",
    "list_a.pop() #without index it removes last item in the list\n",
    "print(list_a)\n",
    "list_a.pop(1) #we are giving index value\n",
    "print(list_a)"
   ]
  },
  {
   "cell_type": "code",
   "execution_count": 41,
   "id": "0043832a",
   "metadata": {},
   "outputs": [
    {
     "name": "stdout",
     "output_type": "stream",
     "text": [
      "[1, 2, 3, 4]\n"
     ]
    }
   ],
   "source": [
    "#remove()\n",
    "\n",
    "list_a = [1, 3, 2, 3, 4]\n",
    "list_a.remove(3) #remove 1st matching element from the list\n",
    "print(list_a)"
   ]
  },
  {
   "cell_type": "code",
   "execution_count": 42,
   "id": "0aba4917",
   "metadata": {},
   "outputs": [
    {
     "name": "stdout",
     "output_type": "stream",
     "text": [
      "[]\n"
     ]
    }
   ],
   "source": [
    "#clear\n",
    "\n",
    "list_a = [1, 2, 3, 4, 5]\n",
    "list_a.clear()\n",
    "print(list_a)"
   ]
  },
  {
   "cell_type": "code",
   "execution_count": 45,
   "id": "7450a640",
   "metadata": {},
   "outputs": [
    {
     "name": "stdout",
     "output_type": "stream",
     "text": [
      "1\n"
     ]
    }
   ],
   "source": [
    "#index()\n",
    "\n",
    "list_a = [1, 3, 2, 3, 4]\n",
    "print(list_a.index(3)) #returns the index at the first occurence of the specified value"
   ]
  },
  {
   "cell_type": "code",
   "execution_count": 47,
   "id": "ba3226d1",
   "metadata": {},
   "outputs": [
    {
     "name": "stdout",
     "output_type": "stream",
     "text": [
      "2\n"
     ]
    }
   ],
   "source": [
    "#count()\n",
    "\n",
    "list_a = [1, 3, 2, 3, 4]\n",
    "print(list_a.count(3)) #return the number of elements with specified value"
   ]
  },
  {
   "cell_type": "code",
   "execution_count": 48,
   "id": "2b8d06c1",
   "metadata": {},
   "outputs": [
    {
     "name": "stdout",
     "output_type": "stream",
     "text": [
      "[1, 2, 3, 5, 6, 7, 9]\n"
     ]
    }
   ],
   "source": [
    "#sort()\n",
    "\n",
    "list_a = [7, 5, 3, 9, 1, 2, 6]\n",
    "list_a.sort()\n",
    "print(list_a)"
   ]
  },
  {
   "cell_type": "code",
   "execution_count": 50,
   "id": "c7c338e2",
   "metadata": {},
   "outputs": [
    {
     "name": "stdout",
     "output_type": "stream",
     "text": [
      "9\n",
      "34\n"
     ]
    }
   ],
   "source": [
    "###\n",
    "Fibonacci series\n",
    "\n",
    "def fibonacci(x):\n",
    "    if x <= 1:\n",
    "        return x\n",
    "    return fibonacci(x - 1) + fibonacci(x - 2)\n",
    "\n",
    "n = int(input())\n",
    "result = fibonacci(n)\n",
    "print(result)"
   ]
  },
  {
   "cell_type": "code",
   "execution_count": 1,
   "id": "de64de58",
   "metadata": {},
   "outputs": [
    {
     "name": "stdout",
     "output_type": "stream",
     "text": [
      "7\n",
      "None\n"
     ]
    }
   ],
   "source": [
    "#None\n",
    "\n",
    "def increment(a):\n",
    "    a += 1\n",
    "    return None #wihtout using None statement also we get None as a value\n",
    "\n",
    "n = int(input())\n",
    "result = increment(n)\n",
    "print(result)"
   ]
  },
  {
   "cell_type": "code",
   "execution_count": 3,
   "id": "16d3ce29",
   "metadata": {},
   "outputs": [
    {
     "name": "stdout",
     "output_type": "stream",
     "text": [
      "Hi\n",
      "None\n"
     ]
    }
   ],
   "source": [
    "result = print(\"Hi\")\n",
    "print(result)"
   ]
  },
  {
   "cell_type": "code",
   "execution_count": 7,
   "id": "db8968ed",
   "metadata": {},
   "outputs": [
    {
     "name": "stdout",
     "output_type": "stream",
     "text": [
      "<class 'tuple'>\n"
     ]
    }
   ],
   "source": [
    "#Tuple\n",
    "\n",
    "tuple_a = (1, \"MAHARSHI\", 13, \"b\", 7)\n",
    "print(type(tuple_a))"
   ]
  },
  {
   "cell_type": "code",
   "execution_count": 9,
   "id": "e9eb7d62",
   "metadata": {},
   "outputs": [
    {
     "name": "stdout",
     "output_type": "stream",
     "text": [
      "<class 'tuple'>\n",
      "<class 'int'>\n",
      "<class 'tuple'>\n",
      "<class 'tuple'>\n"
     ]
    }
   ],
   "source": [
    "a = ()\n",
    "b = (7) #without comma any single data type element consider as not a tuple\n",
    "c = (7,) #with comma it considered as a tuple\n",
    "d = (1, 3)\n",
    "\n",
    "print(type(a))\n",
    "print(type(b))\n",
    "print(type(c))\n",
    "print(type(d))"
   ]
  },
  {
   "cell_type": "code",
   "execution_count": 12,
   "id": "30c680f0",
   "metadata": {},
   "outputs": [
    {
     "name": "stdout",
     "output_type": "stream",
     "text": [
      "MAHARSHI\n",
      "5\n",
      "1\n",
      "MAHARSHI\n",
      "13\n",
      "b\n",
      "7\n",
      "('MAHARSHI', 13)\n",
      "(1, 13)\n"
     ]
    }
   ],
   "source": [
    "\n",
    "tuple_a = (1, \"MAHARSHI\", 13, \"b\", 7)\n",
    "\n",
    "#Accessing tuple elements\n",
    "print(tuple_a[1]) #using index value\n",
    "\n",
    "#len()\n",
    "print(len(tuple_a))\n",
    "\n",
    "#Iterating\n",
    "for a in tuple_a:\n",
    "    print(a)\n",
    "    \n",
    "#Slicing\n",
    "print(tuple_a[1:3])\n",
    "\n",
    "#extended slicing\n",
    "print(tuple_a[0:4:2])"
   ]
  },
  {
   "cell_type": "code",
   "execution_count": 13,
   "id": "417135ae",
   "metadata": {},
   "outputs": [
    {
     "name": "stdout",
     "output_type": "stream",
     "text": [
      "('M', 'A', 'H', 'A', 'R', 'S', 'H', 'I')\n",
      "(0, 1, 2, 3, 4)\n",
      "(7, 5, 3, 9, 1, 2, 6)\n"
     ]
    }
   ],
   "source": [
    "#converting to tuple\n",
    "\n",
    "a = \"MAHARSHI\"\n",
    "print(tuple(a))\n",
    "\n",
    "b = range(5)\n",
    "print(tuple(b))\n",
    "\n",
    "c = [7, 5, 3, 9, 1, 2, 6]\n",
    "print(tuple(c))"
   ]
  },
  {
   "cell_type": "code",
   "execution_count": 18,
   "id": "eda29db6",
   "metadata": {},
   "outputs": [
    {
     "name": "stdout",
     "output_type": "stream",
     "text": [
      "False\n",
      "True\n",
      "True\n",
      "False\n"
     ]
    }
   ],
   "source": [
    "#membership check\n",
    "\n",
    "a = (7, 5, 3, 9, 1, 2, 6)\n",
    "is_part = 4 in a\n",
    "print(is_part)\n",
    "is_part = 4 not in a\n",
    "print(is_part)\n",
    "\n",
    "#with list\n",
    "a = [7, 5, 3, 9, 1, 2, 6]\n",
    "is_part = 7 in a\n",
    "print(is_part)\n",
    "\n",
    "#with string\n",
    "a = \"MAHARSHI\"\n",
    "is_part = \"MA\" not in a\n",
    "print(is_part)"
   ]
  },
  {
   "cell_type": "code",
   "execution_count": 21,
   "id": "d511c9f5",
   "metadata": {},
   "outputs": [
    {
     "name": "stdout",
     "output_type": "stream",
     "text": [
      "r\n",
      "e\n",
      "d\n",
      "e\n",
      "d\n"
     ]
    }
   ],
   "source": [
    "###Unpacking\n",
    "\n",
    "#with Tuple\n",
    "a = (\"r\", \"e\", \"d\")\n",
    "(s_1, s_2, s_3) = a #assining elements to the variables ###no. of variable equal to no. of elements \n",
    "print(s_1)\n",
    "print(s_2)\n",
    "print(s_3)\n",
    "\n",
    "#with List\n",
    "a = [\"r\", \"e\", \"d\"]\n",
    "(s_1, s_2, s_3) = a\n",
    "print(s_2)\n",
    "\n",
    "#with String\n",
    "a = \"red\"\n",
    "(s_1, s_2, s_3) = a\n",
    "print(s_3)"
   ]
  },
  {
   "cell_type": "code",
   "execution_count": 30,
   "id": "cbd66f90",
   "metadata": {},
   "outputs": [
    {
     "name": "stdout",
     "output_type": "stream",
     "text": [
      "<class 'tuple'>\n",
      "(1, 2, 3, 4, 5)\n",
      "<class 'tuple'>\n",
      "(7,)\n",
      "<class 'int'>\n",
      "7\n"
     ]
    }
   ],
   "source": [
    "###Packing\n",
    "\n",
    "a = 1, \n",
    "2, 3, 4, 5 #brackets are optional while creating tuples\n",
    "print(type(a))\n",
    "print(a)\n",
    "\n",
    "#single element while packing\n",
    "b = 7, \n",
    "print(type(b))\n",
    "print(b)\n",
    "\n",
    "#Packing & Unpacking\n",
    "b, = 7, #by placing comma packing & unpacking at the same time\n",
    "print(type(b))\n",
    "print(b)"
   ]
  },
  {
   "cell_type": "code",
   "execution_count": 25,
   "id": "b553c6eb",
   "metadata": {},
   "outputs": [
    {
     "name": "stdout",
     "output_type": "stream",
     "text": [
      "1\n",
      "2\n",
      "HI\n"
     ]
    }
   ],
   "source": [
    "#Example for tuple packing & unpacking\n",
    "\n",
    "a, b, c = 1, 2, \"HI\"\n",
    "print(a)\n",
    "print(b)\n",
    "print(c)"
   ]
  },
  {
   "cell_type": "code",
   "execution_count": 26,
   "id": "09e336d7",
   "metadata": {},
   "outputs": [
    {
     "name": "stdout",
     "output_type": "stream",
     "text": [
      "12\n",
      "35\n"
     ]
    }
   ],
   "source": [
    "#Example for tuple packing & unpacking\n",
    "\n",
    "def get_sum_and_product(a, b):\n",
    "    nums_sum = a + b\n",
    "    nums_product = a * b\n",
    "    return nums_sum, nums_product\n",
    "\n",
    "x, y = get_sum_and_product(5, 7)\n",
    "print(x)\n",
    "print(y)"
   ]
  },
  {
   "cell_type": "code",
   "execution_count": 29,
   "id": "69efc9e3",
   "metadata": {},
   "outputs": [
    {
     "name": "stdout",
     "output_type": "stream",
     "text": [
      "1,2,3,4,5\n",
      "(1, 2, 3, 4, 5)\n"
     ]
    }
   ],
   "source": [
    "#Identify the mistake\n",
    "\n",
    "str_a = input()\n",
    "a = str_a.split(\",\")\n",
    "i = 0\n",
    "for item in a:\n",
    "    a[i] = int(item)\n",
    "    i += 1\n",
    "print(tuple(a))"
   ]
  },
  {
   "cell_type": "code",
   "execution_count": 6,
   "id": "62761e23",
   "metadata": {},
   "outputs": [
    {
     "name": "stdout",
     "output_type": "stream",
     "text": [
      "<class 'set'>\n",
      "{'MAHARSHI', 1, 7}\n",
      "{1, 2, 3}\n",
      "<class 'set'>\n",
      "set()\n"
     ]
    }
   ],
   "source": [
    "#set\n",
    "\n",
    "a = 7\n",
    "set_a = {1, \"MAHARSHI\", a}\n",
    "print(type(set_a))\n",
    "print(set_a)\n",
    "\n",
    "#no duplicate items\n",
    "set_a = {1, 3, 2, 3, 1} #repeated values prints only one time\n",
    "print(set_a)\n",
    "\n",
    "#empty set\n",
    "a = set()\n",
    "print(type(a))\n",
    "print(a)"
   ]
  },
  {
   "cell_type": "code",
   "execution_count": 10,
   "id": "fe36cd3a",
   "metadata": {},
   "outputs": [
    {
     "name": "stdout",
     "output_type": "stream",
     "text": [
      "<class 'set'>\n",
      "{1, 2}\n",
      "{'H', 'R', 'S', 'A', 'M', 'I'}\n",
      "{1, 2}\n"
     ]
    }
   ],
   "source": [
    "#converting to set\n",
    "\n",
    "#list of items\n",
    "set_a = set([1, 2, 1])\n",
    "print(type(set_a))\n",
    "print(set_a)\n",
    "\n",
    "#string\n",
    "a = set(\"MAHARSHI\")\n",
    "print(a)\n",
    "\n",
    "#tuple\n",
    "a = set((1, 2, 1))\n",
    "print(a)"
   ]
  },
  {
   "cell_type": "code",
   "execution_count": 27,
   "id": "bbf7b18d",
   "metadata": {},
   "outputs": [
    {
     "name": "stdout",
     "output_type": "stream",
     "text": [
      "{1, 2, 3, 4, 5, 6, 7, 13}\n",
      "{1, 3, 9, 7}\n",
      "{1, 9}\n",
      "{1, 3}\n"
     ]
    }
   ],
   "source": [
    "#adding items\n",
    "a = {7, 5, 3, 6, 4, 2, 1}\n",
    "a.add(13)\n",
    "print(a)\n",
    "\n",
    "#adding multiple items\n",
    "set_a = {1, 3, 9}\n",
    "set_a.update([7, 9])\n",
    "print(set_a)\n",
    "\n",
    "#remove specific item\n",
    "set_a = {1, 3, 9}\n",
    "set_a.discard(3)\n",
    "set_a.discard(7) #it removes the item if it is present otherwise print it as it is\n",
    "print(set_a)\n",
    "\n",
    "#remove\n",
    "set_a = {1, 3, 9}\n",
    "set_a.remove(9) #it removes if the item exist otherwise it occures KEY ERROR\n",
    "print(set_a)"
   ]
  },
  {
   "cell_type": "code",
   "execution_count": 36,
   "id": "9463d78d",
   "metadata": {},
   "outputs": [
    {
     "name": "stdout",
     "output_type": "stream",
     "text": [
      "set()\n",
      "4\n",
      "MAHARSHI\n",
      "1\n",
      "1.3\n",
      "7\n",
      "True\n",
      "True\n"
     ]
    }
   ],
   "source": [
    "#operations on sets\n",
    "\n",
    "#clear()\n",
    "a = 7\n",
    "set_a = {1, \"MAHARSHI\", a, 1.3}\n",
    "set_a.clear()\n",
    "print(set_a)\n",
    "\n",
    "#len()\n",
    "a = 7\n",
    "set_a = {1, \"MAHARSHI\", a, 1.3}\n",
    "print(len(set_a))\n",
    "\n",
    "#iterating\n",
    "a = 7\n",
    "set_a = {1, \"MAHARSHI\", a, 1.3}\n",
    "for i in set_a:\n",
    "    print(i)\n",
    "\n",
    "\n",
    "#membership check\n",
    "a = 7\n",
    "set_a = {1, \"MAHARSHI\", a, 1.3}\n",
    "is_part = 7 in set_a\n",
    "print(is_part)\n",
    "is_part = \"MAHA\" not in set_a\n",
    "print(is_part)"
   ]
  },
  {
   "cell_type": "code",
   "execution_count": 45,
   "id": "0df68998",
   "metadata": {},
   "outputs": [
    {
     "name": "stdout",
     "output_type": "stream",
     "text": [
      "{'MAHARSHI', 'BANDARI'}\n"
     ]
    }
   ],
   "source": [
    "#Identify the mistake\n",
    "\n",
    "set_a = {\"MAHARSHI\"}\n",
    "set_a.add(\"BANDARI\")\n",
    "print(set_a)"
   ]
  },
  {
   "cell_type": "code",
   "execution_count": 67,
   "id": "738df9e1",
   "metadata": {},
   "outputs": [
    {
     "name": "stdout",
     "output_type": "stream",
     "text": [
      "{1, 3, 5, 7, 9}\n",
      "{1, 3, 5, 7, 9}\n"
     ]
    }
   ],
   "source": [
    "#Union\n",
    "\n",
    "set_a = {1, 3, 7}\n",
    "set_b = {5, 3, 9}\n",
    "union_set = set_a | set_b\n",
    "print(union_set)\n",
    "\n",
    "#another solution\n",
    "set_a = {1, 3, 7}\n",
    "union_set = set_a.union([5, 3, 9])\n",
    "print(union_set)"
   ]
  },
  {
   "cell_type": "code",
   "execution_count": 52,
   "id": "726d9e2a",
   "metadata": {},
   "outputs": [
    {
     "name": "stdout",
     "output_type": "stream",
     "text": [
      "{1, 3}\n",
      "{1, 3}\n"
     ]
    }
   ],
   "source": [
    "#Intersection\n",
    "\n",
    "set_a = {1, 3, 7, 0}\n",
    "set_b = {5, 3, 9, 1}\n",
    "intersection_set = set_a & set_b\n",
    "print(intersection_set)\n",
    "\n",
    "#another solution\n",
    "set_a = {1, 3, 7, 0}\n",
    "intersection_set = set_a.intersection({5, 3, 9, 1})\n",
    "print(intersection_set)"
   ]
  },
  {
   "cell_type": "code",
   "execution_count": 61,
   "id": "b7be5153",
   "metadata": {},
   "outputs": [
    {
     "name": "stdout",
     "output_type": "stream",
     "text": [
      "{9, 5}\n",
      "{0, 7}\n"
     ]
    }
   ],
   "source": [
    "#Difference\n",
    "\n",
    "set_a = {1, 3, 7, 0}\n",
    "set_b = {5, 3, 9, 1}\n",
    "difference_set = set_b - set_a\n",
    "print(difference_set)\n",
    "\n",
    "#another solution\n",
    "set_a = {1, 3, 7, 0}\n",
    "list_b = [5, 3, 9, 1]\n",
    "difference_set = set_a.difference(list_b)\n",
    "print(difference_set)"
   ]
  },
  {
   "cell_type": "code",
   "execution_count": 58,
   "id": "f9868237",
   "metadata": {},
   "outputs": [
    {
     "name": "stdout",
     "output_type": "stream",
     "text": [
      "{0, 5, 7, 9}\n",
      "{0, 5, 7, 9}\n"
     ]
    }
   ],
   "source": [
    "#Symmetric difference\n",
    "\n",
    "set_a = {1, 3, 7, 0}\n",
    "set_b = {5, 3, 9, 1}\n",
    "symmetric_difference_set = set_b ^ set_a\n",
    "print(symmetric_difference_set)\n",
    "\n",
    "#another solution\n",
    "set_a = {1, 3, 7, 0}\n",
    "set_b = {5, 3, 9, 1}\n",
    "symmetric_difference_set = set_a.symmetric_difference(set_b)\n",
    "print(symmetric_difference_set)"
   ]
  },
  {
   "cell_type": "code",
   "execution_count": 62,
   "id": "73932ba6",
   "metadata": {},
   "outputs": [
    {
     "name": "stdout",
     "output_type": "stream",
     "text": [
      "True\n"
     ]
    }
   ],
   "source": [
    "#Subset()\n",
    "\n",
    "set_a = {'a', 1, 3, 5}\n",
    "set_b = {'a', 1}\n",
    "print(set_b.issubset(set_a))"
   ]
  },
  {
   "cell_type": "code",
   "execution_count": 64,
   "id": "81ebf306",
   "metadata": {},
   "outputs": [
    {
     "name": "stdout",
     "output_type": "stream",
     "text": [
      "True\n"
     ]
    }
   ],
   "source": [
    "#superSet()\n",
    "\n",
    "set_a = {'a', 1, 3, 5}\n",
    "set_b = {'a', 1}\n",
    "print(set_a.issuperset(set_b))"
   ]
  },
  {
   "cell_type": "code",
   "execution_count": 66,
   "id": "285501c5",
   "metadata": {},
   "outputs": [
    {
     "name": "stdout",
     "output_type": "stream",
     "text": [
      "True\n"
     ]
    }
   ],
   "source": [
    "#disjointset()\n",
    "\n",
    "set_a = {'a', 1, 3, 5}\n",
    "set_b = {'am', 7}\n",
    "print(set_a.isdisjoint(set_b)) #there is no common elements must be there"
   ]
  },
  {
   "cell_type": "code",
   "execution_count": 18,
   "id": "fdd22909",
   "metadata": {},
   "outputs": [
    {
     "name": "stdout",
     "output_type": "stream",
     "text": [
      "5,3,7,9,5\n",
      "12\n",
      "(3, 9)\n",
      "(5, 7)\n"
     ]
    }
   ],
   "source": [
    "#Given comma separated numbers and an integer K, write a program to find all the unique pairs with sum K\n",
    "\n",
    "def convert_str_to_int(str_num_list):\n",
    "    new_list = []\n",
    "    for item in str_num_list:\n",
    "        int_item = int(item)\n",
    "        new_list.append(int_item)\n",
    "    return new_list\n",
    "\n",
    "def get_unique_pairs(int_list, pair_sum):\n",
    "    stop_index = len(int_list) - 1\n",
    "    unique_pairs_set = set()\n",
    "    for i in range(stop_index):\n",
    "        num_1 = int_list[i]\n",
    "        num_2 = pair_sum - num_1\n",
    "        remaining_list = int_list[i+1:]\n",
    "        if num_2 in remaining_list:\n",
    "            pair = (num_1, num_2)\n",
    "            sorted_pair = tuple(sorted(pair))\n",
    "            unique_pairs_set.add(sorted_pair)\n",
    "    return unique_pairs_set\n",
    "    \n",
    "str_num_list = input().split(\",\")\n",
    "pair_sum = int(input())\n",
    "int_list = convert_str_to_int(str_num_list)\n",
    "unique_pairs = get_unique_pairs(int_list, pair_sum)\n",
    "\n",
    "for each_pair in unique_pairs:\n",
    "    print(each_pair)"
   ]
  },
  {
   "cell_type": "code",
   "execution_count": 26,
   "id": "4da28b49",
   "metadata": {},
   "outputs": [
    {
     "name": "stdout",
     "output_type": "stream",
     "text": [
      "1,2,3,4,5\n",
      "7\n",
      "[3, 4, 5, 1, 2]\n"
     ]
    }
   ],
   "source": [
    "#Given N comma separated numbers and integer D. write a program to print list which is rotated D times\n",
    "\n",
    "def convert_str_to_int(str_num_list):\n",
    "    new_list = []\n",
    "    for num in str_num_list:\n",
    "        int_num = int(num)\n",
    "        new_list.append(int_num)\n",
    "    return new_list\n",
    "\n",
    "str_num_list = input().split(\",\")\n",
    "rotate =int(input())\n",
    "int_list = convert_str_to_int(str_num_list)\n",
    "rotation_times = rotate % len(int_list)\n",
    "list_first_part = int_list[rotation_times:]\n",
    "list_second_part = int_list[:rotation_times]\n",
    "list_first_part.extend(list_second_part)\n",
    "print(list_first_part)"
   ]
  },
  {
   "cell_type": "code",
   "execution_count": 29,
   "id": "322af65a",
   "metadata": {},
   "outputs": [
    {
     "name": "stdout",
     "output_type": "stream",
     "text": [
      "8 20\n"
     ]
    }
   ],
   "source": [
    "#Identify the mistake\n",
    "\n",
    "list_a = [5, 20, 3, 7, 6, 8]\n",
    "k = 2 \n",
    "list_a.sort()\n",
    "list_len = len(list_a)\n",
    "res = list_a[list_len - k :]\n",
    "for i in range(k):\n",
    "    res[i] = str(res[i])\n",
    "print(\" \".join(res))"
   ]
  },
  {
   "cell_type": "code",
   "execution_count": 34,
   "id": "927c098b",
   "metadata": {},
   "outputs": [
    {
     "name": "stdout",
     "output_type": "stream",
     "text": [
      "3\n",
      "4\n",
      "I\n"
     ]
    }
   ],
   "source": [
    "#Nested list\n",
    "\n",
    "list_a = [1, \"MAHARSHI\", [7, 9, [1, 3]], 7.3]\n",
    "print(list_a[2][2][1])\n",
    "\n",
    "#tuple in the list\n",
    "list_a = [1, 2, (3, 4, 5)]\n",
    "print(list_a[2][1])\n",
    "\n",
    "#string in the list\n",
    "list_a = [\"MAHARSHI\", \"BANDARI\"]\n",
    "print(list_a[1][6])"
   ]
  },
  {
   "cell_type": "code",
   "execution_count": 38,
   "id": "713d2265",
   "metadata": {},
   "outputs": [
    {
     "name": "stdout",
     "output_type": "stream",
     "text": [
      "Maharshi\n",
      "21\n",
      "Hi Maharshi. You are 21 years old.\n",
      "Nithin\n",
      "21\n",
      "Hi Nithin. You are 21 years old.\n"
     ]
    }
   ],
   "source": [
    "#string formatting\n",
    "\n",
    "name = input()\n",
    "age = int(input())\n",
    "text = \"Hi {}. You are {} years old.\"\n",
    "print(text.format(name, age))\n",
    "\n",
    "name = input()\n",
    "age = int(input())\n",
    "print(text.format(name, age))"
   ]
  },
  {
   "cell_type": "code",
   "execution_count": 39,
   "id": "ca30a963",
   "metadata": {},
   "outputs": [
    {
     "name": "stdout",
     "output_type": "stream",
     "text": [
      "MAHARSHI\n",
      "21\n",
      "Hi MAHARSHI. You are 21 years old.\n"
     ]
    }
   ],
   "source": [
    "#using numbering\n",
    "\n",
    "name = input()\n",
    "age = int(input())\n",
    "text = \"Hi {1}. You are {0} years old.\"\n",
    "print(text.format(age, name))"
   ]
  },
  {
   "cell_type": "code",
   "execution_count": 42,
   "id": "1e6112b5",
   "metadata": {},
   "outputs": [
    {
     "name": "stdout",
     "output_type": "stream",
     "text": [
      "Maharshi\n",
      "21\n",
      "Hi Maharshi. You are 21 years old.\n"
     ]
    }
   ],
   "source": [
    "#using names\n",
    "\n",
    "name = input()\n",
    "age = int(input())\n",
    "text = \"Hi {arg_1}. You are {arg_2} years old.\"\n",
    "print(text.format(arg_2 = age, arg_1 = name))"
   ]
  },
  {
   "cell_type": "code",
   "execution_count": 50,
   "id": "e99c53f5",
   "metadata": {},
   "outputs": [
    {
     "name": "stdout",
     "output_type": "stream",
     "text": [
      "Tic TAC TOe\n",
      "a: 1\n",
      "c: 2\n",
      "e: 1\n",
      "i: 1\n",
      "o: 1\n",
      "t: 3\n"
     ]
    }
   ],
   "source": [
    "#write a program to compute the frequency of characters other than sapce. print the output in alphabetical order.\n",
    "# *note: ignore the case of the characters\n",
    "\n",
    "def print_char_count(line):\n",
    "    line = line.lower()\n",
    "    unique_chars = set(line)\n",
    "    unique_chars.discard(\" \")\n",
    "    for char in (sorted(unique_chars)):\n",
    "        msg = \"{char}: {count}\"\n",
    "        print(msg.format(char = char, count = line.count(char)))\n",
    "        \n",
    "line = input()\n",
    "print_char_count(line)"
   ]
  },
  {
   "cell_type": "code",
   "execution_count": 49,
   "id": "737000d1",
   "metadata": {},
   "outputs": [
    {
     "name": "stdout",
     "output_type": "stream",
     "text": [
      "Maharshi\n",
      "Cricket\n",
      "Maharshi is playing Cricket\n"
     ]
    }
   ],
   "source": [
    "#Identify the mistake\n",
    "\n",
    "str_a = input()\n",
    "str_b = input()\n",
    "msg = \"{arg_1} is playing {arg_2}\"\n",
    "print(msg.format(arg_1 = str_a, arg_2 = str_b))"
   ]
  },
  {
   "cell_type": "code",
   "execution_count": 53,
   "id": "1ac020f5",
   "metadata": {},
   "outputs": [
    {
     "name": "stdout",
     "output_type": "stream",
     "text": [
      "<class 'dict'>\n",
      "{'name': 'Maharshi', 'age': 21, 'roll_no': 21}\n"
     ]
    }
   ],
   "source": [
    "#Dictionary\n",
    "\n",
    "dict_a = {\n",
    "    \"name\" : \"Maharshi\",\n",
    "    \"age\" : 21,\n",
    "    \"roll_no\" : 21\n",
    "}\n",
    "print(type(dict_a))\n",
    "print(dict_a)"
   ]
  },
  {
   "cell_type": "code",
   "execution_count": 54,
   "id": "b571e5db",
   "metadata": {},
   "outputs": [
    {
     "name": "stdout",
     "output_type": "stream",
     "text": [
      "<class 'dict'>\n",
      "{}\n"
     ]
    }
   ],
   "source": [
    "#empty dictionary\n",
    "\n",
    "dict_a = dict()\n",
    "print(type(dict_a))\n",
    "print(dict_a)"
   ]
  },
  {
   "cell_type": "code",
   "execution_count": 55,
   "id": "383e737d",
   "metadata": {},
   "outputs": [
    {
     "name": "stdout",
     "output_type": "stream",
     "text": [
      "<class 'dict'>\n",
      "{}\n"
     ]
    }
   ],
   "source": [
    "#another solution for empty dictionary\n",
    "\n",
    "dict_a = {}\n",
    "print(type(dict_a))\n",
    "print(dict_a)"
   ]
  },
  {
   "cell_type": "code",
   "execution_count": 57,
   "id": "e01ab739",
   "metadata": {},
   "outputs": [
    {
     "name": "stdout",
     "output_type": "stream",
     "text": [
      "Maharshi\n"
     ]
    }
   ],
   "source": [
    "#accessing items\n",
    "\n",
    "dict_a = {\n",
    "    \"name\" : \"Maharshi\",\n",
    "    \"age\" : 21,\n",
    "    \"roll_no\" : 21\n",
    "}\n",
    "print(dict_a[\"name\"]) #It give KEY ERROR when we provided wrong or not existed key"
   ]
  },
  {
   "cell_type": "code",
   "execution_count": 58,
   "id": "06971e70",
   "metadata": {},
   "outputs": [
    {
     "name": "stdout",
     "output_type": "stream",
     "text": [
      "Maharshi\n"
     ]
    }
   ],
   "source": [
    "#another solution for accessing item\n",
    "\n",
    "dict_a = {\n",
    "    \"name\" : \"Maharshi\",\n",
    "    \"age\" : 21,\n",
    "    \"roll_no\" : 21\n",
    "}\n",
    "print(dict_a.get(\"name\")) #It give NONE as output when we provided wrong or not existed key"
   ]
  },
  {
   "cell_type": "code",
   "execution_count": 1,
   "id": "c7a69149",
   "metadata": {},
   "outputs": [
    {
     "name": "stdout",
     "output_type": "stream",
     "text": [
      "True\n"
     ]
    }
   ],
   "source": [
    "#membership check in dictionary\n",
    "\n",
    "dict_a = {\n",
    "    \"name\" : \"Maharshi\",\n",
    "    \"age\" : 21,\n",
    "    \"roll_no\" : 21\n",
    "}\n",
    "\n",
    "result = \"name\" in dict_a #checks if the given key exists\n",
    "print(result)"
   ]
  },
  {
   "cell_type": "code",
   "execution_count": 2,
   "id": "c8964787",
   "metadata": {},
   "outputs": [
    {
     "name": "stdout",
     "output_type": "stream",
     "text": [
      "{'name': 'Maharshi', 'age': 21, 'roll_no': 21, 'city': 'Parkal'}\n"
     ]
    }
   ],
   "source": [
    "#adding key-value pairs\n",
    "\n",
    "dict_a = {\n",
    "    \"name\" : \"Maharshi\",\n",
    "    \"age\" : 21,\n",
    "    \"roll_no\" : 21\n",
    "}\n",
    "dict_a[\"city\"] = \"Parkal\"\n",
    "print(dict_a)"
   ]
  },
  {
   "cell_type": "code",
   "execution_count": 5,
   "id": "dee7efc1",
   "metadata": {},
   "outputs": [
    {
     "name": "stdout",
     "output_type": "stream",
     "text": [
      "{'name': 'Maharshi', 'age': 21, 'roll_no': 13}\n"
     ]
    }
   ],
   "source": [
    "#modifying an existing item\n",
    "\n",
    "dict_a = {\n",
    "    \"name\" : \"Maharshi\",\n",
    "    \"age\" : 21,\n",
    "    \"roll_no\" : 21\n",
    "}\n",
    "dict_a[\"roll_no\"] = 13 #it modify the key if exist, otherwise add the new key-value pair\n",
    "print(dict_a)"
   ]
  },
  {
   "cell_type": "code",
   "execution_count": 4,
   "id": "6cfffe18",
   "metadata": {},
   "outputs": [
    {
     "name": "stdout",
     "output_type": "stream",
     "text": [
      "{'name': 'Maharshi', 'age': 21}\n"
     ]
    }
   ],
   "source": [
    "#deleting an existing item\n",
    "\n",
    "dict_a = {\n",
    "    \"name\" : \"Maharshi\",\n",
    "    \"age\" : 21,\n",
    "    \"roll_no\" : 21\n",
    "}\n",
    "del dict_a[\"roll_no\"] \n",
    "print(dict_a)"
   ]
  },
  {
   "cell_type": "code",
   "execution_count": 6,
   "id": "79cc98a5",
   "metadata": {},
   "outputs": [
    {
     "name": "stdout",
     "output_type": "stream",
     "text": [
      "dict_keys(['name', 'age', 'roll_no'])\n",
      "dict_values(['Maharshi', 21, 21])\n",
      "dict_items([('name', 'Maharshi'), ('age', 21), ('roll_no', 21)])\n"
     ]
    }
   ],
   "source": [
    "#dictionary views(methods)\n",
    "\n",
    "dict_a = {\n",
    "    \"name\" : \"Maharshi\",\n",
    "    \"age\" : 21,\n",
    "    \"roll_no\" : 21\n",
    "    \n",
    "}\n",
    "print(dict_a.keys())\n",
    "print(dict_a.values())\n",
    "print(dict_a.items())"
   ]
  },
  {
   "cell_type": "code",
   "execution_count": 9,
   "id": "4c01314d",
   "metadata": {},
   "outputs": [
    {
     "name": "stdout",
     "output_type": "stream",
     "text": [
      "21\n",
      "21\n"
     ]
    }
   ],
   "source": [
    "#iteration on dictionary methods\n",
    "\n",
    "dict_a = {\n",
    "#     \"name\" : \"Maharshi\",\n",
    "    \"age\" : 21,\n",
    "    \"roll_no\" : 23\n",
    "}\n",
    "\n",
    "for item in dict_a.values():\n",
    "    print(item)"
   ]
  },
  {
   "cell_type": "code",
   "execution_count": 14,
   "id": "a7ddf591",
   "metadata": {},
   "outputs": [
    {
     "name": "stdout",
     "output_type": "stream",
     "text": [
      "name: Maharshi\n",
      "age: 21\n",
      "roll_no: 21\n"
     ]
    }
   ],
   "source": [
    "#items()\n",
    "\n",
    "dict_a = {\n",
    "    \"name\" : \"Maharshi\",\n",
    "    \"age\" : 21,\n",
    "    \"roll_no\" : 21\n",
    "}\n",
    "\n",
    "for key, value in dict_a.items():\n",
    "    pair = \"{}: {}\".format(key, value)\n",
    "    print(pair)"
   ]
  },
  {
   "cell_type": "code",
   "execution_count": 13,
   "id": "5223e5f2",
   "metadata": {},
   "outputs": [
    {
     "name": "stdout",
     "output_type": "stream",
     "text": [
      "('name', 'Maharshi')\n",
      "('age', 21)\n",
      "('roll_no', 21)\n"
     ]
    }
   ],
   "source": [
    "for pair in dict_a.items():\n",
    "    print(pair)"
   ]
  },
  {
   "cell_type": "code",
   "execution_count": 2,
   "id": "fef4d681",
   "metadata": {},
   "outputs": [
    {
     "name": "stdout",
     "output_type": "stream",
     "text": [
      "['name', 'age', 'roll_no']\n"
     ]
    }
   ],
   "source": [
    "#converting to list\n",
    "\n",
    "dict_a = {\n",
    "    \"name\" : \"Maharshi\",\n",
    "    \"age\" : 21,\n",
    "    \"roll_no\" : 21\n",
    "}\n",
    "list_a = list(dict_a.keys())\n",
    "print(list_a)"
   ]
  },
  {
   "cell_type": "code",
   "execution_count": 17,
   "id": "f688b0d0",
   "metadata": {},
   "outputs": [
    {
     "name": "stdout",
     "output_type": "stream",
     "text": [
      "dict_keys(['name', 'age', 'roll_no'])\n",
      "dict_keys(['name', 'age', 'roll_no', 'city'])\n"
     ]
    }
   ],
   "source": [
    "#it reflect changes\n",
    "\n",
    "dict_a = {\n",
    "    \"name\" : \"Maharshi\",\n",
    "    \"age\" : 21,\n",
    "    \"roll_no\" : 21\n",
    "}\n",
    "view = dict_a.keys()\n",
    "print(view)\n",
    "dict_a[\"city\"] = \"Parkal\"\n",
    "print(view) #when the dictionary changes, the view reflect these changes."
   ]
  },
  {
   "cell_type": "code",
   "execution_count": 18,
   "id": "d73206d1",
   "metadata": {},
   "outputs": [
    {
     "name": "stdout",
     "output_type": "stream",
     "text": [
      "{'name': 'maharshi', 'age': 21, 'roll_no': 13}\n"
     ]
    }
   ],
   "source": [
    "#converting to dictionary\n",
    "\n",
    "list_a = [(\"name\", \"maharshi\"), [\"age\", 21], (\"roll_no\", 13)]\n",
    "dict_a = dict(list_a)\n",
    "print(dict_a)"
   ]
  },
  {
   "cell_type": "code",
   "execution_count": 7,
   "id": "4c529705",
   "metadata": {},
   "outputs": [
    {
     "name": "stdout",
     "output_type": "stream",
     "text": [
      "{'name': 'Maharshi', 'age': 21, 'roll_no': 21}\n",
      "{'name': 'Maharshi', 'age': 21, 'roll_no': 21}\n",
      "2192484480960\n",
      "2192484480960\n"
     ]
    }
   ],
   "source": [
    "#Reffering same dictionary object\n",
    "\n",
    "dict_a = {\n",
    "    \"name\" : \"Maharshi\",\n",
    "    \"age\" : 21,\n",
    "    \"roll_no\" : 21\n",
    "}\n",
    "dict_b = dict_a\n",
    "print(dict_a)\n",
    "print(dict_b)\n",
    "print(id(dict_a))\n",
    "print(id(dict_b))"
   ]
  },
  {
   "cell_type": "code",
   "execution_count": 9,
   "id": "e30b1e72",
   "metadata": {},
   "outputs": [
    {
     "name": "stdout",
     "output_type": "stream",
     "text": [
      "{'name': 'Maharshi', 'age': 21, 'roll_no': 21}\n",
      "{'name': 'Maharshi', 'age': 21, 'roll_no': 21}\n",
      "2192484481024\n",
      "2192484482176\n"
     ]
    }
   ],
   "source": [
    "#copy()\n",
    "\n",
    "dict_a = {\n",
    "    \"name\" : \"Maharshi\",\n",
    "    \"age\" : 21,\n",
    "    \"roll_no\" : 21\n",
    "}\n",
    "dict_b = dict_a.copy()\n",
    "print(dict_a)\n",
    "print(dict_b)\n",
    "print(id(dict_a))\n",
    "print(id(dict_b))"
   ]
  },
  {
   "cell_type": "code",
   "execution_count": 11,
   "id": "9a2e93e4",
   "metadata": {},
   "outputs": [
    {
     "name": "stdout",
     "output_type": "stream",
     "text": [
      "['Maharshi', 21]\n",
      "['Maharshi', 21, 'Warangal']\n",
      "2192484621312\n",
      "2192470785664\n"
     ]
    }
   ],
   "source": [
    "#copy() for lists\n",
    "\n",
    "list_a = [\"Maharshi\", 21]\n",
    "list_b = list_a.copy()\n",
    "list_b.extend([\"Warangal\"])\n",
    "print(list_a)\n",
    "print(list_b)\n",
    "print(id(list_a))\n",
    "print(id(list_b))"
   ]
  },
  {
   "cell_type": "code",
   "execution_count": 13,
   "id": "7de22ad5",
   "metadata": {},
   "outputs": [
    {
     "name": "stdout",
     "output_type": "stream",
     "text": [
      "3\n",
      "True\n",
      "{}\n"
     ]
    }
   ],
   "source": [
    "#other methods\n",
    "\n",
    "dict_a = {\n",
    "    \"name\" : \"Maharshi\",\n",
    "    \"age\" : 21,\n",
    "    \"roll_no\" : 21\n",
    "}\n",
    "print(len(dict_a)) #len()\n",
    "print(\"name\" in dict_a) #membership check\n",
    "dict_a.clear() #clear()\n",
    "print(dict_a)"
   ]
  },
  {
   "cell_type": "code",
   "execution_count": 14,
   "id": "876adf61",
   "metadata": {},
   "outputs": [
    {
     "name": "stdout",
     "output_type": "stream",
     "text": [
      "(1, 2, 3)\n",
      "(7, 3)\n",
      "()\n"
     ]
    }
   ],
   "source": [
    "#variable length args\n",
    "\n",
    "def more_args(*args):\n",
    "    print(args)\n",
    "    \n",
    "more_args(1,2,3) #tuple packing has been done\n",
    "more_args(7,3) #tuple packing has been done\n",
    "more_args() #tuple packing has been done"
   ]
  },
  {
   "cell_type": "code",
   "execution_count": 16,
   "id": "c38ecbb9",
   "metadata": {},
   "outputs": [
    {
     "name": "stdout",
     "output_type": "stream",
     "text": [
      "Hello Nithin\n"
     ]
    }
   ],
   "source": [
    "#unpcking as arguments\n",
    "\n",
    "def greet(arg1 = \"Hi\", arg2 = \"Maharshi\"):\n",
    "    print(arg1 + \" \" + arg2)\n",
    "    \n",
    "data = [\"Hello\", \"Nithin\"]\n",
    "greet(*data) #unpaking the args and assinning to them"
   ]
  },
  {
   "cell_type": "code",
   "execution_count": 17,
   "id": "3af51f80",
   "metadata": {},
   "outputs": [
    {
     "name": "stdout",
     "output_type": "stream",
     "text": [
      "{'a': 1, 'b': 2}\n",
      "{}\n"
     ]
    }
   ],
   "source": [
    "#variable length kwarg\n",
    "\n",
    "def more_args(**kwargs): #variable length kwargs are packed as dictionary\n",
    "    print(kwargs)\n",
    "    \n",
    "more_args(a = 1, b = 2)\n",
    "more_args()"
   ]
  },
  {
   "cell_type": "code",
   "execution_count": 22,
   "id": "131c6a8a",
   "metadata": {},
   "outputs": [
    {
     "name": "stdout",
     "output_type": "stream",
     "text": [
      "a : 1\n",
      "b : 2\n"
     ]
    }
   ],
   "source": [
    "#Iterating on variable length kwarg\n",
    "\n",
    "def more_args(**kwargs): #variable length kwargs are packed as dictionary\n",
    "    for x,y in kwargs.items():\n",
    "        print(\"{} : {}\".format(x, y))\n",
    "\n",
    "more_args(a = 1, b = 2)"
   ]
  },
  {
   "cell_type": "code",
   "execution_count": 35,
   "id": "9291c97c",
   "metadata": {},
   "outputs": [
    {
     "name": "stdout",
     "output_type": "stream",
     "text": [
      "Hello Nithin\n"
     ]
    }
   ],
   "source": [
    "#Unpacking as arguments\n",
    "\n",
    "def greet(arg1 = \"Hi\", arg2 = \"Maharshi\"):\n",
    "    print(arg1 + \" \" + arg2)\n",
    "    \n",
    "data = {\"arg2\" : \"Nithin\", \"arg1\" : \"Hello\"}\n",
    "greet(**data)\n",
    "#greet(data[\"arg1\"], data[\"arg2\"])"
   ]
  },
  {
   "cell_type": "code",
   "execution_count": 39,
   "id": "92141e48",
   "metadata": {},
   "outputs": [
    {
     "name": "stdout",
     "output_type": "stream",
     "text": [
      "('maths', 'science')\n",
      "{'name': 'Maharshi', 'age': '21'}\n"
     ]
    }
   ],
   "source": [
    "#Identify the mistake\n",
    "\n",
    "def student_info(*args, **kwargs):\n",
    "    print(args)\n",
    "    print(kwargs)\n",
    "    \n",
    "student_info(\"maths\", \"science\", name = \"Maharshi\", age = \"21\")"
   ]
  },
  {
   "cell_type": "code",
   "execution_count": 45,
   "id": "56e87712",
   "metadata": {},
   "outputs": [
    {
     "name": "stdout",
     "output_type": "stream",
     "text": [
      "1,2,3,4,5\n",
      "[1, 2, 3, 4, 5]\n",
      "[3, 5, 7, 9]\n",
      "[8, 12, 16]\n",
      "[20, 28]\n",
      "[48]\n"
     ]
    }
   ],
   "source": [
    "#write a program to print sum triangle. The first level contains all elements. From the next level, print the sum of consecutive elements of the previous level.\n",
    "\n",
    "def convert_str_to_num(str_num_list):\n",
    "    int_list = []\n",
    "    for item in str_num_list:\n",
    "        int_item = int(item)\n",
    "        int_list.append(int_item)\n",
    "    return int_list\n",
    "\n",
    "def print_sum_triangle(int_list):\n",
    "    while len(int_list) > 1:\n",
    "        con_sum_list = get_con_sum_list(int_list)\n",
    "        print(con_sum_list)\n",
    "        int_list = con_sum_list\n",
    "    return\n",
    "    \n",
    "def get_con_sum_list(int_list):\n",
    "    con_sum_list = []\n",
    "    for i in range(len(int_list)-1):\n",
    "        con_sum = int_list[i] + int_list[i + 1]\n",
    "        con_sum_list.append(con_sum)\n",
    "    return con_sum_list\n",
    "\n",
    "str_num_list = input().split(\",\")\n",
    "int_list = convert_str_to_num(str_num_list)\n",
    "print(int_list)\n",
    "print_sum_triangle(int_list)"
   ]
  },
  {
   "cell_type": "code",
   "execution_count": 50,
   "id": "d3ed73fb",
   "metadata": {},
   "outputs": [
    {
     "name": "stdout",
     "output_type": "stream",
     "text": [
      "r:2,b:4,y:7,b:9,r:1\n",
      "{'r': 3, 'b': 13, 'y': 7}\n"
     ]
    }
   ],
   "source": [
    "#Write a python program to creat a dictionary, groupi\n",
    "ng of colored balls and the corresponding total score.\n",
    "\n",
    "\n",
    "def get_color_score_pair_dict(ball_score_list):\n",
    "    color_score_pair_dict = {}\n",
    "    for item in ball_score_list:\n",
    "        pair = item.split(\":\")\n",
    "        color, score = pair[0], int(pair[1])\n",
    "        if color in color_score_pair_dict:\n",
    "            color_score_pair_dict[color] += score\n",
    "        else:\n",
    "            color_score_pair_dict[color] = score\n",
    "    return color_score_pair_dict\n",
    "\n",
    "ball_score_list = input().split(\",\")\n",
    "color_score_pair_dict = get_color_score_pair_dict(ball_score_list)\n",
    "print(color_score_pair_dict)"
   ]
  },
  {
   "cell_type": "code",
   "execution_count": 14,
   "id": "06630c14",
   "metadata": {},
   "outputs": [
    {
     "name": "stdout",
     "output_type": "stream",
     "text": [
      "<__main__.Mobile object at 0x0000020C21FCEC90>\n",
      "calling... 9876543210\n"
     ]
    }
   ],
   "source": [
    "#instance of class\n",
    "\n",
    "class Mobile:\n",
    "    def __init__(self, model, camera):\n",
    "        self.model = model\n",
    "        self.camera = camera\n",
    "        \n",
    "    def make_call(self, number):\n",
    "        print(\"calling... {}\".format(number))\n",
    "        \n",
    "mobile_obj1 = Mobile(\"apple 15\", \"48MP\")\n",
    "print(mobile_obj1)\n",
    "mobile_obj1.make_call(9876543210)"
   ]
  },
  {
   "cell_type": "code",
   "execution_count": 16,
   "id": "17df72ae",
   "metadata": {},
   "outputs": [
    {
     "name": "stdout",
     "output_type": "stream",
     "text": [
      "2251133112656\n",
      "2251133090576\n",
      "<class '__main__.Mobile'>\n"
     ]
    }
   ],
   "source": [
    "#multiple instances and type of class\n",
    "\n",
    "class Mobile:\n",
    "    def __init__(self, model, camera):\n",
    "        self.model = model\n",
    "        self.camera = camera\n",
    "        \n",
    "    def make_call(self, number):\n",
    "        print(\"calling... {}\".format(number))\n",
    "        \n",
    "mobile_obj1 = Mobile(\"apple 15\", \"48MP\")\n",
    "print(id(mobile_obj1))\n",
    "mobile_obj1 = Mobile(\"apple 13\", \"12MP\")\n",
    "print(id(mobile_obj1))\n",
    "print(type(mobile_obj1))"
   ]
  },
  {
   "cell_type": "code",
   "execution_count": 17,
   "id": "cc033f59",
   "metadata": {},
   "outputs": [
    {
     "name": "stdout",
     "output_type": "stream",
     "text": [
      "Iphone 15\n"
     ]
    }
   ],
   "source": [
    "#access attributes of an object\n",
    "\n",
    "class Mobile:\n",
    "    def __init__(self, model, storage):\n",
    "        self.model = model\n",
    "        self.storage = storage\n",
    "        \n",
    "    def make_call(self, number):\n",
    "        print(\"calling...\".format(number))\n",
    "        \n",
    "obj = Mobile(\"Iphone 15\", \"256GB\")\n",
    "print(obj.model) #accessesing attribute"
   ]
  },
  {
   "cell_type": "code",
   "execution_count": 19,
   "id": "561ef6a6",
   "metadata": {},
   "outputs": [
    {
     "name": "stdout",
     "output_type": "stream",
     "text": [
      "Iphone 15\n"
     ]
    }
   ],
   "source": [
    "#Accessing in other methods \n",
    "\n",
    "class Mobile:\n",
    "    def __init__(self, model):\n",
    "        self.model = model\n",
    "        \n",
    "    def get_model(self):\n",
    "        print(self.model) #within the class attribute accessing \n",
    "        \n",
    "obj = Mobile(\"Iphone 15\")\n",
    "obj.get_model()"
   ]
  },
  {
   "cell_type": "code",
   "execution_count": 21,
   "id": "6fce36ab",
   "metadata": {},
   "outputs": [
    {
     "name": "stdout",
     "output_type": "stream",
     "text": [
      "Iphone 13\n"
     ]
    }
   ],
   "source": [
    "#Updating attributes\n",
    "\n",
    "class mobile:\n",
    "    def __init__(self, model):\n",
    "        self.model = model\n",
    "        \n",
    "    def update_model(self, model):\n",
    "        self.model = model\n",
    "        \n",
    "obj = mobile(\"Iphone 15\")\n",
    "obj.update_model(\"Iphone 13\")\n",
    "print(obj.model)"
   ]
  },
  {
   "cell_type": "code",
   "execution_count": 69,
   "id": "3513dc96",
   "metadata": {},
   "outputs": [
    {
     "name": "stdout",
     "output_type": "stream",
     "text": [
      "{'phones': 13}\n",
      "{'phones': 13, 'Laptop': 7}\n",
      "1295000\n",
      "['phones', 'Laptop']\n",
      "{'phones': 7}\n"
     ]
    }
   ],
   "source": [
    "#Cart\n",
    "\n",
    "class Cart:\n",
    "    def __init__(self): #declaring attributes\n",
    "        self.items = {} #empty dictionary\n",
    "        self.price_details = {\"phones\" : 35000, \"Laptop\" : 150000}\n",
    "        \n",
    "    def update_price(self, item_name, price): #updating the price\n",
    "        self.price_details[item_name] = price\n",
    "    \n",
    "    def add_items(self, item_name, quantity): #adding the items into cart\n",
    "        self.items[item_name] = quantity\n",
    "    \n",
    "    def get_items(self): #getting the total items in the cart\n",
    "        print(self.items)\n",
    "        \n",
    "    def Remove_items(self): #remove item from the cart\n",
    "        del self.items[\"Laptop\"]\n",
    "        \n",
    "    def update_quantity(self, item_name, quantity): #updating the item quantity\n",
    "        self.items[item_name] = quantity\n",
    "        \n",
    "    def items_list(self): #list of item names in te cart\n",
    "        items_list = []\n",
    "        items_list = list(self.items.keys())\n",
    "        print(items_list)\n",
    "        \n",
    "    def get_total_price(self): #total pric of the cart\n",
    "        total_price = 0\n",
    "        for item, quantity in self.items.items():\n",
    "            total_price += self.price_details[item] * quantity\n",
    "        print(total_price)\n",
    "        return total_price\n",
    "        \n",
    "obj = Cart()\n",
    "obj.add_items(\"phones\", 13)\n",
    "obj.get_items()\n",
    "obj.add_items(\"Laptop\", 7)\n",
    "obj.get_items()\n",
    "obj.update_quantity(\"phones\", 7)\n",
    "\n",
    "obj.get_total_price()\n",
    "\n",
    "obj.items_list()\n",
    "obj.Remove_items()\n",
    "obj.get_items()"
   ]
  },
  {
   "cell_type": "code",
   "execution_count": 71,
   "id": "17129ebb",
   "metadata": {},
   "outputs": [
    {
     "name": "stdout",
     "output_type": "stream",
     "text": [
      "<__main__.Cart object at 0x0000020C22271450>\n",
      "<__main__.Cart object at 0x0000020C22271450>\n"
     ]
    }
   ],
   "source": [
    "#self\n",
    "\n",
    "class Cart:\n",
    "    def display_item(self):\n",
    "        print(self)\n",
    "        \n",
    "a = Cart()\n",
    "a.display_item()\n",
    "print(a)"
   ]
  },
  {
   "cell_type": "code",
   "execution_count": 77,
   "id": "78616756",
   "metadata": {},
   "outputs": [
    {
     "name": "stdout",
     "output_type": "stream",
     "text": [
      "100\n",
      "200\n"
     ]
    }
   ],
   "source": [
    "#class attribute\n",
    "\n",
    "class Cart:\n",
    "    min_bill = 100\n",
    "    flat_disc = 200\n",
    "    \n",
    "    def __init__(self):\n",
    "        self.items = {}\n",
    "        \n",
    "    def print_min_disc(self):\n",
    "        print(Cart.flat_disc) #class attributes can access without creating instance\n",
    "\n",
    "a = Cart()\n",
    "print(Cart.min_bill) #class attributes can access without creating instance\n",
    "a.print_min_disc()"
   ]
  },
  {
   "cell_type": "code",
   "execution_count": 78,
   "id": "a569b069",
   "metadata": {},
   "outputs": [
    {
     "name": "stdout",
     "output_type": "stream",
     "text": [
      "300\n",
      "300\n",
      "100\n",
      "100\n"
     ]
    }
   ],
   "source": [
    "#class attribute for multiple instances\n",
    "\n",
    "class Cart:\n",
    "    min_bill = 300\n",
    "    flat_discount = 0\n",
    "    def print_min_bill(self):\n",
    "        print(Cart.min_bill)\n",
    "        \n",
    "a = Cart()\n",
    "b = Cart()\n",
    "a.print_min_bill()\n",
    "b.print_min_bill()\n",
    "Cart.min_bill = 100\n",
    "a.print_min_bill()\n",
    "b.print_min_bill()"
   ]
  },
  {
   "cell_type": "code",
   "execution_count": 80,
   "id": "16c29711",
   "metadata": {},
   "outputs": [
    {
     "name": "stdout",
     "output_type": "stream",
     "text": [
      "{'Dhoni': 7}\n"
     ]
    }
   ],
   "source": [
    "#accessing instance method in another instance method\n",
    "\n",
    "class Cart:\n",
    "    def __init__(self):\n",
    "        self.items = {}\n",
    "        \n",
    "    def add_item(self, item_name, quantity):\n",
    "        self.items[item_name] = quantity\n",
    "        self.print_items()\n",
    "        \n",
    "    def print_items(self):\n",
    "        print(self.items)\n",
    "        \n",
    "a = Cart()\n",
    "a.add_item(\"Dhoni\", 7)"
   ]
  },
  {
   "cell_type": "code",
   "execution_count": 86,
   "id": "4b3452f3",
   "metadata": {},
   "outputs": [
    {
     "name": "stdout",
     "output_type": "stream",
     "text": [
      "0\n",
      "70\n"
     ]
    }
   ],
   "source": [
    "#class method\n",
    "\n",
    "class Cart:\n",
    "    min_bill = 100\n",
    "    flat_disc = 0\n",
    "    @classmethod                 #Decarator\n",
    "    def update_flat_discount(cls, new_flat_discount):\n",
    "        cls.flat_disc = new_flat_discount\n",
    "        \n",
    "print(Cart.flat_disc)\n",
    "Cart.update_flat_discount(70)\n",
    "print(Cart.flat_disc)"
   ]
  },
  {
   "cell_type": "code",
   "execution_count": 2,
   "id": "ba59e685",
   "metadata": {},
   "outputs": [
    {
     "name": "stdout",
     "output_type": "stream",
     "text": [
      "73\n"
     ]
    }
   ],
   "source": [
    "#class method accessing in another class method\n",
    "\n",
    "class cart:\n",
    "    min_bill = 100\n",
    "    flat_disc = 0\n",
    "    @classmethod\n",
    "    def new_flat_disc(cls, updated_flat_disc):\n",
    "        cls.flat_disc = updated_flat_disc\n",
    "        \n",
    "    @classmethod\n",
    "    def update_disc(cls, amount):\n",
    "        cls.updated_flat_disc = cls.flat_disc + amount\n",
    "        cls.new_flat_disc(cls.updated_flat_disc)\n",
    "        \n",
    "cart.update_disc(73)\n",
    "print(cart.flat_disc)"
   ]
  },
  {
   "cell_type": "code",
   "execution_count": 93,
   "id": "63205b83",
   "metadata": {},
   "outputs": [
    {
     "name": "stdout",
     "output_type": "stream",
     "text": [
      "Have a Great Shopping❤️\n"
     ]
    }
   ],
   "source": [
    "#static method\n",
    "\n",
    "class cart:\n",
    "    \n",
    "    @staticmethod\n",
    "    def greet():\n",
    "        print(\"Have a Great Shopping❤️\")\n",
    "        \n",
    "cart.greet()"
   ]
  },
  {
   "cell_type": "code",
   "execution_count": 3,
   "id": "3240ce78",
   "metadata": {},
   "outputs": [],
   "source": [
    "#Inheritance\n",
    "\n",
    "class Product: #superclass or Baseclass or Parentclass\n",
    "    pass\n",
    "\n",
    "class ElectronicItem(Product): #subclass or Derivedclass or Childclass      #it inherit product class\n",
    "    pass"
   ]
  },
  {
   "cell_type": "code",
   "execution_count": 21,
   "id": "5f5c52d9",
   "metadata": {},
   "outputs": [
    {
     "name": "stdout",
     "output_type": "stream",
     "text": [
      "Product Name: Phone\n",
      "Price: 43000\n",
      "Deal Price: 35000\n",
      "Rating: 4.7\n",
      "You Save: 8000\n",
      "13\n",
      "Product Name: Oats\n",
      "Price: 310\n",
      "Deal Price: 190\n",
      "Rating: 4.3\n",
      "You Save: 120\n",
      "13/07/24\n"
     ]
    }
   ],
   "source": [
    "#Inheritance with example\n",
    "\n",
    "\n",
    "\n",
    "class Product:\n",
    "    def __init__(self, name, price, deal_price, rating):\n",
    "        self.name = name\n",
    "        self.price = price\n",
    "        self.deal_price = deal_price\n",
    "        self.rating = rating\n",
    "        self.you_save = price - deal_price\n",
    "        \n",
    "    def display_product_details(self):\n",
    "        print(\"Product Name: {}\".format(self.name))\n",
    "        print(\"Price: {}\".format(self.price))\n",
    "        print(\"Deal Price: {}\".format(self.deal_price))\n",
    "        print(\"Rating: {}\".format(self.rating))\n",
    "        print(\"You Save: {}\".format(self.you_save))\n",
    "        \n",
    "class Electronic_item(Product):\n",
    "    def set_warranty(self, warranty_in_months):\n",
    "        self.warranty_in_months = warranty_in_months\n",
    "        \n",
    "    def get_warranty(self):\n",
    "        return self.warranty_in_months\n",
    "    \n",
    "class Grocery_item(Product):\n",
    "    def set_expiry_date(self, expiry_date):\n",
    "        self.expiry_date = expiry_date\n",
    "        \n",
    "    def get_expiry_date(self):\n",
    "        return self.expiry_date\n",
    "        \n",
    "e_item = Electronic_item(\"Phone\", 43000, 35000, 4.7)\n",
    "e_item.display_product_details() #sub class can access super class\n",
    "e_item.set_warranty(13)\n",
    "print(e_item.get_warranty())\n",
    "\n",
    "g_item = Grocery_item(\"Oats\", 310, 190, 4.3)\n",
    "g_item.display_product_details() #sub class can access super class\n",
    "g_item.set_expiry_date(\"13/07/24\")\n",
    "print(g_item.get_expiry_date())"
   ]
  },
  {
   "cell_type": "code",
   "execution_count": 20,
   "id": "a0ed2cf2",
   "metadata": {},
   "outputs": [
    {
     "name": "stdout",
     "output_type": "stream",
     "text": [
      "Delivery Method: Prime Delivery\n",
      "Delivery Address: Warangal\n",
      "Products\n",
      "--------------------------------------------------\n",
      "Product Name: Phone\n",
      "Price: 43000\n",
      "Deal Price: 35000\n",
      "Rating: 4.7\n",
      "You Save: 8000\n",
      "Warranty in months: 13\n",
      "Qunatity: 1\n",
      "\n",
      "Product Name: Oats\n",
      "Price: 310\n",
      "Deal Price: 190\n",
      "Rating: 4.3\n",
      "You Save: 120\n",
      "Expiry date: 13/07/2024\n",
      "Qunatity: 3\n",
      "\n",
      "--------------------------------------------------\n",
      "Total Bill: 35700\n"
     ]
    }
   ],
   "source": [
    "#COMPOSITION & MULTIPLE INHERITANCE\n",
    "\n",
    "class Product:\n",
    "    def __init__(self, name, price, deal_price, rating):\n",
    "        self.name = name\n",
    "        self.price = price\n",
    "        self.deal_price = deal_price\n",
    "        self.rating = rating\n",
    "        self.you_save = price - deal_price\n",
    "        \n",
    "    def display_product_details(self):\n",
    "        print(\"Product Name: {}\".format(self.name))\n",
    "        print(\"Price: {}\".format(self.price))\n",
    "        print(\"Deal Price: {}\".format(self.deal_price))\n",
    "        print(\"Rating: {}\".format(self.rating))\n",
    "        print(\"You Save: {}\".format(self.you_save))\n",
    "        \n",
    "    def get_deal_price(self):\n",
    "        return self.deal_price\n",
    "    \n",
    "class Electronic_item(Product):\n",
    "    def __init__(self, name, price, deal_price, rating, warranty_in_months): ###METHOD OVERRIDING\n",
    "        super().__init__(name, price, deal_price, rating) ###SUPER CLASS accesssing\n",
    "        self.warranty_in_months = warranty_in_months\n",
    "    \n",
    "    def display_product_details(self): ###METHOD OVERRIDING\n",
    "        super().display_product_details() ###SUPER CLASS accesssing\n",
    "        print(\"Warranty in months: {}\".format(self.warranty_in_months))\n",
    "        \n",
    "class Laptop(Electronic_item): ###MULT-LEVEL INHERITANCCE \n",
    "    pass\n",
    "    \n",
    "class Grocery_item(Product):\n",
    "    def __init__(self, name, price, deal_price, rating, expiry_date): ###METHOD OVERRIDING\n",
    "        super().__init__(name, price, deal_price, rating) ###SUPER CLASS accesssing\n",
    "        self.expiry_date = expiry_date\n",
    "    \n",
    "    def display_product_details(self): ###METHOD OVERRIDING\n",
    "        super().display_product_details() ###SUPER CLASS accesssing\n",
    "        print(\"Expiry date: {}\".format(self.expiry_date))\n",
    "        \n",
    "class Order:\n",
    "    delivery_charges = {\n",
    "        \"Normal Delivery\" : 0,\n",
    "        \"Prime Delivery\" : 100\n",
    "    }\n",
    "    def __init__(self, delivery_method, delivery_address):\n",
    "        self.items_in_cart = []\n",
    "        self.delivery_method = delivery_method\n",
    "        self.delivery_address = delivery_address\n",
    "        \n",
    "    def add_item(self, product, quantity):\n",
    "        self.items_in_cart.append((product, quantity))  #composition  #here Product class instance act as this(Order) class attribute.\n",
    "        \n",
    "    def display_order_details(self):\n",
    "        print(\"Delivery Method: {}\".format(self.delivery_method))\n",
    "        print(\"Delivery Address: {}\".format(self.delivery_address))\n",
    "        print(\"Products\")\n",
    "        print(\"--------------------------------------------------\")\n",
    "        for product, quantity in self.items_in_cart:\n",
    "            product.display_product_details()\n",
    "            print(\"Qunatity: {}\".format(quantity))\n",
    "            print(\"\")\n",
    "        print(\"--------------------------------------------------\")\n",
    "        total_bill = self.get_total_bill()\n",
    "        print(\"Total Bill: {}\".format(total_bill))\n",
    "       \n",
    "    @classmethod\n",
    "    def update_delivery_charges(cls, delivery_method, charges):\n",
    "        cls.delivery_charges[delivery_method] = charges\n",
    "            \n",
    "    def get_total_bill(self):\n",
    "        total_bill = 0\n",
    "        for product, quantity in self.items_in_cart:\n",
    "            price = product.get_deal_price() * quantity\n",
    "            total_bill += price\n",
    "        order_delivery_charges = Order.delivery_charges[self.delivery_method]\n",
    "        total_bill += order_delivery_charges\n",
    "        return total_bill\n",
    "    \n",
    "phone = Electronic_item(\"Phone\", 43000, 35000, 4.7, 13)\n",
    "\n",
    "oats = Grocery_item(\"Oats\", 310, 190, 4.3, \"13/07/2024\")\n",
    "\n",
    "my_order = Order(\"Prime Delivery\", \"Warangal\")\n",
    "my_order.add_item(phone, 1)\n",
    "my_order.add_item(oats, 3)\n",
    "\n",
    "my_order.update_delivery_charges(\"Prime Delivery\", 130)\n",
    "my_order.display_order_details()"
   ]
  },
  {
   "cell_type": "code",
   "execution_count": 23,
   "id": "6321d980",
   "metadata": {},
   "outputs": [
    {
     "name": "stdout",
     "output_type": "stream",
     "text": [
      "Product Name: ROG STRIX\n",
      "Price: 150000\n",
      "Deal Price: 137000\n",
      "Rating: 4.9\n",
      "You Save: 13000\n",
      "Warranty in months: 12\n",
      "Ram: 16 RAM\n",
      "Storage: 1TB SSD\n"
     ]
    }
   ],
   "source": [
    "###MULTI-LEVEL INHERITANCE\n",
    "\n",
    "class Laptop(Electronic_item):\n",
    "    def __init__(self, name, price, deal_price, rating, warranty_in_months, ram, storage):\n",
    "        super().__init__(name, price, deal_price, rating, warranty_in_months)\n",
    "        self.ram = ram\n",
    "        self.storage = storage\n",
    "        \n",
    "    def display_product_details(self):   ###METHOD OVERRIDING\n",
    "        super().display_product_details() ###SUPER CLASS accesssing\n",
    "        print(\"Ram: {}\".format(self.ram))\n",
    "        print(\"Storage: {}\".format(self.storage))\n",
    "        \n",
    "rog_laptop = Laptop(\"ROG STRIX\", 150000, 137000, 4.9, 12, \"16 RAM\", \"1TB SSD\")\n",
    "rog_laptop.display_product_details()"
   ]
  },
  {
   "cell_type": "code",
   "execution_count": 25,
   "id": "192feec8",
   "metadata": {},
   "outputs": [
    {
     "name": "stdout",
     "output_type": "stream",
     "text": [
      "5040\n",
      "3.141592653589793\n"
     ]
    }
   ],
   "source": [
    "#PYTHON STANDARD LIBRARY\n",
    "### MATH module\n",
    "\n",
    "import math as m1   #(\"as\" = alias)\n",
    "\n",
    "print(m1.factorial(7))\n",
    "print(m1.pi)"
   ]
  },
  {
   "cell_type": "code",
   "execution_count": 28,
   "id": "b93802a9",
   "metadata": {},
   "outputs": [
    {
     "name": "stdout",
     "output_type": "stream",
     "text": [
      "5040\n",
      "3.141592653589793\n",
      "6\n"
     ]
    }
   ],
   "source": [
    "#import particular function from module\n",
    "\n",
    "from math import factorial, pi #declaring multiple packages at a time\n",
    "\n",
    "print(factorial(7))\n",
    "print(pi)\n",
    "\n",
    "#alias\n",
    "\n",
    "from math import factorial as fac\n",
    "print(fac(3))"
   ]
  },
  {
   "cell_type": "code",
   "execution_count": 38,
   "id": "f836f3af",
   "metadata": {},
   "outputs": [
    {
     "name": "stdout",
     "output_type": "stream",
     "text": [
      "3\n",
      "B\n"
     ]
    }
   ],
   "source": [
    "#RANDOM module\n",
    "\n",
    "\n",
    "#randint(min, max)\n",
    "import random as rand\n",
    "\n",
    "random_integer = rand.randint(1, 7)\n",
    "print(random_integer)\n",
    "\n",
    "#choice(seq)\n",
    "import random as rand\n",
    "\n",
    "random_ele = rand.choice([\"A\", \"B\", \"C\"])\n",
    "print(random_ele)"
   ]
  },
  {
   "cell_type": "code",
   "execution_count": 42,
   "id": "f89bb778",
   "metadata": {},
   "outputs": [
    {
     "name": "stdout",
     "output_type": "stream",
     "text": [
      "[1, 4, 9, 16, 25]\n"
     ]
    }
   ],
   "source": [
    "#MAP function\n",
    "\n",
    "def square(n):\n",
    "    return n * n\n",
    "\n",
    "numbers = [1, 2, 3, 4, 5]\n",
    "result = map(square, numbers)\n",
    "numbers_list = list(result)\n",
    "print(numbers_list)"
   ]
  },
  {
   "cell_type": "code",
   "execution_count": 45,
   "id": "8937bb40",
   "metadata": {},
   "outputs": [
    {
     "name": "stdout",
     "output_type": "stream",
     "text": [
      "1 2 3 4 5\n",
      "[1, 2, 3, 4, 5]\n"
     ]
    }
   ],
   "source": [
    "#converting string list to integer list\n",
    "\n",
    "numbers = list(map(int, input().split()))\n",
    "print(numbers)"
   ]
  },
  {
   "cell_type": "code",
   "execution_count": 47,
   "id": "a4ab05ce",
   "metadata": {},
   "outputs": [
    {
     "name": "stdout",
     "output_type": "stream",
     "text": [
      "[1, 2, 9]\n"
     ]
    }
   ],
   "source": [
    "#FILTER function\n",
    "\n",
    "def is_positive_num(n):\n",
    "    return n > 0\n",
    "\n",
    "list_a = [1, -3, 2, -7, 9]\n",
    "positive_nums = filter(is_positive_num, list_a)\n",
    "print(list(positive_nums))"
   ]
  },
  {
   "cell_type": "code",
   "execution_count": 53,
   "id": "2e046bc5",
   "metadata": {},
   "outputs": [
    {
     "name": "stdout",
     "output_type": "stream",
     "text": [
      "15\n"
     ]
    }
   ],
   "source": [
    "#REDUCE function\n",
    "\n",
    "from functools import reduce\n",
    "\n",
    "def sum_of_num(a, b):\n",
    "    return a + b\n",
    "\n",
    "list_a = [1, 2, 3, 4, 5]\n",
    "sum_of_list = reduce(sum_of_num, list_a)\n",
    "print(sum_of_list)"
   ]
  },
  {
   "cell_type": "code",
   "execution_count": 15,
   "id": "295ab5fc",
   "metadata": {},
   "outputs": [
    {
     "name": "stdout",
     "output_type": "stream",
     "text": [
      "User_1 Balance: 1300\n",
      "User_2 Balance: 1700\n",
      "Transferring 700/- from User_1 to User_2\n",
      "User_1 Balance: 600\n",
      "User_2 Balance: 2400\n"
     ]
    }
   ],
   "source": [
    "#Exceptions & Errors\n",
    "\n",
    "class BankAccount:\n",
    "    def __init__(self, account_num):\n",
    "        self.account_num = account_num\n",
    "        self.balance = 0\n",
    "        \n",
    "    def withdraw(self, amount):\n",
    "        if self.balance >= amount:\n",
    "            self.balance -= amount\n",
    "        else:\n",
    "            raise ValueError(\"Insufficient Funds\") #raise an Exception\n",
    "            \n",
    "    def deposit(self, amount):\n",
    "        self.balance += amount\n",
    "        \n",
    "    def get_balance(self):\n",
    "        return self.balance\n",
    "    \n",
    "def transfer_amount(act_1, act_2, amount):\n",
    "    act_1.withdraw(amount)\n",
    "    act_2.deposit(amount)\n",
    "    \n",
    "user_1 = BankAccount(\"1214\")\n",
    "user_2 = BankAccount(\"1412\")\n",
    "user_1.deposit(1300)\n",
    "user_2.deposit(1700)\n",
    "\n",
    "print(\"User_1 Balance: {}\".format(user_1.get_balance()))\n",
    "print(\"User_2 Balance: {}\".format(user_2.get_balance()))\n",
    "\n",
    "transfer_amount(user_1, user_2, 700)\n",
    "\n",
    "print(\"Transferring 700/- from User_1 to User_2\")\n",
    "print(\"User_1 Balance: {}\".format(user_1.get_balance()))\n",
    "print(\"User_2 Balance: {}\".format(user_2.get_balance()))"
   ]
  },
  {
   "cell_type": "code",
   "execution_count": 13,
   "id": "45a4c0d3",
   "metadata": {},
   "outputs": [
    {
     "ename": "ValueError",
     "evalue": "Insufficient Funds",
     "output_type": "error",
     "traceback": [
      "\u001b[1;31m---------------------------------------------------------------------------\u001b[0m",
      "\u001b[1;31mValueError\u001b[0m                                Traceback (most recent call last)",
      "Cell \u001b[1;32mIn[13], line 1\u001b[0m\n\u001b[1;32m----> 1\u001b[0m transfer_amount(user_1, user_2, \u001b[38;5;241m3700\u001b[39m)\n\u001b[0;32m      3\u001b[0m \u001b[38;5;28mprint\u001b[39m(\u001b[38;5;124m\"\u001b[39m\u001b[38;5;124mTransferring 700/- from User_1 to User_2\u001b[39m\u001b[38;5;124m\"\u001b[39m)\n\u001b[0;32m      4\u001b[0m \u001b[38;5;28mprint\u001b[39m(\u001b[38;5;124m\"\u001b[39m\u001b[38;5;124mUser_1 Balance: \u001b[39m\u001b[38;5;132;01m{}\u001b[39;00m\u001b[38;5;124m\"\u001b[39m\u001b[38;5;241m.\u001b[39mformat(user_1\u001b[38;5;241m.\u001b[39mget_balance()))\n",
      "Cell \u001b[1;32mIn[12], line 21\u001b[0m, in \u001b[0;36mtransfer_amount\u001b[1;34m(act_1, act_2, amount)\u001b[0m\n\u001b[0;32m     20\u001b[0m \u001b[38;5;28;01mdef\u001b[39;00m \u001b[38;5;21mtransfer_amount\u001b[39m(act_1, act_2, amount):\n\u001b[1;32m---> 21\u001b[0m     act_1\u001b[38;5;241m.\u001b[39mwithdraw(amount)\n\u001b[0;32m     22\u001b[0m     act_2\u001b[38;5;241m.\u001b[39mdeposit(amount)\n",
      "Cell \u001b[1;32mIn[12], line 12\u001b[0m, in \u001b[0;36mBankAccount.withdraw\u001b[1;34m(self, amount)\u001b[0m\n\u001b[0;32m     10\u001b[0m     \u001b[38;5;28mself\u001b[39m\u001b[38;5;241m.\u001b[39mbalance \u001b[38;5;241m-\u001b[39m\u001b[38;5;241m=\u001b[39m amount\n\u001b[0;32m     11\u001b[0m \u001b[38;5;28;01melse\u001b[39;00m:\n\u001b[1;32m---> 12\u001b[0m     \u001b[38;5;28;01mraise\u001b[39;00m \u001b[38;5;167;01mValueError\u001b[39;00m(\u001b[38;5;124m\"\u001b[39m\u001b[38;5;124mInsufficient Funds\u001b[39m\u001b[38;5;124m\"\u001b[39m)\n",
      "\u001b[1;31mValueError\u001b[0m: Insufficient Funds"
     ]
    }
   ],
   "source": [
    "transfer_amount(user_1, user_2, 3700)\n",
    "\n",
    "print(\"Transferring 700/- from User_1 to User_2\")\n",
    "print(\"User_1 Balance: {}\".format(user_1.get_balance()))\n",
    "print(\"User_2 Balance: {}\".format(user_2.get_balance()))"
   ]
  },
  {
   "cell_type": "code",
   "execution_count": 18,
   "id": "18f47a8f",
   "metadata": {},
   "outputs": [
    {
     "name": "stdout",
     "output_type": "stream",
     "text": [
      "User_1 Balance: 1300\n",
      "User_2 Balance: 1700\n",
      "False\n",
      "Transferring 700/- from User_1 to User_2\n",
      "User_1 Balance: 1300\n",
      "User_2 Balance: 1700\n"
     ]
    }
   ],
   "source": [
    "#Exceptions handling\n",
    "\n",
    "class BankAccount:\n",
    "    def __init__(self, account_num):\n",
    "        self.account_num = account_num\n",
    "        self.balance = 0\n",
    "        \n",
    "    def withdraw(self, amount):\n",
    "        if self.balance >= amount:\n",
    "            self.balance -= amount\n",
    "        else:\n",
    "            raise ValueError(\"Insufficient Funds\") #raise an Exception\n",
    "            \n",
    "    def deposit(self, amount):\n",
    "        self.balance += amount\n",
    "        \n",
    "    def get_balance(self):\n",
    "        return self.balance\n",
    "    \n",
    "def transfer_amount(act_1, act_2, amount):\n",
    "    #Exception handling\n",
    "    try:\n",
    "        act_1.withdraw(amount)\n",
    "        act_2.deposit(amount)\n",
    "        return True\n",
    "    except:\n",
    "        return False\n",
    "    \n",
    "user_1 = BankAccount(\"1214\")\n",
    "user_2 = BankAccount(\"1412\")\n",
    "user_1.deposit(1300)\n",
    "user_2.deposit(1700)\n",
    "\n",
    "print(\"User_1 Balance: {}\".format(user_1.get_balance()))\n",
    "print(\"User_2 Balance: {}\".format(user_2.get_balance()))\n",
    "\n",
    "print(transfer_amount(user_1, user_2, 2500))\n",
    "\n",
    "print(\"Transferring 2500/- from User_1 to User_2\")\n",
    "print(\"User_1 Balance: {}\".format(user_1.get_balance()))\n",
    "print(\"User_2 Balance: {}\".format(user_2.get_balance()))"
   ]
  },
  {
   "cell_type": "code",
   "execution_count": 52,
   "id": "b3040c0f",
   "metadata": {},
   "outputs": [
    {
     "name": "stdout",
     "output_type": "stream",
     "text": [
      "7\n",
      "0\n",
      "Denominator can't be 0\n"
     ]
    }
   ],
   "source": [
    "#Multiple Exeption handling \n",
    "\n",
    "try:\n",
    "    a = int(input())\n",
    "    b =int(input())\n",
    "    c = a/b\n",
    "    print(c)\n",
    "except ZeroDivisionError:\n",
    "    print(\"Denominator can't be 0\")\n",
    "except ValueError:\n",
    "    print(\"Input should be an integer\")\n",
    "except:\n",
    "    print(\"Something went wrong\")"
   ]
  },
  {
   "cell_type": "code",
   "execution_count": 33,
   "id": "8c2a3d4b",
   "metadata": {},
   "outputs": [
    {
     "name": "stdout",
     "output_type": "stream",
     "text": [
      "User_1 Balance: 1300\n",
      "User_2 Balance: 1700\n",
      "('Insufficient Funds', 'MAHARSHI')\n",
      "<class 'ValueError'>\n",
      "('Insufficient Funds', 'MAHARSHI')\n",
      "False\n",
      "Transferring 700/- from User_1 to User_2\n",
      "User_1 Balance: 1300\n",
      "User_2 Balance: 1700\n"
     ]
    }
   ],
   "source": [
    "#accessing expections\n",
    "\n",
    "class BankAccount:\n",
    "    def __init__(self, account_num):\n",
    "        self.account_num = account_num\n",
    "        self.balance = 0\n",
    "        \n",
    "    def withdraw(self, amount):\n",
    "        if self.balance >= amount:\n",
    "            self.balance -= amount\n",
    "        else:\n",
    "            raise ValueError(\"Insufficient Funds\", \"MAHARSHI\")\n",
    "            \n",
    "    def deposit(self, amount):\n",
    "        self.balance += amount\n",
    "        \n",
    "    def get_balance(self):\n",
    "        return self.balance\n",
    "    \n",
    "def transfer_amount(act_1, act_2, amount):\n",
    "    try:\n",
    "        act_1.withdraw(amount)\n",
    "        act_2.deposit(amount)\n",
    "        return True\n",
    "    except ValueError as er:\n",
    "        print(str(er))\n",
    "        print(type(er))\n",
    "        print(er.args)\n",
    "        return False\n",
    "    \n",
    "user_1 = BankAccount(\"1214\")\n",
    "user_2 = BankAccount(\"1412\")\n",
    "user_1.deposit(1300)\n",
    "user_2.deposit(1700)\n",
    "\n",
    "print(\"User_1 Balance: {}\".format(user_1.get_balance()))\n",
    "print(\"User_2 Balance: {}\".format(user_2.get_balance()))\n",
    "\n",
    "print(transfer_amount(user_1, user_2, 2500))\n",
    "\n",
    "print(\"Transferring 2500/- from User_1 to User_2\")\n",
    "print(\"User_1 Balance: {}\".format(user_1.get_balance()))\n",
    "print(\"User_2 Balance: {}\".format(user_2.get_balance()))"
   ]
  },
  {
   "cell_type": "code",
   "execution_count": 10,
   "id": "01fd0102",
   "metadata": {},
   "outputs": [
    {
     "name": "stdout",
     "output_type": "stream",
     "text": [
      "7\n",
      "5\n",
      "Not Divisible\n",
      "<class 'ValueError'>\n",
      "('Not Divisible',)\n"
     ]
    }
   ],
   "source": [
    "#Handle exceptoin in an object\n",
    "\n",
    "\n",
    "try:\n",
    "    x = int(input())\n",
    "    y = int(input())\n",
    "\n",
    "    if x/y != 0:\n",
    "        raise ValueError(\"Not Divisible\")\n",
    "except ValueError as err:\n",
    "    print(err)\n",
    "    print(type(err))\n",
    "    print(err.args)"
   ]
  },
  {
   "cell_type": "code",
   "execution_count": 20,
   "id": "07385dfd",
   "metadata": {},
   "outputs": [
    {
     "name": "stdout",
     "output_type": "stream",
     "text": [
      "2024-11-30\n",
      "2024-06-02\n"
     ]
    }
   ],
   "source": [
    "###datetime\n",
    "\n",
    "#date()\n",
    "from datetime import date\n",
    "\n",
    "print(date(2024, 11, 30))\n",
    "\n",
    "#today()\n",
    "from datetime import date\n",
    "\n",
    "print(date.today())"
   ]
  },
  {
   "cell_type": "code",
   "execution_count": 22,
   "id": "29932812",
   "metadata": {},
   "outputs": [
    {
     "name": "stdout",
     "output_type": "stream",
     "text": [
      "2024\n",
      "6\n",
      "2\n"
     ]
    }
   ],
   "source": [
    "#Attributes of date object\n",
    "\n",
    "from datetime import date\n",
    "\n",
    "date_obj = date.today()\n",
    "print(date_obj.year)\n",
    "print(date_obj.month)\n",
    "print(date_obj.day)"
   ]
  },
  {
   "cell_type": "code",
   "execution_count": 28,
   "id": "110eb123",
   "metadata": {},
   "outputs": [
    {
     "name": "stdout",
     "output_type": "stream",
     "text": [
      "01:37:59\n",
      "1\n",
      "37\n",
      "59\n"
     ]
    }
   ],
   "source": [
    "#Time() & Attributes of time\n",
    "\n",
    "from datetime import time\n",
    "\n",
    "time_obj = time(1, 37, 59)\n",
    "print(time_obj)\n",
    "print(time_obj.hour)\n",
    "print(time_obj.minute)\n",
    "print(time_obj.second)"
   ]
  },
  {
   "cell_type": "code",
   "execution_count": 32,
   "id": "bd01c89b",
   "metadata": {},
   "outputs": [
    {
     "name": "stdout",
     "output_type": "stream",
     "text": [
      "2024-06-02 14:49:44.671682\n",
      "2024\n",
      "6\n",
      "14\n",
      "49\n"
     ]
    }
   ],
   "source": [
    "#datetime()\n",
    "\n",
    "from datetime import datetime\n",
    "\n",
    "date_time = datetime.now()\n",
    "print(date_time)\n",
    "print(date_time.year)\n",
    "print(date_time.month)\n",
    "print(date_time.hour)\n",
    "print(date_time.minute)"
   ]
  },
  {
   "cell_type": "code",
   "execution_count": 33,
   "id": "6e4ce01c",
   "metadata": {},
   "outputs": [
    {
     "name": "stdout",
     "output_type": "stream",
     "text": [
      "2024-06-02 00:00:00\n"
     ]
    }
   ],
   "source": [
    "from datetime import datetime\n",
    "\n",
    "print(datetime(2024, 6, 2))"
   ]
  },
  {
   "cell_type": "code",
   "execution_count": 50,
   "id": "0fb20be5",
   "metadata": {},
   "outputs": [
    {
     "name": "stdout",
     "output_type": "stream",
     "text": [
      "Jun 02 2024 03:34:58:PM\n",
      "02/06/2024, HOURS 15:34:58\n"
     ]
    }
   ],
   "source": [
    "#Formatting of datettime\n",
    "\n",
    "from datetime import datetime\n",
    "\n",
    "now = datetime.today()\n",
    "datetime_formatted_1 = now.strftime(\"%b %d %Y %I:%M:%S:%p\")\n",
    "print(datetime_formatted_1)\n",
    "\n",
    "datetime_formatted_2 = now.strftime(\"%d/%m/%Y, HOURS %H:%M:%S\")\n",
    "print(datetime_formatted_2)"
   ]
  },
  {
   "cell_type": "code",
   "execution_count": 39,
   "id": "7164fad9",
   "metadata": {},
   "outputs": [
    {
     "name": "stdout",
     "output_type": "stream",
     "text": [
      "2024-04-27 00:00:00\n"
     ]
    }
   ],
   "source": [
    "#Parsing datetime\n",
    "\n",
    "from datetime import datetime\n",
    "\n",
    "string_a = \"27 April, 2024\"\n",
    "\n",
    "date_obj = datetime.strptime(string_a, \"%d %B, %Y\")\n",
    "print(date_obj)"
   ]
  },
  {
   "cell_type": "code",
   "execution_count": 42,
   "id": "252aacf9",
   "metadata": {},
   "outputs": [
    {
     "name": "stdout",
     "output_type": "stream",
     "text": [
      "2024-06-02 15:16:34.518684\n",
      "2024-10-18 04:16:47.518684\n"
     ]
    }
   ],
   "source": [
    "#Timedelta\n",
    "\n",
    "from datetime import timedelta, datetime\n",
    "\n",
    "delta = timedelta(days = 137, hours = 13, seconds = 13)\n",
    "current_date = datetime.now()\n",
    "print(current_date)\n",
    "next_date = current_date + delta\n",
    "print(next_date)"
   ]
  },
  {
   "cell_type": "code",
   "execution_count": 47,
   "id": "e987186a",
   "metadata": {},
   "outputs": [
    {
     "name": "stdout",
     "output_type": "stream",
     "text": [
      "402 days, 15:22:26.018666\n",
      "<class 'datetime.timedelta'>\n"
     ]
    }
   ],
   "source": [
    "#calculating time difference\n",
    "\n",
    "from datetime import datetime\n",
    "\n",
    "date_1 = datetime.now()\n",
    "date_2 = datetime(2023,4,27)\n",
    "diff = date_1 - date_2\n",
    "print(diff)\n",
    "print(type(diff))"
   ]
  },
  {
   "cell_type": "code",
   "execution_count": 51,
   "id": "183b97ba",
   "metadata": {},
   "outputs": [
    {
     "name": "stdout",
     "output_type": "stream",
     "text": [
      "27/04/2023\n",
      "248 days, 0:00:00\n"
     ]
    }
   ],
   "source": [
    "#Given a date in dd/mm/yyyy format. write a program to calculate number of days left in that year.\n",
    "\n",
    "from datetime import datetime\n",
    "\n",
    "date_str = input()\n",
    "\n",
    "date_obj = datetime.strptime(date_str, \"%d/%m/%Y\")\n",
    "year_end_date = datetime(year = date_obj.year,month = 12, day = 31)\n",
    "duration = year_end_date - date_obj\n",
    "print(duration)"
   ]
  },
  {
   "cell_type": "code",
   "execution_count": 17,
   "id": "0cf01e1b",
   "metadata": {},
   "outputs": [
    {
     "name": "stdout",
     "output_type": "stream",
     "text": [
      "2024-06-03 07:43:30.110715\n",
      "2024-06-03 07:43:30.110714\n"
     ]
    }
   ],
   "source": [
    "from datetime import datetime\n",
    "\n",
    "a = datetime.today()\n",
    "b = datetime.now()\n",
    "\n",
    "print(a)\n",
    "print(b)"
   ]
  },
  {
   "cell_type": "code",
   "execution_count": 6,
   "id": "df3cb30b",
   "metadata": {},
   "outputs": [
    {
     "name": "stdout",
     "output_type": "stream",
     "text": [
      "7\n",
      "0\n",
      "0\n",
      "apple\n",
      "\n"
     ]
    }
   ],
   "source": [
    "# PYTHON FOR DATA SCIENCE\n",
    "\n",
    "# logical operators\n",
    "\n",
    "a = 3\n",
    "b = 7\n",
    "c = 0\n",
    "\n",
    "print(a and b) #left side value is non zero print right side value\n",
    "\n",
    "print(c and a) #left sided value as zero print left side value\n",
    "\n",
    "print(b and c)\n",
    "\n",
    "print(\"orange\" and \"apple\") #left side is null value(it is not zero) so it print right side value\n",
    "\n",
    "print(\"\" and \"apple\") #left side there is nothing(it consider as zero) so it print the left side value as nothing"
   ]
  },
  {
   "cell_type": "code",
   "execution_count": 2,
   "id": "9f666c10",
   "metadata": {},
   "outputs": [
    {
     "name": "stdout",
     "output_type": "stream",
     "text": [
      "frozenset({13, 'MAHARSHI', 7.9})\n"
     ]
    }
   ],
   "source": [
    "# frozen set\n",
    "\n",
    "frozen_set = frozenset([\"MAHARSHI\", 13, 7.9])\n",
    "print(frozen_set)"
   ]
  },
  {
   "cell_type": "code",
   "execution_count": 6,
   "id": "812b6085",
   "metadata": {},
   "outputs": [
    {
     "data": {
      "text/plain": [
       "'                                 Maharshi                                '"
      ]
     },
     "execution_count": 6,
     "metadata": {},
     "output_type": "execute_result"
    }
   ],
   "source": [
    "# To make string at center in given spaces\n",
    "\n",
    "name = \"Maharshi\"\n",
    "\n",
    "name.center(73)"
   ]
  },
  {
   "cell_type": "code",
   "execution_count": 8,
   "id": "c31dcc54",
   "metadata": {},
   "outputs": [
    {
     "name": "stdout",
     "output_type": "stream",
     "text": [
      "2\n"
     ]
    }
   ],
   "source": [
    "string = \"Maharshi Bandari\"\n",
    "\n",
    "string_count = string.count(\"a\", 3, 13)\n",
    "print(string_count)"
   ]
  },
  {
   "cell_type": "code",
   "execution_count": 13,
   "id": "8a2863a0",
   "metadata": {},
   "outputs": [
    {
     "name": "stdout",
     "output_type": "stream",
     "text": [
      "9\n"
     ]
    }
   ],
   "source": [
    "# find()\n",
    "\n",
    "a = \"Maharshi Bandari\"\n",
    "\n",
    "print(a.find(\"B\"))"
   ]
  },
  {
   "cell_type": "code",
   "execution_count": 18,
   "id": "72e5234c",
   "metadata": {},
   "outputs": [
    {
     "name": "stdout",
     "output_type": "stream",
     "text": [
      "1234\n",
      "['2', '3', '4', '1']\n",
      "['3', '4', '1', '2']\n",
      "['4', '1', '2', '3']\n"
     ]
    }
   ],
   "source": [
    "###\n",
    "\n",
    "a = list(input())\n",
    "\n",
    "for i in range(1, len(a), 1):\n",
    "    print(a[i:] + a[:i])"
   ]
  },
  {
   "cell_type": "code",
   "execution_count": 2,
   "id": "a5c2d283",
   "metadata": {},
   "outputs": [
    {
     "name": "stdout",
     "output_type": "stream",
     "text": [
      "enter x1: 1\n",
      "enter y1: 2\n",
      "1 2\n",
      "enter x2: 4\n",
      "enter y2: 6\n",
      "4 6\n",
      "5.0\n"
     ]
    }
   ],
   "source": [
    "# Distance between two data points in X-Y plain\n",
    "# Euclidean distance method\n",
    "\n",
    "import math\n",
    "\n",
    "x1 = int(input(\"enter x1: \"))\n",
    "y1 = int(input(\"enter y1: \"))\n",
    "\n",
    "print(x1, y1)\n",
    "\n",
    "x2 = int(input(\"enter x2: \"))\n",
    "y2 = int(input(\"enter y2: \"))\n",
    "\n",
    "print(x2, y2)\n",
    "\n",
    "distance = math.sqrt(((x1-x2)**2) + ((y1-y2)**2))\n",
    "\n",
    "print(distance)"
   ]
  },
  {
   "cell_type": "code",
   "execution_count": 8,
   "id": "9877b5ad",
   "metadata": {},
   "outputs": [
    {
     "name": "stdout",
     "output_type": "stream",
     "text": [
      "The list does not contains even numbers\n"
     ]
    }
   ],
   "source": [
    "#for-else\n",
    "\n",
    "nums = [11, 35, 75, 25, 13]\n",
    "\n",
    "for i in nums:\n",
    "    if ((i % 2) == 0):\n",
    "        print(\"The list contains an even numbers\")\n",
    "        break\n",
    "else:\n",
    "    print(\"The list does not contains even numbers\")"
   ]
  },
  {
   "cell_type": "code",
   "execution_count": 9,
   "id": "6171d755",
   "metadata": {},
   "outputs": [
    {
     "data": {
      "text/plain": [
       "[(0, 'maharshi'), (1, 'bandari'), (2, 'nithin')]"
      ]
     },
     "execution_count": 9,
     "metadata": {},
     "output_type": "execute_result"
    }
   ],
   "source": [
    "#enumerate\n",
    "\n",
    "list_a = [\"maharshi\", \"bandari\", \"nithin\"]\n",
    "\n",
    "list(enumerate(list_a)) #gives the index values of group of elements"
   ]
  },
  {
   "cell_type": "code",
   "execution_count": 5,
   "id": "f71009ea",
   "metadata": {},
   "outputs": [
    {
     "name": "stdout",
     "output_type": "stream",
     "text": [
      "[5, 7, 4]\n"
     ]
    }
   ],
   "source": [
    "#Comprehension of for-loops in LIST\n",
    "\n",
    "nums = [3, 5, 7, 9, 2]\n",
    "get_sum = [i + 2 for i in nums if i < 7]\n",
    "print(get_sum)"
   ]
  },
  {
   "cell_type": "code",
   "execution_count": 3,
   "id": "a891bcd7",
   "metadata": {},
   "outputs": [
    {
     "name": "stdout",
     "output_type": "stream",
     "text": [
      "[5, 7, 9, 11, 4]\n"
     ]
    }
   ],
   "source": [
    "nums = [3, 5, 7, 9, 2]\n",
    "get_sum = [i + 2 for i in nums]\n",
    "print(get_sum)"
   ]
  },
  {
   "cell_type": "code",
   "execution_count": 4,
   "id": "824d2592",
   "metadata": {},
   "outputs": [
    {
     "name": "stdout",
     "output_type": "stream",
     "text": [
      "{0: 0, 2: 4, 4: 16, 6: 36, 8: 64, 10: 100, 12: 144}\n"
     ]
    }
   ],
   "source": [
    "#Actual code\n",
    "\n",
    "nums = range(13)\n",
    "dict_a = {}\n",
    "\n",
    "for i in nums:\n",
    "    if (i % 2) == 0:\n",
    "        dict_a[i] = i**2\n",
    "print(dict_a)"
   ]
  },
  {
   "cell_type": "code",
   "execution_count": 5,
   "id": "0b529ef6",
   "metadata": {},
   "outputs": [
    {
     "name": "stdout",
     "output_type": "stream",
     "text": [
      "{0: 0, 2: 4, 4: 16, 6: 36, 8: 64, 10: 100, 12: 144}\n"
     ]
    }
   ],
   "source": [
    "# Comprehension of for-loop in Dictionary\n",
    "\n",
    "dict_a = {i: i**2 for i in range(13) if (i % 2) == 0}\n",
    "print(dict_a)"
   ]
  },
  {
   "cell_type": "code",
   "execution_count": 8,
   "id": "044d2cc8",
   "metadata": {},
   "outputs": [
    {
     "name": "stdout",
     "output_type": "stream",
     "text": [
      "{'aa': 2, 'bb': 4, 'cc': 6}\n"
     ]
    }
   ],
   "source": [
    "# Another example\n",
    "\n",
    "dict_a = {\"a\" : 1, \"b\" : 2, \"c\" : 3}\n",
    "\n",
    "new_dict = {k * 2 : v * 2 for k, v in dict_a.items()}\n",
    "\n",
    "print(new_dict)"
   ]
  },
  {
   "cell_type": "code",
   "execution_count": 14,
   "id": "f901b53d",
   "metadata": {},
   "outputs": [
    {
     "name": "stdout",
     "output_type": "stream",
     "text": [
      "<zip object at 0x000001FBA360D180>\n",
      "{('Maharshi', 7, 3), ('Nithin', 13, 2), ('Bandari', 1, 1)}\n",
      "('Maharshi', 'Nithin', 'Bandari') (7, 13, 1) (3, 2, 1)\n"
     ]
    }
   ],
   "source": [
    "#ZIP & UNZIP\n",
    "\n",
    "\n",
    "names = [\"Maharshi\", \"Nithin\", \"Bandari\"]\n",
    "roll_num = [7, 13, 1]\n",
    "marks = [3, 2, 1]\n",
    "\n",
    "mapped = zip(names, roll_num, marks) #zipping\n",
    "\n",
    "print(mapped)\n",
    "\n",
    "mapped = set(mapped)\n",
    "\n",
    "print(mapped)\n",
    "\n",
    "#unzipping\n",
    "\n",
    "names, roll_num, marks = zip(*mapped)\n",
    "\n",
    "print(names, roll_num, marks)"
   ]
  },
  {
   "cell_type": "code",
   "execution_count": 103,
   "id": "3bbb84bf",
   "metadata": {},
   "outputs": [
    {
     "name": "stdout",
     "output_type": "stream",
     "text": [
      "['Nithin', 'Bandari', 'Maharshi']\n"
     ]
    }
   ],
   "source": [
    "#sorted() & key\n",
    "\n",
    "names = [\"Maharshi\", \n",
    "         \"Nithin\", \"Bandari\"]\n",
    "list_a = sorted(names, key = len)\n",
    "print(list_a)"
   ]
  },
  {
   "cell_type": "code",
   "execution_count": 14,
   "id": "f5bf10d4",
   "metadata": {},
   "outputs": [
    {
     "name": "stdout",
     "output_type": "stream",
     "text": [
      "2982578156096\n",
      "2982578156096 [1, 2, 3, 1, 2, 3]\n"
     ]
    }
   ],
   "source": [
    "# mutability & immutability of list & tuple\n",
    "\n",
    "#LIST\n",
    "\n",
    "list_a = [1, 2, 3]\n",
    "print(id(list_a))\n",
    "list_a *= 2\n",
    "print(id(list_a), list_a) ###BOTH ID'S ARE SAME BECAUSE IT UPDATE THE VLAUES IN EXISTING LIST OBJECT(LIST IS MUTABLE)"
   ]
  },
  {
   "cell_type": "code",
   "execution_count": 15,
   "id": "d086ea88",
   "metadata": {},
   "outputs": [
    {
     "name": "stdout",
     "output_type": "stream",
     "text": [
      "2982578106432\n",
      "2982576208384 (1, 2, 3, 1, 2, 3)\n"
     ]
    }
   ],
   "source": [
    "#TUPLE\n",
    "\n",
    "tuple_a = (1, 2, 3)\n",
    "print(id(tuple_a))\n",
    "tuple_a *= 2 \n",
    "print(id(tuple_a), tuple_a) ###BOTH ID'S ARE DIFFERENT BECAUSE IT RETURN THE VALUES IN ANOTHER OBJECT(TUPLE IS IMMUTABLE)"
   ]
  },
  {
   "cell_type": "code",
   "execution_count": 22,
   "id": "d0ea7fc2",
   "metadata": {},
   "outputs": [
    {
     "name": "stdout",
     "output_type": "stream",
     "text": [
      "1\n",
      "Key is not available\n"
     ]
    }
   ],
   "source": [
    "#IF WE CALL NOT DEFINED KEY FROM DICTIONARY IT SHOWS AN ERROR\n",
    "\n",
    "import collections as cl \n",
    "\n",
    "dict_a = cl.defaultdict(lambda : \"Key is not available\")\n",
    "dict_a[\"a\"] = 1\n",
    "dict_a[\"b\"] = 2\n",
    "print(dict_a[\"a\"])\n",
    "print(dict_a[\"c\"])"
   ]
  },
  {
   "cell_type": "code",
   "execution_count": 24,
   "id": "29619e36",
   "metadata": {},
   "outputs": [
    {
     "name": "stdout",
     "output_type": "stream",
     "text": [
      "169\n"
     ]
    }
   ],
   "source": [
    "# Lambda function\n",
    "\n",
    "s = lambda x : x * x\n",
    "print(s(13))"
   ]
  },
  {
   "cell_type": "code",
   "execution_count": 16,
   "id": "8ca680e5",
   "metadata": {},
   "outputs": [
    {
     "data": {
      "text/plain": [
       "['2', '4', '6', '8', '10']"
      ]
     },
     "execution_count": 16,
     "metadata": {},
     "output_type": "execute_result"
    }
   ],
   "source": [
    "#MAP()\n",
    "#map(function, iteration)\n",
    "\n",
    "a = [1, 2, 3, 4, 5]\n",
    "a = list(map(lambda x : x * 2, a))\n",
    "list(map(str, a))"
   ]
  },
  {
   "cell_type": "code",
   "execution_count": 29,
   "id": "81f8f42a",
   "metadata": {},
   "outputs": [
    {
     "data": {
      "text/plain": [
       "[1, 3, 5]"
      ]
     },
     "execution_count": 29,
     "metadata": {},
     "output_type": "execute_result"
    }
   ],
   "source": [
    "#filter()\n",
    "\n",
    "a = [1, 2, 3, 4, 5]\n",
    "\n",
    "list(filter(lambda x : x % 2, a)) #here we get reminders as (0 , 1) here \"1\" consider as \"TRUE\" & \"0\" consider as \"FLASE\""
   ]
  },
  {
   "cell_type": "code",
   "execution_count": 27,
   "id": "737174ba",
   "metadata": {},
   "outputs": [
    {
     "name": "stdout",
     "output_type": "stream",
     "text": [
      "[51, 52, 53, 54, 55, 56, 57, 58, 59, 60, 61, 62, 63, 64, 65, 66, 67, 68, 69, 70, 71, 72, 73, 74, 75, 76, 77, 78, 79, 80, 81, 82, 83, 84, 85, 86, 87, 88, 89, 90, 91, 92, 93, 94, 95, 96, 97, 98, 99]\n"
     ]
    }
   ],
   "source": [
    "print(list(filter(lambda x : x > 50, list(range(1, 100)))))"
   ]
  },
  {
   "cell_type": "code",
   "execution_count": 31,
   "id": "cc07440b",
   "metadata": {},
   "outputs": [
    {
     "data": {
      "text/plain": [
       "120"
      ]
     },
     "execution_count": 31,
     "metadata": {},
     "output_type": "execute_result"
    }
   ],
   "source": [
    "#reduce(function, iterable) \n",
    "#perform on first two elements in each iteration\n",
    "\n",
    "from functools import reduce\n",
    "\n",
    "a = [1, 2, 3, 4, 5]\n",
    "\n",
    "reduce(lambda i, j: i * j, a)"
   ]
  },
  {
   "cell_type": "code",
   "execution_count": 32,
   "id": "9b6bcecc",
   "metadata": {},
   "outputs": [
    {
     "data": {
      "text/plain": [
       "4950"
      ]
     },
     "execution_count": 32,
     "metadata": {},
     "output_type": "execute_result"
    }
   ],
   "source": [
    "reduce(lambda i, j: i + j, list(range(1, 100)))"
   ]
  },
  {
   "cell_type": "code",
   "execution_count": 34,
   "id": "8cd38e1a",
   "metadata": {},
   "outputs": [
    {
     "name": "stdout",
     "output_type": "stream",
     "text": [
      "[1, 4, 9, 16, 25]\n",
      "[1, 4, 9, 16, 25]\n",
      "[1, 4, 9, 16, 25]\n"
     ]
    }
   ],
   "source": [
    " #LOOP vs COMPREHENSION vs MAP\n",
    "    \n",
    "list_a = [1, 2, 3, 4, 5]\n",
    "squares_1 = []\n",
    "\n",
    "#LOOP\n",
    "for i in list_a:\n",
    "    squares_1.append(i ** 2)\n",
    "    \n",
    "#COMPREHENSION\n",
    "squares_2 = [i ** 2 for i in list_a]\n",
    "\n",
    "#MAP\n",
    "squares_3 = list(map(lambda i: i ** 2, list_a))\n",
    "\n",
    "print(squares_1)\n",
    "print(squares_2)\n",
    "print(squares_3)"
   ]
  },
  {
   "cell_type": "code",
   "execution_count": 42,
   "id": "ef0697fa",
   "metadata": {},
   "outputs": [
    {
     "name": "stdout",
     "output_type": "stream",
     "text": [
      "<list_iterator object at 0x000002B66ECA9840>\n",
      "Maharshi\n",
      "Nithin\n",
      "Bandari\n"
     ]
    }
   ],
   "source": [
    "#ITERATOR\n",
    "\n",
    "names = [\"Maharshi\", \"Nithin\", \"Bandari\"]\n",
    "a = names.__iter__()\n",
    "print(a)\n",
    "print(next(a))\n",
    "print(next(a))\n",
    "print(next(a))"
   ]
  },
  {
   "cell_type": "code",
   "execution_count": 43,
   "id": "87918f17",
   "metadata": {},
   "outputs": [
    {
     "name": "stdout",
     "output_type": "stream",
     "text": [
      "<list_iterator object at 0x000002B66ECBBAF0>\n",
      "Maharshi\n",
      "Nithin\n",
      "Bandari\n"
     ]
    }
   ],
   "source": [
    "#ANOTHER WAY\n",
    "\n",
    "names = [\"Maharshi\", \"Nithin\", \"Bandari\"]\n",
    "a = iter(names)\n",
    "print(a)\n",
    "print(next(a))\n",
    "print(next(a))\n",
    "print(next(a))"
   ]
  },
  {
   "cell_type": "code",
   "execution_count": 46,
   "id": "a5bde20f",
   "metadata": {},
   "outputs": [
    {
     "name": "stdout",
     "output_type": "stream",
     "text": [
      "M\n",
      "A\n",
      "H\n",
      "A\n",
      "R\n",
      "S\n",
      "H\n",
      "I\n",
      " \n",
      "B\n",
      "A\n",
      "N\n",
      "D\n",
      "A\n",
      "R\n",
      "I\n"
     ]
    }
   ],
   "source": [
    "# Example\n",
    "\n",
    "string_a = \"MAHARSHI BANDARI\"\n",
    "iterable_obj = iter(string_a)\n",
    "\n",
    "while True:\n",
    "    try:\n",
    "        item = next(iterable_obj) #Iterate by calling next\n",
    "        print(item)\n",
    "    except StopIteration:\n",
    "        break #Exception will happen iteration stops"
   ]
  },
  {
   "cell_type": "code",
   "execution_count": 47,
   "id": "e1c39f8b",
   "metadata": {},
   "outputs": [
    {
     "name": "stdout",
     "output_type": "stream",
     "text": [
      "[0, 1, 2, 3, 4, 5, 6, 7, 8, 9, 10, 11, 12, 13, 14, 15, 16, 17, 18, 19, 20, 21, 22, 23, 24, 25, 26, 27, 28, 29, 30, 31, 32, 33, 34, 35, 36, 37, 38, 39, 40, 41, 42, 43, 44, 45, 46, 47, 48, 49, 50, 51, 52, 53, 54, 55, 56, 57, 58, 59, 60, 61, 62, 63, 64, 65, 66, 67, 68, 69, 70, 71, 72, 73, 74, 75, 76, 77, 78, 79, 80, 81, 82, 83, 84, 85, 86, 87, 88, 89, 90, 91, 92, 93, 94, 95, 96, 97, 98, 99, 100, 101, 102, 103, 104, 105, 106, 107, 108, 109, 110, 111, 112, 113, 114, 115, 116, 117, 118, 119, 120, 121, 122, 123, 124, 125, 126, 127, 128, 129, 130, 131, 132, 133, 134, 135, 136, 137, 138, 139, 140, 141, 142, 143, 144, 145, 146, 147, 148, 149, 150, 151, 152, 153, 154, 155, 156, 157, 158, 159, 160, 161, 162, 163, 164, 165, 166, 167, 168, 169, 170, 171, 172, 173, 174, 175, 176, 177, 178, 179, 180, 181, 182, 183, 184, 185, 186, 187, 188, 189, 190, 191, 192, 193, 194, 195, 196, 197, 198, 199, 200, 201, 202, 203, 204, 205, 206, 207, 208, 209, 210, 211, 212, 213, 214, 215, 216, 217, 218, 219, 220, 221, 222, 223, 224, 225, 226, 227, 228, 229, 230, 231, 232, 233, 234, 235, 236, 237, 238, 239, 240, 241, 242, 243, 244, 245, 246, 247, 248, 249, 250, 251, 252, 253, 254, 255, 256, 257, 258, 259, 260, 261, 262, 263, 264, 265, 266, 267, 268, 269, 270, 271, 272, 273, 274, 275, 276, 277, 278, 279, 280, 281, 282, 283, 284, 285, 286, 287, 288, 289, 290, 291, 292, 293, 294, 295, 296, 297, 298, 299, 300, 301, 302, 303, 304, 305, 306, 307, 308, 309, 310, 311, 312, 313, 314, 315, 316, 317, 318, 319, 320, 321, 322, 323, 324, 325, 326, 327, 328, 329, 330, 331, 332, 333, 334, 335, 336, 337, 338, 339, 340, 341, 342, 343, 344, 345, 346, 347, 348, 349, 350, 351, 352, 353, 354, 355, 356, 357, 358, 359, 360, 361, 362, 363, 364, 365, 366, 367, 368, 369, 370, 371, 372, 373, 374, 375, 376, 377, 378, 379, 380, 381, 382, 383, 384, 385, 386, 387, 388, 389, 390, 391, 392, 393, 394, 395, 396, 397, 398, 399, 400, 401, 402, 403, 404, 405, 406, 407, 408, 409, 410, 411, 412, 413, 414, 415, 416, 417, 418, 419, 420, 421, 422, 423, 424, 425, 426, 427, 428, 429, 430, 431, 432, 433, 434, 435, 436, 437, 438, 439, 440, 441, 442, 443, 444, 445, 446, 447, 448, 449, 450, 451, 452, 453, 454, 455, 456, 457, 458, 459, 460, 461, 462, 463, 464, 465, 466, 467, 468, 469, 470, 471, 472, 473, 474, 475, 476, 477, 478, 479, 480, 481, 482, 483, 484, 485, 486, 487, 488, 489, 490, 491, 492, 493, 494, 495, 496, 497, 498, 499, 500, 501, 502, 503, 504, 505, 506, 507, 508, 509, 510, 511, 512, 513, 514, 515, 516, 517, 518, 519, 520, 521, 522, 523, 524, 525, 526, 527, 528, 529, 530, 531, 532, 533, 534, 535, 536, 537, 538, 539, 540, 541, 542, 543, 544, 545, 546, 547, 548, 549, 550, 551, 552, 553, 554, 555, 556, 557, 558, 559, 560, 561, 562, 563, 564, 565, 566, 567, 568, 569, 570, 571, 572, 573, 574, 575, 576, 577, 578, 579, 580, 581, 582, 583, 584, 585, 586, 587, 588, 589, 590, 591, 592, 593, 594, 595, 596, 597, 598, 599, 600, 601, 602, 603, 604, 605, 606, 607, 608, 609, 610, 611, 612, 613, 614, 615, 616, 617, 618, 619, 620, 621, 622, 623, 624, 625, 626, 627, 628, 629, 630, 631, 632, 633, 634, 635, 636, 637, 638, 639, 640, 641, 642, 643, 644, 645, 646, 647, 648, 649, 650, 651, 652, 653, 654, 655, 656, 657, 658, 659, 660, 661, 662, 663, 664, 665, 666, 667, 668, 669, 670, 671, 672, 673, 674, 675, 676, 677, 678, 679, 680, 681, 682, 683, 684, 685, 686, 687, 688, 689, 690, 691, 692, 693, 694, 695, 696, 697, 698, 699, 700, 701, 702, 703, 704, 705, 706, 707, 708, 709, 710, 711, 712, 713, 714, 715, 716, 717, 718, 719, 720, 721, 722, 723, 724, 725, 726, 727, 728, 729, 730, 731, 732, 733, 734, 735, 736, 737, 738, 739, 740, 741, 742, 743, 744, 745, 746, 747, 748, 749, 750, 751, 752, 753, 754, 755, 756, 757, 758, 759, 760, 761, 762, 763, 764, 765, 766, 767, 768, 769, 770, 771, 772, 773, 774, 775, 776, 777, 778, 779, 780, 781, 782, 783, 784, 785, 786, 787, 788, 789, 790, 791, 792, 793, 794, 795, 796, 797, 798, 799, 800, 801, 802, 803, 804, 805, 806, 807, 808, 809, 810, 811, 812, 813, 814, 815, 816, 817, 818, 819, 820, 821, 822, 823, 824, 825, 826, 827, 828, 829, 830, 831, 832, 833, 834, 835, 836, 837, 838, 839, 840, 841, 842, 843, 844, 845, 846, 847, 848, 849, 850, 851, 852, 853, 854, 855, 856, 857, 858, 859, 860, 861, 862, 863, 864, 865, 866, 867, 868, 869, 870, 871, 872, 873, 874, 875, 876, 877, 878, 879, 880, 881, 882, 883, 884, 885, 886, 887, 888, 889, 890, 891, 892, 893, 894, 895, 896, 897, 898, 899, 900, 901, 902, 903, 904, 905, 906, 907, 908, 909, 910, 911, 912, 913, 914, 915, 916, 917, 918, 919, 920, 921, 922, 923, 924, 925, 926, 927, 928, 929, 930, 931, 932, 933, 934, 935, 936, 937, 938, 939, 940, 941, 942, 943, 944, 945, 946, 947, 948, 949, 950, 951, 952, 953, 954, 955, 956, 957, 958, 959, 960, 961, 962, 963, 964, 965, 966, 967, 968, 969, 970, 971, 972, 973, 974, 975, 976, 977, 978, 979, 980, 981, 982, 983, 984, 985, 986, 987, 988, 989, 990, 991, 992, 993, 994, 995, 996, 997, 998, 999, 1000, 1001, 1002, 1003, 1004, 1005, 1006, 1007, 1008, 1009, 1010, 1011, 1012, 1013, 1014, 1015, 1016, 1017, 1018, 1019, 1020, 1021, 1022, 1023, 1024, 1025, 1026, 1027, 1028, 1029, 1030, 1031, 1032, 1033, 1034, 1035, 1036, 1037, 1038, 1039, 1040, 1041, 1042, 1043, 1044, 1045, 1046, 1047, 1048, 1049, 1050, 1051, 1052, 1053, 1054, 1055, 1056, 1057, 1058, 1059, 1060, 1061, 1062, 1063, 1064, 1065, 1066, 1067, 1068, 1069, 1070, 1071, 1072, 1073, 1074, 1075, 1076, 1077, 1078, 1079, 1080, 1081, 1082, 1083, 1084, 1085, 1086, 1087, 1088, 1089, 1090, 1091, 1092, 1093, 1094, 1095, 1096, 1097, 1098, 1099, 1100, 1101, 1102, 1103, 1104, 1105, 1106, 1107, 1108, 1109, 1110, 1111, 1112, 1113, 1114, 1115, 1116, 1117, 1118, 1119, 1120, 1121, 1122, 1123, 1124, 1125, 1126, 1127, 1128, 1129, 1130, 1131, 1132, 1133, 1134, 1135, 1136, 1137, 1138, 1139, 1140, 1141, 1142, 1143, 1144, 1145, 1146, 1147, 1148, 1149, 1150, 1151, 1152, 1153, 1154, 1155, 1156, 1157, 1158, 1159, 1160, 1161, 1162, 1163, 1164, 1165, 1166, 1167, 1168, 1169, 1170, 1171, 1172, 1173, 1174, 1175, 1176, 1177, 1178, 1179, 1180, 1181, 1182, 1183, 1184, 1185, 1186, 1187, 1188, 1189, 1190, 1191, 1192, 1193, 1194, 1195, 1196, 1197, 1198, 1199, 1200, 1201, 1202, 1203, 1204, 1205, 1206, 1207, 1208, 1209, 1210, 1211, 1212, 1213, 1214, 1215, 1216, 1217, 1218, 1219, 1220, 1221, 1222, 1223, 1224, 1225, 1226, 1227, 1228, 1229, 1230, 1231, 1232, 1233, 1234, 1235, 1236, 1237, 1238, 1239, 1240, 1241, 1242, 1243, 1244, 1245, 1246, 1247, 1248, 1249, 1250, 1251, 1252, 1253, 1254, 1255, 1256, 1257, 1258, 1259, 1260, 1261, 1262, 1263, 1264, 1265, 1266, 1267, 1268, 1269, 1270, 1271, 1272, 1273, 1274, 1275, 1276, 1277, 1278, 1279, 1280, 1281, 1282, 1283, 1284, 1285, 1286, 1287, 1288, 1289, 1290, 1291, 1292, 1293, 1294, 1295, 1296, 1297, 1298, 1299, 1300, 1301, 1302, 1303, 1304, 1305, 1306, 1307, 1308, 1309, 1310, 1311, 1312, 1313, 1314, 1315, 1316, 1317, 1318, 1319, 1320, 1321, 1322, 1323, 1324, 1325, 1326, 1327, 1328, 1329, 1330, 1331, 1332, 1333, 1334, 1335, 1336, 1337, 1338, 1339, 1340, 1341, 1342, 1343, 1344, 1345, 1346, 1347, 1348, 1349, 1350, 1351, 1352, 1353, 1354, 1355, 1356, 1357, 1358, 1359, 1360, 1361, 1362, 1363, 1364, 1365, 1366, 1367, 1368, 1369, 1370, 1371, 1372, 1373, 1374, 1375, 1376, 1377, 1378, 1379, 1380, 1381, 1382, 1383, 1384, 1385, 1386, 1387, 1388, 1389, 1390, 1391, 1392, 1393, 1394, 1395, 1396, 1397, 1398, 1399, 1400, 1401, 1402, 1403, 1404, 1405, 1406, 1407, 1408, 1409, 1410, 1411, 1412, 1413, 1414, 1415, 1416, 1417, 1418, 1419, 1420, 1421, 1422, 1423, 1424, 1425, 1426, 1427, 1428, 1429, 1430, 1431, 1432, 1433, 1434, 1435, 1436, 1437, 1438, 1439, 1440, 1441, 1442, 1443, 1444, 1445, 1446, 1447, 1448, 1449, 1450, 1451, 1452, 1453, 1454, 1455, 1456, 1457, 1458, 1459, 1460, 1461, 1462, 1463, 1464, 1465, 1466, 1467, 1468, 1469, 1470, 1471, 1472, 1473, 1474, 1475, 1476, 1477, 1478, 1479, 1480, 1481, 1482, 1483, 1484, 1485, 1486, 1487, 1488, 1489, 1490, 1491, 1492, 1493, 1494, 1495, 1496, 1497, 1498, 1499, 1500, 1501, 1502, 1503, 1504, 1505, 1506, 1507, 1508, 1509, 1510, 1511, 1512, 1513, 1514, 1515, 1516, 1517, 1518, 1519, 1520, 1521, 1522, 1523, 1524, 1525, 1526, 1527, 1528, 1529, 1530, 1531, 1532, 1533, 1534, 1535, 1536, 1537, 1538, 1539, 1540, 1541, 1542, 1543, 1544, 1545, 1546, 1547, 1548, 1549, 1550, 1551, 1552, 1553, 1554, 1555, 1556, 1557, 1558, 1559, 1560, 1561, 1562, 1563, 1564, 1565, 1566, 1567, 1568, 1569, 1570, 1571, 1572, 1573, 1574, 1575, 1576, 1577, 1578, 1579, 1580, 1581, 1582, 1583, 1584, 1585, 1586, 1587, 1588, 1589, 1590, 1591, 1592, 1593, 1594, 1595, 1596, 1597, 1598, 1599, 1600, 1601, 1602, 1603, 1604, 1605, 1606, 1607, 1608, 1609, 1610, 1611, 1612, 1613, 1614, 1615, 1616, 1617, 1618, 1619, 1620, 1621, 1622, 1623, 1624, 1625, 1626, 1627, 1628, 1629, 1630, 1631, 1632, 1633, 1634, 1635, 1636, 1637, 1638, 1639, 1640, 1641, 1642, 1643, 1644, 1645, 1646, 1647, 1648, 1649, 1650, 1651, 1652, 1653, 1654, 1655, 1656, 1657, 1658, 1659, 1660, 1661, 1662, 1663, 1664, 1665, 1666, 1667, 1668, 1669, 1670, 1671, 1672, 1673, 1674, 1675, 1676, 1677, 1678, 1679, 1680, 1681, 1682, 1683, 1684, 1685, 1686, 1687, 1688, 1689, 1690, 1691, 1692, 1693, 1694, 1695, 1696, 1697, 1698, 1699, 1700, 1701, 1702, 1703, 1704, 1705, 1706, 1707, 1708, 1709, 1710, 1711, 1712, 1713, 1714, 1715, 1716, 1717, 1718, 1719, 1720, 1721, 1722, 1723, 1724, 1725, 1726, 1727, 1728, 1729, 1730, 1731, 1732, 1733, 1734, 1735, 1736, 1737, 1738, 1739, 1740, 1741, 1742, 1743, 1744, 1745, 1746, 1747, 1748, 1749, 1750, 1751, 1752, 1753, 1754, 1755, 1756, 1757, 1758, 1759, 1760, 1761, 1762, 1763, 1764, 1765, 1766, 1767, 1768, 1769, 1770, 1771, 1772, 1773, 1774, 1775, 1776, 1777, 1778, 1779, 1780, 1781, 1782, 1783, 1784, 1785, 1786, 1787, 1788, 1789, 1790, 1791, 1792, 1793, 1794, 1795, 1796, 1797, 1798, 1799, 1800, 1801, 1802, 1803, 1804, 1805, 1806, 1807, 1808, 1809, 1810, 1811, 1812, 1813, 1814, 1815, 1816, 1817, 1818, 1819, 1820, 1821, 1822, 1823, 1824, 1825, 1826, 1827, 1828, 1829, 1830, 1831, 1832, 1833, 1834, 1835, 1836, 1837, 1838, 1839, 1840, 1841, 1842, 1843, 1844, 1845, 1846, 1847, 1848, 1849, 1850, 1851, 1852, 1853, 1854, 1855, 1856, 1857, 1858, 1859, 1860, 1861, 1862, 1863, 1864, 1865, 1866, 1867, 1868, 1869, 1870, 1871, 1872, 1873, 1874, 1875, 1876, 1877, 1878, 1879, 1880, 1881, 1882, 1883, 1884, 1885, 1886, 1887, 1888, 1889, 1890, 1891, 1892, 1893, 1894, 1895, 1896, 1897, 1898, 1899, 1900, 1901, 1902, 1903, 1904, 1905, 1906, 1907, 1908, 1909, 1910, 1911, 1912, 1913, 1914, 1915, 1916, 1917, 1918, 1919, 1920, 1921, 1922, 1923, 1924, 1925, 1926, 1927, 1928, 1929, 1930, 1931, 1932, 1933, 1934, 1935, 1936, 1937, 1938, 1939, 1940, 1941, 1942, 1943, 1944, 1945, 1946, 1947, 1948, 1949, 1950, 1951, 1952, 1953, 1954, 1955, 1956, 1957, 1958, 1959, 1960, 1961, 1962, 1963, 1964, 1965, 1966, 1967, 1968, 1969, 1970, 1971, 1972, 1973, 1974, 1975, 1976, 1977, 1978, 1979, 1980, 1981, 1982, 1983, 1984, 1985, 1986, 1987, 1988, 1989, 1990, 1991, 1992, 1993, 1994, 1995, 1996, 1997, 1998, 1999, 2000, 2001, 2002, 2003, 2004, 2005, 2006, 2007, 2008, 2009, 2010, 2011, 2012, 2013, 2014, 2015, 2016, 2017, 2018, 2019, 2020, 2021, 2022, 2023, 2024, 2025, 2026, 2027, 2028, 2029, 2030, 2031, 2032, 2033, 2034, 2035, 2036, 2037, 2038, 2039, 2040, 2041, 2042, 2043, 2044, 2045, 2046, 2047, 2048, 2049, 2050, 2051, 2052, 2053, 2054, 2055, 2056, 2057, 2058, 2059, 2060, 2061, 2062, 2063, 2064, 2065, 2066, 2067, 2068, 2069, 2070, 2071, 2072, 2073, 2074, 2075, 2076, 2077, 2078, 2079, 2080, 2081, 2082, 2083, 2084, 2085, 2086, 2087, 2088, 2089, 2090, 2091, 2092, 2093, 2094, 2095, 2096, 2097, 2098, 2099, 2100, 2101, 2102, 2103, 2104, 2105, 2106, 2107, 2108, 2109, 2110, 2111, 2112, 2113, 2114, 2115, 2116, 2117, 2118, 2119, 2120, 2121, 2122, 2123, 2124, 2125, 2126, 2127, 2128, 2129, 2130, 2131, 2132, 2133, 2134, 2135, 2136, 2137, 2138, 2139, 2140, 2141, 2142, 2143, 2144, 2145, 2146, 2147, 2148, 2149, 2150, 2151, 2152, 2153, 2154, 2155, 2156, 2157, 2158, 2159, 2160, 2161, 2162, 2163, 2164, 2165, 2166, 2167, 2168, 2169, 2170, 2171, 2172, 2173, 2174, 2175, 2176, 2177, 2178, 2179, 2180, 2181, 2182, 2183, 2184, 2185, 2186, 2187, 2188, 2189, 2190, 2191, 2192, 2193, 2194, 2195, 2196, 2197, 2198, 2199, 2200, 2201, 2202, 2203, 2204, 2205, 2206, 2207, 2208, 2209, 2210, 2211, 2212, 2213, 2214, 2215, 2216, 2217, 2218, 2219, 2220, 2221, 2222, 2223, 2224, 2225, 2226, 2227, 2228, 2229, 2230, 2231, 2232, 2233, 2234, 2235, 2236, 2237, 2238, 2239, 2240, 2241, 2242, 2243, 2244, 2245, 2246, 2247, 2248, 2249, 2250, 2251, 2252, 2253, 2254, 2255, 2256, 2257, 2258, 2259, 2260, 2261, 2262, 2263, 2264, 2265, 2266, 2267, 2268, 2269, 2270, 2271, 2272, 2273, 2274, 2275, 2276, 2277, 2278, 2279, 2280, 2281, 2282, 2283, 2284, 2285, 2286, 2287, 2288, 2289, 2290, 2291, 2292, 2293, 2294, 2295, 2296, 2297, 2298, 2299, 2300, 2301, 2302, 2303, 2304, 2305, 2306, 2307, 2308, 2309, 2310, 2311, 2312, 2313, 2314, 2315, 2316, 2317, 2318, 2319, 2320, 2321, 2322, 2323, 2324, 2325, 2326, 2327, 2328, 2329, 2330, 2331, 2332, 2333, 2334, 2335, 2336, 2337, 2338, 2339, 2340, 2341, 2342, 2343, 2344, 2345, 2346, 2347, 2348, 2349, 2350, 2351, 2352, 2353, 2354, 2355, 2356, 2357, 2358, 2359, 2360, 2361, 2362, 2363, 2364, 2365, 2366, 2367, 2368, 2369, 2370, 2371, 2372, 2373, 2374, 2375, 2376, 2377, 2378, 2379, 2380, 2381, 2382, 2383, 2384, 2385, 2386, 2387, 2388, 2389, 2390, 2391, 2392, 2393, 2394, 2395, 2396, 2397, 2398, 2399, 2400, 2401, 2402, 2403, 2404, 2405, 2406, 2407, 2408, 2409, 2410, 2411, 2412, 2413, 2414, 2415, 2416, 2417, 2418, 2419, 2420, 2421, 2422, 2423, 2424, 2425, 2426, 2427, 2428, 2429, 2430, 2431, 2432, 2433, 2434, 2435, 2436, 2437, 2438, 2439, 2440, 2441, 2442, 2443, 2444, 2445, 2446, 2447, 2448, 2449, 2450, 2451, 2452, 2453, 2454, 2455, 2456, 2457, 2458, 2459, 2460, 2461, 2462, 2463, 2464, 2465, 2466, 2467, 2468, 2469, 2470, 2471, 2472, 2473, 2474, 2475, 2476, 2477, 2478, 2479, 2480, 2481, 2482, 2483, 2484, 2485, 2486, 2487, 2488, 2489, 2490, 2491, 2492, 2493, 2494, 2495, 2496, 2497, 2498, 2499, 2500, 2501, 2502, 2503, 2504, 2505, 2506, 2507, 2508, 2509, 2510, 2511, 2512, 2513, 2514, 2515, 2516, 2517, 2518, 2519, 2520, 2521, 2522, 2523, 2524, 2525, 2526, 2527, 2528, 2529, 2530, 2531, 2532, 2533, 2534, 2535, 2536, 2537, 2538, 2539, 2540, 2541, 2542, 2543, 2544, 2545, 2546, 2547, 2548, 2549, 2550, 2551, 2552, 2553, 2554, 2555, 2556, 2557, 2558, 2559, 2560, 2561, 2562, 2563, 2564, 2565, 2566, 2567, 2568, 2569, 2570, 2571, 2572, 2573, 2574, 2575, 2576, 2577, 2578, 2579, 2580, 2581, 2582, 2583, 2584, 2585, 2586, 2587, 2588, 2589, 2590, 2591, 2592, 2593, 2594, 2595, 2596, 2597, 2598, 2599, 2600, 2601, 2602, 2603, 2604, 2605, 2606, 2607, 2608, 2609, 2610, 2611, 2612, 2613, 2614, 2615, 2616, 2617, 2618, 2619, 2620, 2621, 2622, 2623, 2624, 2625, 2626, 2627, 2628, 2629, 2630, 2631, 2632, 2633, 2634, 2635, 2636, 2637, 2638, 2639, 2640, 2641, 2642, 2643, 2644, 2645, 2646, 2647, 2648, 2649, 2650, 2651, 2652, 2653, 2654, 2655, 2656, 2657, 2658, 2659, 2660, 2661, 2662, 2663, 2664, 2665, 2666, 2667, 2668, 2669, 2670, 2671, 2672, 2673, 2674, 2675, 2676, 2677, 2678, 2679, 2680, 2681, 2682, 2683, 2684, 2685, 2686, 2687, 2688, 2689, 2690, 2691, 2692, 2693, 2694, 2695, 2696, 2697, 2698, 2699, 2700, 2701, 2702, 2703, 2704, 2705, 2706, 2707, 2708, 2709, 2710, 2711, 2712, 2713, 2714, 2715, 2716, 2717, 2718, 2719, 2720, 2721, 2722, 2723, 2724, 2725, 2726, 2727, 2728, 2729, 2730, 2731, 2732, 2733, 2734, 2735, 2736, 2737, 2738, 2739, 2740, 2741, 2742, 2743, 2744, 2745, 2746, 2747, 2748, 2749, 2750, 2751, 2752, 2753, 2754, 2755, 2756, 2757, 2758, 2759, 2760, 2761, 2762, 2763, 2764, 2765, 2766, 2767, 2768, 2769, 2770, 2771, 2772, 2773, 2774, 2775, 2776, 2777, 2778, 2779, 2780, 2781, 2782, 2783, 2784, 2785, 2786, 2787, 2788, 2789, 2790, 2791, 2792, 2793, 2794, 2795, 2796, 2797, 2798, 2799, 2800, 2801, 2802, 2803, 2804, 2805, 2806, 2807, 2808, 2809, 2810, 2811, 2812, 2813, 2814, 2815, 2816, 2817, 2818, 2819, 2820, 2821, 2822, 2823, 2824, 2825, 2826, 2827, 2828, 2829, 2830, 2831, 2832, 2833, 2834, 2835, 2836, 2837, 2838, 2839, 2840, 2841, 2842, 2843, 2844, 2845, 2846, 2847, 2848, 2849, 2850, 2851, 2852, 2853, 2854, 2855, 2856, 2857, 2858, 2859, 2860, 2861, 2862, 2863, 2864, 2865, 2866, 2867, 2868, 2869, 2870, 2871, 2872, 2873, 2874, 2875, 2876, 2877, 2878, 2879, 2880, 2881, 2882, 2883, 2884, 2885, 2886, 2887, 2888, 2889, 2890, 2891, 2892, 2893, 2894, 2895, 2896, 2897, 2898, 2899, 2900, 2901, 2902, 2903, 2904, 2905, 2906, 2907, 2908, 2909, 2910, 2911, 2912, 2913, 2914, 2915, 2916, 2917, 2918, 2919, 2920, 2921, 2922, 2923, 2924, 2925, 2926, 2927, 2928, 2929, 2930, 2931, 2932, 2933, 2934, 2935, 2936, 2937, 2938, 2939, 2940, 2941, 2942, 2943, 2944, 2945, 2946, 2947, 2948, 2949, 2950, 2951, 2952, 2953, 2954, 2955, 2956, 2957, 2958, 2959, 2960, 2961, 2962, 2963, 2964, 2965, 2966, 2967, 2968, 2969, 2970, 2971, 2972, 2973, 2974, 2975, 2976, 2977, 2978, 2979, 2980, 2981, 2982, 2983, 2984, 2985, 2986, 2987, 2988, 2989, 2990, 2991, 2992, 2993, 2994, 2995, 2996, 2997, 2998, 2999, 3000, 3001, 3002, 3003, 3004, 3005, 3006, 3007, 3008, 3009, 3010, 3011, 3012, 3013, 3014, 3015, 3016, 3017, 3018, 3019, 3020, 3021, 3022, 3023, 3024, 3025, 3026, 3027, 3028, 3029, 3030, 3031, 3032, 3033, 3034, 3035, 3036, 3037, 3038, 3039, 3040, 3041, 3042, 3043, 3044, 3045, 3046, 3047, 3048, 3049, 3050, 3051, 3052, 3053, 3054, 3055, 3056, 3057, 3058, 3059, 3060, 3061, 3062, 3063, 3064, 3065, 3066, 3067, 3068, 3069, 3070, 3071, 3072, 3073, 3074, 3075, 3076, 3077, 3078, 3079, 3080, 3081, 3082, 3083, 3084, 3085, 3086, 3087, 3088, 3089, 3090, 3091, 3092, 3093, 3094, 3095, 3096, 3097, 3098, 3099, 3100, 3101, 3102, 3103, 3104, 3105, 3106, 3107, 3108, 3109, 3110, 3111, 3112, 3113, 3114, 3115, 3116, 3117, 3118, 3119, 3120, 3121, 3122, 3123, 3124, 3125, 3126, 3127, 3128, 3129, 3130, 3131, 3132, 3133, 3134, 3135, 3136, 3137, 3138, 3139, 3140, 3141, 3142, 3143, 3144, 3145, 3146, 3147, 3148, 3149, 3150, 3151, 3152, 3153, 3154, 3155, 3156, 3157, 3158, 3159, 3160, 3161, 3162, 3163, 3164, 3165, 3166, 3167, 3168, 3169, 3170, 3171, 3172, 3173, 3174, 3175, 3176, 3177, 3178, 3179, 3180, 3181, 3182, 3183, 3184, 3185, 3186, 3187, 3188, 3189, 3190, 3191, 3192, 3193, 3194, 3195, 3196, 3197, 3198, 3199, 3200, 3201, 3202, 3203, 3204, 3205, 3206, 3207, 3208, 3209, 3210, 3211, 3212, 3213, 3214, 3215, 3216, 3217, 3218, 3219, 3220, 3221, 3222, 3223, 3224, 3225, 3226, 3227, 3228, 3229, 3230, 3231, 3232, 3233, 3234, 3235, 3236, 3237, 3238, 3239, 3240, 3241, 3242, 3243, 3244, 3245, 3246, 3247, 3248, 3249, 3250, 3251, 3252, 3253, 3254, 3255, 3256, 3257, 3258, 3259, 3260, 3261, 3262, 3263, 3264, 3265, 3266, 3267, 3268, 3269, 3270, 3271, 3272, 3273, 3274, 3275, 3276, 3277, 3278, 3279, 3280, 3281, 3282, 3283, 3284, 3285, 3286, 3287, 3288, 3289, 3290, 3291, 3292, 3293, 3294, 3295, 3296, 3297, 3298, 3299, 3300, 3301, 3302, 3303, 3304, 3305, 3306, 3307, 3308, 3309, 3310, 3311, 3312, 3313, 3314, 3315, 3316, 3317, 3318, 3319, 3320, 3321, 3322, 3323, 3324, 3325, 3326, 3327, 3328, 3329, 3330, 3331, 3332, 3333, 3334, 3335, 3336, 3337, 3338, 3339, 3340, 3341, 3342, 3343, 3344, 3345, 3346, 3347, 3348, 3349, 3350, 3351, 3352, 3353, 3354, 3355, 3356, 3357, 3358, 3359, 3360, 3361, 3362, 3363, 3364, 3365, 3366, 3367, 3368, 3369, 3370, 3371, 3372, 3373, 3374, 3375, 3376, 3377, 3378, 3379, 3380, 3381, 3382, 3383, 3384, 3385, 3386, 3387, 3388, 3389, 3390, 3391, 3392, 3393, 3394, 3395, 3396, 3397, 3398, 3399, 3400, 3401, 3402, 3403, 3404, 3405, 3406, 3407, 3408, 3409, 3410, 3411, 3412, 3413, 3414, 3415, 3416, 3417, 3418, 3419, 3420, 3421, 3422, 3423, 3424, 3425, 3426, 3427, 3428, 3429, 3430, 3431, 3432, 3433, 3434, 3435, 3436, 3437, 3438, 3439, 3440, 3441, 3442, 3443, 3444, 3445, 3446, 3447, 3448, 3449, 3450, 3451, 3452, 3453, 3454, 3455, 3456, 3457, 3458, 3459, 3460, 3461, 3462, 3463, 3464, 3465, 3466, 3467, 3468, 3469, 3470, 3471, 3472, 3473, 3474, 3475, 3476, 3477, 3478, 3479, 3480, 3481, 3482, 3483, 3484, 3485, 3486, 3487, 3488, 3489, 3490, 3491, 3492, 3493, 3494, 3495, 3496, 3497, 3498, 3499, 3500, 3501, 3502, 3503, 3504, 3505, 3506, 3507, 3508, 3509, 3510, 3511, 3512, 3513, 3514, 3515, 3516, 3517, 3518, 3519, 3520, 3521, 3522, 3523, 3524, 3525, 3526, 3527, 3528, 3529, 3530, 3531, 3532, 3533, 3534, 3535, 3536, 3537, 3538, 3539, 3540, 3541, 3542, 3543, 3544, 3545, 3546, 3547, 3548, 3549, 3550, 3551, 3552, 3553, 3554, 3555, 3556, 3557, 3558, 3559, 3560, 3561, 3562, 3563, 3564, 3565, 3566, 3567, 3568, 3569, 3570, 3571, 3572, 3573, 3574, 3575, 3576, 3577, 3578, 3579, 3580, 3581, 3582, 3583, 3584, 3585, 3586, 3587, 3588, 3589, 3590, 3591, 3592, 3593, 3594, 3595, 3596, 3597, 3598, 3599, 3600, 3601, 3602, 3603, 3604, 3605, 3606, 3607, 3608, 3609, 3610, 3611, 3612, 3613, 3614, 3615, 3616, 3617, 3618, 3619, 3620, 3621, 3622, 3623, 3624, 3625, 3626, 3627, 3628, 3629, 3630, 3631, 3632, 3633, 3634, 3635, 3636, 3637, 3638, 3639, 3640, 3641, 3642, 3643, 3644, 3645, 3646, 3647, 3648, 3649, 3650, 3651, 3652, 3653, 3654, 3655, 3656, 3657, 3658, 3659, 3660, 3661, 3662, 3663, 3664, 3665, 3666, 3667, 3668, 3669, 3670, 3671, 3672, 3673, 3674, 3675, 3676, 3677, 3678, 3679, 3680, 3681, 3682, 3683, 3684, 3685, 3686, 3687, 3688, 3689, 3690, 3691, 3692, 3693, 3694, 3695, 3696, 3697, 3698, 3699, 3700, 3701, 3702, 3703, 3704, 3705, 3706, 3707, 3708, 3709, 3710, 3711, 3712, 3713, 3714, 3715, 3716, 3717, 3718, 3719, 3720, 3721, 3722, 3723, 3724, 3725, 3726, 3727, 3728, 3729, 3730, 3731, 3732, 3733, 3734, 3735, 3736, 3737, 3738, 3739, 3740, 3741, 3742, 3743, 3744, 3745, 3746, 3747, 3748, 3749, 3750, 3751, 3752, 3753, 3754, 3755, 3756, 3757, 3758, 3759, 3760, 3761, 3762, 3763, 3764, 3765, 3766, 3767, 3768, 3769, 3770, 3771, 3772, 3773, 3774, 3775, 3776, 3777, 3778, 3779, 3780, 3781, 3782, 3783, 3784, 3785, 3786, 3787, 3788, 3789, 3790, 3791, 3792, 3793, 3794, 3795, 3796, 3797, 3798, 3799, 3800, 3801, 3802, 3803, 3804, 3805, 3806, 3807, 3808, 3809, 3810, 3811, 3812, 3813, 3814, 3815, 3816, 3817, 3818, 3819, 3820, 3821, 3822, 3823, 3824, 3825, 3826, 3827, 3828, 3829, 3830, 3831, 3832, 3833, 3834, 3835, 3836, 3837, 3838, 3839, 3840, 3841, 3842, 3843, 3844, 3845, 3846, 3847, 3848, 3849, 3850, 3851, 3852, 3853, 3854, 3855, 3856, 3857, 3858, 3859, 3860, 3861, 3862, 3863, 3864, 3865, 3866, 3867, 3868, 3869, 3870, 3871, 3872, 3873, 3874, 3875, 3876, 3877, 3878, 3879, 3880, 3881, 3882, 3883, 3884, 3885, 3886, 3887, 3888, 3889, 3890, 3891, 3892, 3893, 3894, 3895, 3896, 3897, 3898, 3899, 3900, 3901, 3902, 3903, 3904, 3905, 3906, 3907, 3908, 3909, 3910, 3911, 3912, 3913, 3914, 3915, 3916, 3917, 3918, 3919, 3920, 3921, 3922, 3923, 3924, 3925, 3926, 3927, 3928, 3929, 3930, 3931, 3932, 3933, 3934, 3935, 3936, 3937, 3938, 3939, 3940, 3941, 3942, 3943, 3944, 3945, 3946, 3947, 3948, 3949, 3950, 3951, 3952, 3953, 3954, 3955, 3956, 3957, 3958, 3959, 3960, 3961, 3962, 3963, 3964, 3965, 3966, 3967, 3968, 3969, 3970, 3971, 3972, 3973, 3974, 3975, 3976, 3977, 3978, 3979, 3980, 3981, 3982, 3983, 3984, 3985, 3986, 3987, 3988, 3989, 3990, 3991, 3992, 3993, 3994, 3995, 3996, 3997, 3998, 3999, 4000, 4001, 4002, 4003, 4004, 4005, 4006, 4007, 4008, 4009, 4010, 4011, 4012, 4013, 4014, 4015, 4016, 4017, 4018, 4019, 4020, 4021, 4022, 4023, 4024, 4025, 4026, 4027, 4028, 4029, 4030, 4031, 4032, 4033, 4034, 4035, 4036, 4037, 4038, 4039, 4040, 4041, 4042, 4043, 4044, 4045, 4046, 4047, 4048, 4049, 4050, 4051, 4052, 4053, 4054, 4055, 4056, 4057, 4058, 4059, 4060, 4061, 4062, 4063, 4064, 4065, 4066, 4067, 4068, 4069, 4070, 4071, 4072, 4073, 4074, 4075, 4076, 4077, 4078, 4079, 4080, 4081, 4082, 4083, 4084, 4085, 4086, 4087, 4088, 4089, 4090, 4091, 4092, 4093, 4094, 4095, 4096, 4097, 4098, 4099, 4100, 4101, 4102, 4103, 4104, 4105, 4106, 4107, 4108, 4109, 4110, 4111, 4112, 4113, 4114, 4115, 4116, 4117, 4118, 4119, 4120, 4121, 4122, 4123, 4124, 4125, 4126, 4127, 4128, 4129, 4130, 4131, 4132, 4133, 4134, 4135, 4136, 4137, 4138, 4139, 4140, 4141, 4142, 4143, 4144, 4145, 4146, 4147, 4148, 4149, 4150, 4151, 4152, 4153, 4154, 4155, 4156, 4157, 4158, 4159, 4160, 4161, 4162, 4163, 4164, 4165, 4166, 4167, 4168, 4169, 4170, 4171, 4172, 4173, 4174, 4175, 4176, 4177, 4178, 4179, 4180, 4181, 4182, 4183, 4184, 4185, 4186, 4187, 4188, 4189, 4190, 4191, 4192, 4193, 4194, 4195, 4196, 4197, 4198, 4199, 4200, 4201, 4202, 4203, 4204, 4205, 4206, 4207, 4208, 4209, 4210, 4211, 4212, 4213, 4214, 4215, 4216, 4217, 4218, 4219, 4220, 4221, 4222, 4223, 4224, 4225, 4226, 4227, 4228, 4229, 4230, 4231, 4232, 4233, 4234, 4235, 4236, 4237, 4238, 4239, 4240, 4241, 4242, 4243, 4244, 4245, 4246, 4247, 4248, 4249, 4250, 4251, 4252, 4253, 4254, 4255, 4256, 4257, 4258, 4259, 4260, 4261, 4262, 4263, 4264, 4265, 4266, 4267, 4268, 4269, 4270, 4271, 4272, 4273, 4274, 4275, 4276, 4277, 4278, 4279, 4280, 4281, 4282, 4283, 4284, 4285, 4286, 4287, 4288, 4289, 4290, 4291, 4292, 4293, 4294, 4295, 4296, 4297, 4298, 4299, 4300, 4301, 4302, 4303, 4304, 4305, 4306, 4307, 4308, 4309, 4310, 4311, 4312, 4313, 4314, 4315, 4316, 4317, 4318, 4319, 4320, 4321, 4322, 4323, 4324, 4325, 4326, 4327, 4328, 4329, 4330, 4331, 4332, 4333, 4334, 4335, 4336, 4337, 4338, 4339, 4340, 4341, 4342, 4343, 4344, 4345, 4346, 4347, 4348, 4349, 4350, 4351, 4352, 4353, 4354, 4355, 4356, 4357, 4358, 4359, 4360, 4361, 4362, 4363, 4364, 4365, 4366, 4367, 4368, 4369, 4370, 4371, 4372, 4373, 4374, 4375, 4376, 4377, 4378, 4379, 4380, 4381, 4382, 4383, 4384, 4385, 4386, 4387, 4388, 4389, 4390, 4391, 4392, 4393, 4394, 4395, 4396, 4397, 4398, 4399, 4400, 4401, 4402, 4403, 4404, 4405, 4406, 4407, 4408, 4409, 4410, 4411, 4412, 4413, 4414, 4415, 4416, 4417, 4418, 4419, 4420, 4421, 4422, 4423, 4424, 4425, 4426, 4427, 4428, 4429, 4430, 4431, 4432, 4433, 4434, 4435, 4436, 4437, 4438, 4439, 4440, 4441, 4442, 4443, 4444, 4445, 4446, 4447, 4448, 4449, 4450, 4451, 4452, 4453, 4454, 4455, 4456, 4457, 4458, 4459, 4460, 4461, 4462, 4463, 4464, 4465, 4466, 4467, 4468, 4469, 4470, 4471, 4472, 4473, 4474, 4475, 4476, 4477, 4478, 4479, 4480, 4481, 4482, 4483, 4484, 4485, 4486, 4487, 4488, 4489, 4490, 4491, 4492, 4493, 4494, 4495, 4496, 4497, 4498, 4499, 4500, 4501, 4502, 4503, 4504, 4505, 4506, 4507, 4508, 4509, 4510, 4511, 4512, 4513, 4514, 4515, 4516, 4517, 4518, 4519, 4520, 4521, 4522, 4523, 4524, 4525, 4526, 4527, 4528, 4529, 4530, 4531, 4532, 4533, 4534, 4535, 4536, 4537, 4538, 4539, 4540, 4541, 4542, 4543, 4544, 4545, 4546, 4547, 4548, 4549, 4550, 4551, 4552, 4553, 4554, 4555, 4556, 4557, 4558, 4559, 4560, 4561, 4562, 4563, 4564, 4565, 4566, 4567, 4568, 4569, 4570, 4571, 4572, 4573, 4574, 4575, 4576, 4577, 4578, 4579, 4580, 4581, 4582, 4583, 4584, 4585, 4586, 4587, 4588, 4589, 4590, 4591, 4592, 4593, 4594, 4595, 4596, 4597, 4598, 4599, 4600, 4601, 4602, 4603, 4604, 4605, 4606, 4607, 4608, 4609, 4610, 4611, 4612, 4613, 4614, 4615, 4616, 4617, 4618, 4619, 4620, 4621, 4622, 4623, 4624, 4625, 4626, 4627, 4628, 4629, 4630, 4631, 4632, 4633, 4634, 4635, 4636, 4637, 4638, 4639, 4640, 4641, 4642, 4643, 4644, 4645, 4646, 4647, 4648, 4649, 4650, 4651, 4652, 4653, 4654, 4655, 4656, 4657, 4658, 4659, 4660, 4661, 4662, 4663, 4664, 4665, 4666, 4667, 4668, 4669, 4670, 4671, 4672, 4673, 4674, 4675, 4676, 4677, 4678, 4679, 4680, 4681, 4682, 4683, 4684, 4685, 4686, 4687, 4688, 4689, 4690, 4691, 4692, 4693, 4694, 4695, 4696, 4697, 4698, 4699, 4700, 4701, 4702, 4703, 4704, 4705, 4706, 4707, 4708, 4709, 4710, 4711, 4712, 4713, 4714, 4715, 4716, 4717, 4718, 4719, 4720, 4721, 4722, 4723, 4724, 4725, 4726, 4727, 4728, 4729, 4730, 4731, 4732, 4733, 4734, 4735, 4736, 4737, 4738, 4739, 4740, 4741, 4742, 4743, 4744, 4745, 4746, 4747, 4748, 4749, 4750, 4751, 4752, 4753, 4754, 4755, 4756, 4757, 4758, 4759, 4760, 4761, 4762, 4763, 4764, 4765, 4766, 4767, 4768, 4769, 4770, 4771, 4772, 4773, 4774, 4775, 4776, 4777, 4778, 4779, 4780, 4781, 4782, 4783, 4784, 4785, 4786, 4787, 4788, 4789, 4790, 4791, 4792, 4793, 4794, 4795, 4796, 4797, 4798, 4799, 4800, 4801, 4802, 4803, 4804, 4805, 4806, 4807, 4808, 4809, 4810, 4811, 4812, 4813, 4814, 4815, 4816, 4817, 4818, 4819, 4820, 4821, 4822, 4823, 4824, 4825, 4826, 4827, 4828, 4829, 4830, 4831, 4832, 4833, 4834, 4835, 4836, 4837, 4838, 4839, 4840, 4841, 4842, 4843, 4844, 4845, 4846, 4847, 4848, 4849, 4850, 4851, 4852, 4853, 4854, 4855, 4856, 4857, 4858, 4859, 4860, 4861, 4862, 4863, 4864, 4865, 4866, 4867, 4868, 4869, 4870, 4871, 4872, 4873, 4874, 4875, 4876, 4877, 4878, 4879, 4880, 4881, 4882, 4883, 4884, 4885, 4886, 4887, 4888, 4889, 4890, 4891, 4892, 4893, 4894, 4895, 4896, 4897, 4898, 4899, 4900, 4901, 4902, 4903, 4904, 4905, 4906, 4907, 4908, 4909, 4910, 4911, 4912, 4913, 4914, 4915, 4916, 4917, 4918, 4919, 4920, 4921, 4922, 4923, 4924, 4925, 4926, 4927, 4928, 4929, 4930, 4931, 4932, 4933, 4934, 4935, 4936, 4937, 4938, 4939, 4940, 4941, 4942, 4943, 4944, 4945, 4946, 4947, 4948, 4949, 4950, 4951, 4952, 4953, 4954, 4955, 4956, 4957, 4958, 4959, 4960, 4961, 4962, 4963, 4964, 4965, 4966, 4967, 4968, 4969, 4970, 4971, 4972, 4973, 4974, 4975, 4976, 4977, 4978, 4979, 4980, 4981, 4982, 4983, 4984, 4985, 4986, 4987, 4988, 4989, 4990, 4991, 4992, 4993, 4994, 4995, 4996, 4997, 4998, 4999, 5000, 5001, 5002, 5003, 5004, 5005, 5006, 5007, 5008, 5009, 5010, 5011, 5012, 5013, 5014, 5015, 5016, 5017, 5018, 5019, 5020, 5021, 5022, 5023, 5024, 5025, 5026, 5027, 5028, 5029, 5030, 5031, 5032, 5033, 5034, 5035, 5036, 5037, 5038, 5039, 5040, 5041, 5042, 5043, 5044, 5045, 5046, 5047, 5048, 5049, 5050, 5051, 5052, 5053, 5054, 5055, 5056, 5057, 5058, 5059, 5060, 5061, 5062, 5063, 5064, 5065, 5066, 5067, 5068, 5069, 5070, 5071, 5072, 5073, 5074, 5075, 5076, 5077, 5078, 5079, 5080, 5081, 5082, 5083, 5084, 5085, 5086, 5087, 5088, 5089, 5090, 5091, 5092, 5093, 5094, 5095, 5096, 5097, 5098, 5099, 5100, 5101, 5102, 5103, 5104, 5105, 5106, 5107, 5108, 5109, 5110, 5111, 5112, 5113, 5114, 5115, 5116, 5117, 5118, 5119, 5120, 5121, 5122, 5123, 5124, 5125, 5126, 5127, 5128, 5129, 5130, 5131, 5132, 5133, 5134, 5135, 5136, 5137, 5138, 5139, 5140, 5141, 5142, 5143, 5144, 5145, 5146, 5147, 5148, 5149, 5150, 5151, 5152, 5153, 5154, 5155, 5156, 5157, 5158, 5159, 5160, 5161, 5162, 5163, 5164, 5165, 5166, 5167, 5168, 5169, 5170, 5171, 5172, 5173, 5174, 5175, 5176, 5177, 5178, 5179, 5180, 5181, 5182, 5183, 5184, 5185, 5186, 5187, 5188, 5189, 5190, 5191, 5192, 5193, 5194, 5195, 5196, 5197, 5198, 5199, 5200, 5201, 5202, 5203, 5204, 5205, 5206, 5207, 5208, 5209, 5210, 5211, 5212, 5213, 5214, 5215, 5216, 5217, 5218, 5219, 5220, 5221, 5222, 5223, 5224, 5225, 5226, 5227, 5228, 5229, 5230, 5231, 5232, 5233, 5234, 5235, 5236, 5237, 5238, 5239, 5240, 5241, 5242, 5243, 5244, 5245, 5246, 5247, 5248, 5249, 5250, 5251, 5252, 5253, 5254, 5255, 5256, 5257, 5258, 5259, 5260, 5261, 5262, 5263, 5264, 5265, 5266, 5267, 5268, 5269, 5270, 5271, 5272, 5273, 5274, 5275, 5276, 5277, 5278, 5279, 5280, 5281, 5282, 5283, 5284, 5285, 5286, 5287, 5288, 5289, 5290, 5291, 5292, 5293, 5294, 5295, 5296, 5297, 5298, 5299, 5300, 5301, 5302, 5303, 5304, 5305, 5306, 5307, 5308, 5309, 5310, 5311, 5312, 5313, 5314, 5315, 5316, 5317, 5318, 5319, 5320, 5321, 5322, 5323, 5324, 5325, 5326, 5327, 5328, 5329, 5330, 5331, 5332, 5333, 5334, 5335, 5336, 5337, 5338, 5339, 5340, 5341, 5342, 5343, 5344, 5345, 5346, 5347, 5348, 5349, 5350, 5351, 5352, 5353, 5354, 5355, 5356, 5357, 5358, 5359, 5360, 5361, 5362, 5363, 5364, 5365, 5366, 5367, 5368, 5369, 5370, 5371, 5372, 5373, 5374, 5375, 5376, 5377, 5378, 5379, 5380, 5381, 5382, 5383, 5384, 5385, 5386, 5387, 5388, 5389, 5390, 5391, 5392, 5393, 5394, 5395, 5396, 5397, 5398, 5399, 5400, 5401, 5402, 5403, 5404, 5405, 5406, 5407, 5408, 5409, 5410, 5411, 5412, 5413, 5414, 5415, 5416, 5417, 5418, 5419, 5420, 5421, 5422, 5423, 5424, 5425, 5426, 5427, 5428, 5429, 5430, 5431, 5432, 5433, 5434, 5435, 5436, 5437, 5438, 5439, 5440, 5441, 5442, 5443, 5444, 5445, 5446, 5447, 5448, 5449, 5450, 5451, 5452, 5453, 5454, 5455, 5456, 5457, 5458, 5459, 5460, 5461, 5462, 5463, 5464, 5465, 5466, 5467, 5468, 5469, 5470, 5471, 5472, 5473, 5474, 5475, 5476, 5477, 5478, 5479, 5480, 5481, 5482, 5483, 5484, 5485, 5486, 5487, 5488, 5489, 5490, 5491, 5492, 5493, 5494, 5495, 5496, 5497, 5498, 5499, 5500, 5501, 5502, 5503, 5504, 5505, 5506, 5507, 5508, 5509, 5510, 5511, 5512, 5513, 5514, 5515, 5516, 5517, 5518, 5519, 5520, 5521, 5522, 5523, 5524, 5525, 5526, 5527, 5528, 5529, 5530, 5531, 5532, 5533, 5534, 5535, 5536, 5537, 5538, 5539, 5540, 5541, 5542, 5543, 5544, 5545, 5546, 5547, 5548, 5549, 5550, 5551, 5552, 5553, 5554, 5555, 5556, 5557, 5558, 5559, 5560, 5561, 5562, 5563, 5564, 5565, 5566, 5567, 5568, 5569, 5570, 5571, 5572, 5573, 5574, 5575, 5576, 5577, 5578, 5579, 5580, 5581, 5582, 5583, 5584, 5585, 5586, 5587, 5588, 5589, 5590, 5591, 5592, 5593, 5594, 5595, 5596, 5597, 5598, 5599, 5600, 5601, 5602, 5603, 5604, 5605, 5606, 5607, 5608, 5609, 5610, 5611, 5612, 5613, 5614, 5615, 5616, 5617, 5618, 5619, 5620, 5621, 5622, 5623, 5624, 5625, 5626, 5627, 5628, 5629, 5630, 5631, 5632, 5633, 5634, 5635, 5636, 5637, 5638, 5639, 5640, 5641, 5642, 5643, 5644, 5645, 5646, 5647, 5648, 5649, 5650, 5651, 5652, 5653, 5654, 5655, 5656, 5657, 5658, 5659, 5660, 5661, 5662, 5663, 5664, 5665, 5666, 5667, 5668, 5669, 5670, 5671, 5672, 5673, 5674, 5675, 5676, 5677, 5678, 5679, 5680, 5681, 5682, 5683, 5684, 5685, 5686, 5687, 5688, 5689, 5690, 5691, 5692, 5693, 5694, 5695, 5696, 5697, 5698, 5699, 5700, 5701, 5702, 5703, 5704, 5705, 5706, 5707, 5708, 5709, 5710, 5711, 5712, 5713, 5714, 5715, 5716, 5717, 5718, 5719, 5720, 5721, 5722, 5723, 5724, 5725, 5726, 5727, 5728, 5729, 5730, 5731, 5732, 5733, 5734, 5735, 5736, 5737, 5738, 5739, 5740, 5741, 5742, 5743, 5744, 5745, 5746, 5747, 5748, 5749, 5750, 5751, 5752, 5753, 5754, 5755, 5756, 5757, 5758, 5759, 5760, 5761, 5762, 5763, 5764, 5765, 5766, 5767, 5768, 5769, 5770, 5771, 5772, 5773, 5774, 5775, 5776, 5777, 5778, 5779, 5780, 5781, 5782, 5783, 5784, 5785, 5786, 5787, 5788, 5789, 5790, 5791, 5792, 5793, 5794, 5795, 5796, 5797, 5798, 5799, 5800, 5801, 5802, 5803, 5804, 5805, 5806, 5807, 5808, 5809, 5810, 5811, 5812, 5813, 5814, 5815, 5816, 5817, 5818, 5819, 5820, 5821, 5822, 5823, 5824, 5825, 5826, 5827, 5828, 5829, 5830, 5831, 5832, 5833, 5834, 5835, 5836, 5837, 5838, 5839, 5840, 5841, 5842, 5843, 5844, 5845, 5846, 5847, 5848, 5849, 5850, 5851, 5852, 5853, 5854, 5855, 5856, 5857, 5858, 5859, 5860, 5861, 5862, 5863, 5864, 5865, 5866, 5867, 5868, 5869, 5870, 5871, 5872, 5873, 5874, 5875, 5876, 5877, 5878, 5879, 5880, 5881, 5882, 5883, 5884, 5885, 5886, 5887, 5888, 5889, 5890, 5891, 5892, 5893, 5894, 5895, 5896, 5897, 5898, 5899, 5900, 5901, 5902, 5903, 5904, 5905, 5906, 5907, 5908, 5909, 5910, 5911, 5912, 5913, 5914, 5915, 5916, 5917, 5918, 5919, 5920, 5921, 5922, 5923, 5924, 5925, 5926, 5927, 5928, 5929, 5930, 5931, 5932, 5933, 5934, 5935, 5936, 5937, 5938, 5939, 5940, 5941, 5942, 5943, 5944, 5945, 5946, 5947, 5948, 5949, 5950, 5951, 5952, 5953, 5954, 5955, 5956, 5957, 5958, 5959, 5960, 5961, 5962, 5963, 5964, 5965, 5966, 5967, 5968, 5969, 5970, 5971, 5972, 5973, 5974, 5975, 5976, 5977, 5978, 5979, 5980, 5981, 5982, 5983, 5984, 5985, 5986, 5987, 5988, 5989, 5990, 5991, 5992, 5993, 5994, 5995, 5996, 5997, 5998, 5999, 6000, 6001, 6002, 6003, 6004, 6005, 6006, 6007, 6008, 6009, 6010, 6011, 6012, 6013, 6014, 6015, 6016, 6017, 6018, 6019, 6020, 6021, 6022, 6023, 6024, 6025, 6026, 6027, 6028, 6029, 6030, 6031, 6032, 6033, 6034, 6035, 6036, 6037, 6038, 6039, 6040, 6041, 6042, 6043, 6044, 6045, 6046, 6047, 6048, 6049, 6050, 6051, 6052, 6053, 6054, 6055, 6056, 6057, 6058, 6059, 6060, 6061, 6062, 6063, 6064, 6065, 6066, 6067, 6068, 6069, 6070, 6071, 6072, 6073, 6074, 6075, 6076, 6077, 6078, 6079, 6080, 6081, 6082, 6083, 6084, 6085, 6086, 6087, 6088, 6089, 6090, 6091, 6092, 6093, 6094, 6095, 6096, 6097, 6098, 6099, 6100, 6101, 6102, 6103, 6104, 6105, 6106, 6107, 6108, 6109, 6110, 6111, 6112, 6113, 6114, 6115, 6116, 6117, 6118, 6119, 6120, 6121, 6122, 6123, 6124, 6125, 6126, 6127, 6128, 6129, 6130, 6131, 6132, 6133, 6134, 6135, 6136, 6137, 6138, 6139, 6140, 6141, 6142, 6143, 6144, 6145, 6146, 6147, 6148, 6149, 6150, 6151, 6152, 6153, 6154, 6155, 6156, 6157, 6158, 6159, 6160, 6161, 6162, 6163, 6164, 6165, 6166, 6167, 6168, 6169, 6170, 6171, 6172, 6173, 6174, 6175, 6176, 6177, 6178, 6179, 6180, 6181, 6182, 6183, 6184, 6185, 6186, 6187, 6188, 6189, 6190, 6191, 6192, 6193, 6194, 6195, 6196, 6197, 6198, 6199, 6200, 6201, 6202, 6203, 6204, 6205, 6206, 6207, 6208, 6209, 6210, 6211, 6212, 6213, 6214, 6215, 6216, 6217, 6218, 6219, 6220, 6221, 6222, 6223, 6224, 6225, 6226, 6227, 6228, 6229, 6230, 6231, 6232, 6233, 6234, 6235, 6236, 6237, 6238, 6239, 6240, 6241, 6242, 6243, 6244, 6245, 6246, 6247, 6248, 6249, 6250, 6251, 6252, 6253, 6254, 6255, 6256, 6257, 6258, 6259, 6260, 6261, 6262, 6263, 6264, 6265, 6266, 6267, 6268, 6269, 6270, 6271, 6272, 6273, 6274, 6275, 6276, 6277, 6278, 6279, 6280, 6281, 6282, 6283, 6284, 6285, 6286, 6287, 6288, 6289, 6290, 6291, 6292, 6293, 6294, 6295, 6296, 6297, 6298, 6299, 6300, 6301, 6302, 6303, 6304, 6305, 6306, 6307, 6308, 6309, 6310, 6311, 6312, 6313, 6314, 6315, 6316, 6317, 6318, 6319, 6320, 6321, 6322, 6323, 6324, 6325, 6326, 6327, 6328, 6329, 6330, 6331, 6332, 6333, 6334, 6335, 6336, 6337, 6338, 6339, 6340, 6341, 6342, 6343, 6344, 6345, 6346, 6347, 6348, 6349, 6350, 6351, 6352, 6353, 6354, 6355, 6356, 6357, 6358, 6359, 6360, 6361, 6362, 6363, 6364, 6365, 6366, 6367, 6368, 6369, 6370, 6371, 6372, 6373, 6374, 6375, 6376, 6377, 6378, 6379, 6380, 6381, 6382, 6383, 6384, 6385, 6386, 6387, 6388, 6389, 6390, 6391, 6392, 6393, 6394, 6395, 6396, 6397, 6398, 6399, 6400, 6401, 6402, 6403, 6404, 6405, 6406, 6407, 6408, 6409, 6410, 6411, 6412, 6413, 6414, 6415, 6416, 6417, 6418, 6419, 6420, 6421, 6422, 6423, 6424, 6425, 6426, 6427, 6428, 6429, 6430, 6431, 6432, 6433, 6434, 6435, 6436, 6437, 6438, 6439, 6440, 6441, 6442, 6443, 6444, 6445, 6446, 6447, 6448, 6449, 6450, 6451, 6452, 6453, 6454, 6455, 6456, 6457, 6458, 6459, 6460, 6461, 6462, 6463, 6464, 6465, 6466, 6467, 6468, 6469, 6470, 6471, 6472, 6473, 6474, 6475, 6476, 6477, 6478, 6479, 6480, 6481, 6482, 6483, 6484, 6485, 6486, 6487, 6488, 6489, 6490, 6491, 6492, 6493, 6494, 6495, 6496, 6497, 6498, 6499, 6500, 6501, 6502, 6503, 6504, 6505, 6506, 6507, 6508, 6509, 6510, 6511, 6512, 6513, 6514, 6515, 6516, 6517, 6518, 6519, 6520, 6521, 6522, 6523, 6524, 6525, 6526, 6527, 6528, 6529, 6530, 6531, 6532, 6533, 6534, 6535, 6536, 6537, 6538, 6539, 6540, 6541, 6542, 6543, 6544, 6545, 6546, 6547, 6548, 6549, 6550, 6551, 6552, 6553, 6554, 6555, 6556, 6557, 6558, 6559, 6560, 6561, 6562, 6563, 6564, 6565, 6566, 6567, 6568, 6569, 6570, 6571, 6572, 6573, 6574, 6575, 6576, 6577, 6578, 6579, 6580, 6581, 6582, 6583, 6584, 6585, 6586, 6587, 6588, 6589, 6590, 6591, 6592, 6593, 6594, 6595, 6596, 6597, 6598, 6599, 6600, 6601, 6602, 6603, 6604, 6605, 6606, 6607, 6608, 6609, 6610, 6611, 6612, 6613, 6614, 6615, 6616, 6617, 6618, 6619, 6620, 6621, 6622, 6623, 6624, 6625, 6626, 6627, 6628, 6629, 6630, 6631, 6632, 6633, 6634, 6635, 6636, 6637, 6638, 6639, 6640, 6641, 6642, 6643, 6644, 6645, 6646, 6647, 6648, 6649, 6650, 6651, 6652, 6653, 6654, 6655, 6656, 6657, 6658, 6659, 6660, 6661, 6662, 6663, 6664, 6665, 6666, 6667, 6668, 6669, 6670, 6671, 6672, 6673, 6674, 6675, 6676, 6677, 6678, 6679, 6680, 6681, 6682, 6683, 6684, 6685, 6686, 6687, 6688, 6689, 6690, 6691, 6692, 6693, 6694, 6695, 6696, 6697, 6698, 6699, 6700, 6701, 6702, 6703, 6704, 6705, 6706, 6707, 6708, 6709, 6710, 6711, 6712, 6713, 6714, 6715, 6716, 6717, 6718, 6719, 6720, 6721, 6722, 6723, 6724, 6725, 6726, 6727, 6728, 6729, 6730, 6731, 6732, 6733, 6734, 6735, 6736, 6737, 6738, 6739, 6740, 6741, 6742, 6743, 6744, 6745, 6746, 6747, 6748, 6749, 6750, 6751, 6752, 6753, 6754, 6755, 6756, 6757, 6758, 6759, 6760, 6761, 6762, 6763, 6764, 6765, 6766, 6767, 6768, 6769, 6770, 6771, 6772, 6773, 6774, 6775, 6776, 6777, 6778, 6779, 6780, 6781, 6782, 6783, 6784, 6785, 6786, 6787, 6788, 6789, 6790, 6791, 6792, 6793, 6794, 6795, 6796, 6797, 6798, 6799, 6800, 6801, 6802, 6803, 6804, 6805, 6806, 6807, 6808, 6809, 6810, 6811, 6812, 6813, 6814, 6815, 6816, 6817, 6818, 6819, 6820, 6821, 6822, 6823, 6824, 6825, 6826, 6827, 6828, 6829, 6830, 6831, 6832, 6833, 6834, 6835, 6836, 6837, 6838, 6839, 6840, 6841, 6842, 6843, 6844, 6845, 6846, 6847, 6848, 6849, 6850, 6851, 6852, 6853, 6854, 6855, 6856, 6857, 6858, 6859, 6860, 6861, 6862, 6863, 6864, 6865, 6866, 6867, 6868, 6869, 6870, 6871, 6872, 6873, 6874, 6875, 6876, 6877, 6878, 6879, 6880, 6881, 6882, 6883, 6884, 6885, 6886, 6887, 6888, 6889, 6890, 6891, 6892, 6893, 6894, 6895, 6896, 6897, 6898, 6899, 6900, 6901, 6902, 6903, 6904, 6905, 6906, 6907, 6908, 6909, 6910, 6911, 6912, 6913, 6914, 6915, 6916, 6917, 6918, 6919, 6920, 6921, 6922, 6923, 6924, 6925, 6926, 6927, 6928, 6929, 6930, 6931, 6932, 6933, 6934, 6935, 6936, 6937, 6938, 6939, 6940, 6941, 6942, 6943, 6944, 6945, 6946, 6947, 6948, 6949, 6950, 6951, 6952, 6953, 6954, 6955, 6956, 6957, 6958, 6959, 6960, 6961, 6962, 6963, 6964, 6965, 6966, 6967, 6968, 6969, 6970, 6971, 6972, 6973, 6974, 6975, 6976, 6977, 6978, 6979, 6980, 6981, 6982, 6983, 6984, 6985, 6986, 6987, 6988, 6989, 6990, 6991, 6992, 6993, 6994, 6995, 6996, 6997, 6998, 6999, 7000, 7001, 7002, 7003, 7004, 7005, 7006, 7007, 7008, 7009, 7010, 7011, 7012, 7013, 7014, 7015, 7016, 7017, 7018, 7019, 7020, 7021, 7022, 7023, 7024, 7025, 7026, 7027, 7028, 7029, 7030, 7031, 7032, 7033, 7034, 7035, 7036, 7037, 7038, 7039, 7040, 7041, 7042, 7043, 7044, 7045, 7046, 7047, 7048, 7049, 7050, 7051, 7052, 7053, 7054, 7055, 7056, 7057, 7058, 7059, 7060, 7061, 7062, 7063, 7064, 7065, 7066, 7067, 7068, 7069, 7070, 7071, 7072, 7073, 7074, 7075, 7076, 7077, 7078, 7079, 7080, 7081, 7082, 7083, 7084, 7085, 7086, 7087, 7088, 7089, 7090, 7091, 7092, 7093, 7094, 7095, 7096, 7097, 7098, 7099, 7100, 7101, 7102, 7103, 7104, 7105, 7106, 7107, 7108, 7109, 7110, 7111, 7112, 7113, 7114, 7115, 7116, 7117, 7118, 7119, 7120, 7121, 7122, 7123, 7124, 7125, 7126, 7127, 7128, 7129, 7130, 7131, 7132, 7133, 7134, 7135, 7136, 7137, 7138, 7139, 7140, 7141, 7142, 7143, 7144, 7145, 7146, 7147, 7148, 7149, 7150, 7151, 7152, 7153, 7154, 7155, 7156, 7157, 7158, 7159, 7160, 7161, 7162, 7163, 7164, 7165, 7166, 7167, 7168, 7169, 7170, 7171, 7172, 7173, 7174, 7175, 7176, 7177, 7178, 7179, 7180, 7181, 7182, 7183, 7184, 7185, 7186, 7187, 7188, 7189, 7190, 7191, 7192, 7193, 7194, 7195, 7196, 7197, 7198, 7199, 7200, 7201, 7202, 7203, 7204, 7205, 7206, 7207, 7208, 7209, 7210, 7211, 7212, 7213, 7214, 7215, 7216, 7217, 7218, 7219, 7220, 7221, 7222, 7223, 7224, 7225, 7226, 7227, 7228, 7229, 7230, 7231, 7232, 7233, 7234, 7235, 7236, 7237, 7238, 7239, 7240, 7241, 7242, 7243, 7244, 7245, 7246, 7247, 7248, 7249, 7250, 7251, 7252, 7253, 7254, 7255, 7256, 7257, 7258, 7259, 7260, 7261, 7262, 7263, 7264, 7265, 7266, 7267, 7268, 7269, 7270, 7271, 7272, 7273, 7274, 7275, 7276, 7277, 7278, 7279, 7280, 7281, 7282, 7283, 7284, 7285, 7286, 7287, 7288, 7289, 7290, 7291, 7292, 7293, 7294, 7295, 7296, 7297, 7298, 7299, 7300, 7301, 7302, 7303, 7304, 7305, 7306, 7307, 7308, 7309, 7310, 7311, 7312, 7313, 7314, 7315, 7316, 7317, 7318, 7319, 7320, 7321, 7322, 7323, 7324, 7325, 7326, 7327, 7328, 7329, 7330, 7331, 7332, 7333, 7334, 7335, 7336, 7337, 7338, 7339, 7340, 7341, 7342, 7343, 7344, 7345, 7346, 7347, 7348, 7349, 7350, 7351, 7352, 7353, 7354, 7355, 7356, 7357, 7358, 7359, 7360, 7361, 7362, 7363, 7364, 7365, 7366, 7367, 7368, 7369, 7370, 7371, 7372, 7373, 7374, 7375, 7376, 7377, 7378, 7379, 7380, 7381, 7382, 7383, 7384, 7385, 7386, 7387, 7388, 7389, 7390, 7391, 7392, 7393, 7394, 7395, 7396, 7397, 7398, 7399, 7400, 7401, 7402, 7403, 7404, 7405, 7406, 7407, 7408, 7409, 7410, 7411, 7412, 7413, 7414, 7415, 7416, 7417, 7418, 7419, 7420, 7421, 7422, 7423, 7424, 7425, 7426, 7427, 7428, 7429, 7430, 7431, 7432, 7433, 7434, 7435, 7436, 7437, 7438, 7439, 7440, 7441, 7442, 7443, 7444, 7445, 7446, 7447, 7448, 7449, 7450, 7451, 7452, 7453, 7454, 7455, 7456, 7457, 7458, 7459, 7460, 7461, 7462, 7463, 7464, 7465, 7466, 7467, 7468, 7469, 7470, 7471, 7472, 7473, 7474, 7475, 7476, 7477, 7478, 7479, 7480, 7481, 7482, 7483, 7484, 7485, 7486, 7487, 7488, 7489, 7490, 7491, 7492, 7493, 7494, 7495, 7496, 7497, 7498, 7499, 7500, 7501, 7502, 7503, 7504, 7505, 7506, 7507, 7508, 7509, 7510, 7511, 7512, 7513, 7514, 7515, 7516, 7517, 7518, 7519, 7520, 7521, 7522, 7523, 7524, 7525, 7526, 7527, 7528, 7529, 7530, 7531, 7532, 7533, 7534, 7535, 7536, 7537, 7538, 7539, 7540, 7541, 7542, 7543, 7544, 7545, 7546, 7547, 7548, 7549, 7550, 7551, 7552, 7553, 7554, 7555, 7556, 7557, 7558, 7559, 7560, 7561, 7562, 7563, 7564, 7565, 7566, 7567, 7568, 7569, 7570, 7571, 7572, 7573, 7574, 7575, 7576, 7577, 7578, 7579, 7580, 7581, 7582, 7583, 7584, 7585, 7586, 7587, 7588, 7589, 7590, 7591, 7592, 7593, 7594, 7595, 7596, 7597, 7598, 7599, 7600, 7601, 7602, 7603, 7604, 7605, 7606, 7607, 7608, 7609, 7610, 7611, 7612, 7613, 7614, 7615, 7616, 7617, 7618, 7619, 7620, 7621, 7622, 7623, 7624, 7625, 7626, 7627, 7628, 7629, 7630, 7631, 7632, 7633, 7634, 7635, 7636, 7637, 7638, 7639, 7640, 7641, 7642, 7643, 7644, 7645, 7646, 7647, 7648, 7649, 7650, 7651, 7652, 7653, 7654, 7655, 7656, 7657, 7658, 7659, 7660, 7661, 7662, 7663, 7664, 7665, 7666, 7667, 7668, 7669, 7670, 7671, 7672, 7673, 7674, 7675, 7676, 7677, 7678, 7679, 7680, 7681, 7682, 7683, 7684, 7685, 7686, 7687, 7688, 7689, 7690, 7691, 7692, 7693, 7694, 7695, 7696, 7697, 7698, 7699, 7700, 7701, 7702, 7703, 7704, 7705, 7706, 7707, 7708, 7709, 7710, 7711, 7712, 7713, 7714, 7715, 7716, 7717, 7718, 7719, 7720, 7721, 7722, 7723, 7724, 7725, 7726, 7727, 7728, 7729, 7730, 7731, 7732, 7733, 7734, 7735, 7736, 7737, 7738, 7739, 7740, 7741, 7742, 7743, 7744, 7745, 7746, 7747, 7748, 7749, 7750, 7751, 7752, 7753, 7754, 7755, 7756, 7757, 7758, 7759, 7760, 7761, 7762, 7763, 7764, 7765, 7766, 7767, 7768, 7769, 7770, 7771, 7772, 7773, 7774, 7775, 7776, 7777, 7778, 7779, 7780, 7781, 7782, 7783, 7784, 7785, 7786, 7787, 7788, 7789, 7790, 7791, 7792, 7793, 7794, 7795, 7796, 7797, 7798, 7799, 7800, 7801, 7802, 7803, 7804, 7805, 7806, 7807, 7808, 7809, 7810, 7811, 7812, 7813, 7814, 7815, 7816, 7817, 7818, 7819, 7820, 7821, 7822, 7823, 7824, 7825, 7826, 7827, 7828, 7829, 7830, 7831, 7832, 7833, 7834, 7835, 7836, 7837, 7838, 7839, 7840, 7841, 7842, 7843, 7844, 7845, 7846, 7847, 7848, 7849, 7850, 7851, 7852, 7853, 7854, 7855, 7856, 7857, 7858, 7859, 7860, 7861, 7862, 7863, 7864, 7865, 7866, 7867, 7868, 7869, 7870, 7871, 7872, 7873, 7874, 7875, 7876, 7877, 7878, 7879, 7880, 7881, 7882, 7883, 7884, 7885, 7886, 7887, 7888, 7889, 7890, 7891, 7892, 7893, 7894, 7895, 7896, 7897, 7898, 7899, 7900, 7901, 7902, 7903, 7904, 7905, 7906, 7907, 7908, 7909, 7910, 7911, 7912, 7913, 7914, 7915, 7916, 7917, 7918, 7919, 7920, 7921, 7922, 7923, 7924, 7925, 7926, 7927, 7928, 7929, 7930, 7931, 7932, 7933, 7934, 7935, 7936, 7937, 7938, 7939, 7940, 7941, 7942, 7943, 7944, 7945, 7946, 7947, 7948, 7949, 7950, 7951, 7952, 7953, 7954, 7955, 7956, 7957, 7958, 7959, 7960, 7961, 7962, 7963, 7964, 7965, 7966, 7967, 7968, 7969, 7970, 7971, 7972, 7973, 7974, 7975, 7976, 7977, 7978, 7979, 7980, 7981, 7982, 7983, 7984, 7985, 7986, 7987, 7988, 7989, 7990, 7991, 7992, 7993, 7994, 7995, 7996, 7997, 7998, 7999, 8000, 8001, 8002, 8003, 8004, 8005, 8006, 8007, 8008, 8009, 8010, 8011, 8012, 8013, 8014, 8015, 8016, 8017, 8018, 8019, 8020, 8021, 8022, 8023, 8024, 8025, 8026, 8027, 8028, 8029, 8030, 8031, 8032, 8033, 8034, 8035, 8036, 8037, 8038, 8039, 8040, 8041, 8042, 8043, 8044, 8045, 8046, 8047, 8048, 8049, 8050, 8051, 8052, 8053, 8054, 8055, 8056, 8057, 8058, 8059, 8060, 8061, 8062, 8063, 8064, 8065, 8066, 8067, 8068, 8069, 8070, 8071, 8072, 8073, 8074, 8075, 8076, 8077, 8078, 8079, 8080, 8081, 8082, 8083, 8084, 8085, 8086, 8087, 8088, 8089, 8090, 8091, 8092, 8093, 8094, 8095, 8096, 8097, 8098, 8099, 8100, 8101, 8102, 8103, 8104, 8105, 8106, 8107, 8108, 8109, 8110, 8111, 8112, 8113, 8114, 8115, 8116, 8117, 8118, 8119, 8120, 8121, 8122, 8123, 8124, 8125, 8126, 8127, 8128, 8129, 8130, 8131, 8132, 8133, 8134, 8135, 8136, 8137, 8138, 8139, 8140, 8141, 8142, 8143, 8144, 8145, 8146, 8147, 8148, 8149, 8150, 8151, 8152, 8153, 8154, 8155, 8156, 8157, 8158, 8159, 8160, 8161, 8162, 8163, 8164, 8165, 8166, 8167, 8168, 8169, 8170, 8171, 8172, 8173, 8174, 8175, 8176, 8177, 8178, 8179, 8180, 8181, 8182, 8183, 8184, 8185, 8186, 8187, 8188, 8189, 8190, 8191, 8192, 8193, 8194, 8195, 8196, 8197, 8198, 8199, 8200, 8201, 8202, 8203, 8204, 8205, 8206, 8207, 8208, 8209, 8210, 8211, 8212, 8213, 8214, 8215, 8216, 8217, 8218, 8219, 8220, 8221, 8222, 8223, 8224, 8225, 8226, 8227, 8228, 8229, 8230, 8231, 8232, 8233, 8234, 8235, 8236, 8237, 8238, 8239, 8240, 8241, 8242, 8243, 8244, 8245, 8246, 8247, 8248, 8249, 8250, 8251, 8252, 8253, 8254, 8255, 8256, 8257, 8258, 8259, 8260, 8261, 8262, 8263, 8264, 8265, 8266, 8267, 8268, 8269, 8270, 8271, 8272, 8273, 8274, 8275, 8276, 8277, 8278, 8279, 8280, 8281, 8282, 8283, 8284, 8285, 8286, 8287, 8288, 8289, 8290, 8291, 8292, 8293, 8294, 8295, 8296, 8297, 8298, 8299, 8300, 8301, 8302, 8303, 8304, 8305, 8306, 8307, 8308, 8309, 8310, 8311, 8312, 8313, 8314, 8315, 8316, 8317, 8318, 8319, 8320, 8321, 8322, 8323, 8324, 8325, 8326, 8327, 8328, 8329, 8330, 8331, 8332, 8333, 8334, 8335, 8336, 8337, 8338, 8339, 8340, 8341, 8342, 8343, 8344, 8345, 8346, 8347, 8348, 8349, 8350, 8351, 8352, 8353, 8354, 8355, 8356, 8357, 8358, 8359, 8360, 8361, 8362, 8363, 8364, 8365, 8366, 8367, 8368, 8369, 8370, 8371, 8372, 8373, 8374, 8375, 8376, 8377, 8378, 8379, 8380, 8381, 8382, 8383, 8384, 8385, 8386, 8387, 8388, 8389, 8390, 8391, 8392, 8393, 8394, 8395, 8396, 8397, 8398, 8399, 8400, 8401, 8402, 8403, 8404, 8405, 8406, 8407, 8408, 8409, 8410, 8411, 8412, 8413, 8414, 8415, 8416, 8417, 8418, 8419, 8420, 8421, 8422, 8423, 8424, 8425, 8426, 8427, 8428, 8429, 8430, 8431, 8432, 8433, 8434, 8435, 8436, 8437, 8438, 8439, 8440, 8441, 8442, 8443, 8444, 8445, 8446, 8447, 8448, 8449, 8450, 8451, 8452, 8453, 8454, 8455, 8456, 8457, 8458, 8459, 8460, 8461, 8462, 8463, 8464, 8465, 8466, 8467, 8468, 8469, 8470, 8471, 8472, 8473, 8474, 8475, 8476, 8477, 8478, 8479, 8480, 8481, 8482, 8483, 8484, 8485, 8486, 8487, 8488, 8489, 8490, 8491, 8492, 8493, 8494, 8495, 8496, 8497, 8498, 8499, 8500, 8501, 8502, 8503, 8504, 8505, 8506, 8507, 8508, 8509, 8510, 8511, 8512, 8513, 8514, 8515, 8516, 8517, 8518, 8519, 8520, 8521, 8522, 8523, 8524, 8525, 8526, 8527, 8528, 8529, 8530, 8531, 8532, 8533, 8534, 8535, 8536, 8537, 8538, 8539, 8540, 8541, 8542, 8543, 8544, 8545, 8546, 8547, 8548, 8549, 8550, 8551, 8552, 8553, 8554, 8555, 8556, 8557, 8558, 8559, 8560, 8561, 8562, 8563, 8564, 8565, 8566, 8567, 8568, 8569, 8570, 8571, 8572, 8573, 8574, 8575, 8576, 8577, 8578, 8579, 8580, 8581, 8582, 8583, 8584, 8585, 8586, 8587, 8588, 8589, 8590, 8591, 8592, 8593, 8594, 8595, 8596, 8597, 8598, 8599, 8600, 8601, 8602, 8603, 8604, 8605, 8606, 8607, 8608, 8609, 8610, 8611, 8612, 8613, 8614, 8615, 8616, 8617, 8618, 8619, 8620, 8621, 8622, 8623, 8624, 8625, 8626, 8627, 8628, 8629, 8630, 8631, 8632, 8633, 8634, 8635, 8636, 8637, 8638, 8639, 8640, 8641, 8642, 8643, 8644, 8645, 8646, 8647, 8648, 8649, 8650, 8651, 8652, 8653, 8654, 8655, 8656, 8657, 8658, 8659, 8660, 8661, 8662, 8663, 8664, 8665, 8666, 8667, 8668, 8669, 8670, 8671, 8672, 8673, 8674, 8675, 8676, 8677, 8678, 8679, 8680, 8681, 8682, 8683, 8684, 8685, 8686, 8687, 8688, 8689, 8690, 8691, 8692, 8693, 8694, 8695, 8696, 8697, 8698, 8699, 8700, 8701, 8702, 8703, 8704, 8705, 8706, 8707, 8708, 8709, 8710, 8711, 8712, 8713, 8714, 8715, 8716, 8717, 8718, 8719, 8720, 8721, 8722, 8723, 8724, 8725, 8726, 8727, 8728, 8729, 8730, 8731, 8732, 8733, 8734, 8735, 8736, 8737, 8738, 8739, 8740, 8741, 8742, 8743, 8744, 8745, 8746, 8747, 8748, 8749, 8750, 8751, 8752, 8753, 8754, 8755, 8756, 8757, 8758, 8759, 8760, 8761, 8762, 8763, 8764, 8765, 8766, 8767, 8768, 8769, 8770, 8771, 8772, 8773, 8774, 8775, 8776, 8777, 8778, 8779, 8780, 8781, 8782, 8783, 8784, 8785, 8786, 8787, 8788, 8789, 8790, 8791, 8792, 8793, 8794, 8795, 8796, 8797, 8798, 8799, 8800, 8801, 8802, 8803, 8804, 8805, 8806, 8807, 8808, 8809, 8810, 8811, 8812, 8813, 8814, 8815, 8816, 8817, 8818, 8819, 8820, 8821, 8822, 8823, 8824, 8825, 8826, 8827, 8828, 8829, 8830, 8831, 8832, 8833, 8834, 8835, 8836, 8837, 8838, 8839, 8840, 8841, 8842, 8843, 8844, 8845, 8846, 8847, 8848, 8849, 8850, 8851, 8852, 8853, 8854, 8855, 8856, 8857, 8858, 8859, 8860, 8861, 8862, 8863, 8864, 8865, 8866, 8867, 8868, 8869, 8870, 8871, 8872, 8873, 8874, 8875, 8876, 8877, 8878, 8879, 8880, 8881, 8882, 8883, 8884, 8885, 8886, 8887, 8888, 8889, 8890, 8891, 8892, 8893, 8894, 8895, 8896, 8897, 8898, 8899, 8900, 8901, 8902, 8903, 8904, 8905, 8906, 8907, 8908, 8909, 8910, 8911, 8912, 8913, 8914, 8915, 8916, 8917, 8918, 8919, 8920, 8921, 8922, 8923, 8924, 8925, 8926, 8927, 8928, 8929, 8930, 8931, 8932, 8933, 8934, 8935, 8936, 8937, 8938, 8939, 8940, 8941, 8942, 8943, 8944, 8945, 8946, 8947, 8948, 8949, 8950, 8951, 8952, 8953, 8954, 8955, 8956, 8957, 8958, 8959, 8960, 8961, 8962, 8963, 8964, 8965, 8966, 8967, 8968, 8969, 8970, 8971, 8972, 8973, 8974, 8975, 8976, 8977, 8978, 8979, 8980, 8981, 8982, 8983, 8984, 8985, 8986, 8987, 8988, 8989, 8990, 8991, 8992, 8993, 8994, 8995, 8996, 8997, 8998, 8999, 9000, 9001, 9002, 9003, 9004, 9005, 9006, 9007, 9008, 9009, 9010, 9011, 9012, 9013, 9014, 9015, 9016, 9017, 9018, 9019, 9020, 9021, 9022, 9023, 9024, 9025, 9026, 9027, 9028, 9029, 9030, 9031, 9032, 9033, 9034, 9035, 9036, 9037, 9038, 9039, 9040, 9041, 9042, 9043, 9044, 9045, 9046, 9047, 9048, 9049, 9050, 9051, 9052, 9053, 9054, 9055, 9056, 9057, 9058, 9059, 9060, 9061, 9062, 9063, 9064, 9065, 9066, 9067, 9068, 9069, 9070, 9071, 9072, 9073, 9074, 9075, 9076, 9077, 9078, 9079, 9080, 9081, 9082, 9083, 9084, 9085, 9086, 9087, 9088, 9089, 9090, 9091, 9092, 9093, 9094, 9095, 9096, 9097, 9098, 9099, 9100, 9101, 9102, 9103, 9104, 9105, 9106, 9107, 9108, 9109, 9110, 9111, 9112, 9113, 9114, 9115, 9116, 9117, 9118, 9119, 9120, 9121, 9122, 9123, 9124, 9125, 9126, 9127, 9128, 9129, 9130, 9131, 9132, 9133, 9134, 9135, 9136, 9137, 9138, 9139, 9140, 9141, 9142, 9143, 9144, 9145, 9146, 9147, 9148, 9149, 9150, 9151, 9152, 9153, 9154, 9155, 9156, 9157, 9158, 9159, 9160, 9161, 9162, 9163, 9164, 9165, 9166, 9167, 9168, 9169, 9170, 9171, 9172, 9173, 9174, 9175, 9176, 9177, 9178, 9179, 9180, 9181, 9182, 9183, 9184, 9185, 9186, 9187, 9188, 9189, 9190, 9191, 9192, 9193, 9194, 9195, 9196, 9197, 9198, 9199, 9200, 9201, 9202, 9203, 9204, 9205, 9206, 9207, 9208, 9209, 9210, 9211, 9212, 9213, 9214, 9215, 9216, 9217, 9218, 9219, 9220, 9221, 9222, 9223, 9224, 9225, 9226, 9227, 9228, 9229, 9230, 9231, 9232, 9233, 9234, 9235, 9236, 9237, 9238, 9239, 9240, 9241, 9242, 9243, 9244, 9245, 9246, 9247, 9248, 9249, 9250, 9251, 9252, 9253, 9254, 9255, 9256, 9257, 9258, 9259, 9260, 9261, 9262, 9263, 9264, 9265, 9266, 9267, 9268, 9269, 9270, 9271, 9272, 9273, 9274, 9275, 9276, 9277, 9278, 9279, 9280, 9281, 9282, 9283, 9284, 9285, 9286, 9287, 9288, 9289, 9290, 9291, 9292, 9293, 9294, 9295, 9296, 9297, 9298, 9299, 9300, 9301, 9302, 9303, 9304, 9305, 9306, 9307, 9308, 9309, 9310, 9311, 9312, 9313, 9314, 9315, 9316, 9317, 9318, 9319, 9320, 9321, 9322, 9323, 9324, 9325, 9326, 9327, 9328, 9329, 9330, 9331, 9332, 9333, 9334, 9335, 9336, 9337, 9338, 9339, 9340, 9341, 9342, 9343, 9344, 9345, 9346, 9347, 9348, 9349, 9350, 9351, 9352, 9353, 9354, 9355, 9356, 9357, 9358, 9359, 9360, 9361, 9362, 9363, 9364, 9365, 9366, 9367, 9368, 9369, 9370, 9371, 9372, 9373, 9374, 9375, 9376, 9377, 9378, 9379, 9380, 9381, 9382, 9383, 9384, 9385, 9386, 9387, 9388, 9389, 9390, 9391, 9392, 9393, 9394, 9395, 9396, 9397, 9398, 9399, 9400, 9401, 9402, 9403, 9404, 9405, 9406, 9407, 9408, 9409, 9410, 9411, 9412, 9413, 9414, 9415, 9416, 9417, 9418, 9419, 9420, 9421, 9422, 9423, 9424, 9425, 9426, 9427, 9428, 9429, 9430, 9431, 9432, 9433, 9434, 9435, 9436, 9437, 9438, 9439, 9440, 9441, 9442, 9443, 9444, 9445, 9446, 9447, 9448, 9449, 9450, 9451, 9452, 9453, 9454, 9455, 9456, 9457, 9458, 9459, 9460, 9461, 9462, 9463, 9464, 9465, 9466, 9467, 9468, 9469, 9470, 9471, 9472, 9473, 9474, 9475, 9476, 9477, 9478, 9479, 9480, 9481, 9482, 9483, 9484, 9485, 9486, 9487, 9488, 9489, 9490, 9491, 9492, 9493, 9494, 9495, 9496, 9497, 9498, 9499, 9500, 9501, 9502, 9503, 9504, 9505, 9506, 9507, 9508, 9509, 9510, 9511, 9512, 9513, 9514, 9515, 9516, 9517, 9518, 9519, 9520, 9521, 9522, 9523, 9524, 9525, 9526, 9527, 9528, 9529, 9530, 9531, 9532, 9533, 9534, 9535, 9536, 9537, 9538, 9539, 9540, 9541, 9542, 9543, 9544, 9545, 9546, 9547, 9548, 9549, 9550, 9551, 9552, 9553, 9554, 9555, 9556, 9557, 9558, 9559, 9560, 9561, 9562, 9563, 9564, 9565, 9566, 9567, 9568, 9569, 9570, 9571, 9572, 9573, 9574, 9575, 9576, 9577, 9578, 9579, 9580, 9581, 9582, 9583, 9584, 9585, 9586, 9587, 9588, 9589, 9590, 9591, 9592, 9593, 9594, 9595, 9596, 9597, 9598, 9599, 9600, 9601, 9602, 9603, 9604, 9605, 9606, 9607, 9608, 9609, 9610, 9611, 9612, 9613, 9614, 9615, 9616, 9617, 9618, 9619, 9620, 9621, 9622, 9623, 9624, 9625, 9626, 9627, 9628, 9629, 9630, 9631, 9632, 9633, 9634, 9635, 9636, 9637, 9638, 9639, 9640, 9641, 9642, 9643, 9644, 9645, 9646, 9647, 9648, 9649, 9650, 9651, 9652, 9653, 9654, 9655, 9656, 9657, 9658, 9659, 9660, 9661, 9662, 9663, 9664, 9665, 9666, 9667, 9668, 9669, 9670, 9671, 9672, 9673, 9674, 9675, 9676, 9677, 9678, 9679, 9680, 9681, 9682, 9683, 9684, 9685, 9686, 9687, 9688, 9689, 9690, 9691, 9692, 9693, 9694, 9695, 9696, 9697, 9698, 9699, 9700, 9701, 9702, 9703, 9704, 9705, 9706, 9707, 9708, 9709, 9710, 9711, 9712, 9713, 9714, 9715, 9716, 9717, 9718, 9719, 9720, 9721, 9722, 9723, 9724, 9725, 9726, 9727, 9728, 9729, 9730, 9731, 9732, 9733, 9734, 9735, 9736, 9737, 9738, 9739, 9740, 9741, 9742, 9743, 9744, 9745, 9746, 9747, 9748, 9749, 9750, 9751, 9752, 9753, 9754, 9755, 9756, 9757, 9758, 9759, 9760, 9761, 9762, 9763, 9764, 9765, 9766, 9767, 9768, 9769, 9770, 9771, 9772, 9773, 9774, 9775, 9776, 9777, 9778, 9779, 9780, 9781, 9782, 9783, 9784, 9785, 9786, 9787, 9788, 9789, 9790, 9791, 9792, 9793, 9794, 9795, 9796, 9797, 9798, 9799, 9800, 9801, 9802, 9803, 9804, 9805, 9806, 9807, 9808, 9809, 9810, 9811, 9812, 9813, 9814, 9815, 9816, 9817, 9818, 9819, 9820, 9821, 9822, 9823, 9824, 9825, 9826, 9827, 9828, 9829, 9830, 9831, 9832, 9833, 9834, 9835, 9836, 9837, 9838, 9839, 9840, 9841, 9842, 9843, 9844, 9845, 9846, 9847, 9848, 9849, 9850, 9851, 9852, 9853, 9854, 9855, 9856, 9857, 9858, 9859, 9860, 9861, 9862, 9863, 9864, 9865, 9866, 9867, 9868, 9869, 9870, 9871, 9872, 9873, 9874, 9875, 9876, 9877, 9878, 9879, 9880, 9881, 9882, 9883, 9884, 9885, 9886, 9887, 9888, 9889, 9890, 9891, 9892, 9893, 9894, 9895, 9896, 9897, 9898, 9899, 9900, 9901, 9902, 9903, 9904, 9905, 9906, 9907, 9908, 9909, 9910, 9911, 9912, 9913, 9914, 9915, 9916, 9917, 9918, 9919, 9920, 9921, 9922, 9923, 9924, 9925, 9926, 9927, 9928, 9929, 9930, 9931, 9932, 9933, 9934, 9935, 9936, 9937, 9938, 9939, 9940, 9941, 9942, 9943, 9944, 9945, 9946, 9947, 9948, 9949, 9950, 9951, 9952, 9953, 9954, 9955, 9956, 9957, 9958, 9959, 9960, 9961, 9962, 9963, 9964, 9965, 9966, 9967, 9968, 9969, 9970, 9971, 9972, 9973, 9974, 9975, 9976, 9977, 9978, 9979, 9980, 9981, 9982, 9983, 9984, 9985, 9986, 9987, 9988, 9989, 9990, 9991, 9992, 9993, 9994, 9995, 9996, 9997, 9998, 9999]\n"
     ]
    }
   ],
   "source": [
    "###GENARATOR\n",
    "\n",
    "#simple function\n",
    "\n",
    "def sequence(N):\n",
    "    x = []\n",
    "    for i in range(N):\n",
    "        x.append(i)\n",
    "    return x\n",
    "list_a = sequence(10000)\n",
    "print(list_a)"
   ]
  },
  {
   "cell_type": "code",
   "execution_count": 50,
   "id": "4c9aa4c5",
   "metadata": {},
   "outputs": [
    {
     "name": "stdout",
     "output_type": "stream",
     "text": [
      "<generator object sequence at 0x000002B66F950EE0>\n",
      "0\n",
      "1\n",
      "2\n"
     ]
    }
   ],
   "source": [
    "#using YIELD\n",
    "\n",
    "def sequence(N):\n",
    "    for i in range(N):\n",
    "        yield i\n",
    "        \n",
    "list_a = sequence(10000)\n",
    "print(list_a)\n",
    "print(next(list_a))\n",
    "print(next(list_a))\n",
    "print(next(list_a))"
   ]
  },
  {
   "cell_type": "code",
   "execution_count": 57,
   "id": "541c4818",
   "metadata": {},
   "outputs": [
    {
     "name": "stdout",
     "output_type": "stream",
     "text": [
      "<generator object fib at 0x000002B66EBE66C0>\n",
      "0\n",
      "1\n",
      "1\n",
      "2\n",
      "3\n"
     ]
    }
   ],
   "source": [
    "#GENARATOR for fibonaccci numbers\n",
    "\n",
    "def fib(num):\n",
    "    a, b = 0, 1 #initialize first two fibonacci numbers\n",
    "    while a < num:\n",
    "        yield a\n",
    "        a, b = b, a+b\n",
    "        \n",
    "x = fib(5)\n",
    "print(x)\n",
    "\n",
    "while True:\n",
    "    try:\n",
    "        print(next(x), end = \"\\n\")\n",
    "    except StopIteration:\n",
    "        break"
   ]
  },
  {
   "cell_type": "code",
   "execution_count": 58,
   "id": "59705417",
   "metadata": {},
   "outputs": [
    {
     "data": {
      "text/plain": [
       "'C:\\\\Users\\\\mahar'"
      ]
     },
     "execution_count": 58,
     "metadata": {},
     "output_type": "execute_result"
    }
   ],
   "source": [
    "### to get CURRENT WORKING DIRECTORY\n",
    "\n",
    "import os \n",
    "os.getcwd()"
   ]
  },
  {
   "cell_type": "code",
   "execution_count": null,
   "id": "58dee5cf",
   "metadata": {},
   "outputs": [],
   "source": [
    "# to change CWD\n",
    "\n",
    "os.chdir(\"DIRECTORY PATH\")"
   ]
  },
  {
   "cell_type": "code",
   "execution_count": null,
   "id": "e34b8026",
   "metadata": {},
   "outputs": [],
   "source": [
    "# To OPEN a file\n",
    "\n",
    "f = open(\"demo1.txt\")"
   ]
  },
  {
   "cell_type": "code",
   "execution_count": 3,
   "id": "572477de",
   "metadata": {},
   "outputs": [
    {
     "data": {
      "text/plain": [
       "'Maharshi Bandari'"
      ]
     },
     "execution_count": 3,
     "metadata": {},
     "output_type": "execute_result"
    }
   ],
   "source": [
    "# To WRITE in the fle\n",
    "\n",
    "f = open(\"demo1.txt\", \"w\")\n",
    "f.write(\"Maharshi Bandari\") #it override the data inn the file if exist because it always writes from the start of the file\n",
    "f.close()\n",
    "f = open(\"demo1.txt\", \"r\")\n",
    "f.read()"
   ]
  },
  {
   "cell_type": "code",
   "execution_count": 4,
   "id": "840dcf87",
   "metadata": {},
   "outputs": [
    {
     "data": {
      "text/plain": [
       "'Maharshi Bandari\\nGood Boy'"
      ]
     },
     "execution_count": 4,
     "metadata": {},
     "output_type": "execute_result"
    }
   ],
   "source": [
    "# To APPEND in the file\\\n",
    "#READ the file\n",
    "\n",
    "f = open(\"demo1.txt\", \"a\")\n",
    "f.write(\"\\nGood Boy\") #it append the data to the file\n",
    "f.close()\n",
    "f = open(\"demo1.txt\", \"r\")\n",
    "f.read()"
   ]
  },
  {
   "cell_type": "code",
   "execution_count": 83,
   "id": "bbe434c5",
   "metadata": {},
   "outputs": [
    {
     "data": {
      "text/plain": [
       "'Nithin Bandari'"
      ]
     },
     "execution_count": 83,
     "metadata": {},
     "output_type": "execute_result"
    }
   ],
   "source": [
    "#CREATE a file\n",
    "\n",
    "f = open(\"demo2.txt\", \"x\")\n",
    "f.write(\"Nithin Bandari\")\n",
    "f.close()\n",
    "f = open(\"demo2.txt\", \"r\")\n",
    "f.read()"
   ]
  },
  {
   "cell_type": "code",
   "execution_count": 10,
   "id": "cd9861cf",
   "metadata": {},
   "outputs": [
    {
     "name": "stdout",
     "output_type": "stream",
     "text": [
      "Maharshi Bandari\n",
      "\n",
      "Good Boy\n",
      "\n"
     ]
    }
   ],
   "source": [
    "#To read the single line from the file in a sequence\n",
    "\n",
    "f = open(\"demo1.txt\", \"r\")\n",
    "print(f.readline()) #it read a line at a time \n",
    "print(f.readline())\n",
    "print(f.readline()) #if line is empty it prints an empty space"
   ]
  },
  {
   "cell_type": "code",
   "execution_count": 11,
   "id": "de5ab23d",
   "metadata": {},
   "outputs": [
    {
     "data": {
      "text/plain": [
       "['Maharshi Bandari\\n', 'Good Boy']"
      ]
     },
     "execution_count": 11,
     "metadata": {},
     "output_type": "execute_result"
    }
   ],
   "source": [
    "#readlines\n",
    "#here we are using PLURAL WORD OF READLINES\n",
    "\n",
    "f = open(\"demo1.txt\")\n",
    "f.readlines() #it print the all lines with the data"
   ]
  },
  {
   "cell_type": "code",
   "execution_count": 86,
   "id": "cacd2af8",
   "metadata": {},
   "outputs": [],
   "source": [
    "#DELETE a file\n",
    "\n",
    "import os\n",
    "os.remove(\"demo.txt\")"
   ]
  },
  {
   "cell_type": "code",
   "execution_count": 91,
   "id": "844c73f5",
   "metadata": {},
   "outputs": [
    {
     "data": {
      "text/plain": [
       "32"
      ]
     },
     "execution_count": 91,
     "metadata": {},
     "output_type": "execute_result"
    }
   ],
   "source": [
    "#EVALUATE\n",
    "\n",
    "x = \"15 + 17\"\n",
    "eval(x)"
   ]
  },
  {
   "cell_type": "code",
   "execution_count": 99,
   "id": "4a451f90",
   "metadata": {},
   "outputs": [
    {
     "name": "stdout",
     "output_type": "stream",
     "text": [
      "5\n",
      "RESULT True\n",
      "the try...except block is finished\n"
     ]
    }
   ],
   "source": [
    "#FINALLY\n",
    "\n",
    "x = int(input())\n",
    "\n",
    "try:\n",
    "   a = x > 3\n",
    "except:\n",
    "    print(\"something went wrong\")\n",
    "else:\n",
    "    print(\"RESULT\", a)\n",
    "finally:\n",
    "    print(\"the try...except block is finished\")"
   ]
  },
  {
   "cell_type": "code",
   "execution_count": 100,
   "id": "43e22373",
   "metadata": {},
   "outputs": [
    {
     "name": "stdout",
     "output_type": "stream",
     "text": [
      "['ArithmeticError', 'AssertionError', 'AttributeError', 'BaseException', 'BaseExceptionGroup', 'BlockingIOError', 'BrokenPipeError', 'BufferError', 'BytesWarning', 'ChildProcessError', 'ConnectionAbortedError', 'ConnectionError', 'ConnectionRefusedError', 'ConnectionResetError', 'DeprecationWarning', 'EOFError', 'Ellipsis', 'EncodingWarning', 'EnvironmentError', 'Exception', 'ExceptionGroup', 'False', 'FileExistsError', 'FileNotFoundError', 'FloatingPointError', 'FutureWarning', 'GeneratorExit', 'IOError', 'ImportError', 'ImportWarning', 'IndentationError', 'IndexError', 'InterruptedError', 'IsADirectoryError', 'KeyError', 'KeyboardInterrupt', 'LookupError', 'MemoryError', 'ModuleNotFoundError', 'NameError', 'None', 'NotADirectoryError', 'NotImplemented', 'NotImplementedError', 'OSError', 'OverflowError', 'PendingDeprecationWarning', 'PermissionError', 'ProcessLookupError', 'RecursionError', 'ReferenceError', 'ResourceWarning', 'RuntimeError', 'RuntimeWarning', 'StopAsyncIteration', 'StopIteration', 'SyntaxError', 'SyntaxWarning', 'SystemError', 'SystemExit', 'TabError', 'TimeoutError', 'True', 'TypeError', 'UnboundLocalError', 'UnicodeDecodeError', 'UnicodeEncodeError', 'UnicodeError', 'UnicodeTranslateError', 'UnicodeWarning', 'UserWarning', 'ValueError', 'Warning', 'WindowsError', 'ZeroDivisionError', '__IPYTHON__', '__build_class__', '__debug__', '__doc__', '__import__', '__loader__', '__name__', '__package__', '__spec__', 'abs', 'aiter', 'all', 'anext', 'any', 'ascii', 'bin', 'bool', 'breakpoint', 'bytearray', 'bytes', 'callable', 'chr', 'classmethod', 'compile', 'complex', 'copyright', 'credits', 'delattr', 'dict', 'dir', 'display', 'divmod', 'enumerate', 'eval', 'exec', 'execfile', 'filter', 'float', 'format', 'frozenset', 'get_ipython', 'getattr', 'globals', 'hasattr', 'hash', 'help', 'hex', 'id', 'input', 'int', 'isinstance', 'issubclass', 'iter', 'len', 'license', 'list', 'locals', 'map', 'max', 'memoryview', 'min', 'next', 'object', 'oct', 'open', 'ord', 'pow', 'print', 'property', 'range', 'repr', 'reversed', 'round', 'runfile', 'set', 'setattr', 'slice', 'sorted', 'staticmethod', 'str', 'sum', 'super', 'tuple', 'type', 'vars', 'zip']\n"
     ]
    }
   ],
   "source": [
    "#It provides all the types of\n",
    "\n",
    "errors in python\n",
    "\n",
    "print(dir(locals()[\"__builtins__\"]))"
   ]
  },
  {
   "cell_type": "code",
   "execution_count": 17,
   "id": "5971ed08",
   "metadata": {},
   "outputs": [
    {
     "name": "stdout",
     "output_type": "stream",
     "text": [
      "<re.Match object; span=(7, 15), match='Maharshi'>\n"
     ]
    }
   ],
   "source": [
    "###REGULAR EXPRESSION\n",
    "# search(search element, string)\n",
    "\n",
    "import re\n",
    "\n",
    "x = re.search(\"Maharshi\", \"i know Maharshi is a bad boy\")\n",
    "print(x) #it prints the start and end index"
   ]
  },
  {
   "cell_type": "code",
   "execution_count": 18,
   "id": "9f07d16f",
   "metadata": {},
   "outputs": [
    {
     "name": "stdout",
     "output_type": "stream",
     "text": [
      "None\n"
     ]
    }
   ],
   "source": [
    "x = re.search(\"Nithin\", \"i know Maharshi is a bad boy\")\n",
    "print(x) #there is no element found with the name of \"Maharshi\""
   ]
  },
  {
   "cell_type": "code",
   "execution_count": 19,
   "id": "f768c844",
   "metadata": {},
   "outputs": [
    {
     "name": "stdout",
     "output_type": "stream",
     "text": [
      "<re.Match object; span=(15, 18), match=' is'>\n"
     ]
    }
   ],
   "source": [
    "#read RAW FORMAT\n",
    "\n",
    "x = re.search(r\".is\", \"i know Maharshi is a bad boy\")\n",
    "print(x)"
   ]
  },
  {
   "cell_type": "code",
   "execution_count": 21,
   "id": "d4ec8d17",
   "metadata": {},
   "outputs": [
    {
     "data": {
      "text/plain": [
       "'M[ae][iy]er'"
      ]
     },
     "execution_count": 21,
     "metadata": {},
     "output_type": "execute_result"
    }
   ],
   "source": [
    "#EXAMPLE\n",
    "\n",
    "r\"M[ae][iy]er\"\n",
    "\n",
    "#without using \"r\"(RAW FORAMT) to read it can produce multiple names for example\n",
    "# Maier, Mayer, Meier, Meyer"
   ]
  },
  {
   "cell_type": "code",
   "execution_count": 22,
   "id": "e3287351",
   "metadata": {},
   "outputs": [
    {
     "name": "stdout",
     "output_type": "stream",
     "text": [
      "['ai', 'ai']\n"
     ]
    }
   ],
   "source": [
    "#findall(find element, string)\n",
    "\n",
    "import re\n",
    "\n",
    "txt = \"The rain in Spain\"\n",
    "x = re.findall(\"ai\", txt)\n",
    "print(x) #return a list of all non-overlappig matches in the list"
   ]
  },
  {
   "cell_type": "code",
   "execution_count": 34,
   "id": "cc77a137",
   "metadata": {},
   "outputs": [
    {
     "name": "stdout",
     "output_type": "stream",
     "text": [
      "['Maharshi', 'Nithin', 'Shiva']\n",
      "['21', '13', '7']\n",
      "{'Maharshi': '21', 'Nithin': '13', 'Shiva': '7'}\n"
     ]
    }
   ],
   "source": [
    "#another example\n",
    "\n",
    "import re\n",
    "\n",
    "nameage = \"Maharshi age 21 and Nithin age 13 and Shiva age 7\"\n",
    "age = re.findall(r\"\\d{1,2}\", nameage)  # we need two digit numbers so we mentoned only two numbers\n",
    "name = re.findall(r\"[A-Z][a-z]*\", nameage)  # we need names start with upper case & end with lower case, we mentioned it with (\"*\") so no matter any number of occurrences between them.\n",
    "print(name)\n",
    "print(age)\n",
    "\n",
    "dict_a = {}\n",
    "\n",
    "x = 0\n",
    "\n",
    "for each_name in name:\n",
    "    dict_a[each_name] = age[x]\n",
    "    x += 1\n",
    "print(dict_a)"
   ]
  },
  {
   "cell_type": "code",
   "execution_count": 35,
   "id": "f075fe5e",
   "metadata": {},
   "outputs": [
    {
     "name": "stdout",
     "output_type": "stream",
     "text": [
      "['The', 'rain', 'in', 'Spain']\n"
     ]
    }
   ],
   "source": [
    "#space character\n",
    "import re\n",
    "\n",
    "txt = \"The rain in Spain\"\n",
    "x = re.split(\"\\s\", txt)  #space character\n",
    "\n",
    "print(x)"
   ]
  },
  {
   "cell_type": "code",
   "execution_count": 37,
   "id": "ee495926",
   "metadata": {},
   "outputs": [
    {
     "name": "stdout",
     "output_type": "stream",
     "text": [
      "['twelve:', ', eighty nine:', '']\n"
     ]
    }
   ],
   "source": [
    "import re\n",
    "\n",
    "string = \"twelve:12, eighty nine:89\"\n",
    "pattern = \"\\d+\" # means one or more digit [0 - 9]\n",
    "\n",
    "result = re.split(pattern, string)\n",
    "print(result)"
   ]
  },
  {
   "cell_type": "code",
   "execution_count": 38,
   "id": "cfb87864",
   "metadata": {},
   "outputs": [
    {
     "name": "stdout",
     "output_type": "stream",
     "text": [
      "Phone Num :  2004-959-559 \n",
      "Phone Num :  2004959559\n"
     ]
    }
   ],
   "source": [
    "# SUB(char, substitute char, string)\n",
    "\n",
    "import re\n",
    "\n",
    "phone = \"2004-959-559 # This is Phone Number\"\n",
    "\n",
    "num = re.sub(\"#.*$\", \"\", phone) #delete python style comments\n",
    "print(\"Phone Num : \", num)\n",
    "\n",
    "num = re.sub(\"\\D\", \"\", phone) #removing anything other than digit\n",
    "print(\"Phone Num : \", num)"
   ]
  },
  {
   "cell_type": "code",
   "execution_count": 39,
   "id": "b7f88c73",
   "metadata": {},
   "outputs": [
    {
     "name": "stdout",
     "output_type": "stream",
     "text": [
      "name\n",
      "name\n"
     ]
    }
   ],
   "source": [
    "import re\n",
    "\n",
    "allname = re.findall(\"name\", \"My name is Maharshi and what is your name\")\n",
    "\n",
    "for name in allname:\n",
    "    print(name)"
   ]
  },
  {
   "cell_type": "code",
   "execution_count": 40,
   "id": "f40520f2",
   "metadata": {},
   "outputs": [
    {
     "name": "stdout",
     "output_type": "stream",
     "text": [
      "Aam\n",
      "Bam\n",
      "Sam\n",
      "Ram\n",
      "Jam\n"
     ]
    }
   ],
   "source": [
    "# find match pattern\n",
    "\n",
    "import re \n",
    "\n",
    "names = \"Aam, Bam, Sam, Ram, Jam, Fan\"\n",
    "\n",
    "allnames = re.findall(\"[A-Z]am\", names)\n",
    "\n",
    "for i in allnames:\n",
    "    print(i)"
   ]
  },
  {
   "cell_type": "code",
   "execution_count": 41,
   "id": "a113ffd9",
   "metadata": {},
   "outputs": [
    {
     "name": "stdout",
     "output_type": "stream",
     "text": [
      "The13rain13in Spain\n"
     ]
    }
   ],
   "source": [
    "#Replace the first two occurrence of white-space with the digit 9\n",
    "\n",
    "import re\n",
    "\n",
    "txt = \"The rain in Spain\"\n",
    "\n",
    "x = re.sub(\"\\s\", \"13\", txt, 2) #last one in this line is step count\n",
    "print(x)"
   ]
  },
  {
   "cell_type": "code",
   "execution_count": 44,
   "id": "b12e6d7d",
   "metadata": {},
   "outputs": [
    {
     "name": "stdout",
     "output_type": "stream",
     "text": [
      "******* +65+*%65512451~$%65\n",
      "dabgaga*****a**************\n"
     ]
    }
   ],
   "source": [
    "#dividing num, alpha, special char\n",
    "\n",
    "import re\n",
    "\n",
    "x = re.sub(\"[A-Za-z]\", \"*\", \"dabgaga +65+a%65512451~$%65\")\n",
    "y = re.sub(\"[^A-Za-z]\", \"*\", \"dabgaga +65+a%65512451~$%65\")\n",
    "print(x)\n",
    "print(y)"
   ]
  },
  {
   "cell_type": "code",
   "execution_count": 3,
   "id": "5c64bf94",
   "metadata": {},
   "outputs": [
    {
     "name": "stdout",
     "output_type": "stream",
     "text": [
      "\n",
      "My \n",
      "Name \n",
      "Is \n",
      "Maharshi\n",
      "\n",
      "My Name Is Maharshi\n"
     ]
    }
   ],
   "source": [
    "#Remove white-space\n",
    "\n",
    "import re \n",
    "\n",
    "string = \"\"\"\n",
    "My \n",
    "Name \n",
    "Is \n",
    "Maharshi\n",
    "\"\"\"          #use three quote write string in n number of lines\n",
    "\n",
    "print(string)\n",
    "\n",
    "new_str = re.compile(\"\\n\")\n",
    "\n",
    "string = new_str.sub(\"\", string)\n",
    "\n",
    "print(string)"
   ]
  },
  {
   "cell_type": "code",
   "execution_count": 17,
   "id": "308e39c1",
   "metadata": {},
   "outputs": [
    {
     "name": "stdout",
     "output_type": "stream",
     "text": [
      "5\n",
      "<re.Match object; span=(0, 3), match='231'>\n"
     ]
    }
   ],
   "source": [
    "#numbers\n",
    "\n",
    "string = \"231a45\"\n",
    "\n",
    "print(len(re.findall(\"\\d\", string)))\n",
    "print(re.search(\"\\d{1,6}\", string))"
   ]
  },
  {
   "cell_type": "code",
   "execution_count": 67,
   "id": "af2f4386",
   "metadata": {},
   "outputs": [
    {
     "name": "stdout",
     "output_type": "stream",
     "text": [
      "It's pan number\n"
     ]
    }
   ],
   "source": [
    "#verify pan number\n",
    "\n",
    "import re\n",
    "\n",
    "# \\d  is digit\n",
    "# \\w  is aplhanum\n",
    "\n",
    "pan = \"1234-5678-7135dsfs1g8r6s7\"\n",
    "\n",
    "if re.search(\"\\d{4}-\\d{4}-\\w{15}\", pan):\n",
    "    print(\"It's pan number\")\n",
    "else:\n",
    "    print(\"It's not a pan number\")\n",
    "    "
   ]
  },
  {
   "cell_type": "code",
   "execution_count": 68,
   "id": "f101f93a",
   "metadata": {},
   "outputs": [
    {
     "name": "stdout",
     "output_type": "stream",
     "text": [
      "[13, 1, 72, 7, 6, 15, 24]\n",
      "<class 'list'>\n",
      "[13, 1, 72, 7, 6, 15, 24, 13, 1, 72, 7, 6, 15, 24]\n"
     ]
    }
   ],
   "source": [
    "#NUMPY\n",
    "\n",
    "import numpy as np\n",
    "\n",
    "x = [13, 1,  72 , 7, 6, 15 ,24]\n",
    "\n",
    "print(x)\n",
    "print(type(x))\n",
    "print(x * 2) # values of the list are repeated"
   ]
  },
  {
   "cell_type": "code",
   "execution_count": 72,
   "id": "06ee6175",
   "metadata": {},
   "outputs": [
    {
     "name": "stdout",
     "output_type": "stream",
     "text": [
      "[13  1 72  7  6 15 24]\n",
      "<class 'numpy.ndarray'>\n",
      "[ 26   2 144  14  12  30  48]\n",
      "[ True False  True False False  True  True]\n",
      "[13 72 15 24]\n"
     ]
    }
   ],
   "source": [
    "# numpy array will help access the values\n",
    "\n",
    "y = np.array(x) #converting list to array\n",
    "\n",
    "print(y)\n",
    "print(type(y))\n",
    "print(y * 2)\n",
    "\n",
    "print(y > 10)\n",
    "print(y[y > 10])"
   ]
  },
  {
   "cell_type": "code",
   "execution_count": 79,
   "id": "39c8a4a6",
   "metadata": {},
   "outputs": [
    {
     "name": "stdout",
     "output_type": "stream",
     "text": [
      "[5 8 8 5 5 5 7]\n",
      "8\n"
     ]
    }
   ],
   "source": [
    "#\n",
    "\n",
    "import numpy.random\n",
    "        # OR\n",
    "from numpy import random\n",
    "\n",
    "x = random.randint(3, 9, 7) #we can also give length at last\n",
    "print(x)\n",
    "x = random.randint(3, 9)\n",
    "print(x)"
   ]
  },
  {
   "cell_type": "code",
   "execution_count": 84,
   "id": "ef39bfe7",
   "metadata": {},
   "outputs": [
    {
     "name": "stdout",
     "output_type": "stream",
     "text": [
      "[ 0  1  2  3  4  5  6  7  8  9 10 11 12]\n",
      "[ 0  3  6  9 12]\n",
      "True\n",
      "2180305970320\n",
      "2180305970512\n"
     ]
    }
   ],
   "source": [
    "# Memory savers\n",
    "# numpy array shares the memory instead of allocating separate memory\n",
    "\n",
    "a = np.arange(13)\n",
    "print(a)\n",
    "\n",
    "b = a[::3]\n",
    "print(b)\n",
    "\n",
    "print(np.shares_memory(a,b)) #check whether shares same memory\n",
    "\n",
    "print(id(a))\n",
    "print(id(b)) # here both id's are not same, because both shares same memory but differ in refferring of one object"
   ]
  },
  {
   "cell_type": "code",
   "execution_count": 6,
   "id": "3cc7837e",
   "metadata": {},
   "outputs": [
    {
     "name": "stdout",
     "output_type": "stream",
     "text": [
      "4\n",
      "7\n",
      "[1 2 3 4 5]\n",
      "[ 6  7  8  9 10]\n"
     ]
    }
   ],
   "source": [
    "# 2-d array\n",
    "\n",
    "import numpy as np\n",
    "\n",
    "a = np.array([[1, 2, 3, 4, 5], [6, 7, 8, 9, 10]]) # nested list to 2d array\n",
    "\n",
    "print(a[0, 3]) # [row, column]\n",
    "print(a[1, 1])"
   ]
  },
  {
   "cell_type": "code",
   "execution_count": 16,
   "id": "4abea208",
   "metadata": {},
   "outputs": [
    {
     "name": "stdout",
     "output_type": "stream",
     "text": [
      "[[1 2]\n",
      " [3 4]]\n",
      "[[1 2]\n",
      " [3 4]]\n"
     ]
    }
   ],
   "source": [
    "# numoy matrices\n",
    "\n",
    "import numpy as np\n",
    "\n",
    "a = np.matrix(\"1 2; 3 4\")\n",
    "print(a)\n",
    "\n",
    "b = np.matrix([[1, 2],[3, 4]])\n",
    "print(b)"
   ]
  },
  {
   "cell_type": "code",
   "execution_count": 5,
   "id": "e055fc30",
   "metadata": {},
   "outputs": [
    {
     "data": {
      "text/plain": [
       "['ArrowDtype',\n",
       " 'BooleanDtype',\n",
       " 'Categorical',\n",
       " 'CategoricalDtype',\n",
       " 'CategoricalIndex',\n",
       " 'DataFrame',\n",
       " 'DateOffset',\n",
       " 'DatetimeIndex',\n",
       " 'DatetimeTZDtype',\n",
       " 'ExcelFile',\n",
       " 'ExcelWriter',\n",
       " 'Flags',\n",
       " 'Float32Dtype',\n",
       " 'Float64Dtype',\n",
       " 'Grouper',\n",
       " 'HDFStore',\n",
       " 'Index',\n",
       " 'IndexSlice',\n",
       " 'Int16Dtype',\n",
       " 'Int32Dtype',\n",
       " 'Int64Dtype',\n",
       " 'Int8Dtype',\n",
       " 'Interval',\n",
       " 'IntervalDtype',\n",
       " 'IntervalIndex',\n",
       " 'MultiIndex',\n",
       " 'NA',\n",
       " 'NaT',\n",
       " 'NamedAgg',\n",
       " 'Period',\n",
       " 'PeriodDtype',\n",
       " 'PeriodIndex',\n",
       " 'RangeIndex',\n",
       " 'Series',\n",
       " 'SparseDtype',\n",
       " 'StringDtype',\n",
       " 'Timedelta',\n",
       " 'TimedeltaIndex',\n",
       " 'Timestamp',\n",
       " 'UInt16Dtype',\n",
       " 'UInt32Dtype',\n",
       " 'UInt64Dtype',\n",
       " 'UInt8Dtype',\n",
       " '__all__',\n",
       " '__builtins__',\n",
       " '__cached__',\n",
       " '__doc__',\n",
       " '__docformat__',\n",
       " '__file__',\n",
       " '__git_version__',\n",
       " '__loader__',\n",
       " '__name__',\n",
       " '__package__',\n",
       " '__path__',\n",
       " '__spec__',\n",
       " '__version__',\n",
       " '_built_with_meson',\n",
       " '_config',\n",
       " '_is_numpy_dev',\n",
       " '_libs',\n",
       " '_pandas_datetime_CAPI',\n",
       " '_pandas_parser_CAPI',\n",
       " '_testing',\n",
       " '_typing',\n",
       " '_version_meson',\n",
       " 'annotations',\n",
       " 'api',\n",
       " 'array',\n",
       " 'arrays',\n",
       " 'bdate_range',\n",
       " 'compat',\n",
       " 'concat',\n",
       " 'core',\n",
       " 'crosstab',\n",
       " 'cut',\n",
       " 'date_range',\n",
       " 'describe_option',\n",
       " 'errors',\n",
       " 'eval',\n",
       " 'factorize',\n",
       " 'from_dummies',\n",
       " 'get_dummies',\n",
       " 'get_option',\n",
       " 'infer_freq',\n",
       " 'interval_range',\n",
       " 'io',\n",
       " 'isna',\n",
       " 'isnull',\n",
       " 'json_normalize',\n",
       " 'lreshape',\n",
       " 'melt',\n",
       " 'merge',\n",
       " 'merge_asof',\n",
       " 'merge_ordered',\n",
       " 'notna',\n",
       " 'notnull',\n",
       " 'offsets',\n",
       " 'option_context',\n",
       " 'options',\n",
       " 'pandas',\n",
       " 'period_range',\n",
       " 'pivot',\n",
       " 'pivot_table',\n",
       " 'plotting',\n",
       " 'qcut',\n",
       " 'read_clipboard',\n",
       " 'read_csv',\n",
       " 'read_excel',\n",
       " 'read_feather',\n",
       " 'read_fwf',\n",
       " 'read_gbq',\n",
       " 'read_hdf',\n",
       " 'read_html',\n",
       " 'read_json',\n",
       " 'read_orc',\n",
       " 'read_parquet',\n",
       " 'read_pickle',\n",
       " 'read_sas',\n",
       " 'read_spss',\n",
       " 'read_sql',\n",
       " 'read_sql_query',\n",
       " 'read_sql_table',\n",
       " 'read_stata',\n",
       " 'read_table',\n",
       " 'read_xml',\n",
       " 'reset_option',\n",
       " 'set_eng_float_format',\n",
       " 'set_option',\n",
       " 'show_versions',\n",
       " 'test',\n",
       " 'testing',\n",
       " 'timedelta_range',\n",
       " 'to_datetime',\n",
       " 'to_numeric',\n",
       " 'to_pickle',\n",
       " 'to_timedelta',\n",
       " 'tseries',\n",
       " 'unique',\n",
       " 'util',\n",
       " 'value_counts',\n",
       " 'wide_to_long']"
      ]
     },
     "execution_count": 5,
     "metadata": {},
     "output_type": "execute_result"
    }
   ],
   "source": [
    "# To get what are the packages inside the library\n",
    "\n",
    "# dir(library_name)\n",
    "\n",
    "import pandas\n",
    "dir(pandas)"
   ]
  },
  {
   "cell_type": "code",
   "execution_count": 9,
   "id": "8a4d00eb",
   "metadata": {},
   "outputs": [
    {
     "name": "stdout",
     "output_type": "stream",
     "text": [
      "Help on built-in function array in module numpy:\n",
      "\n",
      "array(...)\n",
      "    array(object, dtype=None, *, copy=True, order='K', subok=False, ndmin=0,\n",
      "          like=None)\n",
      "    \n",
      "    Create an array.\n",
      "    \n",
      "    Parameters\n",
      "    ----------\n",
      "    object : array_like\n",
      "        An array, any object exposing the array interface, an object whose\n",
      "        ``__array__`` method returns an array, or any (nested) sequence.\n",
      "        If object is a scalar, a 0-dimensional array containing object is\n",
      "        returned.\n",
      "    dtype : data-type, optional\n",
      "        The desired data-type for the array. If not given, NumPy will try to use\n",
      "        a default ``dtype`` that can represent the values (by applying promotion\n",
      "        rules when necessary.)\n",
      "    copy : bool, optional\n",
      "        If true (default), then the object is copied.  Otherwise, a copy will\n",
      "        only be made if ``__array__`` returns a copy, if obj is a nested\n",
      "        sequence, or if a copy is needed to satisfy any of the other\n",
      "        requirements (``dtype``, ``order``, etc.).\n",
      "    order : {'K', 'A', 'C', 'F'}, optional\n",
      "        Specify the memory layout of the array. If object is not an array, the\n",
      "        newly created array will be in C order (row major) unless 'F' is\n",
      "        specified, in which case it will be in Fortran order (column major).\n",
      "        If object is an array the following holds.\n",
      "    \n",
      "        ===== ========= ===================================================\n",
      "        order  no copy                     copy=True\n",
      "        ===== ========= ===================================================\n",
      "        'K'   unchanged F & C order preserved, otherwise most similar order\n",
      "        'A'   unchanged F order if input is F and not C, otherwise C order\n",
      "        'C'   C order   C order\n",
      "        'F'   F order   F order\n",
      "        ===== ========= ===================================================\n",
      "    \n",
      "        When ``copy=False`` and a copy is made for other reasons, the result is\n",
      "        the same as if ``copy=True``, with some exceptions for 'A', see the\n",
      "        Notes section. The default order is 'K'.\n",
      "    subok : bool, optional\n",
      "        If True, then sub-classes will be passed-through, otherwise\n",
      "        the returned array will be forced to be a base-class array (default).\n",
      "    ndmin : int, optional\n",
      "        Specifies the minimum number of dimensions that the resulting\n",
      "        array should have.  Ones will be prepended to the shape as\n",
      "        needed to meet this requirement.\n",
      "    like : array_like, optional\n",
      "        Reference object to allow the creation of arrays which are not\n",
      "        NumPy arrays. If an array-like passed in as ``like`` supports\n",
      "        the ``__array_function__`` protocol, the result will be defined\n",
      "        by it. In this case, it ensures the creation of an array object\n",
      "        compatible with that passed in via this argument.\n",
      "    \n",
      "        .. versionadded:: 1.20.0\n",
      "    \n",
      "    Returns\n",
      "    -------\n",
      "    out : ndarray\n",
      "        An array object satisfying the specified requirements.\n",
      "    \n",
      "    See Also\n",
      "    --------\n",
      "    empty_like : Return an empty array with shape and type of input.\n",
      "    ones_like : Return an array of ones with shape and type of input.\n",
      "    zeros_like : Return an array of zeros with shape and type of input.\n",
      "    full_like : Return a new array with shape of input filled with value.\n",
      "    empty : Return a new uninitialized array.\n",
      "    ones : Return a new array setting values to one.\n",
      "    zeros : Return a new array setting values to zero.\n",
      "    full : Return a new array of given shape filled with value.\n",
      "    \n",
      "    \n",
      "    Notes\n",
      "    -----\n",
      "    When order is 'A' and ``object`` is an array in neither 'C' nor 'F' order,\n",
      "    and a copy is forced by a change in dtype, then the order of the result is\n",
      "    not necessarily 'C' as expected. This is likely a bug.\n",
      "    \n",
      "    Examples\n",
      "    --------\n",
      "    >>> np.array([1, 2, 3])\n",
      "    array([1, 2, 3])\n",
      "    \n",
      "    Upcasting:\n",
      "    \n",
      "    >>> np.array([1, 2, 3.0])\n",
      "    array([ 1.,  2.,  3.])\n",
      "    \n",
      "    More than one dimension:\n",
      "    \n",
      "    >>> np.array([[1, 2], [3, 4]])\n",
      "    array([[1, 2],\n",
      "           [3, 4]])\n",
      "    \n",
      "    Minimum dimensions 2:\n",
      "    \n",
      "    >>> np.array([1, 2, 3], ndmin=2)\n",
      "    array([[1, 2, 3]])\n",
      "    \n",
      "    Type provided:\n",
      "    \n",
      "    >>> np.array([1, 2, 3], dtype=complex)\n",
      "    array([ 1.+0.j,  2.+0.j,  3.+0.j])\n",
      "    \n",
      "    Data-type consisting of more than one element:\n",
      "    \n",
      "    >>> x = np.array([(1,2),(3,4)],dtype=[('a','<i4'),('b','<i4')])\n",
      "    >>> x['a']\n",
      "    array([1, 3])\n",
      "    \n",
      "    Creating an array from sub-classes:\n",
      "    \n",
      "    >>> np.array(np.mat('1 2; 3 4'))\n",
      "    array([[1, 2],\n",
      "           [3, 4]])\n",
      "    \n",
      "    >>> np.array(np.mat('1 2; 3 4'), subok=True)\n",
      "    matrix([[1, 2],\n",
      "            [3, 4]])\n",
      "\n"
     ]
    }
   ],
   "source": [
    "from numpy import array\n",
    "help(array)"
   ]
  },
  {
   "cell_type": "code",
   "execution_count": 28,
   "id": "05f266e9",
   "metadata": {},
   "outputs": [
    {
     "name": "stdout",
     "output_type": "stream",
     "text": [
      "[ 0 13 26 39 52 65]\n"
     ]
    }
   ],
   "source": [
    "# arange(start idex, end index, step count)\n",
    "\n",
    "import numpy as np\n",
    "\n",
    "a = np.arange(0, 70, 13)\n",
    "print(a)"
   ]
  },
  {
   "cell_type": "code",
   "execution_count": 12,
   "id": "793891b9",
   "metadata": {},
   "outputs": [
    {
     "name": "stdout",
     "output_type": "stream",
     "text": [
      "[ 0 13 26 39 52 65]\n",
      "(6,) \n",
      "\n",
      "[1 2 3 4 5]\n",
      "(5,) \n",
      "\n",
      "(6, 1) \n",
      "\n",
      "[[ 0]\n",
      " [13]\n",
      " [26]\n",
      " [39]\n",
      " [52]\n",
      " [65]]\n",
      "*******\n",
      "[1 2 3 4 5]\n",
      "******* \n",
      "\n",
      "[[ 1  2  3  4  5]\n",
      " [14 15 16 17 18]\n",
      " [27 28 29 30 31]\n",
      " [40 41 42 43 44]\n",
      " [53 54 55 56 57]\n",
      " [66 67 68 69 70]]\n"
     ]
    }
   ],
   "source": [
    "# numpy broaddcasting helps when working on different sized arrays\n",
    "\n",
    "import numpy as np\n",
    "\n",
    "a = np.arange(0, 70, 13)\n",
    "print(a)\n",
    "print(a.shape, \"\\n\")\n",
    "\n",
    "b = np.array([1, 2, 3, 4, 5])\n",
    "print(b)\n",
    "print(b.shape, \"\\n\")\n",
    "\n",
    "a = a[:,np.newaxis]  #[row:column, np.newaxis]#adds one extra axis\n",
    "print(a.shape, \"\\n\")\n",
    "\n",
    "print(a)\n",
    "print(\"*******\")\n",
    "print(b)\n",
    "print(\"*******\", \"\\n\")\n",
    "print(a + b)"
   ]
  },
  {
   "cell_type": "code",
   "execution_count": 26,
   "id": "8243b0ba",
   "metadata": {},
   "outputs": [
    {
     "name": "stdout",
     "output_type": "stream",
     "text": [
      "10\n",
      "20\n",
      "30\n",
      "40\n",
      "50\n"
     ]
    }
   ],
   "source": [
    "## DATA STRUCTERS\n",
    "# Arrays/Vectors\n",
    "\n",
    "from array import *\n",
    "\n",
    "a = array(\"i\", [10, 20, 30, 40, 50]) # creating an iterative array object\n",
    "\n",
    "for x in a:\n",
    "    print(x)"
   ]
  },
  {
   "cell_type": "code",
   "execution_count": 2,
   "id": "7ba04f6f",
   "metadata": {},
   "outputs": [
    {
     "name": "stdout",
     "output_type": "stream",
     "text": [
      "0\n",
      "13\n",
      "26\n",
      "39\n",
      "52\n",
      "65\n"
     ]
    }
   ],
   "source": [
    "## is's an numpy array(it is differ with above array)\n",
    "\n",
    "import numpy as np\n",
    "\n",
    "a = np.arange(0, 70, 13)\n",
    "\n",
    "for i in a:\n",
    "    print(i)"
   ]
  },
  {
   "cell_type": "code",
   "execution_count": 3,
   "id": "a7316c68",
   "metadata": {},
   "outputs": [
    {
     "name": "stdout",
     "output_type": "stream",
     "text": [
      "10\n",
      "20\n",
      "30\n",
      "40\n",
      "50\n",
      "60\n"
     ]
    }
   ],
   "source": [
    "# Insertion operation\n",
    "\n",
    "from array import *\n",
    "a = array(\"i\", [10, 20, 30, 40, 50])\n",
    "a.insert(6, 60) #insert(index, value)\n",
    "for x in a:\n",
    "    print(x)"
   ]
  },
  {
   "cell_type": "code",
   "execution_count": 5,
   "id": "77a83ff8",
   "metadata": {},
   "outputs": [
    {
     "name": "stdout",
     "output_type": "stream",
     "text": [
      "10\n",
      "20\n",
      "30\n",
      "50\n"
     ]
    }
   ],
   "source": [
    "#Delete operation\n",
    "\n",
    "from array import *\n",
    "a = array(\"i\", [10, 20, 30, 40, 50])\n",
    "a.remove(40) #remove(value)\n",
    "for x in a:\n",
    "    print(x)"
   ]
  },
  {
   "cell_type": "code",
   "execution_count": 6,
   "id": "cd4dac24",
   "metadata": {},
   "outputs": [
    {
     "name": "stdout",
     "output_type": "stream",
     "text": [
      "10\n",
      "20\n",
      "30\n",
      "70\n",
      "50\n"
     ]
    }
   ],
   "source": [
    "# Update operation\n",
    "\n",
    "from array import *\n",
    "a = array(\"i\", [10, 20, 30, 40, 50])\n",
    "a[3] = 70 #updating\n",
    "for x in a:\n",
    "    print(x)"
   ]
  },
  {
   "cell_type": "code",
   "execution_count": 9,
   "id": "e8003190",
   "metadata": {},
   "outputs": [
    {
     "name": "stdout",
     "output_type": "stream",
     "text": [
      "[10, 8, 12, 5]\n",
      "15\n"
     ]
    }
   ],
   "source": [
    "# 2D Arrays\n",
    "# The data elemnts in two dimensional arrays can be accessed using two indices.\n",
    "# One index referring to the main or parent array and another index referring tothe position of the data element in the inner array.\n",
    "# If we mention only one index then the entire inner array is printed for that index position.\n",
    "\n",
    "from array import *\n",
    "\n",
    "A = [[11, 12, 5, 2], [15, 6, 10], [10, 8, 12, 5], [12, 15, 8, 6]] # 2D array\n",
    "\n",
    "print(A[2])\n",
    "print(A[3][1])"
   ]
  },
  {
   "cell_type": "code",
   "execution_count": 10,
   "id": "bf1c0a33",
   "metadata": {},
   "outputs": [
    {
     "name": "stdout",
     "output_type": "stream",
     "text": [
      "[[11, 12, 5, 2], [15, 6, 10], [10, 8, 12, 5], [12, 15, 8, 6]]\n",
      "[[11, 12, 5, 2], [1, 9, 7, 5, 3], [15, 6, 10], [10, 8, 12, 5], [12, 15, 8, 6]]\n"
     ]
    }
   ],
   "source": [
    "#Inserting value into two dimensional array\n",
    "\n",
    "from array import *\n",
    "\n",
    "A = [[11, 12, 5, 2], [15, 6, 10], [10, 8, 12, 5], [12, 15, 8, 6]] # 2D array\n",
    "print(A)\n",
    "\n",
    "A.insert(1, [1, 9, 7, 5, 3]) #insert(index, value)\n",
    "print(A)"
   ]
  },
  {
   "cell_type": "code",
   "execution_count": 11,
   "id": "521df7cc",
   "metadata": {},
   "outputs": [
    {
     "name": "stdout",
     "output_type": "stream",
     "text": [
      "[[11, 12, 5, 2], [15, 6, 10], [10, 8, 12, 5], [12, 15, 8, 6]]\n",
      "[[11, 12, 5, 2], [13, 17], [7, 8, 12, 5], [12, 15, 8, 6]]\n"
     ]
    }
   ],
   "source": [
    "# Updating the value into two dimensional array\n",
    "\n",
    "from array import *\n",
    "\n",
    "A = [[11, 12, 5, 2], [15, 6, 10], [10, 8, 12, 5], [12, 15, 8, 6]] # 2D array\n",
    "print(A)\n",
    "\n",
    "A[1] = [13, 17] # updating element (row) at index = 2\n",
    "A[2][0] = 7 #Updating element in third row, first element\n",
    "\n",
    "print(A)"
   ]
  },
  {
   "cell_type": "code",
   "execution_count": 15,
   "id": "d3c4ae74",
   "metadata": {},
   "outputs": [
    {
     "name": "stdout",
     "output_type": "stream",
     "text": [
      "[[11, 12, 5, 2], [15, 6, 10], [10, 8, 12, 5], [12, 15, 8, 6]]\n",
      "[[11, 12, 5, 2], [10, 8, 12, 5], [12, 8, 6]]\n"
     ]
    }
   ],
   "source": [
    "from array import *\n",
    "\n",
    "A = [[11, 12, 5, 2], [15, 6, 10], [10, 8, 12, 5], [12, 15, 8, 6]] # 2D array\n",
    "print(A)\n",
    "\n",
    "del A[1] # deleting element (row) at index = 1\n",
    "del A[2][1] # deleting element in third row, second element\n",
    "print(A)"
   ]
  },
  {
   "cell_type": "code",
   "execution_count": 5,
   "id": "b1880035",
   "metadata": {},
   "outputs": [
    {
     "name": "stdout",
     "output_type": "stream",
     "text": [
      "[['Mon' '18' '20' '22' '17']\n",
      " ['Tue' '11' '18' '21' '18']\n",
      " ['Wed' '15' '21' '20' '19']\n",
      " ['Thu' '11' '20' '22' '21']\n",
      " ['Fri' '18' '17' '23' '22']\n",
      " ['Sat' '12' '22' '20' '18']\n",
      " ['Sun' '13' '15' '19' '16']]\n"
     ]
    }
   ],
   "source": [
    "## Matrix\n",
    "# Matrix is a special case of two dimensional array where each data element is of strictly same size. So every matrix is also a two dimensional array but not vice versa. Matrices are very important data structures for many mathematical and scientific calculations.\n",
    "\n",
    "# Matrix Example\n",
    "\n",
    "from numpy import * \n",
    "\n",
    "a = array([['Mon', 18, 20, 22, 17], ['Tue', 11, 18, 21, 18],\n",
    "           ['Wed', 15, 21, 20, 19], ['Thu', 11, 20, 22, 21],\n",
    "           ['Fri', 18, 17, 23, 22], ['Sat', 12, 22, 20, 18],\n",
    "           ['Sun', 13, 15, 19, 16]])\n",
    "    \n",
    "m = reshape(a, (7, 5)) # dimensions of matrix rows*columns\n",
    "print(m)"
   ]
  },
  {
   "cell_type": "code",
   "execution_count": 20,
   "id": "5705029a",
   "metadata": {},
   "outputs": [
    {
     "name": "stdout",
     "output_type": "stream",
     "text": [
      "['Wed' '15' '21' '20' '19'] \n",
      "\n",
      "23 \n",
      "\n",
      "[['Mon' '18' '20' '22' '17']\n",
      " ['Tue' '11' '18' '21' '18']\n",
      " ['Wed' '15' '21' '20' '19']\n",
      " ['Thu' '11' '20' '22' '21']\n",
      " ['Fri' '18' '17' '23' '22']\n",
      " ['Sat' '12' '22' '20' '18']\n",
      " ['Sun' '13' '15' '19' '16']]\n"
     ]
    }
   ],
   "source": [
    "# Accessing Values in a Matrix\n",
    "\n",
    "from numpy import * \n",
    "\n",
    "m = array([['Mon', 18, 20, 22, 17], ['Tue', 11, 18, 21, 18],\n",
    "           ['Wed', 15, 21, 20, 19], ['Thu', 11, 20, 22, 21],\n",
    "           ['Fri', 18, 17, 23, 22], ['Sat', 12, 22, 20, 18],\n",
    "           ['Sun', 13, 15, 19, 16]])\n",
    "    \n",
    "# Print data for Wednesday\n",
    "print(m[2], \"\\n\")\n",
    "\n",
    "# Print data for Friday evening\n",
    "print(m[4][3], \"\\n\")\n",
    "\n",
    "print(m)"
   ]
  },
  {
   "cell_type": "code",
   "execution_count": 31,
   "id": "5c05fa14",
   "metadata": {},
   "outputs": [
    {
     "name": "stdout",
     "output_type": "stream",
     "text": [
      "[['Mon' '18' '20' '22' '17']\n",
      " ['Tue' '11' '18' '21' '18']\n",
      " ['Wed' '15' '21' '20' '19']\n",
      " ['Thu' '11' '20' '22' '21']\n",
      " ['Fri' '18' '17' '23' '22']\n",
      " ['Sat' '12' '22' '20' '18']\n",
      " ['Sun' '13' '15' '19' '16']] \n",
      "\n",
      "[['Mon' '18' '20' '22' '17']\n",
      " ['Tue' '11' '18' '21' '18']\n",
      " ['Wed' '15' '21' '20' '19']\n",
      " ['Thu' '11' '20' '22' '21']\n",
      " ['Fri' '18' '17' '23' '22']\n",
      " ['Sat' '12' '22' '20' '18']\n",
      " ['Sun' '13' '15' '19' '16']\n",
      " ['Avg' '12' '15' '13' '11']]\n",
      "***********\n",
      "[['Mon' '18' '20' '1' '22' '17']\n",
      " ['Tue' '11' '18' '2' '21' '18']\n",
      " ['Wed' '15' '21' '3' '20' '19']\n",
      " ['Thu' '11' '20' '4' '22' '21']\n",
      " ['Fri' '18' '17' '5' '23' '22']\n",
      " ['Sat' '12' '22' '6' '20' '18']\n",
      " ['Sun' '13' '15' '7' '19' '16']]\n"
     ]
    }
   ],
   "source": [
    "# Adding the data\n",
    "\n",
    "from numpy import * \n",
    "\n",
    "m = array([['Mon', 18, 20, 22, 17], ['Tue', 11, 18, 21, 18],\n",
    "           ['Wed', 15, 21, 20, 19], ['Thu', 11, 20, 22, 21],\n",
    "           ['Fri', 18, 17, 23, 22], ['Sat', 12, 22, 20, 18],\n",
    "           ['Sun', 13, 15, 19, 16]])\n",
    "print(m, '\\n')\n",
    "m_r = append(m, [['Avg', 12, 15, 13, 11]], 0) # adding by using append at the end .(0 = row, 1 = column)\n",
    "m_c = insert(m, [3], [[1], [2], [3], [4], [5], [6], [7]], 1) # insert(array name, index, element, column or row with value) (1 = column, 0 = row)\n",
    "\n",
    "print(m_r)\n",
    "print('***********')\n",
    "print(m_c)\n"
   ]
  },
  {
   "cell_type": "code",
   "execution_count": 16,
   "id": "76a1b31b",
   "metadata": {},
   "outputs": [
    {
     "name": "stdout",
     "output_type": "stream",
     "text": [
      "[['Mon' '18' '20' '22' '17']\n",
      " ['Tue' '11' '18' '21' '18']\n",
      " ['Wed' '15' '21' '20' '19']\n",
      " ['Thu' '11' '20' '22' '21']\n",
      " ['Fri' '18' '17' '23' '22']\n",
      " ['Sat' '12' '22' '20' '18']\n",
      " ['Sun' '13' '15' '19' '16']]\n",
      "******************** \n",
      "\n",
      "[['Mon' '18' '20' '22' '17']\n",
      " ['Tue' '11' '18' '21' '18']\n",
      " ['Thu' '11' '20' '22' '21']\n",
      " ['Fri' '18' '17' '23' '22']\n",
      " ['Sat' '12' '22' '20' '18']\n",
      " ['Sun' '13' '15' '19' '16']]\n",
      "*********** \n",
      "\n",
      "[[1 0 0 0]\n",
      " [0 2 0 0]\n",
      " [0 0 3 0]\n",
      " [0 0 0 4]]\n",
      "<class 'numpy.ndarray'> \n",
      "\n",
      "[0. 0. 0. 0. 0. 0. 0. 0. 0. 0.] \n",
      "\n",
      "[0. 0. 0. 0. 1. 0. 0. 0. 0. 0.]\n"
     ]
    }
   ],
   "source": [
    "# Delete from matrix\n",
    "\n",
    "from numpy import * \n",
    "\n",
    "m = array([['Mon', 18, 20, 22, 17], ['Tue', 11, 18, 21, 18],\n",
    "           ['Wed', 15, 21, 20, 19], ['Thu', 11, 20, 22, 21],\n",
    "           ['Fri', 18, 17, 23, 22], ['Sat', 12, 22, 20, 18],\n",
    "           ['Sun', 13, 15, 19, 16]])\n",
    "\n",
    "print(m) # original matrix\n",
    "print('********************', \"\\n\")\n",
    "    \n",
    "n1 = delete(m, [2], 0) # deleting row at index = 2\n",
    "print(n1)\n",
    "print('***********', \"\\n\")\n",
    "n2 = delete(m, [2], 1) # deleting column at index = 2\n",
    "n2\n",
    "\n",
    "import numpy as np\n",
    "z = np.diag(1 + np.arange(4)) #diagonal matrix\n",
    "print(z)\n",
    "print(type(z), \"\\n\")\n",
    "\n",
    "z = np.zeros(10) #return the no. of zero's we mentioned\n",
    "print(z, \"\\n\")\n",
    "z[4] = 1\n",
    "print(z)\n"
   ]
  },
  {
   "cell_type": "code",
   "execution_count": 21,
   "id": "74976677",
   "metadata": {},
   "outputs": [
    {
     "name": "stdout",
     "output_type": "stream",
     "text": [
      "[0.00430519 0.39029452 0.21330945 0.14336443 0.85862329 0.17275654\n",
      " 0.93541789 0.59409506 0.2386763  0.83982486 0.44365976 0.12644922\n",
      " 0.22012621] \n",
      "\n",
      "0.3985309781658208\n"
     ]
    }
   ],
   "source": [
    "# Create a random vector of size 13 and find the mean value\n",
    "\n",
    "z = np.random.random(13) #return the random float values\n",
    "print(z, \"\\n\")\n",
    "m = z.mean() #average\n",
    "print(m)"
   ]
  },
  {
   "cell_type": "code",
   "execution_count": 22,
   "id": "3789fa94",
   "metadata": {},
   "outputs": [
    {
     "name": "stdout",
     "output_type": "stream",
     "text": [
      "[ 0  1  2  3  4  5  6  7  8  9 10 11 12 13 14 15 16 17 18 19 20 21 22 23\n",
      " 24 25 26 27 28 29 30 31 32 33 34 35 36 37 38 39 40 41 42 43 44 45 46 47\n",
      " 48 49] \n",
      "\n",
      "[49 48 47 46 45 44 43 42 41 40 39 38 37 36 35 34 33 32 31 30 29 28 27 26\n",
      " 25 24 23 22 21 20 19 18 17 16 15 14 13 12 11 10  9  8  7  6  5  4  3  2\n",
      "  1  0]\n"
     ]
    }
   ],
   "source": [
    "# Reverse a vector (first element becomes last)\n",
    "\n",
    "z = np.arange(50) # till 50 but not 50 (only 49 numbers)\n",
    "print(z, \"\\n\")\n",
    "z = z[::-1]\n",
    "print(z)"
   ]
  },
  {
   "cell_type": "code",
   "execution_count": 24,
   "id": "73a83cf9",
   "metadata": {},
   "outputs": [
    {
     "data": {
      "text/plain": [
       "([1, 2, 3, 4, 4], [10, 11, 12, 13, 14], [0, 1, 2, 3, 4])"
      ]
     },
     "execution_count": 24,
     "metadata": {},
     "output_type": "execute_result"
    }
   ],
   "source": [
    "# Python Packages for Analysing the DataPandas\n",
    "####################### Pandas ############################################\n",
    "# pip install pandas\n",
    "\n",
    "import pandas as pd # importing pandas = > useful for creating dataframes\n",
    "\n",
    "a1 = [1, 2, 3, 4, 4] # list format \n",
    "a2 = [10, 11, 12, 13, 14]  # list format \n",
    "\n",
    "a3 = list(range(5))\n",
    "\n",
    "a1, a2, a3"
   ]
  },
  {
   "cell_type": "code",
   "execution_count": 25,
   "id": "f06069c7",
   "metadata": {},
   "outputs": [
    {
     "name": "stdout",
     "output_type": "stream",
     "text": [
      "Empty DataFrame\n",
      "Columns: [X1, X2, X3]\n",
      "Index: [] \n",
      "\n",
      "   X1  X2  X3\n",
      "0   1  10   0\n",
      "1   2  11   1\n",
      "2   3  12   2\n",
      "3   4  13   3\n",
      "4   4  14   4\n"
     ]
    }
   ],
   "source": [
    "# Creating a data frame using explicits lists\n",
    "# it is a pandas object\n",
    "#contains rows and columns \n",
    "\n",
    "df = pd.DataFrame(columns = [\"X1\",\"X2\",\"X3\"]) \n",
    "print(df, \"\\n\")\n",
    "\n",
    "df[\"X1\"] = a1 # Converting list format into pandas series format\n",
    "df[\"X2\"] = a2 # Converting list format into pandas series format\n",
    "df[\"X3\"] = a3\n",
    "\n",
    "print(df)"
   ]
  },
  {
   "cell_type": "code",
   "execution_count": 26,
   "id": "667c4136",
   "metadata": {},
   "outputs": [
    {
     "name": "stdout",
     "output_type": "stream",
     "text": [
      "   X1  X2  X3\n",
      "0   1  10   0\n",
      "1   2  11   1\n",
      "2   3  12   2\n",
      "3   4  13   3\n",
      "4   4  14   4\n"
     ]
    }
   ],
   "source": [
    "# series is a one dimensional pandas object\n",
    "# Dataframe is a two dimensional pandas object\n",
    "\n",
    "df[\"X1\"] = pd.Series(a1) # Converting list format into pandas series format\n",
    "df[\"X2\"] = pd.Series(a2) # Converting list format into pandas series format\n",
    "df[\"X3\"] = pd.Series(a3)\n",
    "\n",
    "print(df)"
   ]
  },
  {
   "cell_type": "code",
   "execution_count": 27,
   "id": "630f7b2a",
   "metadata": {},
   "outputs": [
    {
     "name": "stdout",
     "output_type": "stream",
     "text": [
      "      X1   X2   X3\n",
      "101  NaN  NaN  NaN\n",
      "102  NaN  NaN  NaN\n",
      "103  NaN  NaN  NaN\n",
      "104  NaN  NaN  NaN\n",
      "105  NaN  NaN  NaN \n",
      "\n",
      "     X1  X2  X3\n",
      "101   1  10   0\n",
      "102   2  11   1\n",
      "103   3  12   2\n",
      "104   4  13   3\n",
      "105   4  14   4\n"
     ]
    }
   ],
   "source": [
    "# Creating a data frame using explicits lists\n",
    "#Index is row name\n",
    "\n",
    "df_new = pd.DataFrame(columns= ['X1','X2','X3'],index = [101,102,103,104,105]) #index is limited so we can't add more than that in dataframe\n",
    "print(df_new, \"\\n\") #it prints null values\n",
    "\n",
    "df_new[\"X1\"] = a1 \n",
    "df_new[\"X2\"] = a2 \n",
    "df_new[\"X3\"] = a3\n",
    "\n",
    "print(df_new)"
   ]
  },
  {
   "cell_type": "code",
   "execution_count": 30,
   "id": "acea2bcd",
   "metadata": {},
   "outputs": [
    {
     "name": "stdout",
     "output_type": "stream",
     "text": [
      "0    1\n",
      "1    2\n",
      "2    3\n",
      "3    4\n",
      "4    4\n",
      "Name: X1, dtype: int64 \n",
      "\n",
      "0    1\n",
      "1    2\n",
      "2    3\n",
      "3    4\n",
      "4    4\n",
      "Name: X1, dtype: int64 \n",
      "\n",
      "   X1  X2\n",
      "0   1  10\n",
      "1   2  11\n",
      "2   3  12\n",
      "3   4  13\n",
      "4   4  14\n"
     ]
    }
   ],
   "source": [
    "# accessing columns using \".\" (dot) operation\n",
    "\n",
    "print(df.X1, \"\\n\")\n",
    "\n",
    "# accessing columns alternative way\n",
    "\n",
    "print(df[\"X1\"], \"\\n\")\n",
    "\n",
    "# Accessing multiple columns : giving column names as input in list format\n",
    "\n",
    "print(df[[\"X1\",\"X2\"]])"
   ]
  },
  {
   "cell_type": "code",
   "execution_count": 32,
   "id": "b5d79805",
   "metadata": {},
   "outputs": [
    {
     "name": "stdout",
     "output_type": "stream",
     "text": [
      "0    10\n",
      "1    11\n",
      "2    12\n",
      "Name: X2, dtype: int64 \n",
      "\n",
      "   X1  X2  X3\n",
      "0   1  10   0\n",
      "1   2  11   1\n",
      "2   3  12   2\n",
      "3   4  13   3\n",
      "4   4  14   4 \n",
      "\n",
      "   X1  X3\n",
      "0   1   0\n",
      "1   2   1\n",
      "2   3   2\n"
     ]
    }
   ],
   "source": [
    "\n",
    "# Accessing elements using \".iloc\" : accessing each cell by row and column \n",
    "# index values\n",
    "\n",
    "print(df.iloc[0:3,1], \"\\n\") #Column can be called with only index postion when we use iloc ,here 1 is column index position\n",
    "\n",
    "print(df.iloc[:,:], \"\\n\") #to get entire data frame \n",
    "\n",
    "print(df.loc[0:2,[\"X1\",\"X3\"]])#column can be called with only names when we use loc , here [X1,X2]\n"
   ]
  },
  {
   "cell_type": "code",
   "execution_count": 35,
   "id": "b69c2df1",
   "metadata": {},
   "outputs": [
    {
     "name": "stdout",
     "output_type": "stream",
     "text": [
      "   X1  X2  X3\n",
      "0   1  10   0\n",
      "1   2  11   1\n",
      "2   3  12   2\n",
      "3   4  13   3\n",
      "4   4  14   4 \n",
      "\n",
      "2.0 \n",
      "\n",
      "2.0 \n",
      "\n",
      "0    0\n",
      "1    1\n",
      "2    2\n",
      "3    3\n",
      "4    4\n",
      "Name: X3, dtype: int64 \n",
      "\n"
     ]
    },
    {
     "data": {
      "text/html": [
       "<div>\n",
       "<style scoped>\n",
       "    .dataframe tbody tr th:only-of-type {\n",
       "        vertical-align: middle;\n",
       "    }\n",
       "\n",
       "    .dataframe tbody tr th {\n",
       "        vertical-align: top;\n",
       "    }\n",
       "\n",
       "    .dataframe thead th {\n",
       "        text-align: right;\n",
       "    }\n",
       "</style>\n",
       "<table border=\"1\" class=\"dataframe\">\n",
       "  <thead>\n",
       "    <tr style=\"text-align: right;\">\n",
       "      <th></th>\n",
       "      <th>X1</th>\n",
       "      <th>X2</th>\n",
       "      <th>X3</th>\n",
       "    </tr>\n",
       "  </thead>\n",
       "  <tbody>\n",
       "    <tr>\n",
       "      <th>count</th>\n",
       "      <td>5.00000</td>\n",
       "      <td>5.000000</td>\n",
       "      <td>5.000000</td>\n",
       "    </tr>\n",
       "    <tr>\n",
       "      <th>mean</th>\n",
       "      <td>2.80000</td>\n",
       "      <td>12.000000</td>\n",
       "      <td>2.000000</td>\n",
       "    </tr>\n",
       "    <tr>\n",
       "      <th>std</th>\n",
       "      <td>1.30384</td>\n",
       "      <td>1.581139</td>\n",
       "      <td>1.581139</td>\n",
       "    </tr>\n",
       "    <tr>\n",
       "      <th>min</th>\n",
       "      <td>1.00000</td>\n",
       "      <td>10.000000</td>\n",
       "      <td>0.000000</td>\n",
       "    </tr>\n",
       "    <tr>\n",
       "      <th>25%</th>\n",
       "      <td>2.00000</td>\n",
       "      <td>11.000000</td>\n",
       "      <td>1.000000</td>\n",
       "    </tr>\n",
       "    <tr>\n",
       "      <th>50%</th>\n",
       "      <td>3.00000</td>\n",
       "      <td>12.000000</td>\n",
       "      <td>2.000000</td>\n",
       "    </tr>\n",
       "    <tr>\n",
       "      <th>75%</th>\n",
       "      <td>4.00000</td>\n",
       "      <td>13.000000</td>\n",
       "      <td>3.000000</td>\n",
       "    </tr>\n",
       "    <tr>\n",
       "      <th>max</th>\n",
       "      <td>4.00000</td>\n",
       "      <td>14.000000</td>\n",
       "      <td>4.000000</td>\n",
       "    </tr>\n",
       "  </tbody>\n",
       "</table>\n",
       "</div>"
      ],
      "text/plain": [
       "            X1         X2        X3\n",
       "count  5.00000   5.000000  5.000000\n",
       "mean   2.80000  12.000000  2.000000\n",
       "std    1.30384   1.581139  1.581139\n",
       "min    1.00000  10.000000  0.000000\n",
       "25%    2.00000  11.000000  1.000000\n",
       "50%    3.00000  12.000000  2.000000\n",
       "75%    4.00000  13.000000  3.000000\n",
       "max    4.00000  14.000000  4.000000"
      ]
     },
     "execution_count": 35,
     "metadata": {},
     "output_type": "execute_result"
    }
   ],
   "source": [
    "#Stattistics\n",
    "\n",
    "print(df, \"\\n\")\n",
    "\n",
    "print(df['X3'].mean(), \"\\n\")\n",
    "\n",
    "print(df['X3'].median(), \"\\n\")\n",
    "\n",
    "print(df['X3'].mode(), \"\\n\")\n",
    "\n",
    "df.describe()"
   ]
  },
  {
   "cell_type": "code",
   "execution_count": 38,
   "id": "f3f4a317",
   "metadata": {},
   "outputs": [
    {
     "name": "stdout",
     "output_type": "stream",
     "text": [
      "   X1  X2\n",
      "0   1   4\n",
      "1   2   8\n",
      "2   3  12 \n",
      "\n",
      "   X1   X3\n",
      "0   1   14\n",
      "1   2   18\n",
      "2   3  112\n",
      "3   4   15 \n",
      "\n"
     ]
    },
    {
     "data": {
      "text/html": [
       "<div>\n",
       "<style scoped>\n",
       "    .dataframe tbody tr th:only-of-type {\n",
       "        vertical-align: middle;\n",
       "    }\n",
       "\n",
       "    .dataframe tbody tr th {\n",
       "        vertical-align: top;\n",
       "    }\n",
       "\n",
       "    .dataframe thead th {\n",
       "        text-align: right;\n",
       "    }\n",
       "</style>\n",
       "<table border=\"1\" class=\"dataframe\">\n",
       "  <thead>\n",
       "    <tr style=\"text-align: right;\">\n",
       "      <th></th>\n",
       "      <th>X1</th>\n",
       "      <th>X2</th>\n",
       "      <th>X3</th>\n",
       "    </tr>\n",
       "  </thead>\n",
       "  <tbody>\n",
       "    <tr>\n",
       "      <th>0</th>\n",
       "      <td>1</td>\n",
       "      <td>4</td>\n",
       "      <td>14</td>\n",
       "    </tr>\n",
       "    <tr>\n",
       "      <th>1</th>\n",
       "      <td>2</td>\n",
       "      <td>8</td>\n",
       "      <td>18</td>\n",
       "    </tr>\n",
       "    <tr>\n",
       "      <th>2</th>\n",
       "      <td>3</td>\n",
       "      <td>12</td>\n",
       "      <td>112</td>\n",
       "    </tr>\n",
       "  </tbody>\n",
       "</table>\n",
       "</div>"
      ],
      "text/plain": [
       "   X1  X2   X3\n",
       "0   1   4   14\n",
       "1   2   8   18\n",
       "2   3  12  112"
      ]
     },
     "execution_count": 38,
     "metadata": {},
     "output_type": "execute_result"
    }
   ],
   "source": [
    "# Merge operation using pandas \n",
    "df1 = pd.DataFrame({\"X1\":[1,2,3],\"X2\":[4,8,12],})\n",
    "df2 = pd.DataFrame({\"X1\":[1,2,3,4],\"X3\":[14,18,112,15],})\n",
    "print(df1, \"\\n\")\n",
    "print(df2, \"\\n\")\n",
    "merge = pd.merge(df1,df2, on = \"X1\") # merge function\n",
    "merge"
   ]
  },
  {
   "cell_type": "code",
   "execution_count": 42,
   "id": "cfa2b3b1",
   "metadata": {},
   "outputs": [
    {
     "name": "stdout",
     "output_type": "stream",
     "text": [
      "   X1  X2\n",
      "0   1   4\n",
      "1   2   8\n",
      "2   3  12 \n",
      "\n"
     ]
    },
    {
     "data": {
      "text/html": [
       "<div>\n",
       "<style scoped>\n",
       "    .dataframe tbody tr th:only-of-type {\n",
       "        vertical-align: middle;\n",
       "    }\n",
       "\n",
       "    .dataframe tbody tr th {\n",
       "        vertical-align: top;\n",
       "    }\n",
       "\n",
       "    .dataframe thead th {\n",
       "        text-align: right;\n",
       "    }\n",
       "</style>\n",
       "<table border=\"1\" class=\"dataframe\">\n",
       "  <thead>\n",
       "    <tr style=\"text-align: right;\">\n",
       "      <th></th>\n",
       "      <th>X2</th>\n",
       "    </tr>\n",
       "    <tr>\n",
       "      <th>X1</th>\n",
       "      <th></th>\n",
       "    </tr>\n",
       "  </thead>\n",
       "  <tbody>\n",
       "    <tr>\n",
       "      <th>1</th>\n",
       "      <td>4</td>\n",
       "    </tr>\n",
       "    <tr>\n",
       "      <th>2</th>\n",
       "      <td>8</td>\n",
       "    </tr>\n",
       "    <tr>\n",
       "      <th>3</th>\n",
       "      <td>12</td>\n",
       "    </tr>\n",
       "  </tbody>\n",
       "</table>\n",
       "</div>"
      ],
      "text/plain": [
       "    X2\n",
       "X1    \n",
       "1    4\n",
       "2    8\n",
       "3   12"
      ]
     },
     "execution_count": 42,
     "metadata": {},
     "output_type": "execute_result"
    }
   ],
   "source": [
    "# Replace index name\n",
    "df = pd.DataFrame({\"X1\":[1,2,3], \"X2\":[4,8,12]})\n",
    "print(df, \"\\n\")\n",
    "\n",
    "df.set_index(\"X1\", inplace = True)#Assiging index names using column names\n",
    "df"
   ]
  },
  {
   "cell_type": "code",
   "execution_count": 43,
   "id": "6721c802",
   "metadata": {},
   "outputs": [
    {
     "name": "stdout",
     "output_type": "stream",
     "text": [
      "   X3  X4\n",
      "0   1   4\n",
      "1   2   8\n",
      "2   3  12\n"
     ]
    }
   ],
   "source": [
    "# Change the column names \n",
    "df = pd.DataFrame({\"X1\":[1,2,3],\"X2\":[4,8,12]})\n",
    "\n",
    "df  = df.rename(columns = {\"X1\":\"X3\",\"X2\":\"X4\"}) #Change column names\n",
    "\n",
    "print(df)"
   ]
  },
  {
   "cell_type": "code",
   "execution_count": 44,
   "id": "c3f1c59c",
   "metadata": {},
   "outputs": [
    {
     "name": "stdout",
     "output_type": "stream",
     "text": [
      "      X1  X2\n",
      "2000   1   4\n",
      "2001   2   8\n",
      "2002   3  12\n",
      "2003   4  14\n",
      "2004   5  16\n",
      "2005   6  18\n"
     ]
    }
   ],
   "source": [
    "# Concatenation\n",
    "df1 = pd.DataFrame({\"X1\":[1,2,3],\"X2\":[4,8,12]},index = (2000,2001,2002))\n",
    "df2 = pd.DataFrame({\"X1\":[4,5,6],\"X2\":[14,16,18]},index = (2003,2004,2005))\n",
    "\n",
    "Concatenate = pd.concat([df1,df2])\n",
    "\n",
    "print(Concatenate)"
   ]
  },
  {
   "cell_type": "code",
   "execution_count": 45,
   "id": "52d30c79",
   "metadata": {},
   "outputs": [
    {
     "name": "stdout",
     "output_type": "stream",
     "text": [
      "   grade1  grade2\n",
      "0     1.0     NaN\n",
      "1     2.0    11.0\n",
      "2     3.0    12.0\n",
      "3     4.0   100.0\n",
      "4     5.0     NaN\n",
      "5     NaN   200.0\n"
     ]
    }
   ],
   "source": [
    "# pip install numpy #module error\n",
    "\n",
    "import numpy as np\n",
    "import pandas as pd\n",
    "\n",
    "x1 = [1, 2, 3, 4, 5,np.nan] \n",
    "x2 = [np.nan, 11, 12, 100,np.nan, 200] \n",
    "\n",
    "df=pd.DataFrame()\n",
    "\n",
    "df['grade1']= x1\n",
    "df['grade2']= x2\n",
    "\n",
    "print(df)"
   ]
  },
  {
   "cell_type": "code",
   "execution_count": 48,
   "id": "a875805f",
   "metadata": {},
   "outputs": [
    {
     "name": "stdout",
     "output_type": "stream",
     "text": [
      "   grade1  grade2\n",
      "0   False    True\n",
      "1   False   False\n",
      "2   False   False\n",
      "3   False   False\n",
      "4   False    True\n",
      "5    True   False \n",
      "\n",
      "grade1    1\n",
      "grade2    2\n",
      "dtype: int64 \n",
      "\n"
     ]
    },
    {
     "data": {
      "text/html": [
       "<div>\n",
       "<style scoped>\n",
       "    .dataframe tbody tr th:only-of-type {\n",
       "        vertical-align: middle;\n",
       "    }\n",
       "\n",
       "    .dataframe tbody tr th {\n",
       "        vertical-align: top;\n",
       "    }\n",
       "\n",
       "    .dataframe thead th {\n",
       "        text-align: right;\n",
       "    }\n",
       "</style>\n",
       "<table border=\"1\" class=\"dataframe\">\n",
       "  <thead>\n",
       "    <tr style=\"text-align: right;\">\n",
       "      <th></th>\n",
       "      <th>grade1</th>\n",
       "      <th>grade2</th>\n",
       "    </tr>\n",
       "  </thead>\n",
       "  <tbody>\n",
       "    <tr>\n",
       "      <th>1</th>\n",
       "      <td>2.0</td>\n",
       "      <td>11.0</td>\n",
       "    </tr>\n",
       "    <tr>\n",
       "      <th>2</th>\n",
       "      <td>3.0</td>\n",
       "      <td>12.0</td>\n",
       "    </tr>\n",
       "    <tr>\n",
       "      <th>3</th>\n",
       "      <td>4.0</td>\n",
       "      <td>100.0</td>\n",
       "    </tr>\n",
       "  </tbody>\n",
       "</table>\n",
       "</div>"
      ],
      "text/plain": [
       "   grade1  grade2\n",
       "1     2.0    11.0\n",
       "2     3.0    12.0\n",
       "3     4.0   100.0"
      ]
     },
     "execution_count": 48,
     "metadata": {},
     "output_type": "execute_result"
    }
   ],
   "source": [
    "#finding null values\n",
    "\n",
    "print(df.isna(), \"\\n\") # get the null values are presented or not (True==null value presented otherwise False)\n",
    "\n",
    "print(df.isna().sum(), \"\\n\") #sum of null values\n",
    "\n",
    "df.dropna() #drop null value"
   ]
  },
  {
   "cell_type": "code",
   "execution_count": 49,
   "id": "15fdb883",
   "metadata": {},
   "outputs": [
    {
     "name": "stdout",
     "output_type": "stream",
     "text": [
      "   a  b   c\n",
      "1  4  7  10\n",
      "2  5  8  11\n",
      "3  6  9  12 \n",
      "\n",
      "   a  b   c\n",
      "1  4  7  10\n",
      "2  5  8  11\n",
      "3  6  9  12\n"
     ]
    }
   ],
   "source": [
    "# another way to create dataframe\n",
    "\n",
    "df = pd.DataFrame(\n",
    "    {\"a\" : [4,5,6],\n",
    "     \"b\" : [7,8,9],           ## Dictionary Key value pairs                                                          \n",
    "     \"c\" : [10,11,12]},\n",
    "    index = [1,2,3])\n",
    "print(df, \"\\n\")\n",
    "\n",
    "# another way to create dataframe\n",
    "\n",
    "df = pd.DataFrame(\n",
    "    [[4,7,10],\n",
    "     [5,8,11],\n",
    "     [6,9,12]],\n",
    "    index = [1,2,3],\n",
    "    columns = ['a','b','c'])\n",
    "print(df)"
   ]
  },
  {
   "cell_type": "code",
   "execution_count": 52,
   "id": "4be65b26",
   "metadata": {},
   "outputs": [
    {
     "name": "stdout",
     "output_type": "stream",
     "text": [
      "15\n"
     ]
    },
    {
     "data": {
      "text/plain": [
       "<Axes: >"
      ]
     },
     "execution_count": 52,
     "metadata": {},
     "output_type": "execute_result"
    },
    {
     "data": {
      "image/png": "[encoded data removed]",
      "text/plain": [
       "<Figure size 640x480 with 1 Axes>"
      ]
     },
     "metadata": {},
     "output_type": "display_data"
    }
   ],
   "source": [
    "# ploting`\n",
    "\n",
    "a = pd.Series([50,40,34,30,22,28,17,19,20,13,9,15,10,7,3])\n",
    "print(len(a))\n",
    "a.plot()"
   ]
  },
  {
   "cell_type": "code",
   "execution_count": 58,
   "id": "4a6b54c2",
   "metadata": {},
   "outputs": [
    {
     "name": "stdout",
     "output_type": "stream",
     "text": [
      "14 \n",
      "\n",
      "14 \n",
      "\n",
      "       a     b     c\n",
      "1   40.0  22.0  38.0\n",
      "2   34.0  12.0  33.0\n",
      "3   30.0   9.0  38.0\n",
      "4   22.0  20.0  23.0\n",
      "5   28.0  34.0  12.0\n",
      "6   17.0  28.0  30.0\n",
      "7   19.0  19.0  37.0\n",
      "8   20.0  26.0  34.0\n",
      "9   13.0  38.0  22.0\n",
      "10   9.0  41.0  16.0\n",
      "11  15.0  24.0  24.0\n",
      "12  10.0  14.0  12.0\n",
      "13   7.0  32.0   9.0\n",
      "14   3.0   NaN   NaN\n",
      "15   NaN   NaN   NaN\n"
     ]
    },
    {
     "data": {
      "text/plain": [
       "<Axes: >"
      ]
     },
     "execution_count": 58,
     "metadata": {},
     "output_type": "execute_result"
    },
    {
     "data": {
      "image/png": "[encoded data removed]",
      "text/plain": [
       "<Figure size 900x700 with 1 Axes>"
      ]
     },
     "metadata": {},
     "output_type": "display_data"
    },
    {
     "data": {
      "image/png": "[encoded data removed]",
      "text/plain": [
       "<Figure size 900x600 with 1 Axes>"
      ]
     },
     "metadata": {},
     "output_type": "display_data"
    },
    {
     "data": {
      "image/png": "[encoded data removed]",
      "text/plain": [
       "<Figure size 800x600 with 1 Axes>"
      ]
     },
     "metadata": {},
     "output_type": "display_data"
    }
   ],
   "source": [
    "a.plot(figsize =(9, 7),\n",
    "       color = 'green',title = 'line plot',fontsize = 12)\n",
    "\n",
    "b = pd.Series([45,22,12,9,20,34,28,19,26,38,41,24,14,32])\n",
    "print(len(b), \"\\n\")\n",
    "\n",
    "c = pd.Series([25,38,33,38,23,12,30,37,34,22,16,24,12,9])\n",
    "print(len(c), \"\\n\")\n",
    "\n",
    "d = pd.DataFrame({'a':a,'b':b,'c':c},index=[1,2,3,4,5,6,7,8,9,10,11,12,13,14,15])\n",
    "print(d)\n",
    "\n",
    "d.plot.area(figsize = (9,6),title = 'Area plot')\n",
    "d.plot.area(alpha= 0.4, color = ['coral','purple','lightgreen'],figsize = (8,6),fontsize = 12)"
   ]
  },
  {
   "cell_type": "code",
   "execution_count": 83,
   "id": "b878330d",
   "metadata": {},
   "outputs": [
    {
     "name": "stdout",
     "output_type": "stream",
     "text": [
      "<class 'pandas.core.frame.DataFrame'>\n"
     ]
    }
   ],
   "source": [
    "############## reading extrnal file\n",
    "\n",
    "import pandas as pd\n",
    "\n",
    "# Import data (.csv file) using pandas. We are using mba data set\n",
    "df = pd.read_csv(r\"C:\\Users\\mahar\\Downloads\\Data Set\\datasets\\Data.csv\")\n",
    "\n",
    "print(type(df)) # pandas data frame"
   ]
  },
  {
   "cell_type": "code",
   "execution_count": 84,
   "id": "8436bbe5",
   "metadata": {},
   "outputs": [
    {
     "name": "stdout",
     "output_type": "stream",
     "text": [
      "                     Position State Sex MaritalDesc CitizenDesc  \\\n",
      "0                Accountant I   NaN   F     Married  US Citizen   \n",
      "1                Accountant I    MA  M     Divorced  US Citizen   \n",
      "2                Accountant I    MA  M       Single         NaN   \n",
      "3    Administrative Assistant    MA   F         NaN  US Citizen   \n",
      "4                         NaN    MA   F      Single  US Citizen   \n",
      "..                        ...   ...  ..         ...         ...   \n",
      "305      Sr. Network Engineer    CT   F     Married  US Citizen   \n",
      "306      Sr. Network Engineer    MA  M      Married  US Citizen   \n",
      "307                       NaN    MA  M      Married  US Citizen   \n",
      "308      Sr. Network Engineer    CT  M          NaN  US Citizen   \n",
      "309      Sr. Network Engineer    MA   F     Widowed  US Citizen   \n",
      "\n",
      "         EmploymentStatus     Department  Salaries   age  \\\n",
      "0                  Active  Admin Offices    674.28   NaN   \n",
      "1                  Active  Admin Offices    674.28  50.0   \n",
      "2                  Active  Admin Offices    674.28  43.0   \n",
      "3    Terminated for Cause  Admin Offices  47822.00  44.0   \n",
      "4                  Active  Admin Offices       NaN  33.0   \n",
      "..                    ...            ...       ...   ...   \n",
      "305      Leave of Absence          IT/IS       NaN  38.0   \n",
      "306      Leave of Absence          IT/IS  27603.00  34.0   \n",
      "307          Future Start          IT/IS  27587.46  24.0   \n",
      "308                Active          IT/IS  12126.53  31.0   \n",
      "309                Active          IT/IS  37257.00  46.0   \n",
      "\n",
      "                          Race  \n",
      "0    Black or African American  \n",
      "1    Black or African American  \n",
      "2                        White  \n",
      "3                          NaN  \n",
      "4                        White  \n",
      "..                         ...  \n",
      "305                      White  \n",
      "306                      White  \n",
      "307                      Asian  \n",
      "308                      White  \n",
      "309                      Asian  \n",
      "\n",
      "[310 rows x 10 columns]\n"
     ]
    }
   ],
   "source": [
    "print(df)"
   ]
  },
  {
   "cell_type": "code",
   "execution_count": 88,
   "id": "a73b0cb5",
   "metadata": {},
   "outputs": [
    {
     "data": {
      "text/html": [
       "<div>\n",
       "<style scoped>\n",
       "    .dataframe tbody tr th:only-of-type {\n",
       "        vertical-align: middle;\n",
       "    }\n",
       "\n",
       "    .dataframe tbody tr th {\n",
       "        vertical-align: top;\n",
       "    }\n",
       "\n",
       "    .dataframe thead th {\n",
       "        text-align: right;\n",
       "    }\n",
       "</style>\n",
       "<table border=\"1\" class=\"dataframe\">\n",
       "  <thead>\n",
       "    <tr style=\"text-align: right;\">\n",
       "      <th></th>\n",
       "      <th>Position</th>\n",
       "      <th>State</th>\n",
       "      <th>Sex</th>\n",
       "      <th>MaritalDesc</th>\n",
       "      <th>CitizenDesc</th>\n",
       "      <th>EmploymentStatus</th>\n",
       "      <th>Department</th>\n",
       "      <th>age</th>\n",
       "      <th>Race</th>\n",
       "    </tr>\n",
       "    <tr>\n",
       "      <th>Salaries</th>\n",
       "      <th></th>\n",
       "      <th></th>\n",
       "      <th></th>\n",
       "      <th></th>\n",
       "      <th></th>\n",
       "      <th></th>\n",
       "      <th></th>\n",
       "      <th></th>\n",
       "      <th></th>\n",
       "    </tr>\n",
       "  </thead>\n",
       "  <tbody>\n",
       "    <tr>\n",
       "      <th>75.00</th>\n",
       "      <td>1</td>\n",
       "      <td>1</td>\n",
       "      <td>1</td>\n",
       "      <td>0</td>\n",
       "      <td>1</td>\n",
       "      <td>1</td>\n",
       "      <td>1</td>\n",
       "      <td>1</td>\n",
       "      <td>1</td>\n",
       "    </tr>\n",
       "    <tr>\n",
       "      <th>344.50</th>\n",
       "      <td>1</td>\n",
       "      <td>1</td>\n",
       "      <td>1</td>\n",
       "      <td>1</td>\n",
       "      <td>1</td>\n",
       "      <td>1</td>\n",
       "      <td>1</td>\n",
       "      <td>1</td>\n",
       "      <td>1</td>\n",
       "    </tr>\n",
       "    <tr>\n",
       "      <th>418.18</th>\n",
       "      <td>1</td>\n",
       "      <td>1</td>\n",
       "      <td>1</td>\n",
       "      <td>1</td>\n",
       "      <td>1</td>\n",
       "      <td>1</td>\n",
       "      <td>1</td>\n",
       "      <td>1</td>\n",
       "      <td>0</td>\n",
       "    </tr>\n",
       "    <tr>\n",
       "      <th>674.28</th>\n",
       "      <td>3</td>\n",
       "      <td>2</td>\n",
       "      <td>3</td>\n",
       "      <td>3</td>\n",
       "      <td>2</td>\n",
       "      <td>3</td>\n",
       "      <td>3</td>\n",
       "      <td>2</td>\n",
       "      <td>3</td>\n",
       "    </tr>\n",
       "    <tr>\n",
       "      <th>703.52</th>\n",
       "      <td>0</td>\n",
       "      <td>1</td>\n",
       "      <td>1</td>\n",
       "      <td>1</td>\n",
       "      <td>1</td>\n",
       "      <td>1</td>\n",
       "      <td>1</td>\n",
       "      <td>1</td>\n",
       "      <td>1</td>\n",
       "    </tr>\n",
       "    <tr>\n",
       "      <th>...</th>\n",
       "      <td>...</td>\n",
       "      <td>...</td>\n",
       "      <td>...</td>\n",
       "      <td>...</td>\n",
       "      <td>...</td>\n",
       "      <td>...</td>\n",
       "      <td>...</td>\n",
       "      <td>...</td>\n",
       "      <td>...</td>\n",
       "    </tr>\n",
       "    <tr>\n",
       "      <th>90016.01</th>\n",
       "      <td>0</td>\n",
       "      <td>1</td>\n",
       "      <td>1</td>\n",
       "      <td>1</td>\n",
       "      <td>1</td>\n",
       "      <td>1</td>\n",
       "      <td>1</td>\n",
       "      <td>1</td>\n",
       "      <td>1</td>\n",
       "    </tr>\n",
       "    <tr>\n",
       "      <th>90428.03</th>\n",
       "      <td>1</td>\n",
       "      <td>1</td>\n",
       "      <td>1</td>\n",
       "      <td>1</td>\n",
       "      <td>0</td>\n",
       "      <td>1</td>\n",
       "      <td>1</td>\n",
       "      <td>1</td>\n",
       "      <td>1</td>\n",
       "    </tr>\n",
       "    <tr>\n",
       "      <th>96299.04</th>\n",
       "      <td>1</td>\n",
       "      <td>1</td>\n",
       "      <td>1</td>\n",
       "      <td>1</td>\n",
       "      <td>1</td>\n",
       "      <td>1</td>\n",
       "      <td>1</td>\n",
       "      <td>1</td>\n",
       "      <td>1</td>\n",
       "    </tr>\n",
       "    <tr>\n",
       "      <th>96708.02</th>\n",
       "      <td>1</td>\n",
       "      <td>1</td>\n",
       "      <td>1</td>\n",
       "      <td>0</td>\n",
       "      <td>0</td>\n",
       "      <td>1</td>\n",
       "      <td>1</td>\n",
       "      <td>1</td>\n",
       "      <td>1</td>\n",
       "    </tr>\n",
       "    <tr>\n",
       "      <th>108304.00</th>\n",
       "      <td>0</td>\n",
       "      <td>1</td>\n",
       "      <td>1</td>\n",
       "      <td>1</td>\n",
       "      <td>1</td>\n",
       "      <td>1</td>\n",
       "      <td>1</td>\n",
       "      <td>1</td>\n",
       "      <td>1</td>\n",
       "    </tr>\n",
       "  </tbody>\n",
       "</table>\n",
       "<p>269 rows × 9 columns</p>\n",
       "</div>"
      ],
      "text/plain": [
       "           Position  State  Sex  MaritalDesc  CitizenDesc  EmploymentStatus  \\\n",
       "Salaries                                                                      \n",
       "75.00             1      1    1            0            1                 1   \n",
       "344.50            1      1    1            1            1                 1   \n",
       "418.18            1      1    1            1            1                 1   \n",
       "674.28            3      2    3            3            2                 3   \n",
       "703.52            0      1    1            1            1                 1   \n",
       "...             ...    ...  ...          ...          ...               ...   \n",
       "90016.01          0      1    1            1            1                 1   \n",
       "90428.03          1      1    1            1            0                 1   \n",
       "96299.04          1      1    1            1            1                 1   \n",
       "96708.02          1      1    1            0            0                 1   \n",
       "108304.00         0      1    1            1            1                 1   \n",
       "\n",
       "           Department  age  Race  \n",
       "Salaries                          \n",
       "75.00               1    1     1  \n",
       "344.50              1    1     1  \n",
       "418.18              1    1     0  \n",
       "674.28              3    2     3  \n",
       "703.52              1    1     1  \n",
       "...               ...  ...   ...  \n",
       "90016.01            1    1     1  \n",
       "90428.03            1    1     1  \n",
       "96299.04            1    1     1  \n",
       "96708.02            1    1     1  \n",
       "108304.00           1    1     1  \n",
       "\n",
       "[269 rows x 9 columns]"
      ]
     },
     "execution_count": 88,
     "metadata": {},
     "output_type": "execute_result"
    }
   ],
   "source": [
    "df.groupby('Salaries').count()"
   ]
  },
  {
   "cell_type": "code",
   "execution_count": 87,
   "id": "e8abd9d7",
   "metadata": {},
   "outputs": [
    {
     "data": {
      "text/plain": [
       "Salaries\n",
       "75.00        1\n",
       "344.50       1\n",
       "418.18       1\n",
       "674.28       2\n",
       "703.52       1\n",
       "            ..\n",
       "90016.01     1\n",
       "90428.03     1\n",
       "96299.04     1\n",
       "96708.02     1\n",
       "108304.00    1\n",
       "Name: age, Length: 269, dtype: int64"
      ]
     },
     "execution_count": 87,
     "metadata": {},
     "output_type": "execute_result"
    }
   ],
   "source": [
    "df.groupby('Salaries').count()['age'] #we can give serial number to count it based on that"
   ]
  },
  {
   "cell_type": "code",
   "execution_count": 89,
   "id": "0ff4b254",
   "metadata": {},
   "outputs": [
    {
     "name": "stdout",
     "output_type": "stream",
     "text": [
      "[(23.0,                      Position State Sex MaritalDesc CitizenDesc  \\\n",
      "37                BI Director    MA  M      Married  US Citizen   \n",
      "48                        NaN   NaN   F     Married         NaN   \n",
      "49               Data Analyst    MA  M      Married  US Citizen   \n",
      "77         Production Manager   NaN   F      Single  US Citizen   \n",
      "166   Production Technician I    MA  M          NaN  US Citizen   \n",
      "276  Production Technician II    MA   F      Single  US Citizen   \n",
      "\n",
      "    EmploymentStatus         Department  Salaries   age  \\\n",
      "37               NaN              IT/IS   4160.00  23.0   \n",
      "48               NaN              IT/IS  22721.00  23.0   \n",
      "49            Active              IT/IS  19161.70  23.0   \n",
      "77            Active                NaN  86859.01  23.0   \n",
      "166           Active  Production          5325.51  23.0   \n",
      "276           Active  Production         31240.00  23.0   \n",
      "\n",
      "                          Race  \n",
      "37                       White  \n",
      "48                       White  \n",
      "49                       White  \n",
      "77                       White  \n",
      "166                      White  \n",
      "276  Black or African American  ), (24.0,                     Position State  Sex MaritalDesc CitizenDesc  \\\n",
      "17        Area Sales Manager    MT    F     Married  US Citizen   \n",
      "71          Network Engineer    MA   M      Married  US Citizen   \n",
      "141  Production Technician I    MA    F     Married  US Citizen   \n",
      "150  Production Technician I    MA  NaN     Married  US Citizen   \n",
      "174  Production Technician I    MA    F         NaN         NaN   \n",
      "204  Production Technician I    MA   M       Single         NaN   \n",
      "307                      NaN    MA   M      Married  US Citizen   \n",
      "\n",
      "           EmploymentStatus         Department  Salaries   age  \\\n",
      "17                   Active              Sales  52748.20  24.0   \n",
      "71   Voluntarily Terminated              IT/IS  24158.93  24.0   \n",
      "141        Leave of Absence  Production         43483.00  24.0   \n",
      "150                  Active  Production         33801.00  24.0   \n",
      "174    Terminated for Cause  Production         57663.00  24.0   \n",
      "204                  Active  Production         50630.52  24.0   \n",
      "307            Future Start              IT/IS  27587.46  24.0   \n",
      "\n",
      "                          Race  \n",
      "17   Black or African American  \n",
      "71                       White  \n",
      "141  Black or African American  \n",
      "150                      White  \n",
      "174                      White  \n",
      "204                        NaN  \n",
      "307                      Asian  ), (25.0,                      Position State Sex MaritalDesc          CitizenDesc  \\\n",
      "7          Area Sales Manager    VT   F      Single           US Citizen   \n",
      "19         Area Sales Manager    ME  M       Single           US Citizen   \n",
      "20         Area Sales Manager    MA  M      Married           US Citizen   \n",
      "58         IT Manager - Infra    MA  M      Married  Eligible NonCitizen   \n",
      "88                        NaN    MA   F      Single           US Citizen   \n",
      "116   Production Technician I    MA   F    Divorced           US Citizen   \n",
      "148   Production Technician I    MA  M       Single           US Citizen   \n",
      "171   Production Technician I    MA   F      Single           US Citizen   \n",
      "180   Production Technician I    MA  M       Single           US Citizen   \n",
      "266  Production Technician II    MA   F      Single           US Citizen   \n",
      "282             Sales Manager    PA   F      Single           US Citizen   \n",
      "298                       NaN    MA  M       Single           US Citizen   \n",
      "\n",
      "           EmploymentStatus            Department  Salaries   age  \\\n",
      "7                    Active                 Sales  55912.50  25.0   \n",
      "19                   Active                   NaN  25521.82  25.0   \n",
      "20                   Active                 Sales  35971.73  25.0   \n",
      "58                      NaN                 IT/IS   8997.89  25.0   \n",
      "88                   Active     Production         49500.00  25.0   \n",
      "116                  Active     Production         22770.02  25.0   \n",
      "148                  Active     Production         12853.52  25.0   \n",
      "171                  Active     Production         56906.00  25.0   \n",
      "180    Terminated for Cause     Production         27819.13  25.0   \n",
      "266                  Active     Production         50138.83  25.0   \n",
      "282  Voluntarily Terminated                 Sales  36917.02  25.0   \n",
      "298                  Active  Software Engineering  40208.00  25.0   \n",
      "\n",
      "                          Race  \n",
      "7                        White  \n",
      "19                       Asian  \n",
      "20                       White  \n",
      "58                    Hispanic  \n",
      "88                       White  \n",
      "116  Black or African American  \n",
      "148          Two or more races  \n",
      "171                      White  \n",
      "180  Black or African American  \n",
      "266  Black or African American  \n",
      "282                        NaN  \n",
      "298                        NaN  ), (26.0,                      Position State  Sex MaritalDesc          CitizenDesc  \\\n",
      "6          Area Sales Manager    VA    F     Married  Eligible NonCitizen   \n",
      "35               BI Developer   NaN  NaN     Married           US Citizen   \n",
      "45               Data Analyst    TX   M     Divorced           US Citizen   \n",
      "79         Production Manager    MA   M      Married                  NaN   \n",
      "91                        NaN    MA   M      Married           US Citizen   \n",
      "119   Production Technician I    MA  NaN     Married           US Citizen   \n",
      "135   Production Technician I    MA    F         NaN           US Citizen   \n",
      "164   Production Technician I    MA    F    Divorced           US Citizen   \n",
      "176   Production Technician I    MA  NaN    Divorced                  NaN   \n",
      "197   Production Technician I    MA   M       Single           US Citizen   \n",
      "238                       NaN    MA  NaN    Divorced           US Citizen   \n",
      "263  Production Technician II    MA   M       Single  Eligible NonCitizen   \n",
      "\n",
      "           EmploymentStatus         Department  Salaries   age  \\\n",
      "6    Voluntarily Terminated              Sales       NaN  26.0   \n",
      "35                   Active                NaN  27832.19  26.0   \n",
      "45                   Active              IT/IS  48017.21  26.0   \n",
      "79     Terminated for Cause  Production         51977.02  26.0   \n",
      "91                   Active  Production         15736.71  26.0   \n",
      "119  Voluntarily Terminated  Production          1863.90  26.0   \n",
      "135                  Active  Production         55041.02  26.0   \n",
      "164                  Active  Production         72346.20  26.0   \n",
      "176                     NaN  Production         41312.00  26.0   \n",
      "197    Terminated for Cause  Production         52011.50  26.0   \n",
      "238  Voluntarily Terminated  Production         10936.66  26.0   \n",
      "263                  Active  Production         56434.01  26.0   \n",
      "\n",
      "                          Race  \n",
      "6    Black or African American  \n",
      "35                       White  \n",
      "45   Black or African American  \n",
      "79                       White  \n",
      "91                       White  \n",
      "119                      White  \n",
      "135                      White  \n",
      "164                      Asian  \n",
      "176                      White  \n",
      "197                      White  \n",
      "238                      Asian  \n",
      "263          Two or more races  ), (27.0,                     Position State  Sex MaritalDesc CitizenDesc  \\\n",
      "43    Database Administrator    MA    F      Single  US Citizen   \n",
      "46              Data Analyst    MA   M      Married  US Citizen   \n",
      "69          Network Engineer    MA    F     Married  US Citizen   \n",
      "83        Production Manager    MA    F         NaN  US Citizen   \n",
      "109                      NaN    MA    F         NaN         NaN   \n",
      "112  Production Technician I    MA    F   Separated  US Citizen   \n",
      "115  Production Technician I    MA    F         NaN  US Citizen   \n",
      "136  Production Technician I    MA    F     Married  US Citizen   \n",
      "137  Production Technician I    MA    F      Single  US Citizen   \n",
      "189  Production Technician I    MA    F    Divorced  US Citizen   \n",
      "196  Production Technician I    MA    F      Single  US Citizen   \n",
      "216                      NaN    MA    F     Married  US Citizen   \n",
      "284      Senior BI Developer    MA  NaN      Single  US Citizen   \n",
      "\n",
      "           EmploymentStatus         Department   Salaries   age   Race  \n",
      "43                   Active              IT/IS   29188.15  27.0  White  \n",
      "46   Voluntarily Terminated              IT/IS   40083.52  27.0  White  \n",
      "69                   Active              IT/IS   32278.40  27.0  White  \n",
      "83   Voluntarily Terminated  Production          37487.05  27.0  White  \n",
      "109                     NaN  Production          24752.32  27.0  White  \n",
      "112                  Active  Production          66142.11  27.0    NaN  \n",
      "115                     NaN                NaN   25866.88  27.0  White  \n",
      "136                  Active  Production          45769.91  27.0  White  \n",
      "137                     NaN  Production          11167.36  27.0  White  \n",
      "189  Voluntarily Terminated  Production           2250.00  27.0  White  \n",
      "196                     NaN  Production          36105.09  27.0  White  \n",
      "216  Voluntarily Terminated  Production         108304.00  27.0  White  \n",
      "284                  Active              IT/IS   61771.63  27.0  Asian  ), (28.0,                      Position State Sex MaritalDesc          CitizenDesc  \\\n",
      "12         Area Sales Manager    ID  M      Married           US Citizen   \n",
      "67                 IT Support    MA   F   Separated           US Citizen   \n",
      "76         Production Manager    MA  M       Single           US Citizen   \n",
      "102   Production Technician I    MA  M      Married  Eligible NonCitizen   \n",
      "224  Production Technician II    MA   F      Single           US Citizen   \n",
      "234  Production Technician II    MA   F     Married  Eligible NonCitizen   \n",
      "239  Production Technician II    MA  M      Married           US Citizen   \n",
      "281             Sales Manager   NaN   F      Single           US Citizen   \n",
      "\n",
      "           EmploymentStatus         Department  Salaries   age  \\\n",
      "12                   Active              Sales       NaN  28.0   \n",
      "67                   Active              IT/IS   42389.4  28.0   \n",
      "76                   Active  Production          22032.0  28.0   \n",
      "102  Voluntarily Terminated  Production           2977.5  28.0   \n",
      "224                  Active  Production           2041.2  28.0   \n",
      "234                  Active  Production          40483.0  28.0   \n",
      "239                  Active                NaN   31173.4  28.0   \n",
      "281                  Active              Sales       NaN  28.0   \n",
      "\n",
      "                          Race  \n",
      "12                       White  \n",
      "67                       White  \n",
      "76                       White  \n",
      "102                      White  \n",
      "224  Black or African American  \n",
      "234                      Asian  \n",
      "239                      White  \n",
      "281                      White  ), (29.0,                      Position State  Sex MaritalDesc CitizenDesc  \\\n",
      "39                        NaN    MA    F      Single  US Citizen   \n",
      "44                        NaN    MA    F     Married  US Citizen   \n",
      "163   Production Technician I   NaN   M          NaN  US Citizen   \n",
      "214   Production Technician I    MA   M      Married  US Citizen   \n",
      "264  Production Technician II    MA  NaN   Separated  US Citizen   \n",
      "\n",
      "           EmploymentStatus         Department  Salaries   age  \\\n",
      "39                   Active              IT/IS  90016.01  29.0   \n",
      "44                      NaN              IT/IS  57777.02  29.0   \n",
      "163                     NaN  Production         47390.29  29.0   \n",
      "214  Voluntarily Terminated  Production           827.04  29.0   \n",
      "264        Leave of Absence  Production         14497.00  29.0   \n",
      "\n",
      "                                 Race  \n",
      "39          Black or African American  \n",
      "44                              Asian  \n",
      "163                             White  \n",
      "214         Black or African American  \n",
      "264  American Indian or Alaska Native  ), (30.0,                      Position State  Sex MaritalDesc CitizenDesc  \\\n",
      "27         Area Sales Manager    TX   M          NaN  US Citizen   \n",
      "70           Network Engineer   NaN    F     Married  US Citizen   \n",
      "183   Production Technician I   NaN    F     Married  US Citizen   \n",
      "192   Production Technician I    MA   M     Divorced  US Citizen   \n",
      "270  Production Technician II    MA  NaN   Separated         NaN   \n",
      "278                       NaN    MA    F     Married  US Citizen   \n",
      "\n",
      "           EmploymentStatus         Department  Salaries   age  \\\n",
      "27             Future Start              Sales  77246.36  30.0   \n",
      "70                      NaN              IT/IS  27588.40  30.0   \n",
      "183        Leave of Absence  Production         35688.01  30.0   \n",
      "192  Voluntarily Terminated  Production         10335.00  30.0   \n",
      "270                  Active  Production         23456.67  30.0   \n",
      "278                     NaN  Production          9881.00  30.0   \n",
      "\n",
      "                  Race  \n",
      "27   Two or more races  \n",
      "70               White  \n",
      "183              Asian  \n",
      "192              White  \n",
      "270              White  \n",
      "278              White  ), (31.0,                      Position State  Sex MaritalDesc CitizenDesc  \\\n",
      "10         Area Sales Manager    NY   M       Single  US Citizen   \n",
      "24         Area Sales Manager    NV  NaN     Married  US Citizen   \n",
      "122   Production Technician I    MA   M       Single         NaN   \n",
      "220   Production Technician I    MA    F     Married  US Citizen   \n",
      "269  Production Technician II   NaN    F      Single  US Citizen   \n",
      "308      Sr. Network Engineer    CT   M          NaN  US Citizen   \n",
      "\n",
      "    EmploymentStatus         Department  Salaries   age               Race  \n",
      "10               NaN              Sales  58804.00  31.0  Two or more races  \n",
      "24               NaN              Sales  37221.67  31.0              White  \n",
      "122           Active  Production         90428.03  31.0              White  \n",
      "220           Active  Production         46067.86  31.0              Asian  \n",
      "269           Active  Production         65024.00  31.0              White  \n",
      "308           Active              IT/IS  12126.53  31.0              White  ), (32.0,                     Position State Sex MaritalDesc CitizenDesc  \\\n",
      "99   Production Technician I    MA  M      Married  US Citizen   \n",
      "108  Production Technician I    MA  M     Divorced  US Citizen   \n",
      "149  Production Technician I    MA  M       Single  US Citizen   \n",
      "300           Sr. Accountant   NaN   F     Married  US Citizen   \n",
      "301                      NaN    MA  M      Married  US Citizen   \n",
      "\n",
      "           EmploymentStatus         Department  Salaries   age  \\\n",
      "99   Voluntarily Terminated  Production         37915.00  32.0   \n",
      "108                  Active  Production          7673.50  32.0   \n",
      "149                  Active  Production         60403.96  32.0   \n",
      "300                  Active      Admin Offices  26237.96  32.0   \n",
      "301  Voluntarily Terminated                NaN  32700.05  32.0   \n",
      "\n",
      "                                 Race  \n",
      "99          Black or African American  \n",
      "108  American Indian or Alaska Native  \n",
      "149         Black or African American  \n",
      "300                             Asian  \n",
      "301                             White  ), (33.0,                      Position State  Sex MaritalDesc          CitizenDesc  \\\n",
      "4                         NaN    MA    F      Single           US Citizen   \n",
      "28         Area Sales Manager    GA    F      Single           US Citizen   \n",
      "64                 IT Support    MA   M     Divorced           US Citizen   \n",
      "89                        NaN    MA   M       Single           US Citizen   \n",
      "96                        NaN    MA   M      Widowed           US Citizen   \n",
      "162   Production Technician I    MA    F     Married           US Citizen   \n",
      "175                       NaN    MA    F         NaN           US Citizen   \n",
      "205   Production Technician I    MA   M     Divorced           US Citizen   \n",
      "213   Production Technician I    MA    F     Married           US Citizen   \n",
      "240  Production Technician II   NaN    F    Divorced  Eligible NonCitizen   \n",
      "247  Production Technician II   NaN   M       Single           US Citizen   \n",
      "297         Software Engineer    MA  NaN      Single                  NaN   \n",
      "\n",
      "           EmploymentStatus            Department  Salaries   age  \\\n",
      "4                    Active         Admin Offices       NaN  33.0   \n",
      "28                   Active                 Sales  30137.04  33.0   \n",
      "64                   Active                 IT/IS  39232.00  33.0   \n",
      "89                   Active     Production         61283.01  33.0   \n",
      "96   Voluntarily Terminated     Production          5033.44  33.0   \n",
      "162    Terminated for Cause     Production          7503.33  33.0   \n",
      "175                  Active     Production         42743.00  33.0   \n",
      "205  Voluntarily Terminated     Production              NaN  33.0   \n",
      "213  Voluntarily Terminated     Production         20450.00  33.0   \n",
      "240  Voluntarily Terminated     Production         24702.30  33.0   \n",
      "247                  Active     Production         22756.40  33.0   \n",
      "297  Voluntarily Terminated  Software Engineering  11829.80  33.0   \n",
      "\n",
      "                          Race  \n",
      "4                        White  \n",
      "28           Two or more races  \n",
      "64                       White  \n",
      "89                       White  \n",
      "96                       White  \n",
      "162                      White  \n",
      "175                      White  \n",
      "205                      White  \n",
      "213                        NaN  \n",
      "240                      White  \n",
      "247                      White  \n",
      "297  Black or African American  ), (34.0,                      Position State  Sex MaritalDesc CitizenDesc  \\\n",
      "16         Area Sales Manager    NC   M       Single  US Citizen   \n",
      "22         Area Sales Manager    CT   M       Single  US Citizen   \n",
      "75         Production Manager    MA   M       Single         NaN   \n",
      "159   Production Technician I   NaN  NaN         NaN  US Citizen   \n",
      "209   Production Technician I    MA    F    Divorced  US Citizen   \n",
      "223                       NaN   NaN   M       Single  US Citizen   \n",
      "230  Production Technician II    MA    F     Married  US Citizen   \n",
      "231  Production Technician II   NaN  NaN     Married  US Citizen   \n",
      "306      Sr. Network Engineer    MA   M      Married  US Citizen   \n",
      "\n",
      "           EmploymentStatus         Department  Salaries   age  \\\n",
      "16                   Active              Sales  61795.00  34.0   \n",
      "22                   Active              Sales  55990.40  34.0   \n",
      "75   Voluntarily Terminated  Production         43967.48  34.0   \n",
      "159                  Active  Production         66142.00  34.0   \n",
      "209  Voluntarily Terminated  Production              NaN  34.0   \n",
      "223  Voluntarily Terminated  Production         35950.04  34.0   \n",
      "230                     NaN  Production          1733.60  34.0   \n",
      "231  Voluntarily Terminated  Production              NaN  34.0   \n",
      "306        Leave of Absence              IT/IS  27603.00  34.0   \n",
      "\n",
      "                          Race  \n",
      "16                       White  \n",
      "22   Black or African American  \n",
      "75                       Asian  \n",
      "159                      White  \n",
      "209                      White  \n",
      "223                      White  \n",
      "230                      White  \n",
      "231  Black or African American  \n",
      "306                      White  ), (35.0,                      Position State  Sex MaritalDesc CitizenDesc  \\\n",
      "8          Area Sales Manager    WA  NaN      Single  US Citizen   \n",
      "81         Production Manager    MA    F     Married  US Citizen   \n",
      "90                        NaN    MA    F      Single  US Citizen   \n",
      "125                       NaN    MA   M      Married  US Citizen   \n",
      "131   Production Technician I   NaN    F      Single  US Citizen   \n",
      "142   Production Technician I    MA    F    Divorced  US Citizen   \n",
      "152   Production Technician I    MA   M      Married  US Citizen   \n",
      "207   Production Technician I    MA  NaN     Married  US Citizen   \n",
      "265  Production Technician II    MA   M      Married         NaN   \n",
      "272  Production Technician II    MA    F     Widowed         NaN   \n",
      "285       Senior BI Developer   NaN   M       Single         NaN   \n",
      "\n",
      "           EmploymentStatus         Department  Salaries   age   Race  \n",
      "8                    Active              Sales       NaN  35.0  White  \n",
      "81                      NaN  Production         28520.00  35.0  White  \n",
      "90   Voluntarily Terminated  Production         63072.81  35.0  White  \n",
      "125                  Active  Production              NaN  35.0  White  \n",
      "131                  Active  Production         36442.05  35.0  White  \n",
      "142                  Active  Production              NaN  35.0    NaN  \n",
      "152                  Active  Production         31328.06  35.0    NaN  \n",
      "207                  Active  Production              NaN  35.0  White  \n",
      "265  Voluntarily Terminated  Production              NaN  35.0  White  \n",
      "272  Voluntarily Terminated  Production         31289.00  35.0  White  \n",
      "285                  Active              IT/IS  86859.00  35.0  Asian  ), (36.0,                     Position State Sex MaritalDesc CitizenDesc  \\\n",
      "94   Production Technician I    MA   F     Married  US Citizen   \n",
      "157  Production Technician I    MA   F      Single  US Citizen   \n",
      "221                      NaN    MA   F      Single  US Citizen   \n",
      "287  Shared Services Manager    MA  M      Married  US Citizen   \n",
      "\n",
      "           EmploymentStatus         Department  Salaries   age  \\\n",
      "94                   Active  Production              NaN  36.0   \n",
      "157  Voluntarily Terminated  Production         65024.01  36.0   \n",
      "221        Leave of Absence  Production         38976.21  36.0   \n",
      "287                  Active      Admin Offices  33465.20  36.0   \n",
      "\n",
      "                          Race  \n",
      "94                       White  \n",
      "157  Black or African American  \n",
      "221                      Asian  \n",
      "287                      White  ), (37.0,                      Position State Sex MaritalDesc CitizenDesc  \\\n",
      "23         Area Sales Manager    IN   F         NaN         NaN   \n",
      "50              Data Analyst    NaN  M     Divorced  US Citizen   \n",
      "60                 IT Support    MA  M       Single  US Citizen   \n",
      "105   Production Technician I    MA  M      Married  US Citizen   \n",
      "127   Production Technician I    MA   F         NaN         NaN   \n",
      "173   Production Technician I    MA   F     Married  US Citizen   \n",
      "208   Production Technician I    MA   F      Single  US Citizen   \n",
      "245  Production Technician II    MA   F      Single  US Citizen   \n",
      "286       Senior BI Developer    MA  M       Single  US Citizen   \n",
      "\n",
      "           EmploymentStatus         Department  Salaries   age  \\\n",
      "23                   Active              Sales  96708.02  37.0   \n",
      "50   Voluntarily Terminated              IT/IS  42304.75  37.0   \n",
      "60                   Active              IT/IS  37154.15  37.0   \n",
      "105            Future Start  Production         22971.71  37.0   \n",
      "127                  Active  Production         47548.04  37.0   \n",
      "173                  Active  Production         39356.60  37.0   \n",
      "208            Future Start  Production         22094.51  37.0   \n",
      "245                  Active  Production         45792.03  37.0   \n",
      "286                  Active              IT/IS  65250.40  37.0   \n",
      "\n",
      "                          Race  \n",
      "23                       White  \n",
      "50   Black or African American  \n",
      "60                       White  \n",
      "105                      White  \n",
      "127                      White  \n",
      "173                      White  \n",
      "208                      White  \n",
      "245  Black or African American  \n",
      "286                      Asian  ), (38.0,                      Position State Sex MaritalDesc          CitizenDesc  \\\n",
      "29         Area Sales Manager    FL   F      Single           US Citizen   \n",
      "72                        NaN    MA  M      Married  Eligible NonCitizen   \n",
      "133   Production Technician I    MA   F     Married           US Citizen   \n",
      "229  Production Technician II   NaN   F      Single           US Citizen   \n",
      "267  Production Technician II    MA  M      Married           US Citizen   \n",
      "291         Software Engineer    MA   F      Single           US Citizen   \n",
      "305      Sr. Network Engineer    CT   F     Married           US Citizen   \n",
      "\n",
      "           EmploymentStatus            Department  Salaries   age  \\\n",
      "29                   Active                 Sales  53196.72  38.0   \n",
      "72                   Active                 IT/IS  37828.01  38.0   \n",
      "133                  Active     Production         62216.97  38.0   \n",
      "229  Voluntarily Terminated     Production         11715.00  38.0   \n",
      "267  Voluntarily Terminated                   NaN  19191.29  38.0   \n",
      "291                  Active  Software Engineering  44492.30  38.0   \n",
      "305        Leave of Absence                 IT/IS       NaN  38.0   \n",
      "\n",
      "                          Race  \n",
      "29                       White  \n",
      "72                         NaN  \n",
      "133                      White  \n",
      "229                      White  \n",
      "267                      White  \n",
      "291  Black or African American  \n",
      "305                      White  ), (39.0,                      Position State Sex MaritalDesc CitizenDesc  \\\n",
      "65                        NaN    MA  M          NaN  US Citizen   \n",
      "66                        NaN    MA   F     Married  US Citizen   \n",
      "80                        NaN    MA  M      Married  US Citizen   \n",
      "123   Production Technician I    MA  M      Married         NaN   \n",
      "130   Production Technician I    MA   F    Divorced  US Citizen   \n",
      "139   Production Technician I    MA  M      Married  US Citizen   \n",
      "179                       NaN    MA   F   Separated  US Citizen   \n",
      "195                       NaN    MA   F      Single  US Citizen   \n",
      "217   Production Technician I    MA   F         NaN  US Citizen   \n",
      "252  Production Technician II    MA   F      Single  US Citizen   \n",
      "273  Production Technician II   NaN  M    Separated  US Citizen   \n",
      "274  Production Technician II    MA   F      Single  US Citizen   \n",
      "275  Production Technician II    MA  M       Single         NaN   \n",
      "\n",
      "           EmploymentStatus         Department  Salaries   age  \\\n",
      "65                   Active              IT/IS  52221.50  39.0   \n",
      "66                   Active              IT/IS  61834.00  39.0   \n",
      "80   Voluntarily Terminated  Production         30490.00  39.0   \n",
      "123                  Active  Production         33179.50  39.0   \n",
      "130  Voluntarily Terminated  Production         33188.21  39.0   \n",
      "139                  Active  Production         48502.00  39.0   \n",
      "179        Leave of Absence                NaN   2602.61  39.0   \n",
      "195                  Active  Production          8676.50  39.0   \n",
      "217  Voluntarily Terminated  Production         26994.14  39.0   \n",
      "252  Voluntarily Terminated  Production         47010.03  39.0   \n",
      "273                  Active  Production         59495.00  39.0   \n",
      "274  Voluntarily Terminated  Production          6219.90  39.0   \n",
      "275                  Active  Production         48489.13  39.0   \n",
      "\n",
      "                          Race  \n",
      "65                       White  \n",
      "66                       White  \n",
      "80                       Asian  \n",
      "123                      White  \n",
      "130                      White  \n",
      "139                      Asian  \n",
      "179  Black or African American  \n",
      "195                      White  \n",
      "217          Two or more races  \n",
      "252                      White  \n",
      "273  Black or African American  \n",
      "274                        NaN  \n",
      "275                      White  ), (40.0,                      Position State Sex MaritalDesc CitizenDesc  \\\n",
      "5    Administrative Assistant    MA   F     Married  US Citizen   \n",
      "56            IT Manager - DB    MA  M       Single  US Citizen   \n",
      "82         Production Manager   NaN  M       Single  US Citizen   \n",
      "120   Production Technician I    MA  M       Single  US Citizen   \n",
      "182   Production Technician I    MA  M       Single  US Citizen   \n",
      "251  Production Technician II    MA  M       Single  US Citizen   \n",
      "257  Production Technician II    MA   F     Married  US Citizen   \n",
      "\n",
      "           EmploymentStatus         Department  Salaries   age      Race  \n",
      "5    Voluntarily Terminated      Admin Offices  32406.02  40.0     Asian  \n",
      "56                   Active                NaN  44772.47  40.0     White  \n",
      "82                   Active  Production         45592.56  40.0  Hispanic  \n",
      "120                     NaN  Production         30740.00  40.0     White  \n",
      "182                  Active                NaN  11731.95  40.0     Asian  \n",
      "251                  Active  Production         65024.00  40.0     White  \n",
      "257  Voluntarily Terminated  Production         50531.61  40.0     White  ), (41.0,                      Position State  Sex MaritalDesc          CitizenDesc  \\\n",
      "52               Data Analyst    MA    F      Single                  NaN   \n",
      "100                       NaN    MA    F     Married           US Citizen   \n",
      "147   Production Technician I    MA    F      Single           US Citizen   \n",
      "153   Production Technician I    MA    F      Single           US Citizen   \n",
      "165   Production Technician I    MA  NaN      Single          Non-Citizen   \n",
      "177   Production Technician I    MA    F      Single           US Citizen   \n",
      "188   Production Technician I    MA    F    Divorced  Eligible NonCitizen   \n",
      "199   Production Technician I    MA    F     Married           US Citizen   \n",
      "226  Production Technician II    MA    F    Divorced           US Citizen   \n",
      "227  Production Technician II    MA    F         NaN           US Citizen   \n",
      "250  Production Technician II    MA    F   Separated           US Citizen   \n",
      "253  Production Technician II    MA   M      Married                  NaN   \n",
      "259  Production Technician II    MA    F      Single           US Citizen   \n",
      "279  Production Technician II    MA  NaN     Married           US Citizen   \n",
      "\n",
      "           EmploymentStatus         Department  Salaries   age  \\\n",
      "52                   Active              IT/IS  75337.01  41.0   \n",
      "100                  Active  Production           703.52  41.0   \n",
      "147  Voluntarily Terminated                NaN  85549.60  41.0   \n",
      "153                  Active  Production         29760.20  41.0   \n",
      "165                  Active  Production          3014.01  41.0   \n",
      "177  Voluntarily Terminated  Production         12056.00  41.0   \n",
      "188  Voluntarily Terminated  Production              NaN  41.0   \n",
      "199                     NaN  Production              NaN  41.0   \n",
      "226  Voluntarily Terminated  Production         66462.04  41.0   \n",
      "227  Voluntarily Terminated  Production              NaN  41.0   \n",
      "250                     NaN  Production         38047.00  41.0   \n",
      "253        Leave of Absence                NaN  51727.02  41.0   \n",
      "259                  Active  Production         13428.60  41.0   \n",
      "279  Voluntarily Terminated  Production         21211.09  41.0   \n",
      "\n",
      "                          Race  \n",
      "52                       White  \n",
      "100                      White  \n",
      "147                      White  \n",
      "153  Black or African American  \n",
      "165  Black or African American  \n",
      "177          Two or more races  \n",
      "188                      Asian  \n",
      "199                      White  \n",
      "226                      White  \n",
      "227          Two or more races  \n",
      "250  Black or African American  \n",
      "253                      White  \n",
      "259                        NaN  \n",
      "279                      Asian  ), (42.0,                      Position State  Sex MaritalDesc  CitizenDesc  \\\n",
      "51               Data Analyst    MA   M      Married   US Citizen   \n",
      "73                        NaN    MA  NaN     Married   US Citizen   \n",
      "129   Production Technician I    MA    F   Separated   US Citizen   \n",
      "219   Production Technician I    MA  NaN      Single   US Citizen   \n",
      "232  Production Technician II   NaN    F      Single   US Citizen   \n",
      "271  Production Technician II   NaN    F     Married  Non-Citizen   \n",
      "\n",
      "           EmploymentStatus         Department  Salaries   age  \\\n",
      "51                   Active              IT/IS    418.18  42.0   \n",
      "73                   Active   Executive Office  52633.50  42.0   \n",
      "129                  Active  Production         45727.00  42.0   \n",
      "219  Voluntarily Terminated  Production         42620.02  42.0   \n",
      "232                     NaN  Production         28189.59  42.0   \n",
      "271  Voluntarily Terminated  Production         32367.89  42.0   \n",
      "\n",
      "                          Race  \n",
      "51                         NaN  \n",
      "73                       White  \n",
      "129                      White  \n",
      "219  Black or African American  \n",
      "232                        NaN  \n",
      "271                      White  ), (43.0,                      Position State Sex MaritalDesc CitizenDesc  \\\n",
      "2                Accountant I    MA  M       Single         NaN   \n",
      "106   Production Technician I    MA   F         NaN  US Citizen   \n",
      "156   Production Technician I    MA  M       Single  US Citizen   \n",
      "160   Production Technician I    MA   F      Single  US Citizen   \n",
      "191   Production Technician I    MA   F    Divorced  US Citizen   \n",
      "211   Production Technician I    MA  M       Single  US Citizen   \n",
      "254  Production Technician II    MA  M          NaN  US Citizen   \n",
      "\n",
      "         EmploymentStatus         Department  Salaries   age  \\\n",
      "2                  Active      Admin Offices    674.28  43.0   \n",
      "106                Active  Production         42743.00  43.0   \n",
      "156  Terminated for Cause  Production          5620.69  43.0   \n",
      "160          Future Start                NaN  39997.06  43.0   \n",
      "191                Active  Production         36152.57  43.0   \n",
      "211                Active  Production         39835.40  43.0   \n",
      "254      Leave of Absence  Production          4454.00  43.0   \n",
      "\n",
      "                          Race  \n",
      "2                        White  \n",
      "106  Black or African American  \n",
      "156                      White  \n",
      "160  Black or African American  \n",
      "191          Two or more races  \n",
      "211                      White  \n",
      "254                   Hispanic  ), (44.0,                      Position State  Sex MaritalDesc          CitizenDesc  \\\n",
      "3    Administrative Assistant    MA    F         NaN           US Citizen   \n",
      "34               BI Developer    MA   M       Single           US Citizen   \n",
      "95    Production Technician I    MA    F         NaN           US Citizen   \n",
      "134   Production Technician I    MA    F      Single  Eligible NonCitizen   \n",
      "143   Production Technician I    MA  NaN     Married           US Citizen   \n",
      "184   Production Technician I    MA    F    Divorced           US Citizen   \n",
      "198   Production Technician I    MA    F     Married           US Citizen   \n",
      "206   Production Technician I    MA   M       Single           US Citizen   \n",
      "210   Production Technician I    MA   M       Single           US Citizen   \n",
      "212   Production Technician I   NaN   M      Married           US Citizen   \n",
      "294                       NaN    MA  NaN      Single           US Citizen   \n",
      "296         Software Engineer    MA   M       Single           US Citizen   \n",
      "299            Sr. Accountant    MA    F     Married           US Citizen   \n",
      "\n",
      "           EmploymentStatus            Department  Salaries   age   Race  \n",
      "3      Terminated for Cause         Admin Offices  47822.00  44.0    NaN  \n",
      "34                   Active                 IT/IS  33231.01  44.0  White  \n",
      "95   Voluntarily Terminated     Production         37619.00  44.0  White  \n",
      "134                  Active     Production         53654.41  44.0  White  \n",
      "143  Voluntarily Terminated     Production         25919.20  44.0  White  \n",
      "184                  Active     Production         36917.00  44.0    NaN  \n",
      "198                  Active     Production         19847.40  44.0    NaN  \n",
      "206  Voluntarily Terminated     Production         47199.63  44.0  White  \n",
      "210        Leave of Absence     Production         52846.35  44.0    NaN  \n",
      "212  Voluntarily Terminated     Production              NaN  44.0  White  \n",
      "294  Voluntarily Terminated  Software Engineering  33765.00  44.0  Asian  \n",
      "296                  Active  Software Engineering    344.50  44.0  White  \n",
      "299                  Active         Admin Offices  28461.55  44.0  White  ), (45.0,                      Position State  Sex MaritalDesc          CitizenDesc  \\\n",
      "26         Area Sales Manager    TX   M       Single  Eligible NonCitizen   \n",
      "117   Production Technician I    MA  NaN      Single           US Citizen   \n",
      "236  Production Technician II    MA   M          NaN           US Citizen   \n",
      "244  Production Technician II   NaN    F      Single           US Citizen   \n",
      "290         Software Engineer    MA    F      Single           US Citizen   \n",
      "\n",
      "           EmploymentStatus            Department  Salaries   age  \\\n",
      "26                   Active                 Sales  30817.00  45.0   \n",
      "117                     NaN     Production         68557.05  45.0   \n",
      "236  Voluntarily Terminated     Production              NaN  45.0   \n",
      "244            Future Start     Production         34100.44  45.0   \n",
      "290                  Active  Software Engineering  65673.73  45.0   \n",
      "\n",
      "                          Race  \n",
      "26   Black or African American  \n",
      "117                      Asian  \n",
      "236                      White  \n",
      "244                      White  \n",
      "290                      White  ), (46.0,                      Position State Sex MaritalDesc CitizenDesc  \\\n",
      "38                        CIO    MA   F      Single         NaN   \n",
      "41     Database Administrator    MA   F      Single  US Citizen   \n",
      "47               Data Analyst    MA   F     Married  US Citizen   \n",
      "74         Production Manager    MA  M     Divorced  US Citizen   \n",
      "85         Production Manager    MA  M     Divorced  US Citizen   \n",
      "86         Production Manager   NaN   F     Married  US Citizen   \n",
      "169   Production Technician I    MA  M       Single  US Citizen   \n",
      "186   Production Technician I    MA   F     Married         NaN   \n",
      "243  Production Technician II    MA   F     Married  US Citizen   \n",
      "309      Sr. Network Engineer    MA   F     Widowed  US Citizen   \n",
      "\n",
      "         EmploymentStatus         Department  Salaries   age  \\\n",
      "38                 Active              IT/IS       NaN  46.0   \n",
      "41   Terminated for Cause              IT/IS       NaN  46.0   \n",
      "47                 Active              IT/IS  58672.00  46.0   \n",
      "74                 Active  Production         96299.04  46.0   \n",
      "85                 Active  Production         33889.00  46.0   \n",
      "86                 Active  Production         25515.00  46.0   \n",
      "169                Active  Production              NaN  46.0   \n",
      "186                Active  Production              NaN  46.0   \n",
      "243                   NaN  Production         54273.00  46.0   \n",
      "309                Active              IT/IS  37257.00  46.0   \n",
      "\n",
      "                          Race  \n",
      "38                       White  \n",
      "41                       White  \n",
      "47                       Asian  \n",
      "74                       White  \n",
      "85                       White  \n",
      "86   Black or African American  \n",
      "169                      White  \n",
      "186  Black or African American  \n",
      "243  Black or African American  \n",
      "309                      Asian  ), (47.0,          Position State Sex MaritalDesc CitizenDesc        EmploymentStatus  \\\n",
      "33   BI Developer    MA   F     Married  US Citizen                  Active   \n",
      "185           NaN    MA   F      Single  US Citizen  Voluntarily Terminated   \n",
      "249           NaN    MA   F     Married  US Citizen                     NaN   \n",
      "\n",
      "            Department  Salaries   age                       Race  \n",
      "33               IT/IS       NaN  47.0  Black or African American  \n",
      "185  Production         47860.41  47.0                      Asian  \n",
      "249  Production         32624.10  47.0                      White  ), (48.0,                      Position State  Sex MaritalDesc CitizenDesc  \\\n",
      "13         Area Sales Manager    TN   M       Single  US Citizen   \n",
      "31         Area Sales Manager    ND   M          NaN  US Citizen   \n",
      "92    Production Technician I    MA   M          NaN         NaN   \n",
      "110   Production Technician I    MA   M      Married  US Citizen   \n",
      "154   Production Technician I    MA    F    Divorced  US Citizen   \n",
      "187   Production Technician I    MA  NaN      Single  US Citizen   \n",
      "228  Production Technician II    MA    F     Married  US Citizen   \n",
      "237  Production Technician II    MA  NaN     Married  US Citizen   \n",
      "\n",
      "           EmploymentStatus         Department  Salaries   age  \\\n",
      "13   Voluntarily Terminated              Sales  31404.10  48.0   \n",
      "31                   Active              Sales  60434.67  48.0   \n",
      "92                   Active  Production         61771.63  48.0   \n",
      "110                  Active  Production         36028.03  48.0   \n",
      "154  Voluntarily Terminated  Production          3326.85  48.0   \n",
      "187                     NaN  Production         27603.00  48.0   \n",
      "228  Voluntarily Terminated                NaN  34169.22  48.0   \n",
      "237        Leave of Absence  Production         26970.86  48.0   \n",
      "\n",
      "                  Race  \n",
      "13   Two or more races  \n",
      "31               White  \n",
      "92                 NaN  \n",
      "110              Asian  \n",
      "154              White  \n",
      "187                NaN  \n",
      "228              Asian  \n",
      "237              White  ), (49.0,                      Position State  Sex MaritalDesc CitizenDesc  \\\n",
      "32                        NaN   NaN    F      Single  US Citizen   \n",
      "62                 IT Support    CT    F      Single         NaN   \n",
      "87         Production Manager    MA    F     Married  US Citizen   \n",
      "93    Production Technician I    MA    F      Single  US Citizen   \n",
      "98    Production Technician I    MA    F         NaN  US Citizen   \n",
      "103   Production Technician I   NaN    F      Single  US Citizen   \n",
      "126   Production Technician I   NaN    F     Married  US Citizen   \n",
      "145   Production Technician I    MA  NaN     Married  US Citizen   \n",
      "202   Production Technician I    MA  NaN     Married  US Citizen   \n",
      "246  Production Technician II    MA    F      Single  US Citizen   \n",
      "256  Production Technician II    MA   M      Married         NaN   \n",
      "283             Sales Manager    MA   M     Divorced  US Citizen   \n",
      "\n",
      "           EmploymentStatus         Department  Salaries   age  \\\n",
      "32                   Active              Sales  36485.25  49.0   \n",
      "62                   Active              IT/IS       NaN  49.0   \n",
      "87   Voluntarily Terminated  Production         35867.79  49.0   \n",
      "93                   Active  Production         21587.54  49.0   \n",
      "98   Voluntarily Terminated  Production            75.00  49.0   \n",
      "103        Leave of Absence  Production         39506.05  49.0   \n",
      "126                  Active  Production         32609.42  49.0   \n",
      "145                  Active  Production         42282.00  49.0   \n",
      "202  Voluntarily Terminated  Production         35448.62  49.0   \n",
      "246                  Active                NaN  31190.00  49.0   \n",
      "256                  Active  Production         56906.01  49.0   \n",
      "283                  Active              Sales  39331.00  49.0   \n",
      "\n",
      "                          Race  \n",
      "32   Black or African American  \n",
      "62           Two or more races  \n",
      "87   Black or African American  \n",
      "93           Two or more races  \n",
      "98                       White  \n",
      "103          Two or more races  \n",
      "126                      White  \n",
      "145  Black or African American  \n",
      "202                      White  \n",
      "246                        NaN  \n",
      "256                      White  \n",
      "283  Black or African American  ), (50.0,                      Position State Sex MaritalDesc CitizenDesc  \\\n",
      "1                Accountant I    MA  M     Divorced  US Citizen   \n",
      "15         Area Sales Manager    AL  M          NaN  US Citizen   \n",
      "21         Area Sales Manager    CA   F      Single  US Citizen   \n",
      "36               BI Developer    MA  M      Married  US Citizen   \n",
      "55                IT Director    MA  M       Single  US Citizen   \n",
      "57            IT Manager - DB    MA  M     Divorced  US Citizen   \n",
      "114   Production Technician I    MA  M      Widowed  US Citizen   \n",
      "167   Production Technician I    MA   F      Single  US Citizen   \n",
      "181   Production Technician I    MA   F     Married  US Citizen   \n",
      "193                       NaN   NaN  M       Single  US Citizen   \n",
      "215   Production Technician I    MA   F      Single  US Citizen   \n",
      "258  Production Technician II    MA   F    Divorced  US Citizen   \n",
      "\n",
      "           EmploymentStatus         Department  Salaries   age  \\\n",
      "1                    Active      Admin Offices    674.28  50.0   \n",
      "15                   Active              Sales  13645.80  50.0   \n",
      "21                   Active              Sales       NaN  50.0   \n",
      "36                   Active              IT/IS  31032.00  50.0   \n",
      "55                   Active              IT/IS  36741.00  50.0   \n",
      "57   Voluntarily Terminated              IT/IS  54810.01  50.0   \n",
      "114                  Active  Production              NaN  50.0   \n",
      "167                     NaN  Production         24725.02  50.0   \n",
      "181  Voluntarily Terminated  Production         41305.00  50.0   \n",
      "193                  Active  Production         31958.00  50.0   \n",
      "215  Voluntarily Terminated  Production         41700.01  50.0   \n",
      "258                  Active  Production          1204.13  50.0   \n",
      "\n",
      "                                 Race  \n",
      "1           Black or African American  \n",
      "15                                NaN  \n",
      "21                              White  \n",
      "36          Black or African American  \n",
      "55          Black or African American  \n",
      "57                  Two or more races  \n",
      "114                             White  \n",
      "167                             White  \n",
      "181                             White  \n",
      "193                             White  \n",
      "215                             White  \n",
      "258  American Indian or Alaska Native  ), (51.0,                     Position State  Sex MaritalDesc          CitizenDesc  \\\n",
      "53    Director of Operations    MA    F      Single           US Citizen   \n",
      "104  Production Technician I    MA  NaN     Married           US Citizen   \n",
      "111  Production Technician I    MA  NaN     Married           US Citizen   \n",
      "124                      NaN    MA    F      Single           US Citizen   \n",
      "170  Production Technician I    MA   M       Single           US Citizen   \n",
      "178  Production Technician I    MA  NaN     Married           US Citizen   \n",
      "288  Shared Services Manager    MA   M      Married  Eligible NonCitizen   \n",
      "295        Software Engineer    MA    F     Married           US Citizen   \n",
      "\n",
      "           EmploymentStatus            Department  Salaries   age  \\\n",
      "53                   Active                   NaN  21422.76  51.0   \n",
      "104                     NaN     Production         51837.00  51.0   \n",
      "111                  Active     Production         43913.01  51.0   \n",
      "124                  Active     Production          2744.66  51.0   \n",
      "170                  Active     Production         28937.60  51.0   \n",
      "178  Voluntarily Terminated     Production         16856.40  51.0   \n",
      "288  Voluntarily Terminated         Admin Offices  57060.75  51.0   \n",
      "295                  Active  Software Engineering  27588.40  51.0   \n",
      "\n",
      "                          Race  \n",
      "53   Black or African American  \n",
      "104                      White  \n",
      "111                      White  \n",
      "124                      White  \n",
      "170  Black or African American  \n",
      "178                      Asian  \n",
      "288  Black or African American  \n",
      "295                      White  ), (52.0,                      Position State  Sex MaritalDesc CitizenDesc  \\\n",
      "14         Area Sales Manager    UT  NaN   Separated  US Citizen   \n",
      "63                 IT Support    MA    F     Married  US Citizen   \n",
      "84         Production Manager    MA    F     Married  US Citizen   \n",
      "107                       NaN    MA    F     Married  US Citizen   \n",
      "128   Production Technician I    MA   M       Single  US Citizen   \n",
      "242  Production Technician II    MA    F      Single  US Citizen   \n",
      "303                       NaN    CT   M       Single  US Citizen   \n",
      "\n",
      "         EmploymentStatus         Department  Salaries   age  \\\n",
      "14                 Active              Sales  43796.00  52.0   \n",
      "63                 Active              IT/IS       NaN  52.0   \n",
      "84                    NaN  Production         75525.00  52.0   \n",
      "107                Active  Production         43435.64  52.0   \n",
      "128                Active  Production          1244.59  52.0   \n",
      "242                   NaN  Production         56167.08  52.0   \n",
      "303  Terminated for Cause              IT/IS   5802.00  52.0   \n",
      "\n",
      "                          Race  \n",
      "14   Black or African American  \n",
      "63   Black or African American  \n",
      "84                       White  \n",
      "107                      White  \n",
      "128                        NaN  \n",
      "242                      White  \n",
      "303  Black or African American  ), (53.0,                      Position State Sex MaritalDesc CitizenDesc  \\\n",
      "25         Area Sales Manager    CO  M       Single  US Citizen   \n",
      "158   Production Technician I    MA  M      Married  US Citizen   \n",
      "168   Production Technician I    MA   F      Single  US Citizen   \n",
      "200                       NaN    MA  M      Married  US Citizen   \n",
      "235                       NaN    MA  M       Single  US Citizen   \n",
      "261  Production Technician II    MA  M       Single  US Citizen   \n",
      "268  Production Technician II    MA  M       Single  US Citizen   \n",
      "280  Production Technician II    MA  M      Widowed  US Citizen   \n",
      "289         Software Engineer    MA   F      Single  US Citizen   \n",
      "\n",
      "           EmploymentStatus            Department  Salaries   age  \\\n",
      "25                   Active                 Sales  23776.82  53.0   \n",
      "158                  Active     Production         53947.38  53.0   \n",
      "168                  Active     Production         34124.21  53.0   \n",
      "200  Voluntarily Terminated     Production         21110.60  53.0   \n",
      "235  Voluntarily Terminated     Production         38956.10  53.0   \n",
      "261                  Active     Production         10292.00  53.0   \n",
      "268                  Active     Production         62645.47  53.0   \n",
      "280  Voluntarily Terminated     Production          7861.65  53.0   \n",
      "289                  Active  Software Engineering  70429.85  53.0   \n",
      "\n",
      "                          Race  \n",
      "25                       White  \n",
      "158                      White  \n",
      "168                      White  \n",
      "200                        NaN  \n",
      "235                      White  \n",
      "261  Black or African American  \n",
      "268                      White  \n",
      "280                      White  \n",
      "289                      White  ), (54.0,                      Position State Sex MaritalDesc CitizenDesc  \\\n",
      "68           Network Engineer    MA  M       Single  US Citizen   \n",
      "97    Production Technician I    MA  M      Married  US Citizen   \n",
      "132   Production Technician I   NaN   F     Widowed         NaN   \n",
      "151   Production Technician I    MA  M       Single  US Citizen   \n",
      "201   Production Technician I    MA  M       Single  US Citizen   \n",
      "233  Production Technician II    MA  M       Single  US Citizen   \n",
      "248                       NaN    MA   F     Married  US Citizen   \n",
      "277  Production Technician II   NaN   F   Separated  US Citizen   \n",
      "302                   Sr. DBA    MA   F         NaN  US Citizen   \n",
      "\n",
      "           EmploymentStatus         Department  Salaries   age  \\\n",
      "68                   Active              IT/IS  57636.01  54.0   \n",
      "97   Voluntarily Terminated  Production         65375.51  54.0   \n",
      "132                  Active  Production         30129.01  54.0   \n",
      "151                  Active  Production              NaN  54.0   \n",
      "201                  Active  Production         60951.42  54.0   \n",
      "233  Voluntarily Terminated  Production         52764.44  54.0   \n",
      "248  Voluntarily Terminated  Production          7973.63  54.0   \n",
      "277            Future Start  Production         26418.00  54.0   \n",
      "302            Future Start              IT/IS  31209.90  54.0   \n",
      "\n",
      "                          Race  \n",
      "68                       White  \n",
      "97                       White  \n",
      "132                      Asian  \n",
      "151                      White  \n",
      "201                      White  \n",
      "233                        NaN  \n",
      "248                        NaN  \n",
      "277                      White  \n",
      "302  Black or African American  )]\n"
     ]
    }
   ],
   "source": [
    "print(list(df.groupby('age')))"
   ]
  },
  {
   "cell_type": "code",
   "execution_count": 80,
   "id": "97e8f345",
   "metadata": {},
   "outputs": [
    {
     "data": {
      "text/html": [
       "<div>\n",
       "<style scoped>\n",
       "    .dataframe tbody tr th:only-of-type {\n",
       "        vertical-align: middle;\n",
       "    }\n",
       "\n",
       "    .dataframe tbody tr th {\n",
       "        vertical-align: top;\n",
       "    }\n",
       "\n",
       "    .dataframe thead th {\n",
       "        text-align: right;\n",
       "    }\n",
       "</style>\n",
       "<table border=\"1\" class=\"dataframe\">\n",
       "  <thead>\n",
       "    <tr style=\"text-align: right;\">\n",
       "      <th></th>\n",
       "      <th>Position</th>\n",
       "      <th>State</th>\n",
       "      <th>Sex</th>\n",
       "      <th>MaritalDesc</th>\n",
       "      <th>CitizenDesc</th>\n",
       "      <th>EmploymentStatus</th>\n",
       "      <th>Department</th>\n",
       "      <th>age</th>\n",
       "      <th>Race</th>\n",
       "    </tr>\n",
       "    <tr>\n",
       "      <th>Salaries</th>\n",
       "      <th></th>\n",
       "      <th></th>\n",
       "      <th></th>\n",
       "      <th></th>\n",
       "      <th></th>\n",
       "      <th></th>\n",
       "      <th></th>\n",
       "      <th></th>\n",
       "      <th></th>\n",
       "    </tr>\n",
       "  </thead>\n",
       "  <tbody>\n",
       "    <tr>\n",
       "      <th>28827.21</th>\n",
       "      <td>Area Sales Manager</td>\n",
       "      <td>OH</td>\n",
       "      <td>0</td>\n",
       "      <td>Widowed</td>\n",
       "      <td>US Citizen</td>\n",
       "      <td>Terminated for Cause</td>\n",
       "      <td>Sales</td>\n",
       "      <td>0.0</td>\n",
       "      <td>Black or African American</td>\n",
       "    </tr>\n",
       "    <tr>\n",
       "      <th>47548.01</th>\n",
       "      <td>Production Technician I</td>\n",
       "      <td>MA</td>\n",
       "      <td>M</td>\n",
       "      <td>Married</td>\n",
       "      <td>US Citizen</td>\n",
       "      <td>0</td>\n",
       "      <td>Production</td>\n",
       "      <td>0.0</td>\n",
       "      <td>Asian</td>\n",
       "    </tr>\n",
       "    <tr>\n",
       "      <th>15537.79</th>\n",
       "      <td>0</td>\n",
       "      <td>MA</td>\n",
       "      <td>0</td>\n",
       "      <td>Married</td>\n",
       "      <td>US Citizen</td>\n",
       "      <td>Terminated for Cause</td>\n",
       "      <td>IT/IS</td>\n",
       "      <td>0.0</td>\n",
       "      <td>Black or African American</td>\n",
       "    </tr>\n",
       "    <tr>\n",
       "      <th>17315.70</th>\n",
       "      <td>Production Technician I</td>\n",
       "      <td>0</td>\n",
       "      <td>F</td>\n",
       "      <td>Single</td>\n",
       "      <td>US Citizen</td>\n",
       "      <td>Active</td>\n",
       "      <td>Production</td>\n",
       "      <td>0.0</td>\n",
       "      <td>White</td>\n",
       "    </tr>\n",
       "    <tr>\n",
       "      <th>39045.00</th>\n",
       "      <td>Production Technician I</td>\n",
       "      <td>MA</td>\n",
       "      <td>M</td>\n",
       "      <td>Divorced</td>\n",
       "      <td>US Citizen</td>\n",
       "      <td>Voluntarily Terminated</td>\n",
       "      <td>Production</td>\n",
       "      <td>0.0</td>\n",
       "      <td>White</td>\n",
       "    </tr>\n",
       "    <tr>\n",
       "      <th>...</th>\n",
       "      <td>...</td>\n",
       "      <td>...</td>\n",
       "      <td>...</td>\n",
       "      <td>...</td>\n",
       "      <td>...</td>\n",
       "      <td>...</td>\n",
       "      <td>...</td>\n",
       "      <td>...</td>\n",
       "      <td>...</td>\n",
       "    </tr>\n",
       "    <tr>\n",
       "      <th>61771.63</th>\n",
       "      <td>Production Technician ISenior BI Developer</td>\n",
       "      <td>MAMA</td>\n",
       "      <td>M</td>\n",
       "      <td>Single</td>\n",
       "      <td>US Citizen</td>\n",
       "      <td>ActiveActive</td>\n",
       "      <td>Production       IT/IS</td>\n",
       "      <td>75.0</td>\n",
       "      <td>Asian</td>\n",
       "    </tr>\n",
       "    <tr>\n",
       "      <th>42743.00</th>\n",
       "      <td>Production Technician I</td>\n",
       "      <td>MAMA</td>\n",
       "      <td>FF</td>\n",
       "      <td>0</td>\n",
       "      <td>US CitizenUS Citizen</td>\n",
       "      <td>ActiveActive</td>\n",
       "      <td>Production       Production</td>\n",
       "      <td>76.0</td>\n",
       "      <td>Black or African AmericanWhite</td>\n",
       "    </tr>\n",
       "    <tr>\n",
       "      <th>27588.40</th>\n",
       "      <td>Network EngineerSoftware Engineer</td>\n",
       "      <td>MA</td>\n",
       "      <td>FF</td>\n",
       "      <td>MarriedMarried</td>\n",
       "      <td>US CitizenUS Citizen</td>\n",
       "      <td>Active</td>\n",
       "      <td>IT/ISSoftware Engineering</td>\n",
       "      <td>81.0</td>\n",
       "      <td>WhiteWhite</td>\n",
       "    </tr>\n",
       "    <tr>\n",
       "      <th>27603.00</th>\n",
       "      <td>Production Technician ISr. Network Engineer</td>\n",
       "      <td>MAMA</td>\n",
       "      <td>M</td>\n",
       "      <td>SingleMarried</td>\n",
       "      <td>US CitizenUS Citizen</td>\n",
       "      <td>Leave of Absence</td>\n",
       "      <td>Production       IT/IS</td>\n",
       "      <td>82.0</td>\n",
       "      <td>White</td>\n",
       "    </tr>\n",
       "    <tr>\n",
       "      <th>674.28</th>\n",
       "      <td>Accountant IAccountant IAccountant I</td>\n",
       "      <td>MAMA</td>\n",
       "      <td>FM M</td>\n",
       "      <td>MarriedDivorcedSingle</td>\n",
       "      <td>US CitizenUS Citizen</td>\n",
       "      <td>ActiveActiveActive</td>\n",
       "      <td>Admin OfficesAdmin OfficesAdmin Offices</td>\n",
       "      <td>93.0</td>\n",
       "      <td>Black or African AmericanBlack or African Amer...</td>\n",
       "    </tr>\n",
       "  </tbody>\n",
       "</table>\n",
       "<p>269 rows × 9 columns</p>\n",
       "</div>"
      ],
      "text/plain": [
       "                                             Position State    Sex  \\\n",
       "Salaries                                                             \n",
       "28827.21                           Area Sales Manager    OH      0   \n",
       "47548.01                      Production Technician I    MA     M    \n",
       "15537.79                                            0    MA      0   \n",
       "17315.70                      Production Technician I     0      F   \n",
       "39045.00                      Production Technician I    MA     M    \n",
       "...                                               ...   ...    ...   \n",
       "61771.63   Production Technician ISenior BI Developer  MAMA     M    \n",
       "42743.00                      Production Technician I  MAMA     FF   \n",
       "27588.40            Network EngineerSoftware Engineer    MA     FF   \n",
       "27603.00  Production Technician ISr. Network Engineer  MAMA     M    \n",
       "674.28           Accountant IAccountant IAccountant I  MAMA  FM M    \n",
       "\n",
       "                    MaritalDesc           CitizenDesc        EmploymentStatus  \\\n",
       "Salaries                                                                        \n",
       "28827.21                Widowed            US Citizen    Terminated for Cause   \n",
       "47548.01                Married            US Citizen                       0   \n",
       "15537.79                Married            US Citizen    Terminated for Cause   \n",
       "17315.70                 Single            US Citizen                  Active   \n",
       "39045.00               Divorced            US Citizen  Voluntarily Terminated   \n",
       "...                         ...                   ...                     ...   \n",
       "61771.63                 Single            US Citizen            ActiveActive   \n",
       "42743.00                      0  US CitizenUS Citizen            ActiveActive   \n",
       "27588.40         MarriedMarried  US CitizenUS Citizen                  Active   \n",
       "27603.00          SingleMarried  US CitizenUS Citizen        Leave of Absence   \n",
       "674.28    MarriedDivorcedSingle  US CitizenUS Citizen      ActiveActiveActive   \n",
       "\n",
       "                                       Department   age  \\\n",
       "Salaries                                                  \n",
       "28827.21                                    Sales   0.0   \n",
       "47548.01                        Production          0.0   \n",
       "15537.79                                    IT/IS   0.0   \n",
       "17315.70                        Production          0.0   \n",
       "39045.00                        Production          0.0   \n",
       "...                                           ...   ...   \n",
       "61771.63                   Production       IT/IS  75.0   \n",
       "42743.00       Production       Production         76.0   \n",
       "27588.40                IT/ISSoftware Engineering  81.0   \n",
       "27603.00                   Production       IT/IS  82.0   \n",
       "674.28    Admin OfficesAdmin OfficesAdmin Offices  93.0   \n",
       "\n",
       "                                                       Race  \n",
       "Salaries                                                     \n",
       "28827.21                          Black or African American  \n",
       "47548.01                                              Asian  \n",
       "15537.79                          Black or African American  \n",
       "17315.70                                              White  \n",
       "39045.00                                              White  \n",
       "...                                                     ...  \n",
       "61771.63                                              Asian  \n",
       "42743.00                     Black or African AmericanWhite  \n",
       "27588.40                                         WhiteWhite  \n",
       "27603.00                                              White  \n",
       "674.28    Black or African AmericanBlack or African Amer...  \n",
       "\n",
       "[269 rows x 9 columns]"
      ]
     },
     "execution_count": 80,
     "metadata": {},
     "output_type": "execute_result"
    }
   ],
   "source": [
    "df.groupby('Salaries').sum().sort_values(by='age')"
   ]
  },
  {
   "cell_type": "code",
   "execution_count": 81,
   "id": "40252d91",
   "metadata": {},
   "outputs": [
    {
     "data": {
      "text/html": [
       "<div>\n",
       "<style scoped>\n",
       "    .dataframe tbody tr th:only-of-type {\n",
       "        vertical-align: middle;\n",
       "    }\n",
       "\n",
       "    .dataframe tbody tr th {\n",
       "        vertical-align: top;\n",
       "    }\n",
       "\n",
       "    .dataframe thead th {\n",
       "        text-align: right;\n",
       "    }\n",
       "</style>\n",
       "<table border=\"1\" class=\"dataframe\">\n",
       "  <thead>\n",
       "    <tr style=\"text-align: right;\">\n",
       "      <th></th>\n",
       "      <th>Position</th>\n",
       "      <th>State</th>\n",
       "      <th>Sex</th>\n",
       "      <th>MaritalDesc</th>\n",
       "      <th>CitizenDesc</th>\n",
       "      <th>EmploymentStatus</th>\n",
       "      <th>Department</th>\n",
       "      <th>age</th>\n",
       "      <th>Race</th>\n",
       "    </tr>\n",
       "    <tr>\n",
       "      <th>Salaries</th>\n",
       "      <th></th>\n",
       "      <th></th>\n",
       "      <th></th>\n",
       "      <th></th>\n",
       "      <th></th>\n",
       "      <th></th>\n",
       "      <th></th>\n",
       "      <th></th>\n",
       "      <th></th>\n",
       "    </tr>\n",
       "  </thead>\n",
       "  <tbody>\n",
       "    <tr>\n",
       "      <th>674.28</th>\n",
       "      <td>Accountant IAccountant IAccountant I</td>\n",
       "      <td>MAMA</td>\n",
       "      <td>FM M</td>\n",
       "      <td>MarriedDivorcedSingle</td>\n",
       "      <td>US CitizenUS Citizen</td>\n",
       "      <td>ActiveActiveActive</td>\n",
       "      <td>Admin OfficesAdmin OfficesAdmin Offices</td>\n",
       "      <td>93.0</td>\n",
       "      <td>Black or African AmericanBlack or African Amer...</td>\n",
       "    </tr>\n",
       "    <tr>\n",
       "      <th>27603.00</th>\n",
       "      <td>Production Technician ISr. Network Engineer</td>\n",
       "      <td>MAMA</td>\n",
       "      <td>M</td>\n",
       "      <td>SingleMarried</td>\n",
       "      <td>US CitizenUS Citizen</td>\n",
       "      <td>Leave of Absence</td>\n",
       "      <td>Production       IT/IS</td>\n",
       "      <td>82.0</td>\n",
       "      <td>White</td>\n",
       "    </tr>\n",
       "    <tr>\n",
       "      <th>27588.40</th>\n",
       "      <td>Network EngineerSoftware Engineer</td>\n",
       "      <td>MA</td>\n",
       "      <td>FF</td>\n",
       "      <td>MarriedMarried</td>\n",
       "      <td>US CitizenUS Citizen</td>\n",
       "      <td>Active</td>\n",
       "      <td>IT/ISSoftware Engineering</td>\n",
       "      <td>81.0</td>\n",
       "      <td>WhiteWhite</td>\n",
       "    </tr>\n",
       "    <tr>\n",
       "      <th>42743.00</th>\n",
       "      <td>Production Technician I</td>\n",
       "      <td>MAMA</td>\n",
       "      <td>FF</td>\n",
       "      <td>0</td>\n",
       "      <td>US CitizenUS Citizen</td>\n",
       "      <td>ActiveActive</td>\n",
       "      <td>Production       Production</td>\n",
       "      <td>76.0</td>\n",
       "      <td>Black or African AmericanWhite</td>\n",
       "    </tr>\n",
       "    <tr>\n",
       "      <th>61771.63</th>\n",
       "      <td>Production Technician ISenior BI Developer</td>\n",
       "      <td>MAMA</td>\n",
       "      <td>M</td>\n",
       "      <td>Single</td>\n",
       "      <td>US Citizen</td>\n",
       "      <td>ActiveActive</td>\n",
       "      <td>Production       IT/IS</td>\n",
       "      <td>75.0</td>\n",
       "      <td>Asian</td>\n",
       "    </tr>\n",
       "    <tr>\n",
       "      <th>...</th>\n",
       "      <td>...</td>\n",
       "      <td>...</td>\n",
       "      <td>...</td>\n",
       "      <td>...</td>\n",
       "      <td>...</td>\n",
       "      <td>...</td>\n",
       "      <td>...</td>\n",
       "      <td>...</td>\n",
       "      <td>...</td>\n",
       "    </tr>\n",
       "    <tr>\n",
       "      <th>22626.11</th>\n",
       "      <td>Production Technician I</td>\n",
       "      <td>0</td>\n",
       "      <td>F</td>\n",
       "      <td>Single</td>\n",
       "      <td>Eligible NonCitizen</td>\n",
       "      <td>Active</td>\n",
       "      <td>Production</td>\n",
       "      <td>0.0</td>\n",
       "      <td>Asian</td>\n",
       "    </tr>\n",
       "    <tr>\n",
       "      <th>53314.80</th>\n",
       "      <td>Production Technician I</td>\n",
       "      <td>MA</td>\n",
       "      <td>M</td>\n",
       "      <td>Married</td>\n",
       "      <td>US Citizen</td>\n",
       "      <td>Voluntarily Terminated</td>\n",
       "      <td>Production</td>\n",
       "      <td>0.0</td>\n",
       "      <td>White</td>\n",
       "    </tr>\n",
       "    <tr>\n",
       "      <th>17315.70</th>\n",
       "      <td>Production Technician I</td>\n",
       "      <td>0</td>\n",
       "      <td>F</td>\n",
       "      <td>Single</td>\n",
       "      <td>US Citizen</td>\n",
       "      <td>Active</td>\n",
       "      <td>Production</td>\n",
       "      <td>0.0</td>\n",
       "      <td>White</td>\n",
       "    </tr>\n",
       "    <tr>\n",
       "      <th>64964.40</th>\n",
       "      <td>Production Technician I</td>\n",
       "      <td>MA</td>\n",
       "      <td>0</td>\n",
       "      <td>Single</td>\n",
       "      <td>US Citizen</td>\n",
       "      <td>Voluntarily Terminated</td>\n",
       "      <td>Production</td>\n",
       "      <td>0.0</td>\n",
       "      <td>White</td>\n",
       "    </tr>\n",
       "    <tr>\n",
       "      <th>33485.31</th>\n",
       "      <td>Production Technician I</td>\n",
       "      <td>MA</td>\n",
       "      <td>M</td>\n",
       "      <td>Married</td>\n",
       "      <td>US Citizen</td>\n",
       "      <td>Leave of Absence</td>\n",
       "      <td>Production</td>\n",
       "      <td>0.0</td>\n",
       "      <td>White</td>\n",
       "    </tr>\n",
       "  </tbody>\n",
       "</table>\n",
       "<p>269 rows × 9 columns</p>\n",
       "</div>"
      ],
      "text/plain": [
       "                                             Position State    Sex  \\\n",
       "Salaries                                                             \n",
       "674.28           Accountant IAccountant IAccountant I  MAMA  FM M    \n",
       "27603.00  Production Technician ISr. Network Engineer  MAMA     M    \n",
       "27588.40            Network EngineerSoftware Engineer    MA     FF   \n",
       "42743.00                      Production Technician I  MAMA     FF   \n",
       "61771.63   Production Technician ISenior BI Developer  MAMA     M    \n",
       "...                                               ...   ...    ...   \n",
       "22626.11                      Production Technician I     0      F   \n",
       "53314.80                      Production Technician I    MA     M    \n",
       "17315.70                      Production Technician I     0      F   \n",
       "64964.40                      Production Technician I    MA      0   \n",
       "33485.31                      Production Technician I    MA     M    \n",
       "\n",
       "                    MaritalDesc           CitizenDesc        EmploymentStatus  \\\n",
       "Salaries                                                                        \n",
       "674.28    MarriedDivorcedSingle  US CitizenUS Citizen      ActiveActiveActive   \n",
       "27603.00          SingleMarried  US CitizenUS Citizen        Leave of Absence   \n",
       "27588.40         MarriedMarried  US CitizenUS Citizen                  Active   \n",
       "42743.00                      0  US CitizenUS Citizen            ActiveActive   \n",
       "61771.63                 Single            US Citizen            ActiveActive   \n",
       "...                         ...                   ...                     ...   \n",
       "22626.11                 Single   Eligible NonCitizen                  Active   \n",
       "53314.80                Married            US Citizen  Voluntarily Terminated   \n",
       "17315.70                 Single            US Citizen                  Active   \n",
       "64964.40                 Single            US Citizen  Voluntarily Terminated   \n",
       "33485.31                Married            US Citizen        Leave of Absence   \n",
       "\n",
       "                                       Department   age  \\\n",
       "Salaries                                                  \n",
       "674.28    Admin OfficesAdmin OfficesAdmin Offices  93.0   \n",
       "27603.00                   Production       IT/IS  82.0   \n",
       "27588.40                IT/ISSoftware Engineering  81.0   \n",
       "42743.00       Production       Production         76.0   \n",
       "61771.63                   Production       IT/IS  75.0   \n",
       "...                                           ...   ...   \n",
       "22626.11                        Production          0.0   \n",
       "53314.80                        Production          0.0   \n",
       "17315.70                        Production          0.0   \n",
       "64964.40                        Production          0.0   \n",
       "33485.31                        Production          0.0   \n",
       "\n",
       "                                                       Race  \n",
       "Salaries                                                     \n",
       "674.28    Black or African AmericanBlack or African Amer...  \n",
       "27603.00                                              White  \n",
       "27588.40                                         WhiteWhite  \n",
       "42743.00                     Black or African AmericanWhite  \n",
       "61771.63                                              Asian  \n",
       "...                                                     ...  \n",
       "22626.11                                              Asian  \n",
       "53314.80                                              White  \n",
       "17315.70                                              White  \n",
       "64964.40                                              White  \n",
       "33485.31                                              White  \n",
       "\n",
       "[269 rows x 9 columns]"
      ]
     },
     "execution_count": 81,
     "metadata": {},
     "output_type": "execute_result"
    }
   ],
   "source": [
    "df.groupby('Salaries').sum().sort_values(by='age',ascending=False)"
   ]
  },
  {
   "cell_type": "code",
   "execution_count": 91,
   "id": "f980c271",
   "metadata": {},
   "outputs": [
    {
     "data": {
      "text/plain": [
       "(310, 10)"
      ]
     },
     "execution_count": 91,
     "metadata": {},
     "output_type": "execute_result"
    }
   ],
   "source": [
    "##########################################\n",
    "# Data Visualization\n",
    "# pip install matplotlib\n",
    "\n",
    "import matplotlib.pyplot as plt\n",
    "import numpy as np\n",
    "\n",
    "df.shape"
   ]
  },
  {
   "cell_type": "code",
   "execution_count": 94,
   "id": "47a0d88f",
   "metadata": {},
   "outputs": [
    {
     "data": {
      "text/plain": [
       "<BarContainer object of 310 artists>"
      ]
     },
     "execution_count": 94,
     "metadata": {},
     "output_type": "execute_result"
    },
    {
     "data": {
      "image/png": "[encoded data removed]",
      "text/plain": [
       "<Figure size 640x480 with 1 Axes>"
      ]
     },
     "metadata": {},
     "output_type": "display_data"
    }
   ],
   "source": [
    "# barplot\n",
    "plt.bar(height = df.Salaries, x = np.arange(1, 311, 1)) # initializing the parameter"
   ]
  },
  {
   "cell_type": "code",
   "execution_count": 95,
   "id": "6ffa3a38",
   "metadata": {},
   "outputs": [
    {
     "data": {
      "text/plain": [
       "(array([37., 23., 60., 60., 42., 31., 15.,  3.,  6.,  1.]),\n",
       " array([7.50000e+01, 1.08979e+04, 2.17208e+04, 3.25437e+04, 4.33666e+04,\n",
       "        5.41895e+04, 6.50124e+04, 7.58353e+04, 8.66582e+04, 9.74811e+04,\n",
       "        1.08304e+05]),\n",
       " <BarContainer object of 10 artists>)"
      ]
     },
     "execution_count": 95,
     "metadata": {},
     "output_type": "execute_result"
    },
    {
     "data": {
      "image/png": "[encoded data removed]",
      "text/plain": [
       "<Figure size 640x480 with 1 Axes>"
      ]
     },
     "metadata": {},
     "output_type": "display_data"
    }
   ],
   "source": [
    "plt.hist(df.Salaries) # histogram"
   ]
  },
  {
   "cell_type": "code",
   "execution_count": 96,
   "id": "92b47cd0",
   "metadata": {},
   "outputs": [
    {
     "data": {
      "text/plain": [
       "(array([37., 26., 17., 32., 20., 34., 26., 18., 32., 33.]),\n",
       " array([23. , 26.1, 29.2, 32.3, 35.4, 38.5, 41.6, 44.7, 47.8, 50.9, 54. ]),\n",
       " <BarContainer object of 10 artists>)"
      ]
     },
     "execution_count": 96,
     "metadata": {},
     "output_type": "execute_result"
    },
    {
     "data": {
      "image/png": "[encoded data removed]",
      "text/plain": [
       "<Figure size 640x480 with 1 Axes>"
      ]
     },
     "metadata": {},
     "output_type": "display_data"
    }
   ],
   "source": [
    "plt.hist(df.age, color='red')"
   ]
  },
  {
   "cell_type": "code",
   "execution_count": 97,
   "id": "edba7b6c",
   "metadata": {},
   "outputs": [
    {
     "name": "stdout",
     "output_type": "stream",
     "text": [
      "Help on function hist in module matplotlib.pyplot:\n",
      "\n",
      "hist(x: 'ArrayLike | Sequence[ArrayLike]', bins: 'int | Sequence[float] | str | None' = None, range: 'tuple[float, float] | None' = None, density: 'bool' = False, weights: 'ArrayLike | None' = None, cumulative: 'bool | float' = False, bottom: 'ArrayLike | float | None' = None, histtype: \"Literal['bar', 'barstacked', 'step', 'stepfilled']\" = 'bar', align: \"Literal['left', 'mid', 'right']\" = 'mid', orientation: \"Literal['vertical', 'horizontal']\" = 'vertical', rwidth: 'float | None' = None, log: 'bool' = False, color: 'ColorType | Sequence[ColorType] | None' = None, label: 'str | Sequence[str] | None' = None, stacked: 'bool' = False, *, data=None, **kwargs) -> 'tuple[np.ndarray | list[np.ndarray], np.ndarray, BarContainer | Polygon | list[BarContainer | Polygon]]'\n",
      "    Compute and plot a histogram.\n",
      "    \n",
      "    This method uses `numpy.histogram` to bin the data in *x* and count the\n",
      "    number of values in each bin, then draws the distribution either as a\n",
      "    `.BarContainer` or `.Polygon`. The *bins*, *range*, *density*, and\n",
      "    *weights* parameters are forwarded to `numpy.histogram`.\n",
      "    \n",
      "    If the data has already been binned and counted, use `~.bar` or\n",
      "    `~.stairs` to plot the distribution::\n",
      "    \n",
      "        counts, bins = np.histogram(x)\n",
      "        plt.stairs(counts, bins)\n",
      "    \n",
      "    Alternatively, plot pre-computed bins and counts using ``hist()`` by\n",
      "    treating each bin as a single point with a weight equal to its count::\n",
      "    \n",
      "        plt.hist(bins[:-1], bins, weights=counts)\n",
      "    \n",
      "    The data input *x* can be a singular array, a list of datasets of\n",
      "    potentially different lengths ([*x0*, *x1*, ...]), or a 2D ndarray in\n",
      "    which each column is a dataset. Note that the ndarray form is\n",
      "    transposed relative to the list form. If the input is an array, then\n",
      "    the return value is a tuple (*n*, *bins*, *patches*); if the input is a\n",
      "    sequence of arrays, then the return value is a tuple\n",
      "    ([*n0*, *n1*, ...], *bins*, [*patches0*, *patches1*, ...]).\n",
      "    \n",
      "    Masked arrays are not supported.\n",
      "    \n",
      "    Parameters\n",
      "    ----------\n",
      "    x : (n,) array or sequence of (n,) arrays\n",
      "        Input values, this takes either a single array or a sequence of\n",
      "        arrays which are not required to be of the same length.\n",
      "    \n",
      "    bins : int or sequence or str, default: :rc:`hist.bins`\n",
      "        If *bins* is an integer, it defines the number of equal-width bins\n",
      "        in the range.\n",
      "    \n",
      "        If *bins* is a sequence, it defines the bin edges, including the\n",
      "        left edge of the first bin and the right edge of the last bin;\n",
      "        in this case, bins may be unequally spaced.  All but the last\n",
      "        (righthand-most) bin is half-open.  In other words, if *bins* is::\n",
      "    \n",
      "            [1, 2, 3, 4]\n",
      "    \n",
      "        then the first bin is ``[1, 2)`` (including 1, but excluding 2) and\n",
      "        the second ``[2, 3)``.  The last bin, however, is ``[3, 4]``, which\n",
      "        *includes* 4.\n",
      "    \n",
      "        If *bins* is a string, it is one of the binning strategies\n",
      "        supported by `numpy.histogram_bin_edges`: 'auto', 'fd', 'doane',\n",
      "        'scott', 'stone', 'rice', 'sturges', or 'sqrt'.\n",
      "    \n",
      "    range : tuple or None, default: None\n",
      "        The lower and upper range of the bins. Lower and upper outliers\n",
      "        are ignored. If not provided, *range* is ``(x.min(), x.max())``.\n",
      "        Range has no effect if *bins* is a sequence.\n",
      "    \n",
      "        If *bins* is a sequence or *range* is specified, autoscaling\n",
      "        is based on the specified bin range instead of the\n",
      "        range of x.\n",
      "    \n",
      "    density : bool, default: False\n",
      "        If ``True``, draw and return a probability density: each bin\n",
      "        will display the bin's raw count divided by the total number of\n",
      "        counts *and the bin width*\n",
      "        (``density = counts / (sum(counts) * np.diff(bins))``),\n",
      "        so that the area under the histogram integrates to 1\n",
      "        (``np.sum(density * np.diff(bins)) == 1``).\n",
      "    \n",
      "        If *stacked* is also ``True``, the sum of the histograms is\n",
      "        normalized to 1.\n",
      "    \n",
      "    weights : (n,) array-like or None, default: None\n",
      "        An array of weights, of the same shape as *x*.  Each value in\n",
      "        *x* only contributes its associated weight towards the bin count\n",
      "        (instead of 1).  If *density* is ``True``, the weights are\n",
      "        normalized, so that the integral of the density over the range\n",
      "        remains 1.\n",
      "    \n",
      "    cumulative : bool or -1, default: False\n",
      "        If ``True``, then a histogram is computed where each bin gives the\n",
      "        counts in that bin plus all bins for smaller values. The last bin\n",
      "        gives the total number of datapoints.\n",
      "    \n",
      "        If *density* is also ``True`` then the histogram is normalized such\n",
      "        that the last bin equals 1.\n",
      "    \n",
      "        If *cumulative* is a number less than 0 (e.g., -1), the direction\n",
      "        of accumulation is reversed.  In this case, if *density* is also\n",
      "        ``True``, then the histogram is normalized such that the first bin\n",
      "        equals 1.\n",
      "    \n",
      "    bottom : array-like, scalar, or None, default: None\n",
      "        Location of the bottom of each bin, i.e. bins are drawn from\n",
      "        ``bottom`` to ``bottom + hist(x, bins)`` If a scalar, the bottom\n",
      "        of each bin is shifted by the same amount. If an array, each bin\n",
      "        is shifted independently and the length of bottom must match the\n",
      "        number of bins. If None, defaults to 0.\n",
      "    \n",
      "    histtype : {'bar', 'barstacked', 'step', 'stepfilled'}, default: 'bar'\n",
      "        The type of histogram to draw.\n",
      "    \n",
      "        - 'bar' is a traditional bar-type histogram.  If multiple data\n",
      "          are given the bars are arranged side by side.\n",
      "        - 'barstacked' is a bar-type histogram where multiple\n",
      "          data are stacked on top of each other.\n",
      "        - 'step' generates a lineplot that is by default unfilled.\n",
      "        - 'stepfilled' generates a lineplot that is by default filled.\n",
      "    \n",
      "    align : {'left', 'mid', 'right'}, default: 'mid'\n",
      "        The horizontal alignment of the histogram bars.\n",
      "    \n",
      "        - 'left': bars are centered on the left bin edges.\n",
      "        - 'mid': bars are centered between the bin edges.\n",
      "        - 'right': bars are centered on the right bin edges.\n",
      "    \n",
      "    orientation : {'vertical', 'horizontal'}, default: 'vertical'\n",
      "        If 'horizontal', `~.Axes.barh` will be used for bar-type histograms\n",
      "        and the *bottom* kwarg will be the left edges.\n",
      "    \n",
      "    rwidth : float or None, default: None\n",
      "        The relative width of the bars as a fraction of the bin width.  If\n",
      "        ``None``, automatically compute the width.\n",
      "    \n",
      "        Ignored if *histtype* is 'step' or 'stepfilled'.\n",
      "    \n",
      "    log : bool, default: False\n",
      "        If ``True``, the histogram axis will be set to a log scale.\n",
      "    \n",
      "    color : color or array-like of colors or None, default: None\n",
      "        Color or sequence of colors, one per dataset.  Default (``None``)\n",
      "        uses the standard line color sequence.\n",
      "    \n",
      "    label : str or None, default: None\n",
      "        String, or sequence of strings to match multiple datasets.  Bar\n",
      "        charts yield multiple patches per dataset, but only the first gets\n",
      "        the label, so that `~.Axes.legend` will work as expected.\n",
      "    \n",
      "    stacked : bool, default: False\n",
      "        If ``True``, multiple data are stacked on top of each other If\n",
      "        ``False`` multiple data are arranged side by side if histtype is\n",
      "        'bar' or on top of each other if histtype is 'step'\n",
      "    \n",
      "    Returns\n",
      "    -------\n",
      "    n : array or list of arrays\n",
      "        The values of the histogram bins. See *density* and *weights* for a\n",
      "        description of the possible semantics.  If input *x* is an array,\n",
      "        then this is an array of length *nbins*. If input is a sequence of\n",
      "        arrays ``[data1, data2, ...]``, then this is a list of arrays with\n",
      "        the values of the histograms for each of the arrays in the same\n",
      "        order.  The dtype of the array *n* (or of its element arrays) will\n",
      "        always be float even if no weighting or normalization is used.\n",
      "    \n",
      "    bins : array\n",
      "        The edges of the bins. Length nbins + 1 (nbins left edges and right\n",
      "        edge of last bin).  Always a single array even when multiple data\n",
      "        sets are passed in.\n",
      "    \n",
      "    patches : `.BarContainer` or list of a single `.Polygon` or list of such objects\n",
      "        Container of individual artists used to create the histogram\n",
      "        or list of such containers if there are multiple input datasets.\n",
      "    \n",
      "    Other Parameters\n",
      "    ----------------\n",
      "    data : indexable object, optional\n",
      "        If given, the following parameters also accept a string ``s``, which is\n",
      "        interpreted as ``data[s]`` (unless this raises an exception):\n",
      "    \n",
      "        *x*, *weights*\n",
      "    \n",
      "    **kwargs\n",
      "        `~matplotlib.patches.Patch` properties\n",
      "    \n",
      "    See Also\n",
      "    --------\n",
      "    hist2d : 2D histogram with rectangular bins\n",
      "    hexbin : 2D histogram with hexagonal bins\n",
      "    stairs : Plot a pre-computed histogram\n",
      "    bar : Plot a pre-computed histogram\n",
      "    \n",
      "    Notes\n",
      "    -----\n",
      "    For large numbers of bins (>1000), plotting can be significantly\n",
      "    accelerated by using `~.Axes.stairs` to plot a pre-computed histogram\n",
      "    (``plt.stairs(*np.histogram(data))``), or by setting *histtype* to\n",
      "    'step' or 'stepfilled' rather than 'bar' or 'barstacked'.\n",
      "\n"
     ]
    }
   ],
   "source": [
    "help(plt.hist)"
   ]
  },
  {
   "cell_type": "code",
   "execution_count": 104,
   "id": "d81a7c3a",
   "metadata": {},
   "outputs": [
    {
     "data": {
      "text/plain": [
       "<Figure size 640x480 with 0 Axes>"
      ]
     },
     "execution_count": 104,
     "metadata": {},
     "output_type": "execute_result"
    },
    {
     "data": {
      "text/plain": [
       "<Figure size 640x480 with 0 Axes>"
      ]
     },
     "metadata": {},
     "output_type": "display_data"
    }
   ],
   "source": [
    "plt.figure() # allows to creat an empty convas "
   ]
  },
  {
   "cell_type": "code",
   "execution_count": 101,
   "id": "fe8b6cc8",
   "metadata": {},
   "outputs": [
    {
     "data": {
      "text/plain": [
       "{'whiskers': [<matplotlib.lines.Line2D at 0x1f176b66810>,\n",
       "  <matplotlib.lines.Line2D at 0x1f176b671d0>],\n",
       " 'caps': [<matplotlib.lines.Line2D at 0x1f176b67b90>,\n",
       "  <matplotlib.lines.Line2D at 0x1f176b74450>],\n",
       " 'boxes': [<matplotlib.lines.Line2D at 0x1f176b2df10>],\n",
       " 'medians': [<matplotlib.lines.Line2D at 0x1f176b74b50>],\n",
       " 'fliers': [<matplotlib.lines.Line2D at 0x1f176b75250>],\n",
       " 'means': []}"
      ]
     },
     "execution_count": 101,
     "metadata": {},
     "output_type": "execute_result"
    },
    {
     "data": {
      "image/png": "[encoded data removed]",
      "text/plain": [
       "<Figure size 640x480 with 1 Axes>"
      ]
     },
     "metadata": {},
     "output_type": "display_data"
    }
   ],
   "source": [
    "plt.boxplot(df.age) # boxplot"
   ]
  },
  {
   "cell_type": "code",
   "execution_count": 105,
   "id": "e1a242ab",
   "metadata": {},
   "outputs": [
    {
     "name": "stdout",
     "output_type": "stream",
     "text": [
      "Help on function boxplot in module matplotlib.pyplot:\n",
      "\n",
      "boxplot(x: 'ArrayLike | Sequence[ArrayLike]', notch: 'bool | None' = None, sym: 'str | None' = None, vert: 'bool | None' = None, whis: 'float | tuple[float, float] | None' = None, positions: 'ArrayLike | None' = None, widths: 'float | ArrayLike | None' = None, patch_artist: 'bool | None' = None, bootstrap: 'int | None' = None, usermedians: 'ArrayLike | None' = None, conf_intervals: 'ArrayLike | None' = None, meanline: 'bool | None' = None, showmeans: 'bool | None' = None, showcaps: 'bool | None' = None, showbox: 'bool | None' = None, showfliers: 'bool | None' = None, boxprops: 'dict[str, Any] | None' = None, labels: 'Sequence[str] | None' = None, flierprops: 'dict[str, Any] | None' = None, medianprops: 'dict[str, Any] | None' = None, meanprops: 'dict[str, Any] | None' = None, capprops: 'dict[str, Any] | None' = None, whiskerprops: 'dict[str, Any] | None' = None, manage_ticks: 'bool' = True, autorange: 'bool' = False, zorder: 'float | None' = None, capwidths: 'float | ArrayLike | None' = None, *, data=None) -> 'dict[str, Any]'\n",
      "    Draw a box and whisker plot.\n",
      "    \n",
      "    The box extends from the first quartile (Q1) to the third\n",
      "    quartile (Q3) of the data, with a line at the median.\n",
      "    The whiskers extend from the box to the farthest data point\n",
      "    lying within 1.5x the inter-quartile range (IQR) from the box.\n",
      "    Flier points are those past the end of the whiskers.\n",
      "    See https://en.wikipedia.org/wiki/Box_plot for reference.\n",
      "    \n",
      "    .. code-block:: none\n",
      "    \n",
      "              Q1-1.5IQR   Q1   median  Q3   Q3+1.5IQR\n",
      "                           |-----:-----|\n",
      "           o      |--------|     :     |--------|    o  o\n",
      "                           |-----:-----|\n",
      "         flier             <----------->            fliers\n",
      "                                IQR\n",
      "    \n",
      "    \n",
      "    Parameters\n",
      "    ----------\n",
      "    x : Array or a sequence of vectors.\n",
      "        The input data.  If a 2D array, a boxplot is drawn for each column\n",
      "        in *x*.  If a sequence of 1D arrays, a boxplot is drawn for each\n",
      "        array in *x*.\n",
      "    \n",
      "    notch : bool, default: False\n",
      "        Whether to draw a notched boxplot (`True`), or a rectangular\n",
      "        boxplot (`False`).  The notches represent the confidence interval\n",
      "        (CI) around the median.  The documentation for *bootstrap*\n",
      "        describes how the locations of the notches are computed by\n",
      "        default, but their locations may also be overridden by setting the\n",
      "        *conf_intervals* parameter.\n",
      "    \n",
      "        .. note::\n",
      "    \n",
      "            In cases where the values of the CI are less than the\n",
      "            lower quartile or greater than the upper quartile, the\n",
      "            notches will extend beyond the box, giving it a\n",
      "            distinctive \"flipped\" appearance. This is expected\n",
      "            behavior and consistent with other statistical\n",
      "            visualization packages.\n",
      "    \n",
      "    sym : str, optional\n",
      "        The default symbol for flier points.  An empty string ('') hides\n",
      "        the fliers.  If `None`, then the fliers default to 'b+'.  More\n",
      "        control is provided by the *flierprops* parameter.\n",
      "    \n",
      "    vert : bool, default: True\n",
      "        If `True`, draws vertical boxes.\n",
      "        If `False`, draw horizontal boxes.\n",
      "    \n",
      "    whis : float or (float, float), default: 1.5\n",
      "        The position of the whiskers.\n",
      "    \n",
      "        If a float, the lower whisker is at the lowest datum above\n",
      "        ``Q1 - whis*(Q3-Q1)``, and the upper whisker at the highest datum\n",
      "        below ``Q3 + whis*(Q3-Q1)``, where Q1 and Q3 are the first and\n",
      "        third quartiles.  The default value of ``whis = 1.5`` corresponds\n",
      "        to Tukey's original definition of boxplots.\n",
      "    \n",
      "        If a pair of floats, they indicate the percentiles at which to\n",
      "        draw the whiskers (e.g., (5, 95)).  In particular, setting this to\n",
      "        (0, 100) results in whiskers covering the whole range of the data.\n",
      "    \n",
      "        In the edge case where ``Q1 == Q3``, *whis* is automatically set\n",
      "        to (0, 100) (cover the whole range of the data) if *autorange* is\n",
      "        True.\n",
      "    \n",
      "        Beyond the whiskers, data are considered outliers and are plotted\n",
      "        as individual points.\n",
      "    \n",
      "    bootstrap : int, optional\n",
      "        Specifies whether to bootstrap the confidence intervals\n",
      "        around the median for notched boxplots. If *bootstrap* is\n",
      "        None, no bootstrapping is performed, and notches are\n",
      "        calculated using a Gaussian-based asymptotic approximation\n",
      "        (see McGill, R., Tukey, J.W., and Larsen, W.A., 1978, and\n",
      "        Kendall and Stuart, 1967). Otherwise, bootstrap specifies\n",
      "        the number of times to bootstrap the median to determine its\n",
      "        95% confidence intervals. Values between 1000 and 10000 are\n",
      "        recommended.\n",
      "    \n",
      "    usermedians : 1D array-like, optional\n",
      "        A 1D array-like of length ``len(x)``.  Each entry that is not\n",
      "        `None` forces the value of the median for the corresponding\n",
      "        dataset.  For entries that are `None`, the medians are computed\n",
      "        by Matplotlib as normal.\n",
      "    \n",
      "    conf_intervals : array-like, optional\n",
      "        A 2D array-like of shape ``(len(x), 2)``.  Each entry that is not\n",
      "        None forces the location of the corresponding notch (which is\n",
      "        only drawn if *notch* is `True`).  For entries that are `None`,\n",
      "        the notches are computed by the method specified by the other\n",
      "        parameters (e.g., *bootstrap*).\n",
      "    \n",
      "    positions : array-like, optional\n",
      "        The positions of the boxes. The ticks and limits are\n",
      "        automatically set to match the positions. Defaults to\n",
      "        ``range(1, N+1)`` where N is the number of boxes to be drawn.\n",
      "    \n",
      "    widths : float or array-like\n",
      "        The widths of the boxes.  The default is 0.5, or ``0.15*(distance\n",
      "        between extreme positions)``, if that is smaller.\n",
      "    \n",
      "    patch_artist : bool, default: False\n",
      "        If `False` produces boxes with the Line2D artist. Otherwise,\n",
      "        boxes are drawn with Patch artists.\n",
      "    \n",
      "    labels : sequence, optional\n",
      "        Labels for each dataset (one per dataset).\n",
      "    \n",
      "    manage_ticks : bool, default: True\n",
      "        If True, the tick locations and labels will be adjusted to match\n",
      "        the boxplot positions.\n",
      "    \n",
      "    autorange : bool, default: False\n",
      "        When `True` and the data are distributed such that the 25th and\n",
      "        75th percentiles are equal, *whis* is set to (0, 100) such\n",
      "        that the whisker ends are at the minimum and maximum of the data.\n",
      "    \n",
      "    meanline : bool, default: False\n",
      "        If `True` (and *showmeans* is `True`), will try to render the\n",
      "        mean as a line spanning the full width of the box according to\n",
      "        *meanprops* (see below).  Not recommended if *shownotches* is also\n",
      "        True.  Otherwise, means will be shown as points.\n",
      "    \n",
      "    zorder : float, default: ``Line2D.zorder = 2``\n",
      "        The zorder of the boxplot.\n",
      "    \n",
      "    Returns\n",
      "    -------\n",
      "    dict\n",
      "      A dictionary mapping each component of the boxplot to a list\n",
      "      of the `.Line2D` instances created. That dictionary has the\n",
      "      following keys (assuming vertical boxplots):\n",
      "    \n",
      "      - ``boxes``: the main body of the boxplot showing the\n",
      "        quartiles and the median's confidence intervals if\n",
      "        enabled.\n",
      "    \n",
      "      - ``medians``: horizontal lines at the median of each box.\n",
      "    \n",
      "      - ``whiskers``: the vertical lines extending to the most\n",
      "        extreme, non-outlier data points.\n",
      "    \n",
      "      - ``caps``: the horizontal lines at the ends of the\n",
      "        whiskers.\n",
      "    \n",
      "      - ``fliers``: points representing data that extend beyond\n",
      "        the whiskers (fliers).\n",
      "    \n",
      "      - ``means``: points or lines representing the means.\n",
      "    \n",
      "    Other Parameters\n",
      "    ----------------\n",
      "    showcaps : bool, default: True\n",
      "        Show the caps on the ends of whiskers.\n",
      "    showbox : bool, default: True\n",
      "        Show the central box.\n",
      "    showfliers : bool, default: True\n",
      "        Show the outliers beyond the caps.\n",
      "    showmeans : bool, default: False\n",
      "        Show the arithmetic means.\n",
      "    capprops : dict, default: None\n",
      "        The style of the caps.\n",
      "    capwidths : float or array, default: None\n",
      "        The widths of the caps.\n",
      "    boxprops : dict, default: None\n",
      "        The style of the box.\n",
      "    whiskerprops : dict, default: None\n",
      "        The style of the whiskers.\n",
      "    flierprops : dict, default: None\n",
      "        The style of the fliers.\n",
      "    medianprops : dict, default: None\n",
      "        The style of the median.\n",
      "    meanprops : dict, default: None\n",
      "        The style of the mean.\n",
      "    data : indexable object, optional\n",
      "        If given, all parameters also accept a string ``s``, which is\n",
      "        interpreted as ``data[s]`` (unless this raises an exception).\n",
      "    \n",
      "    See Also\n",
      "    --------\n",
      "    violinplot : Draw an estimate of the probability density function.\n",
      "\n"
     ]
    }
   ],
   "source": [
    "help(plt.boxplot)"
   ]
  },
  {
   "cell_type": "code",
   "execution_count": 106,
   "id": "be8ced0b",
   "metadata": {},
   "outputs": [
    {
     "data": {
      "text/plain": [
       "Position             object\n",
       "State                object\n",
       "Sex                  object\n",
       "MaritalDesc          object\n",
       "CitizenDesc          object\n",
       "EmploymentStatus     object\n",
       "Department           object\n",
       "Salaries            float64\n",
       "age                 float64\n",
       "Race                 object\n",
       "dtype: object"
      ]
     },
     "execution_count": 106,
     "metadata": {},
     "output_type": "execute_result"
    }
   ],
   "source": [
    "########################Seaborn###############################\n",
    "\n",
    "import pandas as pd\n",
    "import numpy as np\n",
    "import seaborn as sns\n",
    "\n",
    "# pip install seaborn\n",
    "\n",
    "# Import data (.csv file) using pandas. We are using mba data set\n",
    "\n",
    "df = pd.read_csv(r\"C:\\Users\\mahar\\Downloads\\Data Set\\datasets\\Data.csv\")\n",
    "\n",
    "df.dtypes #return each column datatype"
   ]
  },
  {
   "cell_type": "code",
   "execution_count": 107,
   "id": "818e3047",
   "metadata": {},
   "outputs": [
    {
     "data": {
      "text/plain": [
       "<Axes: ylabel='age'>"
      ]
     },
     "execution_count": 107,
     "metadata": {},
     "output_type": "execute_result"
    },
    {
     "data": {
      "image/png": "[encoded data removed]",
      "text/plain": [
       "<Figure size 640x480 with 1 Axes>"
      ]
     },
     "metadata": {},
     "output_type": "display_data"
    }
   ],
   "source": [
    "# let's find outliers in Salaries\n",
    "\n",
    "sns.boxplot(df.age)"
   ]
  },
  {
   "cell_type": "code",
   "execution_count": 108,
   "id": "156b47f8",
   "metadata": {},
   "outputs": [
    {
     "data": {
      "text/plain": [
       "<Axes: ylabel='Salaries'>"
      ]
     },
     "execution_count": 108,
     "metadata": {},
     "output_type": "execute_result"
    },
    {
     "data": {
      "image/png": "[encoded data removed]",
      "text/plain": [
       "<Figure size 640x480 with 1 Axes>"
      ]
     },
     "metadata": {},
     "output_type": "display_data"
    }
   ],
   "source": [
    "sns.boxplot(df.Salaries)\n",
    "\n",
    "#Bokeh\n",
    "#Plotly"
   ]
  },
  {
   "cell_type": "code",
   "execution_count": 1,
   "id": "54889d28",
   "metadata": {},
   "outputs": [
    {
     "name": "stdout",
     "output_type": "stream",
     "text": [
      "0\n",
      "1\n",
      "2\n",
      "3\n",
      "4\n",
      "5\n",
      "6\n",
      "7\n",
      "8\n",
      "9\n",
      "10\n",
      "11\n",
      "12\n"
     ]
    }
   ],
   "source": [
    "for i in range(13):\n",
    "    i\n",
    "    print(i)"
   ]
  },
  {
   "cell_type": "code",
   "execution_count": null,
   "id": "0f948e5d",
   "metadata": {},
   "outputs": [],
   "source": [
    "for i in data:\n",
    "    i"
   ]
  }
 ],
 "metadata": {
  "kernelspec": {
   "display_name": "Python 3 (ipykernel)",
   "language": "python",
   "name": "python3"
  },
  "language_info": {
   "codemirror_mode": {
    "name": "ipython",
    "version": 3
   },
   "file_extension": ".py",
   "mimetype": "text/x-python",
   "name": "python",
   "nbconvert_exporter": "python",
   "pygments_lexer": "ipython3",
   "version": "3.11.7"
  }
 },
 "nbformat": 4,
 "nbformat_minor": 5
}
